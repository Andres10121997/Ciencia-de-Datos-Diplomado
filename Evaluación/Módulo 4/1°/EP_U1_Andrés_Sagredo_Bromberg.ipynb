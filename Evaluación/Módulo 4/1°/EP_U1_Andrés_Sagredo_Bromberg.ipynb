{
  "nbformat": 4,
  "nbformat_minor": 0,
  "metadata": {
    "colab": {
      "provenance": []
    },
    "kernelspec": {
      "name": "python3",
      "display_name": "Python 3"
    },
    "language_info": {
      "name": "python"
    }
  },
  "cells": [
    {
      "cell_type": "markdown",
      "source": [
        "# Enunciado\n",
        "\n",
        "Construya una red neuronal con el objetivo de realizar la predicción sobre la data asociada a los precios de las propiedades de Boston."
      ],
      "metadata": {
        "id": "Z_YDCi_7QayG"
      }
    },
    {
      "cell_type": "markdown",
      "source": [
        "# Fuente y descripción de los datos"
      ],
      "metadata": {
        "id": "IxYNTa2hRSgw"
      }
    },
    {
      "cell_type": "markdown",
      "source": [
        "Este conjunto de datos se obtuvo del repositorio StatLib. https://www.dcc.fc.up.pt/~ltorgo/Regression/cal_housing.html\n",
        "\n",
        "La variable objetivo es el valor medio de la vivienda para los distritos de California, expresado en cientos de miles de dólares ($100,000).\n",
        "\n",
        "Este conjunto de datos se derivó del censo de EE. UU. de 1990, utilizando una fila por grupo de bloques censales. Un grupo de bloque es la unidad geográfica más pequeña para la que la Oficina del Censo de EE. UU. publica datos de muestra (un grupo de bloque suele tener una población de 600 a 3000 personas).\n",
        "\n",
        "Un hogar es un grupo de personas que residen dentro de una casa. Dado que la cantidad promedio de habitaciones y dormitorios en este conjunto de datos se proporciona por hogar, estas columnas pueden tomar valores sorprendentemente grandes para grupos de bloques con pocos hogares y muchas casas vacías, como centros vacacionales.\n",
        "\n",
        "Características del conjunto de datos:\n",
        "\n",
        "Número de instancias \n",
        "20640\n",
        "\n",
        "Número de atributos \n",
        "8 atributos numéricos, predictivos y el objetivo\n",
        "\n",
        "Información de atributo \n",
        "* MedInc Ingreso promedio  \n",
        "\n",
        "* HouseAge edad promedio de la casa \n",
        "\n",
        "* AveRooms Número promedio de habitaciones por hogar\n",
        "\n",
        "* AveBedrms número promedio de dormitorios por hogar\n",
        "\n",
        "* Population Población \n",
        "\n",
        "* AveOccup número promedio de miembros del hogar\n",
        "\n",
        "* Latitude Latitud \n",
        "\n",
        "* Longitude Longitud \n"
      ],
      "metadata": {
        "id": "BpsHjlMg_Mip"
      }
    },
    {
      "cell_type": "markdown",
      "source": [
        "Deberá abordar las etapas de la red\n"
      ],
      "metadata": {
        "id": "y67F1MbVzDQO"
      }
    },
    {
      "cell_type": "markdown",
      "source": [
        "Importar librerías"
      ],
      "metadata": {
        "id": "VDy0unDMzIOO"
      }
    },
    {
      "cell_type": "code",
      "source": [
        "from matplotlib import pyplot as plt\n",
        "import numpy as np\n",
        "import pandas as pd\n",
        "import seaborn as sns"
      ],
      "metadata": {
        "id": "8EP4SxP2EtEi"
      },
      "execution_count": null,
      "outputs": []
    },
    {
      "cell_type": "code",
      "source": [
        "from sklearn.datasets import fetch_california_housing\n",
        "from sklearn.impute import SimpleImputer\n",
        "from sklearn.preprocessing import StandardScaler"
      ],
      "metadata": {
        "id": "ZV45MoPpSJ8j"
      },
      "execution_count": null,
      "outputs": []
    },
    {
      "cell_type": "code",
      "source": [
        "from tensorflow import keras\n",
        "from tensorflow import convert_to_tensor"
      ],
      "metadata": {
        "id": "7WaJ79X4I1iW"
      },
      "execution_count": null,
      "outputs": []
    },
    {
      "cell_type": "code",
      "source": [
        "from keras.layers import Dense\n",
        "from keras.models import Sequential"
      ],
      "metadata": {
        "id": "6Db4VML37iqI"
      },
      "execution_count": null,
      "outputs": []
    },
    {
      "cell_type": "markdown",
      "source": [
        "Cargar datos"
      ],
      "metadata": {
        "id": "r-AKYIROzSt4"
      }
    },
    {
      "cell_type": "code",
      "source": [
        "df = fetch_california_housing(as_frame = True)\n",
        "dataframe = pd.DataFrame(data = df.data, columns = df.feature_names)"
      ],
      "metadata": {
        "id": "HP4exVynzZCn"
      },
      "execution_count": null,
      "outputs": []
    },
    {
      "cell_type": "code",
      "source": [
        "df"
      ],
      "metadata": {
        "colab": {
          "base_uri": "https://localhost:8080/"
        },
        "id": "rI8R6WTfs8NH",
        "outputId": "085c56ee-c3db-4c4d-cfd4-392d52e0bc3f"
      },
      "execution_count": null,
      "outputs": [
        {
          "output_type": "execute_result",
          "data": {
            "text/plain": [
              "{'data':        MedInc  HouseAge  AveRooms  AveBedrms  Population  AveOccup  Latitude  \\\n",
              " 0      8.3252      41.0  6.984127   1.023810       322.0  2.555556     37.88   \n",
              " 1      8.3014      21.0  6.238137   0.971880      2401.0  2.109842     37.86   \n",
              " 2      7.2574      52.0  8.288136   1.073446       496.0  2.802260     37.85   \n",
              " 3      5.6431      52.0  5.817352   1.073059       558.0  2.547945     37.85   \n",
              " 4      3.8462      52.0  6.281853   1.081081       565.0  2.181467     37.85   \n",
              " ...       ...       ...       ...        ...         ...       ...       ...   \n",
              " 20635  1.5603      25.0  5.045455   1.133333       845.0  2.560606     39.48   \n",
              " 20636  2.5568      18.0  6.114035   1.315789       356.0  3.122807     39.49   \n",
              " 20637  1.7000      17.0  5.205543   1.120092      1007.0  2.325635     39.43   \n",
              " 20638  1.8672      18.0  5.329513   1.171920       741.0  2.123209     39.43   \n",
              " 20639  2.3886      16.0  5.254717   1.162264      1387.0  2.616981     39.37   \n",
              " \n",
              "        Longitude  \n",
              " 0        -122.23  \n",
              " 1        -122.22  \n",
              " 2        -122.24  \n",
              " 3        -122.25  \n",
              " 4        -122.25  \n",
              " ...          ...  \n",
              " 20635    -121.09  \n",
              " 20636    -121.21  \n",
              " 20637    -121.22  \n",
              " 20638    -121.32  \n",
              " 20639    -121.24  \n",
              " \n",
              " [20640 rows x 8 columns], 'target': 0        4.526\n",
              " 1        3.585\n",
              " 2        3.521\n",
              " 3        3.413\n",
              " 4        3.422\n",
              "          ...  \n",
              " 20635    0.781\n",
              " 20636    0.771\n",
              " 20637    0.923\n",
              " 20638    0.847\n",
              " 20639    0.894\n",
              " Name: MedHouseVal, Length: 20640, dtype: float64, 'frame':        MedInc  HouseAge  AveRooms  AveBedrms  Population  AveOccup  Latitude  \\\n",
              " 0      8.3252      41.0  6.984127   1.023810       322.0  2.555556     37.88   \n",
              " 1      8.3014      21.0  6.238137   0.971880      2401.0  2.109842     37.86   \n",
              " 2      7.2574      52.0  8.288136   1.073446       496.0  2.802260     37.85   \n",
              " 3      5.6431      52.0  5.817352   1.073059       558.0  2.547945     37.85   \n",
              " 4      3.8462      52.0  6.281853   1.081081       565.0  2.181467     37.85   \n",
              " ...       ...       ...       ...        ...         ...       ...       ...   \n",
              " 20635  1.5603      25.0  5.045455   1.133333       845.0  2.560606     39.48   \n",
              " 20636  2.5568      18.0  6.114035   1.315789       356.0  3.122807     39.49   \n",
              " 20637  1.7000      17.0  5.205543   1.120092      1007.0  2.325635     39.43   \n",
              " 20638  1.8672      18.0  5.329513   1.171920       741.0  2.123209     39.43   \n",
              " 20639  2.3886      16.0  5.254717   1.162264      1387.0  2.616981     39.37   \n",
              " \n",
              "        Longitude  MedHouseVal  \n",
              " 0        -122.23        4.526  \n",
              " 1        -122.22        3.585  \n",
              " 2        -122.24        3.521  \n",
              " 3        -122.25        3.413  \n",
              " 4        -122.25        3.422  \n",
              " ...          ...          ...  \n",
              " 20635    -121.09        0.781  \n",
              " 20636    -121.21        0.771  \n",
              " 20637    -121.22        0.923  \n",
              " 20638    -121.32        0.847  \n",
              " 20639    -121.24        0.894  \n",
              " \n",
              " [20640 rows x 9 columns], 'target_names': ['MedHouseVal'], 'feature_names': ['MedInc',\n",
              "  'HouseAge',\n",
              "  'AveRooms',\n",
              "  'AveBedrms',\n",
              "  'Population',\n",
              "  'AveOccup',\n",
              "  'Latitude',\n",
              "  'Longitude'], 'DESCR': '.. _california_housing_dataset:\\n\\nCalifornia Housing dataset\\n--------------------------\\n\\n**Data Set Characteristics:**\\n\\n    :Number of Instances: 20640\\n\\n    :Number of Attributes: 8 numeric, predictive attributes and the target\\n\\n    :Attribute Information:\\n        - MedInc        median income in block group\\n        - HouseAge      median house age in block group\\n        - AveRooms      average number of rooms per household\\n        - AveBedrms     average number of bedrooms per household\\n        - Population    block group population\\n        - AveOccup      average number of household members\\n        - Latitude      block group latitude\\n        - Longitude     block group longitude\\n\\n    :Missing Attribute Values: None\\n\\nThis dataset was obtained from the StatLib repository.\\nhttps://www.dcc.fc.up.pt/~ltorgo/Regression/cal_housing.html\\n\\nThe target variable is the median house value for California districts,\\nexpressed in hundreds of thousands of dollars ($100,000).\\n\\nThis dataset was derived from the 1990 U.S. census, using one row per census\\nblock group. A block group is the smallest geographical unit for which the U.S.\\nCensus Bureau publishes sample data (a block group typically has a population\\nof 600 to 3,000 people).\\n\\nAn household is a group of people residing within a home. Since the average\\nnumber of rooms and bedrooms in this dataset are provided per household, these\\ncolumns may take surpinsingly large values for block groups with few households\\nand many empty houses, such as vacation resorts.\\n\\nIt can be downloaded/loaded using the\\n:func:`sklearn.datasets.fetch_california_housing` function.\\n\\n.. topic:: References\\n\\n    - Pace, R. Kelley and Ronald Barry, Sparse Spatial Autoregressions,\\n      Statistics and Probability Letters, 33 (1997) 291-297\\n'}"
            ]
          },
          "metadata": {},
          "execution_count": 6
        }
      ]
    },
    {
      "cell_type": "markdown",
      "source": [
        "Análisis de los datos : Explorar los datos con al menos 3 técnicas diferentes"
      ],
      "metadata": {
        "id": "3GnVw7Nfzbr8"
      }
    },
    {
      "cell_type": "code",
      "source": [
        "print(dataframe)"
      ],
      "metadata": {
        "id": "CCXn9lgpz3y9",
        "colab": {
          "base_uri": "https://localhost:8080/"
        },
        "outputId": "feae1856-4bc4-481a-dda7-69cf4b811267"
      },
      "execution_count": null,
      "outputs": [
        {
          "output_type": "stream",
          "name": "stdout",
          "text": [
            "       MedInc  HouseAge  AveRooms  AveBedrms  Population  AveOccup  Latitude  \\\n",
            "0      8.3252      41.0  6.984127   1.023810       322.0  2.555556     37.88   \n",
            "1      8.3014      21.0  6.238137   0.971880      2401.0  2.109842     37.86   \n",
            "2      7.2574      52.0  8.288136   1.073446       496.0  2.802260     37.85   \n",
            "3      5.6431      52.0  5.817352   1.073059       558.0  2.547945     37.85   \n",
            "4      3.8462      52.0  6.281853   1.081081       565.0  2.181467     37.85   \n",
            "...       ...       ...       ...        ...         ...       ...       ...   \n",
            "20635  1.5603      25.0  5.045455   1.133333       845.0  2.560606     39.48   \n",
            "20636  2.5568      18.0  6.114035   1.315789       356.0  3.122807     39.49   \n",
            "20637  1.7000      17.0  5.205543   1.120092      1007.0  2.325635     39.43   \n",
            "20638  1.8672      18.0  5.329513   1.171920       741.0  2.123209     39.43   \n",
            "20639  2.3886      16.0  5.254717   1.162264      1387.0  2.616981     39.37   \n",
            "\n",
            "       Longitude  \n",
            "0        -122.23  \n",
            "1        -122.22  \n",
            "2        -122.24  \n",
            "3        -122.25  \n",
            "4        -122.25  \n",
            "...          ...  \n",
            "20635    -121.09  \n",
            "20636    -121.21  \n",
            "20637    -121.22  \n",
            "20638    -121.32  \n",
            "20639    -121.24  \n",
            "\n",
            "[20640 rows x 8 columns]\n"
          ]
        }
      ]
    },
    {
      "cell_type": "code",
      "source": [
        "print(dataframe.dtypes)"
      ],
      "metadata": {
        "colab": {
          "base_uri": "https://localhost:8080/"
        },
        "id": "reT9tvh7Noi6",
        "outputId": "83e27137-2488-4ed4-a54f-b6f409939da7"
      },
      "execution_count": null,
      "outputs": [
        {
          "output_type": "stream",
          "name": "stdout",
          "text": [
            "MedInc        float64\n",
            "HouseAge      float64\n",
            "AveRooms      float64\n",
            "AveBedrms     float64\n",
            "Population    float64\n",
            "AveOccup      float64\n",
            "Latitude      float64\n",
            "Longitude     float64\n",
            "dtype: object\n"
          ]
        }
      ]
    },
    {
      "cell_type": "code",
      "source": [
        "dataframe.describe()"
      ],
      "metadata": {
        "colab": {
          "base_uri": "https://localhost:8080/",
          "height": 300
        },
        "id": "gMwZcmNF9Hlk",
        "outputId": "c064ead9-baec-4fff-cdf5-48cd82c13828"
      },
      "execution_count": null,
      "outputs": [
        {
          "output_type": "execute_result",
          "data": {
            "text/plain": [
              "             MedInc      HouseAge      AveRooms     AveBedrms    Population  \\\n",
              "count  20640.000000  20640.000000  20640.000000  20640.000000  20640.000000   \n",
              "mean       3.870671     28.639486      5.429000      1.096675   1425.476744   \n",
              "std        1.899822     12.585558      2.474173      0.473911   1132.462122   \n",
              "min        0.499900      1.000000      0.846154      0.333333      3.000000   \n",
              "25%        2.563400     18.000000      4.440716      1.006079    787.000000   \n",
              "50%        3.534800     29.000000      5.229129      1.048780   1166.000000   \n",
              "75%        4.743250     37.000000      6.052381      1.099526   1725.000000   \n",
              "max       15.000100     52.000000    141.909091     34.066667  35682.000000   \n",
              "\n",
              "           AveOccup      Latitude     Longitude  \n",
              "count  20640.000000  20640.000000  20640.000000  \n",
              "mean       3.070655     35.631861   -119.569704  \n",
              "std       10.386050      2.135952      2.003532  \n",
              "min        0.692308     32.540000   -124.350000  \n",
              "25%        2.429741     33.930000   -121.800000  \n",
              "50%        2.818116     34.260000   -118.490000  \n",
              "75%        3.282261     37.710000   -118.010000  \n",
              "max     1243.333333     41.950000   -114.310000  "
            ],
            "text/html": [
              "\n",
              "  <div id=\"df-8570ba92-2abf-415e-af42-7f9a059c70ee\">\n",
              "    <div class=\"colab-df-container\">\n",
              "      <div>\n",
              "<style scoped>\n",
              "    .dataframe tbody tr th:only-of-type {\n",
              "        vertical-align: middle;\n",
              "    }\n",
              "\n",
              "    .dataframe tbody tr th {\n",
              "        vertical-align: top;\n",
              "    }\n",
              "\n",
              "    .dataframe thead th {\n",
              "        text-align: right;\n",
              "    }\n",
              "</style>\n",
              "<table border=\"1\" class=\"dataframe\">\n",
              "  <thead>\n",
              "    <tr style=\"text-align: right;\">\n",
              "      <th></th>\n",
              "      <th>MedInc</th>\n",
              "      <th>HouseAge</th>\n",
              "      <th>AveRooms</th>\n",
              "      <th>AveBedrms</th>\n",
              "      <th>Population</th>\n",
              "      <th>AveOccup</th>\n",
              "      <th>Latitude</th>\n",
              "      <th>Longitude</th>\n",
              "    </tr>\n",
              "  </thead>\n",
              "  <tbody>\n",
              "    <tr>\n",
              "      <th>count</th>\n",
              "      <td>20640.000000</td>\n",
              "      <td>20640.000000</td>\n",
              "      <td>20640.000000</td>\n",
              "      <td>20640.000000</td>\n",
              "      <td>20640.000000</td>\n",
              "      <td>20640.000000</td>\n",
              "      <td>20640.000000</td>\n",
              "      <td>20640.000000</td>\n",
              "    </tr>\n",
              "    <tr>\n",
              "      <th>mean</th>\n",
              "      <td>3.870671</td>\n",
              "      <td>28.639486</td>\n",
              "      <td>5.429000</td>\n",
              "      <td>1.096675</td>\n",
              "      <td>1425.476744</td>\n",
              "      <td>3.070655</td>\n",
              "      <td>35.631861</td>\n",
              "      <td>-119.569704</td>\n",
              "    </tr>\n",
              "    <tr>\n",
              "      <th>std</th>\n",
              "      <td>1.899822</td>\n",
              "      <td>12.585558</td>\n",
              "      <td>2.474173</td>\n",
              "      <td>0.473911</td>\n",
              "      <td>1132.462122</td>\n",
              "      <td>10.386050</td>\n",
              "      <td>2.135952</td>\n",
              "      <td>2.003532</td>\n",
              "    </tr>\n",
              "    <tr>\n",
              "      <th>min</th>\n",
              "      <td>0.499900</td>\n",
              "      <td>1.000000</td>\n",
              "      <td>0.846154</td>\n",
              "      <td>0.333333</td>\n",
              "      <td>3.000000</td>\n",
              "      <td>0.692308</td>\n",
              "      <td>32.540000</td>\n",
              "      <td>-124.350000</td>\n",
              "    </tr>\n",
              "    <tr>\n",
              "      <th>25%</th>\n",
              "      <td>2.563400</td>\n",
              "      <td>18.000000</td>\n",
              "      <td>4.440716</td>\n",
              "      <td>1.006079</td>\n",
              "      <td>787.000000</td>\n",
              "      <td>2.429741</td>\n",
              "      <td>33.930000</td>\n",
              "      <td>-121.800000</td>\n",
              "    </tr>\n",
              "    <tr>\n",
              "      <th>50%</th>\n",
              "      <td>3.534800</td>\n",
              "      <td>29.000000</td>\n",
              "      <td>5.229129</td>\n",
              "      <td>1.048780</td>\n",
              "      <td>1166.000000</td>\n",
              "      <td>2.818116</td>\n",
              "      <td>34.260000</td>\n",
              "      <td>-118.490000</td>\n",
              "    </tr>\n",
              "    <tr>\n",
              "      <th>75%</th>\n",
              "      <td>4.743250</td>\n",
              "      <td>37.000000</td>\n",
              "      <td>6.052381</td>\n",
              "      <td>1.099526</td>\n",
              "      <td>1725.000000</td>\n",
              "      <td>3.282261</td>\n",
              "      <td>37.710000</td>\n",
              "      <td>-118.010000</td>\n",
              "    </tr>\n",
              "    <tr>\n",
              "      <th>max</th>\n",
              "      <td>15.000100</td>\n",
              "      <td>52.000000</td>\n",
              "      <td>141.909091</td>\n",
              "      <td>34.066667</td>\n",
              "      <td>35682.000000</td>\n",
              "      <td>1243.333333</td>\n",
              "      <td>41.950000</td>\n",
              "      <td>-114.310000</td>\n",
              "    </tr>\n",
              "  </tbody>\n",
              "</table>\n",
              "</div>\n",
              "      <button class=\"colab-df-convert\" onclick=\"convertToInteractive('df-8570ba92-2abf-415e-af42-7f9a059c70ee')\"\n",
              "              title=\"Convert this dataframe to an interactive table.\"\n",
              "              style=\"display:none;\">\n",
              "        \n",
              "  <svg xmlns=\"http://www.w3.org/2000/svg\" height=\"24px\"viewBox=\"0 0 24 24\"\n",
              "       width=\"24px\">\n",
              "    <path d=\"M0 0h24v24H0V0z\" fill=\"none\"/>\n",
              "    <path d=\"M18.56 5.44l.94 2.06.94-2.06 2.06-.94-2.06-.94-.94-2.06-.94 2.06-2.06.94zm-11 1L8.5 8.5l.94-2.06 2.06-.94-2.06-.94L8.5 2.5l-.94 2.06-2.06.94zm10 10l.94 2.06.94-2.06 2.06-.94-2.06-.94-.94-2.06-.94 2.06-2.06.94z\"/><path d=\"M17.41 7.96l-1.37-1.37c-.4-.4-.92-.59-1.43-.59-.52 0-1.04.2-1.43.59L10.3 9.45l-7.72 7.72c-.78.78-.78 2.05 0 2.83L4 21.41c.39.39.9.59 1.41.59.51 0 1.02-.2 1.41-.59l7.78-7.78 2.81-2.81c.8-.78.8-2.07 0-2.86zM5.41 20L4 18.59l7.72-7.72 1.47 1.35L5.41 20z\"/>\n",
              "  </svg>\n",
              "      </button>\n",
              "      \n",
              "  <style>\n",
              "    .colab-df-container {\n",
              "      display:flex;\n",
              "      flex-wrap:wrap;\n",
              "      gap: 12px;\n",
              "    }\n",
              "\n",
              "    .colab-df-convert {\n",
              "      background-color: #E8F0FE;\n",
              "      border: none;\n",
              "      border-radius: 50%;\n",
              "      cursor: pointer;\n",
              "      display: none;\n",
              "      fill: #1967D2;\n",
              "      height: 32px;\n",
              "      padding: 0 0 0 0;\n",
              "      width: 32px;\n",
              "    }\n",
              "\n",
              "    .colab-df-convert:hover {\n",
              "      background-color: #E2EBFA;\n",
              "      box-shadow: 0px 1px 2px rgba(60, 64, 67, 0.3), 0px 1px 3px 1px rgba(60, 64, 67, 0.15);\n",
              "      fill: #174EA6;\n",
              "    }\n",
              "\n",
              "    [theme=dark] .colab-df-convert {\n",
              "      background-color: #3B4455;\n",
              "      fill: #D2E3FC;\n",
              "    }\n",
              "\n",
              "    [theme=dark] .colab-df-convert:hover {\n",
              "      background-color: #434B5C;\n",
              "      box-shadow: 0px 1px 3px 1px rgba(0, 0, 0, 0.15);\n",
              "      filter: drop-shadow(0px 1px 2px rgba(0, 0, 0, 0.3));\n",
              "      fill: #FFFFFF;\n",
              "    }\n",
              "  </style>\n",
              "\n",
              "      <script>\n",
              "        const buttonEl =\n",
              "          document.querySelector('#df-8570ba92-2abf-415e-af42-7f9a059c70ee button.colab-df-convert');\n",
              "        buttonEl.style.display =\n",
              "          google.colab.kernel.accessAllowed ? 'block' : 'none';\n",
              "\n",
              "        async function convertToInteractive(key) {\n",
              "          const element = document.querySelector('#df-8570ba92-2abf-415e-af42-7f9a059c70ee');\n",
              "          const dataTable =\n",
              "            await google.colab.kernel.invokeFunction('convertToInteractive',\n",
              "                                                     [key], {});\n",
              "          if (!dataTable) return;\n",
              "\n",
              "          const docLinkHtml = 'Like what you see? Visit the ' +\n",
              "            '<a target=\"_blank\" href=https://colab.research.google.com/notebooks/data_table.ipynb>data table notebook</a>'\n",
              "            + ' to learn more about interactive tables.';\n",
              "          element.innerHTML = '';\n",
              "          dataTable['output_type'] = 'display_data';\n",
              "          await google.colab.output.renderOutput(dataTable, element);\n",
              "          const docLink = document.createElement('div');\n",
              "          docLink.innerHTML = docLinkHtml;\n",
              "          element.appendChild(docLink);\n",
              "        }\n",
              "      </script>\n",
              "    </div>\n",
              "  </div>\n",
              "  "
            ]
          },
          "metadata": {},
          "execution_count": 9
        }
      ]
    },
    {
      "cell_type": "markdown",
      "source": [
        "Aplicar preprocesamiento a los datos : Al menos una técnica será necesaria"
      ],
      "metadata": {
        "id": "j0n1_yIGzvy9"
      }
    },
    {
      "cell_type": "code",
      "source": [
        "dataframe[\"HouseAge\"] = dataframe[\"HouseAge\"].astype(int)"
      ],
      "metadata": {
        "id": "6JWzvlzhz4-4"
      },
      "execution_count": null,
      "outputs": []
    },
    {
      "cell_type": "code",
      "source": [
        "dataframe[\"Population\"] = dataframe[\"Population\"].astype(int)"
      ],
      "metadata": {
        "id": "QxL9SdQZYJaU"
      },
      "execution_count": null,
      "outputs": []
    },
    {
      "cell_type": "code",
      "source": [
        "dataframe = dataframe.rename(\n",
        "    columns = {\n",
        "        \"MedInc\":     \"Ingreso promedio\",\n",
        "        \"HouseAge\":   \"Edad promedio de la casa\",\n",
        "        \"AveRooms\":   \"Número promedio de habitaciones por hogar\",\n",
        "        \"AveBedrms\":  \"Número promedio de dormitorios por hogar\",\n",
        "        \"Population\": \"Población\",\n",
        "        \"AveOccup\":   \"Número promedio de miembros del hogar\",\n",
        "        \"Latitude\":   \"Latitud\",\n",
        "        \"Longitude\":  \"Longuitud\"\n",
        "    }\n",
        ")"
      ],
      "metadata": {
        "id": "TaqiFNPgZgFN"
      },
      "execution_count": null,
      "outputs": []
    },
    {
      "cell_type": "code",
      "source": [
        "# Info: https://www.tensorflow.org/tutorials/load_data/pandas_dataframe\n",
        "SHUFFLE_BUFFER: int = int(500)\n",
        "BATCH_SIZE: int = int(3)\n",
        "\n",
        "target = dataframe.pop('Ingreso promedio')\n",
        "\n",
        "numeric_feature_names: list = [\n",
        "    # str(\"Ingreso promedio\"),\n",
        "    str(\"Edad promedio de la casa\"),\n",
        "    str(\"Número promedio de habitaciones por hogar\"),\n",
        "    str(\"Número promedio de dormitorios por hogar\"),\n",
        "    str(\"Población\"),\n",
        "    str(\"Número promedio de miembros del hogar\"),\n",
        "    str(\"Latitud\"),\n",
        "    str(\"Longuitud\")\n",
        "]\n",
        "\n",
        "numeric_features = dataframe[numeric_feature_names]\n",
        "numeric_features.head()"
      ],
      "metadata": {
        "colab": {
          "base_uri": "https://localhost:8080/",
          "height": 206
        },
        "id": "rJUhsWTtKIMU",
        "outputId": "72f9eec6-7449-4a13-b044-f4790f5cd4b7"
      },
      "execution_count": null,
      "outputs": [
        {
          "output_type": "execute_result",
          "data": {
            "text/plain": [
              "   Edad promedio de la casa  Número promedio de habitaciones por hogar  \\\n",
              "0                        41                                   6.984127   \n",
              "1                        21                                   6.238137   \n",
              "2                        52                                   8.288136   \n",
              "3                        52                                   5.817352   \n",
              "4                        52                                   6.281853   \n",
              "\n",
              "   Número promedio de dormitorios por hogar  Población  \\\n",
              "0                                  1.023810        322   \n",
              "1                                  0.971880       2401   \n",
              "2                                  1.073446        496   \n",
              "3                                  1.073059        558   \n",
              "4                                  1.081081        565   \n",
              "\n",
              "   Número promedio de miembros del hogar  Latitud  Longuitud  \n",
              "0                               2.555556    37.88    -122.23  \n",
              "1                               2.109842    37.86    -122.22  \n",
              "2                               2.802260    37.85    -122.24  \n",
              "3                               2.547945    37.85    -122.25  \n",
              "4                               2.181467    37.85    -122.25  "
            ],
            "text/html": [
              "\n",
              "  <div id=\"df-ae6f7272-067e-48ae-a85c-2c94f3e25bb6\">\n",
              "    <div class=\"colab-df-container\">\n",
              "      <div>\n",
              "<style scoped>\n",
              "    .dataframe tbody tr th:only-of-type {\n",
              "        vertical-align: middle;\n",
              "    }\n",
              "\n",
              "    .dataframe tbody tr th {\n",
              "        vertical-align: top;\n",
              "    }\n",
              "\n",
              "    .dataframe thead th {\n",
              "        text-align: right;\n",
              "    }\n",
              "</style>\n",
              "<table border=\"1\" class=\"dataframe\">\n",
              "  <thead>\n",
              "    <tr style=\"text-align: right;\">\n",
              "      <th></th>\n",
              "      <th>Edad promedio de la casa</th>\n",
              "      <th>Número promedio de habitaciones por hogar</th>\n",
              "      <th>Número promedio de dormitorios por hogar</th>\n",
              "      <th>Población</th>\n",
              "      <th>Número promedio de miembros del hogar</th>\n",
              "      <th>Latitud</th>\n",
              "      <th>Longuitud</th>\n",
              "    </tr>\n",
              "  </thead>\n",
              "  <tbody>\n",
              "    <tr>\n",
              "      <th>0</th>\n",
              "      <td>41</td>\n",
              "      <td>6.984127</td>\n",
              "      <td>1.023810</td>\n",
              "      <td>322</td>\n",
              "      <td>2.555556</td>\n",
              "      <td>37.88</td>\n",
              "      <td>-122.23</td>\n",
              "    </tr>\n",
              "    <tr>\n",
              "      <th>1</th>\n",
              "      <td>21</td>\n",
              "      <td>6.238137</td>\n",
              "      <td>0.971880</td>\n",
              "      <td>2401</td>\n",
              "      <td>2.109842</td>\n",
              "      <td>37.86</td>\n",
              "      <td>-122.22</td>\n",
              "    </tr>\n",
              "    <tr>\n",
              "      <th>2</th>\n",
              "      <td>52</td>\n",
              "      <td>8.288136</td>\n",
              "      <td>1.073446</td>\n",
              "      <td>496</td>\n",
              "      <td>2.802260</td>\n",
              "      <td>37.85</td>\n",
              "      <td>-122.24</td>\n",
              "    </tr>\n",
              "    <tr>\n",
              "      <th>3</th>\n",
              "      <td>52</td>\n",
              "      <td>5.817352</td>\n",
              "      <td>1.073059</td>\n",
              "      <td>558</td>\n",
              "      <td>2.547945</td>\n",
              "      <td>37.85</td>\n",
              "      <td>-122.25</td>\n",
              "    </tr>\n",
              "    <tr>\n",
              "      <th>4</th>\n",
              "      <td>52</td>\n",
              "      <td>6.281853</td>\n",
              "      <td>1.081081</td>\n",
              "      <td>565</td>\n",
              "      <td>2.181467</td>\n",
              "      <td>37.85</td>\n",
              "      <td>-122.25</td>\n",
              "    </tr>\n",
              "  </tbody>\n",
              "</table>\n",
              "</div>\n",
              "      <button class=\"colab-df-convert\" onclick=\"convertToInteractive('df-ae6f7272-067e-48ae-a85c-2c94f3e25bb6')\"\n",
              "              title=\"Convert this dataframe to an interactive table.\"\n",
              "              style=\"display:none;\">\n",
              "        \n",
              "  <svg xmlns=\"http://www.w3.org/2000/svg\" height=\"24px\"viewBox=\"0 0 24 24\"\n",
              "       width=\"24px\">\n",
              "    <path d=\"M0 0h24v24H0V0z\" fill=\"none\"/>\n",
              "    <path d=\"M18.56 5.44l.94 2.06.94-2.06 2.06-.94-2.06-.94-.94-2.06-.94 2.06-2.06.94zm-11 1L8.5 8.5l.94-2.06 2.06-.94-2.06-.94L8.5 2.5l-.94 2.06-2.06.94zm10 10l.94 2.06.94-2.06 2.06-.94-2.06-.94-.94-2.06-.94 2.06-2.06.94z\"/><path d=\"M17.41 7.96l-1.37-1.37c-.4-.4-.92-.59-1.43-.59-.52 0-1.04.2-1.43.59L10.3 9.45l-7.72 7.72c-.78.78-.78 2.05 0 2.83L4 21.41c.39.39.9.59 1.41.59.51 0 1.02-.2 1.41-.59l7.78-7.78 2.81-2.81c.8-.78.8-2.07 0-2.86zM5.41 20L4 18.59l7.72-7.72 1.47 1.35L5.41 20z\"/>\n",
              "  </svg>\n",
              "      </button>\n",
              "      \n",
              "  <style>\n",
              "    .colab-df-container {\n",
              "      display:flex;\n",
              "      flex-wrap:wrap;\n",
              "      gap: 12px;\n",
              "    }\n",
              "\n",
              "    .colab-df-convert {\n",
              "      background-color: #E8F0FE;\n",
              "      border: none;\n",
              "      border-radius: 50%;\n",
              "      cursor: pointer;\n",
              "      display: none;\n",
              "      fill: #1967D2;\n",
              "      height: 32px;\n",
              "      padding: 0 0 0 0;\n",
              "      width: 32px;\n",
              "    }\n",
              "\n",
              "    .colab-df-convert:hover {\n",
              "      background-color: #E2EBFA;\n",
              "      box-shadow: 0px 1px 2px rgba(60, 64, 67, 0.3), 0px 1px 3px 1px rgba(60, 64, 67, 0.15);\n",
              "      fill: #174EA6;\n",
              "    }\n",
              "\n",
              "    [theme=dark] .colab-df-convert {\n",
              "      background-color: #3B4455;\n",
              "      fill: #D2E3FC;\n",
              "    }\n",
              "\n",
              "    [theme=dark] .colab-df-convert:hover {\n",
              "      background-color: #434B5C;\n",
              "      box-shadow: 0px 1px 3px 1px rgba(0, 0, 0, 0.15);\n",
              "      filter: drop-shadow(0px 1px 2px rgba(0, 0, 0, 0.3));\n",
              "      fill: #FFFFFF;\n",
              "    }\n",
              "  </style>\n",
              "\n",
              "      <script>\n",
              "        const buttonEl =\n",
              "          document.querySelector('#df-ae6f7272-067e-48ae-a85c-2c94f3e25bb6 button.colab-df-convert');\n",
              "        buttonEl.style.display =\n",
              "          google.colab.kernel.accessAllowed ? 'block' : 'none';\n",
              "\n",
              "        async function convertToInteractive(key) {\n",
              "          const element = document.querySelector('#df-ae6f7272-067e-48ae-a85c-2c94f3e25bb6');\n",
              "          const dataTable =\n",
              "            await google.colab.kernel.invokeFunction('convertToInteractive',\n",
              "                                                     [key], {});\n",
              "          if (!dataTable) return;\n",
              "\n",
              "          const docLinkHtml = 'Like what you see? Visit the ' +\n",
              "            '<a target=\"_blank\" href=https://colab.research.google.com/notebooks/data_table.ipynb>data table notebook</a>'\n",
              "            + ' to learn more about interactive tables.';\n",
              "          element.innerHTML = '';\n",
              "          dataTable['output_type'] = 'display_data';\n",
              "          await google.colab.output.renderOutput(dataTable, element);\n",
              "          const docLink = document.createElement('div');\n",
              "          docLink.innerHTML = docLinkHtml;\n",
              "          element.appendChild(docLink);\n",
              "        }\n",
              "      </script>\n",
              "    </div>\n",
              "  </div>\n",
              "  "
            ]
          },
          "metadata": {},
          "execution_count": 13
        }
      ]
    },
    {
      "cell_type": "code",
      "source": [
        "convert_to_tensor(numeric_features)"
      ],
      "metadata": {
        "colab": {
          "base_uri": "https://localhost:8080/"
        },
        "id": "3p4WmwOlzm8P",
        "outputId": "b53e3008-b1c6-425e-c45a-790c2665e76f"
      },
      "execution_count": null,
      "outputs": [
        {
          "output_type": "execute_result",
          "data": {
            "text/plain": [
              "<tf.Tensor: shape=(20640, 7), dtype=float64, numpy=\n",
              "array([[  41.        ,    6.98412698,    1.02380952, ...,    2.55555556,\n",
              "          37.88      , -122.23      ],\n",
              "       [  21.        ,    6.23813708,    0.97188049, ...,    2.10984183,\n",
              "          37.86      , -122.22      ],\n",
              "       [  52.        ,    8.28813559,    1.07344633, ...,    2.80225989,\n",
              "          37.85      , -122.24      ],\n",
              "       ...,\n",
              "       [  17.        ,    5.20554273,    1.12009238, ...,    2.3256351 ,\n",
              "          39.43      , -121.22      ],\n",
              "       [  18.        ,    5.32951289,    1.17191977, ...,    2.12320917,\n",
              "          39.43      , -121.32      ],\n",
              "       [  16.        ,    5.25471698,    1.16226415, ...,    2.61698113,\n",
              "          39.37      , -121.24      ]])>"
            ]
          },
          "metadata": {},
          "execution_count": 14
        }
      ]
    },
    {
      "cell_type": "code",
      "source": [
        "normalizer = keras.layers.Normalization(axis = -1)\n",
        "normalizer.adapt(numeric_features)"
      ],
      "metadata": {
        "id": "iylnr_kIzsKg"
      },
      "execution_count": null,
      "outputs": []
    },
    {
      "cell_type": "code",
      "source": [
        "normalizer(numeric_features.iloc[:3])"
      ],
      "metadata": {
        "colab": {
          "base_uri": "https://localhost:8080/"
        },
        "id": "fu8eXJGIzvMe",
        "outputId": "9ea87646-4fbb-4352-db8d-8c21555979e4"
      },
      "execution_count": null,
      "outputs": [
        {
          "output_type": "execute_result",
          "data": {
            "text/plain": [
              "<tf.Tensor: shape=(3, 7), dtype=float32, numpy=\n",
              "array([[ 0.9821438 ,  0.62855977, -0.1537572 , -0.97442883, -0.04959657,\n",
              "         1.0525376 , -1.3278531 ],\n",
              "       [-0.6070186 ,  0.32704166, -0.26333556,  0.8614402 , -0.09251229,\n",
              "         1.0431736 , -1.3228607 ],\n",
              "       [ 1.8561832 ,  1.1556209 , -0.04901604, -0.8207775 , -0.02584255,\n",
              "         1.0384908 , -1.3328416 ]], dtype=float32)>"
            ]
          },
          "metadata": {},
          "execution_count": 16
        }
      ]
    },
    {
      "cell_type": "markdown",
      "source": [
        "Separar datos de entrenamiento y prueba"
      ],
      "metadata": {
        "id": "Cf9uj5yhzqOt"
      }
    },
    {
      "cell_type": "code",
      "source": [
        "numeric_features = numeric_features.to_numpy()\n",
        "X = numeric_features[:,0:7]\n",
        "Y = numeric_features[7]"
      ],
      "metadata": {
        "id": "SZVa16VYGBkT"
      },
      "execution_count": null,
      "outputs": []
    },
    {
      "cell_type": "markdown",
      "source": [
        "Crear la arquitectura de la red: proponga la cantidad de neuronas y capas ocultas que estime conveniente"
      ],
      "metadata": {
        "id": "emOFBv3VzmEN"
      }
    },
    {
      "cell_type": "code",
      "source": [
        "modelo = keras.Sequential()\n",
        "  \n",
        "modelo.add(normalizer)\n",
        "\n",
        "modelo.add(\n",
        "    Dense(\n",
        "        10,\n",
        "        input_dim = 8,\n",
        "        # activation = str('relu'),\n",
        "        activation = str('selu'),\n",
        "        name = \"1\"\n",
        "    )\n",
        ")\n",
        "\n",
        "modelo.add(\n",
        "    Dense(\n",
        "        10,\n",
        "        # activation = str('relu'),\n",
        "        activation = str('selu'),\n",
        "        name = \"2\"\n",
        "    )\n",
        ")\n",
        "\n",
        "modelo.add(\n",
        "    Dense(\n",
        "        5,\n",
        "        # activation = str('relu'),\n",
        "        activation = str('selu'),\n",
        "        name = \"3\"\n",
        "    )\n",
        ")\n",
        "\n",
        "modelo.add(\n",
        "    Dense(\n",
        "        2,\n",
        "        activation = str('relu'),\n",
        "        # activation = str('selu'),\n",
        "        name = \"4\"\n",
        "    )\n",
        ")\n",
        "\n",
        "modelo.add(\n",
        "    Dense(\n",
        "        1,\n",
        "        activation = str('sigmoid'),\n",
        "        name = \"Final\"\n",
        "    )\n",
        ")\n",
        "\n",
        "\n",
        "\n",
        "modelo.summary()"
      ],
      "metadata": {
        "id": "a8vh_2hlz7Ev",
        "colab": {
          "base_uri": "https://localhost:8080/"
        },
        "outputId": "93d4a882-ee1d-40a6-f992-be93923289ab"
      },
      "execution_count": null,
      "outputs": [
        {
          "output_type": "stream",
          "name": "stdout",
          "text": [
            "Model: \"sequential\"\n",
            "_________________________________________________________________\n",
            " Layer (type)                Output Shape              Param #   \n",
            "=================================================================\n",
            " normalization (Normalizatio  (None, 7)                15        \n",
            " n)                                                              \n",
            "                                                                 \n",
            " 1 (Dense)                   (None, 10)                80        \n",
            "                                                                 \n",
            " 2 (Dense)                   (None, 10)                110       \n",
            "                                                                 \n",
            " 3 (Dense)                   (None, 5)                 55        \n",
            "                                                                 \n",
            " 4 (Dense)                   (None, 2)                 12        \n",
            "                                                                 \n",
            " Final (Dense)               (None, 1)                 3         \n",
            "                                                                 \n",
            "=================================================================\n",
            "Total params: 275\n",
            "Trainable params: 260\n",
            "Non-trainable params: 15\n",
            "_________________________________________________________________\n"
          ]
        }
      ]
    },
    {
      "cell_type": "markdown",
      "source": [
        "Argumentación capas:\n",
        "Utilizo \"selu\" porque, cuando trabaja con los datos numéricos, hace que se mantiene la Media y la Varianza."
      ],
      "metadata": {
        "id": "XV355r_ACCrg"
      }
    },
    {
      "cell_type": "markdown",
      "source": [
        "Defina el modelo de compilación, considerando los hiperparámetros pertinentes al estudio"
      ],
      "metadata": {
        "id": "rAJ-g44L0DGF"
      }
    },
    {
      "cell_type": "code",
      "source": [
        "modelo.compile(\n",
        "    optimizer = str('adam'),\n",
        "    loss = \"logcosh\",\n",
        "    metrics = [\n",
        "        str('MeanSquaredLogarithmicError'),\n",
        "    ]\n",
        ")"
      ],
      "metadata": {
        "id": "8sRv-n-E0J0g"
      },
      "execution_count": null,
      "outputs": []
    },
    {
      "cell_type": "markdown",
      "source": [
        "Entrene el modelo"
      ],
      "metadata": {
        "id": "hH9xsO-t0Q1_"
      }
    },
    {
      "cell_type": "code",
      "source": [
        "#Acá su código\n",
        "h = modelo.fit(\n",
        "    numeric_features,\n",
        "    target,\n",
        "    epochs = int(15),\n",
        "    batch_size = BATCH_SIZE\n",
        ")"
      ],
      "metadata": {
        "id": "1d5x4m_D0Tq2",
        "colab": {
          "base_uri": "https://localhost:8080/"
        },
        "outputId": "a015c86b-81f8-4404-8252-cb0ea3dbe4b0"
      },
      "execution_count": null,
      "outputs": [
        {
          "output_type": "stream",
          "name": "stdout",
          "text": [
            "Epoch 1/15\n",
            "6880/6880 [==============================] - 26s 3ms/step - loss: 2.2466 - mean_squared_logarithmic_error: 0.8267\n",
            "Epoch 2/15\n",
            "6880/6880 [==============================] - 12s 2ms/step - loss: 2.2300 - mean_squared_logarithmic_error: 0.8074\n",
            "Epoch 3/15\n",
            "6880/6880 [==============================] - 12s 2ms/step - loss: 2.2300 - mean_squared_logarithmic_error: 0.8074\n",
            "Epoch 4/15\n",
            "6880/6880 [==============================] - 12s 2ms/step - loss: 2.2300 - mean_squared_logarithmic_error: 0.8074\n",
            "Epoch 5/15\n",
            "6880/6880 [==============================] - 12s 2ms/step - loss: 2.2300 - mean_squared_logarithmic_error: 0.8074\n",
            "Epoch 6/15\n",
            "6880/6880 [==============================] - 12s 2ms/step - loss: 2.2300 - mean_squared_logarithmic_error: 0.8074\n",
            "Epoch 7/15\n",
            "6880/6880 [==============================] - 12s 2ms/step - loss: 2.2300 - mean_squared_logarithmic_error: 0.8074\n",
            "Epoch 8/15\n",
            "6880/6880 [==============================] - 12s 2ms/step - loss: 2.2300 - mean_squared_logarithmic_error: 0.8074\n",
            "Epoch 9/15\n",
            "6880/6880 [==============================] - 12s 2ms/step - loss: 2.2300 - mean_squared_logarithmic_error: 0.8074\n",
            "Epoch 10/15\n",
            "6880/6880 [==============================] - 14s 2ms/step - loss: 2.2300 - mean_squared_logarithmic_error: 0.8074\n",
            "Epoch 11/15\n",
            "6880/6880 [==============================] - 12s 2ms/step - loss: 2.2300 - mean_squared_logarithmic_error: 0.8074\n",
            "Epoch 12/15\n",
            "6880/6880 [==============================] - 12s 2ms/step - loss: 2.2300 - mean_squared_logarithmic_error: 0.8074\n",
            "Epoch 13/15\n",
            "6880/6880 [==============================] - 13s 2ms/step - loss: 2.2300 - mean_squared_logarithmic_error: 0.8074\n",
            "Epoch 14/15\n",
            "6880/6880 [==============================] - 14s 2ms/step - loss: 2.2300 - mean_squared_logarithmic_error: 0.8074\n",
            "Epoch 15/15\n",
            "6880/6880 [==============================] - 13s 2ms/step - loss: 2.2300 - mean_squared_logarithmic_error: 0.8074\n"
          ]
        }
      ]
    },
    {
      "cell_type": "markdown",
      "source": [
        "Evalue el modelo : muestre métricas de evaluación y gráficos para evaluar la pérdida y la precisión del entrenamiento"
      ],
      "metadata": {
        "id": "kE92z5eT0aEM"
      }
    },
    {
      "cell_type": "code",
      "source": [
        "#Acá su código\n",
        "scores = modelo.evaluate(numeric_features, target)\n",
        "count: int = int(0)\n",
        "\n",
        "for i in scores:\n",
        "  score: float = float(scores[count] * 100)\n",
        "  name: str = str(modelo.metrics_names[count])\n",
        "  print(\"\\n%s: %.2f%%\" % (name, score))\n",
        "\n",
        "  count += int(1)"
      ],
      "metadata": {
        "id": "W2DC-uEx0re9",
        "colab": {
          "base_uri": "https://localhost:8080/"
        },
        "outputId": "657cbab5-9cf8-4c81-bb2a-1e669188d7dc"
      },
      "execution_count": null,
      "outputs": [
        {
          "output_type": "stream",
          "name": "stdout",
          "text": [
            "645/645 [==============================] - 1s 2ms/step - loss: 2.2300 - mean_squared_logarithmic_error: 0.8074\n",
            "\n",
            "loss: 223.00%\n",
            "\n",
            "mean_squared_logarithmic_error: 80.74%\n"
          ]
        }
      ]
    },
    {
      "cell_type": "code",
      "source": [
        "plt.plot(h.history['loss'])\n",
        "plt.title('Pérdida')\n",
        "plt.xlabel('Época')\n",
        "plt.show()"
      ],
      "metadata": {
        "id": "2iisUeP0IdBo",
        "colab": {
          "base_uri": "https://localhost:8080/",
          "height": 297
        },
        "outputId": "3739f00d-a341-4ad1-a474-a823174ff321"
      },
      "execution_count": null,
      "outputs": [
        {
          "output_type": "display_data",
          "data": {
            "text/plain": [
              "<Figure size 432x288 with 1 Axes>"
            ],
            "image/png": "[encoded data removed]"
          },
          "metadata": {
            "needs_background": "light"
          }
        }
      ]
    },
    {
      "cell_type": "code",
      "source": [
        "plt.plot(h.history['mean_squared_logarithmic_error'])\n",
        "plt.title('% Acierto')\n",
        "plt.xlabel('Época')\n",
        "plt.show()"
      ],
      "metadata": {
        "colab": {
          "base_uri": "https://localhost:8080/",
          "height": 297
        },
        "id": "xPDyiTS554yo",
        "outputId": "2edededd-34da-4ffb-bcf7-b5ecad5b6098"
      },
      "execution_count": null,
      "outputs": [
        {
          "output_type": "display_data",
          "data": {
            "text/plain": [
              "<Figure size 432x288 with 1 Axes>"
            ],
            "image/png": "[encoded data removed]"
          },
          "metadata": {
            "needs_background": "light"
          }
        }
      ]
    },
    {
      "cell_type": "markdown",
      "source": [
        "Realice alguna predicción"
      ],
      "metadata": {
        "id": "R8pfwNu_0oHC"
      }
    },
    {
      "cell_type": "code",
      "source": [
        "#Acá su código\n",
        "import random\n",
        "\n",
        "EdadCasa: list = [random.randint(1, 52)]\n",
        "CantidadHabitaciones: list = [random.uniform(0.846154, 141.909091)]\n",
        "CantidadDormitorios: list = [random.uniform(0.333333, 34.066667)]\n",
        "Poblacion: list = [random.randint(3, 35682)]\n",
        "MiembrosHogar: list = [random.uniform(0.692308, 1243.333333)]\n",
        "Latitud: list = [random.uniform(32.54, 41.95)]\n",
        "Longuitud: list = [random.uniform(-124.35, -114.31)]\n",
        "\n",
        "print(\"1. Edad casa:\", EdadCasa)\n",
        "print(\"2. Cantidad habitaciones:\", CantidadHabitaciones)\n",
        "print(\"3. Cantidad dormitorios:\", CantidadDormitorios)\n",
        "print(\"4. Poblacion:\", Poblacion)\n",
        "print(\"5. Miembros hogar:\", MiembrosHogar)\n",
        "print(\"6. Latitud:\", Latitud)\n",
        "print(\"7. Longuitud:\", Longuitud)"
      ],
      "metadata": {
        "id": "X2mmZyiI0tgd",
        "colab": {
          "base_uri": "https://localhost:8080/"
        },
        "outputId": "1191a4d1-9b4c-4ca2-b52e-18d77491c603"
      },
      "execution_count": null,
      "outputs": [
        {
          "output_type": "stream",
          "name": "stdout",
          "text": [
            "1. Edad casa: [36]\n",
            "2. Cantidad habitaciones: [17.118621602927455]\n",
            "3. Cantidad dormitorios: [14.352943515052491]\n",
            "4. Poblacion: [5408]\n",
            "5. Miembros hogar: [530.0142009603952]\n",
            "6. Latitud: [35.68032588509229]\n",
            "7. Longuitud: [-123.79132459196092]\n"
          ]
        }
      ]
    },
    {
      "cell_type": "code",
      "source": [
        "listaAleatoria: list = []\n",
        "listaAleatoria.append(EdadCasa)\n",
        "listaAleatoria.append(CantidadHabitaciones)\n",
        "listaAleatoria.append(CantidadDormitorios)\n",
        "listaAleatoria.append(Poblacion)\n",
        "listaAleatoria.append(MiembrosHogar)\n",
        "listaAleatoria.append(Latitud)\n",
        "listaAleatoria.append(Longuitud)\n",
        "\n",
        "predictions = modelo.predict(listaAleatoria)\n",
        "print(predictions)"
      ],
      "metadata": {
        "colab": {
          "base_uri": "https://localhost:8080/"
        },
        "id": "s6pVMVtwCaKq",
        "outputId": "b7b239e4-31e2-4c9d-9ec3-c19c70782e41"
      },
      "execution_count": null,
      "outputs": [
        {
          "output_type": "stream",
          "name": "stdout",
          "text": [
            "[[1.       ]\n",
            " [1.       ]\n",
            " [1.       ]\n",
            " [1.       ]\n",
            " [1.       ]\n",
            " [1.       ]\n",
            " [0.9999982]]\n"
          ]
        }
      ]
    },
    {
      "cell_type": "markdown",
      "source": [
        "# Conclusiones\n",
        "\n",
        "En esta sección debería aportar sus conclusiones"
      ],
      "metadata": {
        "id": "WCmwJxDjY7Cz"
      }
    },
    {
      "cell_type": "markdown",
      "source": [
        "Dependiendo de las características de la vivienda, aumentará o disminuirá el ingreso promedio."
      ],
      "metadata": {
        "id": "XyZlRSiYEg9S"
      }
    }
  ]
}