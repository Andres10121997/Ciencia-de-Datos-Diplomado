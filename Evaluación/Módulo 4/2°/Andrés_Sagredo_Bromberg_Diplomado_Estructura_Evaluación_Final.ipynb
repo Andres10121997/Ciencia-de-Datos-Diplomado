{
  "nbformat": 4,
  "nbformat_minor": 0,
  "metadata": {
    "colab": {
      "provenance": [],
      "toc_visible": true
    },
    "kernelspec": {
      "name": "python3",
      "display_name": "Python 3"
    }
  },
  "cells": [
    {
      "cell_type": "markdown",
      "metadata": {
        "id": "tdaohCeoe1T_"
      },
      "source": [
        "#Evaluación Final - Diplomado Data Science Duoc UC\n",
        "\n",
        "# Módulo: Machine Learning\n",
        "\n",
        "A continuación, aplicarás lo aprendido con el uso de las librerías de Python desde fuentes de datos proporcionadas por el relator.\n",
        "\n",
        "**Recuerda almacenar una copia de este Jupyter Notebook en tu Google Drive para poder ejecutar los bloques de código.**\n",
        "\n",
        "\n",
        "---\n",
        "Proponga al menos 6 preguntas que podamos responder con el análisis exploratorio previo a la construcción de un modelo de Machine Learning, que permita hacer una proyección (regresión) o una clasificación de acuerdo al aspecto elegido de los datos.\n",
        "\n",
        "Detecte correlaciones relevantes que permitan hacer más óptimo el modelo de ML en combinación con los algoritmos e hiperparámetros adecuados de acuerdo a la solución planteada.\n",
        "\n",
        "Elabore un informe en Jupyter Notebook haciendo uso de cuadros de texto y cuadros de código para robustecer la solución planteada.\n",
        "\n",
        "\n",
        "Datos: disponibles en el enlace en una de las celdas de este notebook.\n",
        "\n",
        "\n",
        "---\n"
      ]
    },
    {
      "cell_type": "markdown",
      "metadata": {
        "id": "Vk3pLh0AK1er"
      },
      "source": [
        "\n",
        "**Recuerda hacer uso de todo lo aprendido! mientras más cosas descubras de los datos, más robusto será tu análisis.** "
      ]
    },
    {
      "cell_type": "code",
      "source": [
        "!wget https://www.dropbox.com/s/xitvmn3jdb1r36i/PlayStore.csv"
      ],
      "metadata": {
        "colab": {
          "base_uri": "https://localhost:8080/"
        },
        "id": "kJLldq4KOy-y",
        "outputId": "b51a9379-7288-48c6-f6b0-94b841a82a9d"
      },
      "execution_count": null,
      "outputs": [
        {
          "output_type": "stream",
          "name": "stdout",
          "text": [
            "--2022-08-21 23:01:23--  https://www.dropbox.com/s/xitvmn3jdb1r36i/PlayStore.csv\n",
            "Resolving www.dropbox.com (www.dropbox.com)... 162.125.71.18, 2620:100:6021:18::a27d:4112\n",
            "Connecting to www.dropbox.com (www.dropbox.com)|162.125.71.18|:443... connected.\n",
            "HTTP request sent, awaiting response... 301 Moved Permanently\n",
            "Location: /s/raw/xitvmn3jdb1r36i/PlayStore.csv [following]\n",
            "--2022-08-21 23:01:23--  https://www.dropbox.com/s/raw/xitvmn3jdb1r36i/PlayStore.csv\n",
            "Reusing existing connection to www.dropbox.com:443.\n",
            "HTTP request sent, awaiting response... 302 Found\n",
            "Location: https://uc9054bf45e081e873624856ae64.dl.dropboxusercontent.com/cd/0/inline/Bresw6D2-3ycwx2Ldgqnlr-EudMVz6D4vsejemIEA4iwBZSMK_i2aFADVv0tfTv7wuUnT8wOfPxoa5f-arbveAQhQZhitc2FIYiMgzUNxZhIp66rl21OUA6G9NcpenMwtE5Tg9M8zJnlST6LDU87DVXkjDjutN4cZj0v7bz7gx6E5Q/file# [following]\n",
            "--2022-08-21 23:01:24--  https://uc9054bf45e081e873624856ae64.dl.dropboxusercontent.com/cd/0/inline/Bresw6D2-3ycwx2Ldgqnlr-EudMVz6D4vsejemIEA4iwBZSMK_i2aFADVv0tfTv7wuUnT8wOfPxoa5f-arbveAQhQZhitc2FIYiMgzUNxZhIp66rl21OUA6G9NcpenMwtE5Tg9M8zJnlST6LDU87DVXkjDjutN4cZj0v7bz7gx6E5Q/file\n",
            "Resolving uc9054bf45e081e873624856ae64.dl.dropboxusercontent.com (uc9054bf45e081e873624856ae64.dl.dropboxusercontent.com)... 162.125.7.15, 2620:100:6021:15::a27d:410f\n",
            "Connecting to uc9054bf45e081e873624856ae64.dl.dropboxusercontent.com (uc9054bf45e081e873624856ae64.dl.dropboxusercontent.com)|162.125.7.15|:443... connected.\n",
            "HTTP request sent, awaiting response... 200 OK\n",
            "Length: 771197 (753K) [text/plain]\n",
            "Saving to: ‘PlayStore.csv’\n",
            "\n",
            "PlayStore.csv       100%[===================>] 753.12K   950KB/s    in 0.8s    \n",
            "\n",
            "2022-08-21 23:01:25 (950 KB/s) - ‘PlayStore.csv’ saved [771197/771197]\n",
            "\n"
          ]
        }
      ]
    },
    {
      "cell_type": "code",
      "source": [
        "# Importamos las librerías necesarias.\n",
        "from matplotlib import pyplot as plt\n",
        "import numpy as np\n",
        "import pandas as pd\n",
        "import seaborn as sns"
      ],
      "metadata": {
        "id": "1KSo3WoupC-n"
      },
      "execution_count": null,
      "outputs": []
    },
    {
      "cell_type": "code",
      "source": [
        "# Preparación de los datos\n",
        "from sklearn import preprocessing"
      ],
      "metadata": {
        "id": "iln5WDn0pFOE"
      },
      "execution_count": null,
      "outputs": []
    },
    {
      "cell_type": "code",
      "source": [
        "# Herramienta para dividir los datos en prueba y entrenamiento \n",
        "from sklearn.model_selection import RepeatedKFold,train_test_split"
      ],
      "metadata": {
        "id": "jyu1RB8CpFs7"
      },
      "execution_count": null,
      "outputs": []
    },
    {
      "cell_type": "code",
      "source": [
        "# Import de los modelos\n",
        "from sklearn.neighbors import KNeighborsClassifier\n",
        "from sklearn.linear_model import LogisticRegression\n",
        "from sklearn.svm import SVC\n",
        "from sklearn.naive_bayes import GaussianNB\n",
        "from sklearn.discriminant_analysis import LinearDiscriminantAnalysis\n",
        "from sklearn.tree import DecisionTreeClassifier\n",
        "from sklearn.ensemble import RandomForestRegressor "
      ],
      "metadata": {
        "id": "JbcX1gabpHw2"
      },
      "execution_count": null,
      "outputs": []
    },
    {
      "cell_type": "code",
      "source": [
        "from sklearn.tree import DecisionTreeRegressor\n",
        "from sklearn.linear_model import LinearRegression\n",
        "from sklearn.neighbors import KNeighborsRegressor\n",
        "from sklearn.ensemble import RandomForestRegressor"
      ],
      "metadata": {
        "id": "bEFLfnE5pJl_"
      },
      "execution_count": null,
      "outputs": []
    },
    {
      "cell_type": "code",
      "source": [
        "# Importa las metricas\n",
        "from sklearn import metrics"
      ],
      "metadata": {
        "id": "-GszO5XnpMND"
      },
      "execution_count": null,
      "outputs": []
    },
    {
      "cell_type": "code",
      "source": [
        "from sklearn.model_selection import train_test_split\n",
        "from sklearn.preprocessing import LabelEncoder"
      ],
      "metadata": {
        "id": "Tl0ODunm5PYu"
      },
      "execution_count": null,
      "outputs": []
    },
    {
      "cell_type": "code",
      "source": [
        "from sklearn.metrics import confusion_matrix, accuracy_score, precision_score, recall_score, f1_score, roc_auc_score, roc_curve"
      ],
      "metadata": {
        "id": "qnlfiB7j35eJ"
      },
      "execution_count": null,
      "outputs": []
    },
    {
      "cell_type": "markdown",
      "metadata": {
        "id": "reGN707Ty1C7"
      },
      "source": [
        "# Análisis Exploratorio de Datos"
      ]
    },
    {
      "cell_type": "code",
      "source": [
        "dataframe = pd.read_csv(\"PlayStore.csv\", sep = \";\")"
      ],
      "metadata": {
        "id": "z8qVvsWvo6z5"
      },
      "execution_count": null,
      "outputs": []
    },
    {
      "cell_type": "code",
      "source": [
        "dataframe.info()"
      ],
      "metadata": {
        "colab": {
          "base_uri": "https://localhost:8080/"
        },
        "id": "5VFkbzSSpfnM",
        "outputId": "4d43424a-e9f9-4a1f-fc3e-dd6c838ac060"
      },
      "execution_count": null,
      "outputs": [
        {
          "output_type": "stream",
          "name": "stdout",
          "text": [
            "<class 'pandas.core.frame.DataFrame'>\n",
            "RangeIndex: 9141 entries, 0 to 9140\n",
            "Data columns (total 9 columns):\n",
            " #   Column         Non-Null Count  Dtype \n",
            "---  ------         --------------  ----- \n",
            " 0   App            9141 non-null   object\n",
            " 1   Categoría      9141 non-null   object\n",
            " 2   Valoración     7725 non-null   object\n",
            " 3   Comentarios    9141 non-null   int64 \n",
            " 4   Tamaño(M)      9141 non-null   object\n",
            " 5   Descargas      9141 non-null   object\n",
            " 6   Tipo           9141 non-null   object\n",
            " 7   Precio         9141 non-null   object\n",
            " 8   Clasificación  9141 non-null   object\n",
            "dtypes: int64(1), object(8)\n",
            "memory usage: 642.9+ KB\n"
          ]
        }
      ]
    },
    {
      "cell_type": "code",
      "source": [
        "dataframe"
      ],
      "metadata": {
        "colab": {
          "base_uri": "https://localhost:8080/",
          "height": 423
        },
        "id": "vidG9VwvpqLv",
        "outputId": "020fb35d-c125-4ab7-8d31-7f553c687d22"
      },
      "execution_count": null,
      "outputs": [
        {
          "output_type": "execute_result",
          "data": {
            "text/plain": [
              "                                                    App      Categoría  \\\n",
              "0                               AJ Styles HD Wallpapers  ARTE Y DISEÑO   \n",
              "1                                       I Creative Idea  ARTE Y DISEÑO   \n",
              "2                                      Infinite Painter  ARTE Y DISEÑO   \n",
              "3                         FlipaClip - Cartoon animation  ARTE Y DISEÑO   \n",
              "4                               Text on Photo - Fonteee  ARTE Y DISEÑO   \n",
              "...                                                 ...            ...   \n",
              "9136  BPme - Mobile Fuel Payment & BP Driver Rewards...         VIAJES   \n",
              "9137                      Gormey: Find Best Restaurants         VIAJES   \n",
              "9138                                               NTES         VIAJES   \n",
              "9139                      Urbanspoon Restaurant Reviews         VIAJES   \n",
              "9140  Expedia Hotels, Flights & Car Rental Travel Deals         VIAJES   \n",
              "\n",
              "     Valoración  Comentarios Tamaño(M)          Descargas    Tipo Precio  \\\n",
              "0           4,8           48        25       5,000 aprox.  Gratis      0   \n",
              "1           4,7          353       4,2      10,000 aprox.  Gratis      0   \n",
              "2           4,1        36815        29   1,000,000 aprox.  Gratis      0   \n",
              "3           4,3       194216        39   5,000,000 aprox.  Gratis      0   \n",
              "4           4,4        13880        28   1,000,000 aprox.  Gratis      0   \n",
              "...         ...          ...       ...                ...     ...    ...   \n",
              "9136          3           69        31      10,000 aprox.  Gratis      0   \n",
              "9137        4,3           34       7,6       1,000 aprox.  Gratis      0   \n",
              "9138        4,3       165299       5,4  10,000,000 aprox.  Gratis      0   \n",
              "9139        4,2        35560        13   5,000,000 aprox.  Gratis      0   \n",
              "9140        4,1       136626        14  10,000,000 aprox.  Gratis      0   \n",
              "\n",
              "     Clasificación  \n",
              "0     Todo público  \n",
              "1     Adolescentes  \n",
              "2     Todo público  \n",
              "3     Todo público  \n",
              "4     Todo público  \n",
              "...            ...  \n",
              "9136  Todo público  \n",
              "9137  Todo público  \n",
              "9138  Todo público  \n",
              "9139  Todo público  \n",
              "9140  Todo público  \n",
              "\n",
              "[9141 rows x 9 columns]"
            ],
            "text/html": [
              "\n",
              "  <div id=\"df-6ba23668-096d-4916-958a-9e50167923bc\">\n",
              "    <div class=\"colab-df-container\">\n",
              "      <div>\n",
              "<style scoped>\n",
              "    .dataframe tbody tr th:only-of-type {\n",
              "        vertical-align: middle;\n",
              "    }\n",
              "\n",
              "    .dataframe tbody tr th {\n",
              "        vertical-align: top;\n",
              "    }\n",
              "\n",
              "    .dataframe thead th {\n",
              "        text-align: right;\n",
              "    }\n",
              "</style>\n",
              "<table border=\"1\" class=\"dataframe\">\n",
              "  <thead>\n",
              "    <tr style=\"text-align: right;\">\n",
              "      <th></th>\n",
              "      <th>App</th>\n",
              "      <th>Categoría</th>\n",
              "      <th>Valoración</th>\n",
              "      <th>Comentarios</th>\n",
              "      <th>Tamaño(M)</th>\n",
              "      <th>Descargas</th>\n",
              "      <th>Tipo</th>\n",
              "      <th>Precio</th>\n",
              "      <th>Clasificación</th>\n",
              "    </tr>\n",
              "  </thead>\n",
              "  <tbody>\n",
              "    <tr>\n",
              "      <th>0</th>\n",
              "      <td>AJ Styles HD Wallpapers</td>\n",
              "      <td>ARTE Y DISEÑO</td>\n",
              "      <td>4,8</td>\n",
              "      <td>48</td>\n",
              "      <td>25</td>\n",
              "      <td>5,000 aprox.</td>\n",
              "      <td>Gratis</td>\n",
              "      <td>0</td>\n",
              "      <td>Todo público</td>\n",
              "    </tr>\n",
              "    <tr>\n",
              "      <th>1</th>\n",
              "      <td>I Creative Idea</td>\n",
              "      <td>ARTE Y DISEÑO</td>\n",
              "      <td>4,7</td>\n",
              "      <td>353</td>\n",
              "      <td>4,2</td>\n",
              "      <td>10,000 aprox.</td>\n",
              "      <td>Gratis</td>\n",
              "      <td>0</td>\n",
              "      <td>Adolescentes</td>\n",
              "    </tr>\n",
              "    <tr>\n",
              "      <th>2</th>\n",
              "      <td>Infinite Painter</td>\n",
              "      <td>ARTE Y DISEÑO</td>\n",
              "      <td>4,1</td>\n",
              "      <td>36815</td>\n",
              "      <td>29</td>\n",
              "      <td>1,000,000 aprox.</td>\n",
              "      <td>Gratis</td>\n",
              "      <td>0</td>\n",
              "      <td>Todo público</td>\n",
              "    </tr>\n",
              "    <tr>\n",
              "      <th>3</th>\n",
              "      <td>FlipaClip - Cartoon animation</td>\n",
              "      <td>ARTE Y DISEÑO</td>\n",
              "      <td>4,3</td>\n",
              "      <td>194216</td>\n",
              "      <td>39</td>\n",
              "      <td>5,000,000 aprox.</td>\n",
              "      <td>Gratis</td>\n",
              "      <td>0</td>\n",
              "      <td>Todo público</td>\n",
              "    </tr>\n",
              "    <tr>\n",
              "      <th>4</th>\n",
              "      <td>Text on Photo - Fonteee</td>\n",
              "      <td>ARTE Y DISEÑO</td>\n",
              "      <td>4,4</td>\n",
              "      <td>13880</td>\n",
              "      <td>28</td>\n",
              "      <td>1,000,000 aprox.</td>\n",
              "      <td>Gratis</td>\n",
              "      <td>0</td>\n",
              "      <td>Todo público</td>\n",
              "    </tr>\n",
              "    <tr>\n",
              "      <th>...</th>\n",
              "      <td>...</td>\n",
              "      <td>...</td>\n",
              "      <td>...</td>\n",
              "      <td>...</td>\n",
              "      <td>...</td>\n",
              "      <td>...</td>\n",
              "      <td>...</td>\n",
              "      <td>...</td>\n",
              "      <td>...</td>\n",
              "    </tr>\n",
              "    <tr>\n",
              "      <th>9136</th>\n",
              "      <td>BPme - Mobile Fuel Payment &amp; BP Driver Rewards...</td>\n",
              "      <td>VIAJES</td>\n",
              "      <td>3</td>\n",
              "      <td>69</td>\n",
              "      <td>31</td>\n",
              "      <td>10,000 aprox.</td>\n",
              "      <td>Gratis</td>\n",
              "      <td>0</td>\n",
              "      <td>Todo público</td>\n",
              "    </tr>\n",
              "    <tr>\n",
              "      <th>9137</th>\n",
              "      <td>Gormey: Find Best Restaurants</td>\n",
              "      <td>VIAJES</td>\n",
              "      <td>4,3</td>\n",
              "      <td>34</td>\n",
              "      <td>7,6</td>\n",
              "      <td>1,000 aprox.</td>\n",
              "      <td>Gratis</td>\n",
              "      <td>0</td>\n",
              "      <td>Todo público</td>\n",
              "    </tr>\n",
              "    <tr>\n",
              "      <th>9138</th>\n",
              "      <td>NTES</td>\n",
              "      <td>VIAJES</td>\n",
              "      <td>4,3</td>\n",
              "      <td>165299</td>\n",
              "      <td>5,4</td>\n",
              "      <td>10,000,000 aprox.</td>\n",
              "      <td>Gratis</td>\n",
              "      <td>0</td>\n",
              "      <td>Todo público</td>\n",
              "    </tr>\n",
              "    <tr>\n",
              "      <th>9139</th>\n",
              "      <td>Urbanspoon Restaurant Reviews</td>\n",
              "      <td>VIAJES</td>\n",
              "      <td>4,2</td>\n",
              "      <td>35560</td>\n",
              "      <td>13</td>\n",
              "      <td>5,000,000 aprox.</td>\n",
              "      <td>Gratis</td>\n",
              "      <td>0</td>\n",
              "      <td>Todo público</td>\n",
              "    </tr>\n",
              "    <tr>\n",
              "      <th>9140</th>\n",
              "      <td>Expedia Hotels, Flights &amp; Car Rental Travel Deals</td>\n",
              "      <td>VIAJES</td>\n",
              "      <td>4,1</td>\n",
              "      <td>136626</td>\n",
              "      <td>14</td>\n",
              "      <td>10,000,000 aprox.</td>\n",
              "      <td>Gratis</td>\n",
              "      <td>0</td>\n",
              "      <td>Todo público</td>\n",
              "    </tr>\n",
              "  </tbody>\n",
              "</table>\n",
              "<p>9141 rows × 9 columns</p>\n",
              "</div>\n",
              "      <button class=\"colab-df-convert\" onclick=\"convertToInteractive('df-6ba23668-096d-4916-958a-9e50167923bc')\"\n",
              "              title=\"Convert this dataframe to an interactive table.\"\n",
              "              style=\"display:none;\">\n",
              "        \n",
              "  <svg xmlns=\"http://www.w3.org/2000/svg\" height=\"24px\"viewBox=\"0 0 24 24\"\n",
              "       width=\"24px\">\n",
              "    <path d=\"M0 0h24v24H0V0z\" fill=\"none\"/>\n",
              "    <path d=\"M18.56 5.44l.94 2.06.94-2.06 2.06-.94-2.06-.94-.94-2.06-.94 2.06-2.06.94zm-11 1L8.5 8.5l.94-2.06 2.06-.94-2.06-.94L8.5 2.5l-.94 2.06-2.06.94zm10 10l.94 2.06.94-2.06 2.06-.94-2.06-.94-.94-2.06-.94 2.06-2.06.94z\"/><path d=\"M17.41 7.96l-1.37-1.37c-.4-.4-.92-.59-1.43-.59-.52 0-1.04.2-1.43.59L10.3 9.45l-7.72 7.72c-.78.78-.78 2.05 0 2.83L4 21.41c.39.39.9.59 1.41.59.51 0 1.02-.2 1.41-.59l7.78-7.78 2.81-2.81c.8-.78.8-2.07 0-2.86zM5.41 20L4 18.59l7.72-7.72 1.47 1.35L5.41 20z\"/>\n",
              "  </svg>\n",
              "      </button>\n",
              "      \n",
              "  <style>\n",
              "    .colab-df-container {\n",
              "      display:flex;\n",
              "      flex-wrap:wrap;\n",
              "      gap: 12px;\n",
              "    }\n",
              "\n",
              "    .colab-df-convert {\n",
              "      background-color: #E8F0FE;\n",
              "      border: none;\n",
              "      border-radius: 50%;\n",
              "      cursor: pointer;\n",
              "      display: none;\n",
              "      fill: #1967D2;\n",
              "      height: 32px;\n",
              "      padding: 0 0 0 0;\n",
              "      width: 32px;\n",
              "    }\n",
              "\n",
              "    .colab-df-convert:hover {\n",
              "      background-color: #E2EBFA;\n",
              "      box-shadow: 0px 1px 2px rgba(60, 64, 67, 0.3), 0px 1px 3px 1px rgba(60, 64, 67, 0.15);\n",
              "      fill: #174EA6;\n",
              "    }\n",
              "\n",
              "    [theme=dark] .colab-df-convert {\n",
              "      background-color: #3B4455;\n",
              "      fill: #D2E3FC;\n",
              "    }\n",
              "\n",
              "    [theme=dark] .colab-df-convert:hover {\n",
              "      background-color: #434B5C;\n",
              "      box-shadow: 0px 1px 3px 1px rgba(0, 0, 0, 0.15);\n",
              "      filter: drop-shadow(0px 1px 2px rgba(0, 0, 0, 0.3));\n",
              "      fill: #FFFFFF;\n",
              "    }\n",
              "  </style>\n",
              "\n",
              "      <script>\n",
              "        const buttonEl =\n",
              "          document.querySelector('#df-6ba23668-096d-4916-958a-9e50167923bc button.colab-df-convert');\n",
              "        buttonEl.style.display =\n",
              "          google.colab.kernel.accessAllowed ? 'block' : 'none';\n",
              "\n",
              "        async function convertToInteractive(key) {\n",
              "          const element = document.querySelector('#df-6ba23668-096d-4916-958a-9e50167923bc');\n",
              "          const dataTable =\n",
              "            await google.colab.kernel.invokeFunction('convertToInteractive',\n",
              "                                                     [key], {});\n",
              "          if (!dataTable) return;\n",
              "\n",
              "          const docLinkHtml = 'Like what you see? Visit the ' +\n",
              "            '<a target=\"_blank\" href=https://colab.research.google.com/notebooks/data_table.ipynb>data table notebook</a>'\n",
              "            + ' to learn more about interactive tables.';\n",
              "          element.innerHTML = '';\n",
              "          dataTable['output_type'] = 'display_data';\n",
              "          await google.colab.output.renderOutput(dataTable, element);\n",
              "          const docLink = document.createElement('div');\n",
              "          docLink.innerHTML = docLinkHtml;\n",
              "          element.appendChild(docLink);\n",
              "        }\n",
              "      </script>\n",
              "    </div>\n",
              "  </div>\n",
              "  "
            ]
          },
          "metadata": {},
          "execution_count": 12
        }
      ]
    },
    {
      "cell_type": "code",
      "source": [
        "dataframe[\"App\"].value_counts()"
      ],
      "metadata": {
        "colab": {
          "base_uri": "https://localhost:8080/"
        },
        "id": "Vb119vCTsnTk",
        "outputId": "1ac3af9c-e5f6-4750-e858-f099440e26ed"
      },
      "execution_count": null,
      "outputs": [
        {
          "output_type": "execute_result",
          "data": {
            "text/plain": [
              "ROBLOX                                      9\n",
              "Candy Crush Saga                            7\n",
              "8 Ball Pool                                 7\n",
              "Temple Run 2                                6\n",
              "Helix Jump                                  6\n",
              "                                           ..\n",
              "Color by Number - Draw Sandbox Pixel Art    1\n",
              "fi                                          1\n",
              "European Union Simulator                    1\n",
              "Battle of Zombies: Clans War                1\n",
              "Urbanspoon Restaurant Reviews               1\n",
              "Name: App, Length: 8430, dtype: int64"
            ]
          },
          "metadata": {},
          "execution_count": 13
        }
      ]
    },
    {
      "cell_type": "code",
      "source": [
        "dataframe[\"Clasificación\"].value_counts()"
      ],
      "metadata": {
        "colab": {
          "base_uri": "https://localhost:8080/"
        },
        "id": "B9J8ALfTv_p_",
        "outputId": "9df93bc5-7f2b-4a4a-bb41-a673a2f6de26"
      },
      "execution_count": null,
      "outputs": [
        {
          "output_type": "execute_result",
          "data": {
            "text/plain": [
              "Todo público          7415\n",
              "Adolescentes           986\n",
              "Mayores de 17 años     405\n",
              "Mayores de 10 años     331\n",
              "Sólo adultos             2\n",
              "Sin clasificación        2\n",
              "Name: Clasificación, dtype: int64"
            ]
          },
          "metadata": {},
          "execution_count": 14
        }
      ]
    },
    {
      "cell_type": "code",
      "source": [
        "dataframe[\"Categoría\"].value_counts()"
      ],
      "metadata": {
        "colab": {
          "base_uri": "https://localhost:8080/"
        },
        "id": "0-qfvi0VwuCb",
        "outputId": "6c6492a9-682e-42dd-f77d-5902ffce679c"
      },
      "execution_count": null,
      "outputs": [
        {
          "output_type": "execute_result",
          "data": {
            "text/plain": [
              "FAMILIA                   1770\n",
              "JUEGO                     1051\n",
              "HERRAMIENTAS               738\n",
              "MÉDICO                     433\n",
              "NEGOCIO                    400\n",
              "PERSONALIZACIÓN            356\n",
              "ESTILO DE VIDA             349\n",
              "DEPORTES                   310\n",
              "FINANCIERAS                306\n",
              "PRODUCTIVIDAD              303\n",
              "SALUD Y BELLEZA            265\n",
              "COMUNICACIÓN               264\n",
              "FOTOGRAFÍA                 253\n",
              "NOTICIAS                   215\n",
              "DATOS                      212\n",
              "SOCIAL                     209\n",
              "COMPRAS                    201\n",
              "LIBROS Y REFRERENCIAS      197\n",
              "VIAJES                     192\n",
              "REPRODUCTORES DE VIDEO     129\n",
              "EDUCACIÓN                  124\n",
              "MAPAS Y NAVEGACIÓN         108\n",
              "ENTRETENIMIENTO            102\n",
              "COMIDA Y BEBIDA            100\n",
              "LIBRERIAS                   82\n",
              "VEHICULOS                   75\n",
              "CASA Y HOGAR                68\n",
              "ARTE Y DISEÑO               65\n",
              "EVENTOS                     57\n",
              "CLIMA                       57\n",
              "PADRES                      53\n",
              "HISTORIETAS                 50\n",
              "BELLEZA                     47\n",
              "Name: Categoría, dtype: int64"
            ]
          },
          "metadata": {},
          "execution_count": 15
        }
      ]
    },
    {
      "cell_type": "code",
      "source": [
        "dataframe[\"Tipo\"].value_counts()"
      ],
      "metadata": {
        "colab": {
          "base_uri": "https://localhost:8080/"
        },
        "id": "k6vf4yDDpGIj",
        "outputId": "e455007b-e8f4-4727-bc92-3ec68bd88aeb"
      },
      "execution_count": null,
      "outputs": [
        {
          "output_type": "execute_result",
          "data": {
            "text/plain": [
              "Gratis    8417\n",
              "Pago       724\n",
              "Name: Tipo, dtype: int64"
            ]
          },
          "metadata": {},
          "execution_count": 16
        }
      ]
    },
    {
      "cell_type": "code",
      "source": [
        "dataframe[\"Tamaño(M)\"].isnull().sum()"
      ],
      "metadata": {
        "colab": {
          "base_uri": "https://localhost:8080/"
        },
        "id": "2WWwOq-QY5Wg",
        "outputId": "63940cf6-bd45-44f4-871e-40c790b3f4ab"
      },
      "execution_count": null,
      "outputs": [
        {
          "output_type": "execute_result",
          "data": {
            "text/plain": [
              "0"
            ]
          },
          "metadata": {},
          "execution_count": 17
        }
      ]
    },
    {
      "cell_type": "code",
      "source": [
        "dataframe.count()"
      ],
      "metadata": {
        "colab": {
          "base_uri": "https://localhost:8080/"
        },
        "id": "FjU6VCbzqJnV",
        "outputId": "60501cb5-0b0e-4b8c-99da-b0fc10491acb"
      },
      "execution_count": null,
      "outputs": [
        {
          "output_type": "execute_result",
          "data": {
            "text/plain": [
              "App              9141\n",
              "Categoría        9141\n",
              "Valoración       7725\n",
              "Comentarios      9141\n",
              "Tamaño(M)        9141\n",
              "Descargas        9141\n",
              "Tipo             9141\n",
              "Precio           9141\n",
              "Clasificación    9141\n",
              "dtype: int64"
            ]
          },
          "metadata": {},
          "execution_count": 18
        }
      ]
    },
    {
      "cell_type": "code",
      "source": [
        "dataframe.isnull().sum()"
      ],
      "metadata": {
        "colab": {
          "base_uri": "https://localhost:8080/"
        },
        "id": "Ba2YC2-iqF_L",
        "outputId": "18bcbcda-c385-4a69-c872-401e88d926e4"
      },
      "execution_count": null,
      "outputs": [
        {
          "output_type": "execute_result",
          "data": {
            "text/plain": [
              "App                 0\n",
              "Categoría           0\n",
              "Valoración       1416\n",
              "Comentarios         0\n",
              "Tamaño(M)           0\n",
              "Descargas           0\n",
              "Tipo                0\n",
              "Precio              0\n",
              "Clasificación       0\n",
              "dtype: int64"
            ]
          },
          "metadata": {},
          "execution_count": 19
        }
      ]
    },
    {
      "cell_type": "markdown",
      "metadata": {
        "id": "_CI6ykiX6j35"
      },
      "source": [
        "## Planteamiento de sus preguntas "
      ]
    },
    {
      "cell_type": "markdown",
      "source": [
        "### Pregunta 1"
      ],
      "metadata": {
        "id": "DEt7IP9VR3TH"
      }
    },
    {
      "cell_type": "markdown",
      "source": [
        "Si realizo una app con categoría \"Todo público\" ¿tendré mayor descarga que las demás clasificaciónes?"
      ],
      "metadata": {
        "id": "shU9J3rHrrxC"
      }
    },
    {
      "cell_type": "markdown",
      "source": [
        "### Pregunta 2"
      ],
      "metadata": {
        "id": "rwyXBVG1R6Th"
      }
    },
    {
      "cell_type": "markdown",
      "source": [
        "¿Una aplicación gratuita tendrá más descargas que una aplicación de pago?"
      ],
      "metadata": {
        "id": "d-YPXAm9oz5X"
      }
    },
    {
      "cell_type": "markdown",
      "source": [
        "### Pregunta 3"
      ],
      "metadata": {
        "id": "0PlEcCeQBweK"
      }
    },
    {
      "cell_type": "markdown",
      "source": [
        "¿La cantidad de comentarios es directamente proporcional a las descargas?"
      ],
      "metadata": {
        "id": "isp2c8sKB7Na"
      }
    },
    {
      "cell_type": "markdown",
      "source": [
        "### Pregunta 4"
      ],
      "metadata": {
        "id": "gl8AqxV-R7g1"
      }
    },
    {
      "cell_type": "markdown",
      "source": [
        "¿La categoría es afectada por la Clasificación y al Tipo de la aplicación?"
      ],
      "metadata": {
        "id": "1N4aP_O3UwaL"
      }
    },
    {
      "cell_type": "markdown",
      "source": [
        "### Pregunta 5"
      ],
      "metadata": {
        "id": "b9Ms8hux-xIW"
      }
    },
    {
      "cell_type": "markdown",
      "source": [
        "¿El Tamaño(M) de la aplicación tiene relación con la Categoría y la Cantidad de Descargas?"
      ],
      "metadata": {
        "id": "biIdXhFt-0iT"
      }
    },
    {
      "cell_type": "markdown",
      "metadata": {
        "id": "zhQTxlFZ0MLT"
      },
      "source": [
        "# Propuesta de limpieza\n"
      ]
    },
    {
      "cell_type": "code",
      "source": [
        "dataframe[\"App\"] = dataframe[\"App\"].astype(\"string\")"
      ],
      "metadata": {
        "id": "SboYQEVFa0xe"
      },
      "execution_count": null,
      "outputs": []
    },
    {
      "cell_type": "markdown",
      "source": [
        "Con este tipo de limpieza cambio el tipo de dato \"object\" a \"string\" de la variable \"App\"."
      ],
      "metadata": {
        "id": "QTDaD9h3cwkV"
      }
    },
    {
      "cell_type": "code",
      "source": [
        "dataframe[\"Categoría\"] = dataframe[\"Categoría\"].astype(\"string\")"
      ],
      "metadata": {
        "id": "cgcC-K34a8xl"
      },
      "execution_count": null,
      "outputs": []
    },
    {
      "cell_type": "markdown",
      "source": [
        "Con este tipo de limpieza cambio el tipo de dato \"object\" a \"string\" de la variable \"Categoría\"."
      ],
      "metadata": {
        "id": "dL2qv9jTdDBV"
      }
    },
    {
      "cell_type": "code",
      "source": [
        "dataframe[\"Valoración\"] = dataframe[\"Valoración\"].astype(\"string\")"
      ],
      "metadata": {
        "id": "Vpn13Q0qbGGy"
      },
      "execution_count": null,
      "outputs": []
    },
    {
      "cell_type": "markdown",
      "source": [
        "Con este tipo de limpieza cambio el tipo de dato \"object\" a \"string\" de la variable \"Valoración\"."
      ],
      "metadata": {
        "id": "Hrg4_ip8ddS2"
      }
    },
    {
      "cell_type": "code",
      "source": [
        "dataframe[\"Tamaño(M)\"] = dataframe[\"Tamaño(M)\"].astype(\"string\")"
      ],
      "metadata": {
        "id": "PSri5nhQbPJc"
      },
      "execution_count": null,
      "outputs": []
    },
    {
      "cell_type": "markdown",
      "source": [
        "Con este tipo de limpieza cambio el tipo de dato \"object\" a \"string\" de la variable \"Tamaño(M)\"."
      ],
      "metadata": {
        "id": "_DavuLV_f3Qe"
      }
    },
    {
      "cell_type": "code",
      "source": [
        "dataframe[\"Descargas\"] = dataframe[\"Descargas\"].astype(\"string\")"
      ],
      "metadata": {
        "id": "HCapiNmYbglE"
      },
      "execution_count": null,
      "outputs": []
    },
    {
      "cell_type": "markdown",
      "source": [
        "Con este tipo de limpieza cambio el tipo de dato \"object\" a \"string\" de la variable \"Descargas\"."
      ],
      "metadata": {
        "id": "bpT-Vs7sf9ZV"
      }
    },
    {
      "cell_type": "code",
      "source": [
        "dataframe[\"Tipo\"] = dataframe[\"Tipo\"].astype(\"string\")"
      ],
      "metadata": {
        "id": "Au9NcTUhbsiN"
      },
      "execution_count": null,
      "outputs": []
    },
    {
      "cell_type": "markdown",
      "source": [
        "Con este tipo de limpieza cambio el tipo de dato \"object\" a \"string\" de la variable \"Tipo\"."
      ],
      "metadata": {
        "id": "gD966uE1gCPz"
      }
    },
    {
      "cell_type": "code",
      "source": [
        "dataframe[\"Precio\"] = dataframe[\"Precio\"].astype(\"string\")"
      ],
      "metadata": {
        "id": "3u1EVAt9bzpx"
      },
      "execution_count": null,
      "outputs": []
    },
    {
      "cell_type": "markdown",
      "source": [
        "Con este tipo de limpieza cambio el tipo de dato \"object\" a \"string\" de la variable \"Precio\"."
      ],
      "metadata": {
        "id": "isbkqEA5gEkD"
      }
    },
    {
      "cell_type": "code",
      "source": [
        "dataframe[\"Clasificación\"] = dataframe[\"Clasificación\"].astype(\"string\")"
      ],
      "metadata": {
        "id": "KzhRZxPgb-Dx"
      },
      "execution_count": null,
      "outputs": []
    },
    {
      "cell_type": "markdown",
      "source": [
        "Con este tipo de limpieza cambio el tipo de dato \"object\" a \"string\" de la variable \"Clasificación\"."
      ],
      "metadata": {
        "id": "0oYMZcEJgHIt"
      }
    },
    {
      "cell_type": "code",
      "source": [
        "def categoria_num(row) -> int:\n",
        "  if row[\"Categoría\"] in w:\n",
        "    return (w.index(row[\"Categoría\"]) + 1)\n",
        "\n",
        "w: list = list(dataframe[\"Categoría\"].unique())\n",
        "\n",
        "dataframe[\"Categoría (int)\"] = dataframe.apply(categoria_num, axis = 1)\n",
        "dataframe[\"Categoría (int)\"] = dataframe[\"Categoría (int)\"].astype(int)"
      ],
      "metadata": {
        "id": "p2wIMaT_Wo5Z"
      },
      "execution_count": null,
      "outputs": []
    },
    {
      "cell_type": "markdown",
      "source": [
        "Este tipo de limpieza agrega un número a la categoría y lo pone en una nueva columna."
      ],
      "metadata": {
        "id": "s3uaM7fCliTM"
      }
    },
    {
      "cell_type": "code",
      "source": [
        "def replace_dot_by_comma(row) -> int:\n",
        "  if pd.isnull(row[\"Valoración\"]):\n",
        "    return np.nan\n",
        "  else:\n",
        "    return row[\"Valoración\"].replace(\",\", \".\")\n",
        "\n",
        "dataframe[\"Valoración (float type)\"] = dataframe.apply(replace_dot_by_comma, axis = 1)\n",
        "dataframe[\"Valoración (float type)\"] = dataframe[\"Valoración (float type)\"].astype(float)"
      ],
      "metadata": {
        "id": "fN8amFDEp8_M"
      },
      "execution_count": null,
      "outputs": []
    },
    {
      "cell_type": "markdown",
      "source": [
        "Con este tipo de limpieza reemplazamos la separación de decimales de coma a punto, guardando estos datos en una nueva columna llamada \"Valoración (float type), aunque mantiene los valores nulos."
      ],
      "metadata": {
        "id": "OaoTqk9IiAuF"
      }
    },
    {
      "cell_type": "code",
      "source": [
        "def remove_null_valoracion(row) -> float:\n",
        "    '''\n",
        "    function to check if the \"age\" is null and replace wth the mean from \n",
        "    the mean \"age\" dataframe\n",
        "    '''\n",
        "    if pd.isnull(row['Valoración (float type)']):\n",
        "        return mean_valoracion[row['Categoría']]\n",
        "    else:\n",
        "        return row['Valoración (float type)']\n",
        "\n",
        "mean_valoracion: float = dataframe.groupby([\"Categoría\"])[\"Valoración (float type)\"].mean().astype(float)\n",
        "\n",
        "dataframe[\"Valoración (float type)\"] = dataframe.apply(remove_null_valoracion, axis = 1)"
      ],
      "metadata": {
        "id": "Lld_2eQtwu8x"
      },
      "execution_count": null,
      "outputs": []
    },
    {
      "cell_type": "markdown",
      "source": [
        "Con esta limpieza reemplazamos los valores nulos por el promedio."
      ],
      "metadata": {
        "id": "PgVGGuALifHp"
      }
    },
    {
      "cell_type": "code",
      "source": [
        "dataframe[\"Tamaño(M) (float type)\"] = [x.replace(\",\", \".\") for x in dataframe[\"Tamaño(M)\"]]\n",
        "dataframe[\"Tamaño(M) (float type)\"] = dataframe[\"Tamaño(M) (float type)\"].astype(float)"
      ],
      "metadata": {
        "id": "RX2hJ97VZKO2"
      },
      "execution_count": null,
      "outputs": []
    },
    {
      "cell_type": "markdown",
      "source": [
        "Con esta limpieza se reemplaza los separadores de decimales (se reemplazan las comas por puntos) y esta modificación se guarda en una nueva columna llamada \"Tamaño(M) (float type)\"."
      ],
      "metadata": {
        "id": "iayQ2Tltiszx"
      }
    },
    {
      "cell_type": "code",
      "source": [
        "dataframe[\"Tamaño(M) (int type)\"] = dataframe[\"Tamaño(M) (float type)\"].round().astype(int)"
      ],
      "metadata": {
        "id": "0SZTOva9mK82"
      },
      "execution_count": null,
      "outputs": []
    },
    {
      "cell_type": "markdown",
      "source": [
        "Acá creo una columna del tamaño, a diferencia del otro tamaño, es que en esta columna redondea los valores hasta dejar sin decimales."
      ],
      "metadata": {
        "id": "QoTezw65SNRh"
      }
    },
    {
      "cell_type": "code",
      "source": [
        "def dejar_solo_cifras(txt) -> int:\n",
        "  return str(\"\").join(c for c in txt if c.isdigit())\n",
        "\n",
        "dataframe[\"Cantidad descargas\"] = dataframe[\"Descargas\"].map(dejar_solo_cifras)\n",
        "dataframe[\"Cantidad descargas\"] = [x.replace(\",\", \"\") for x in dataframe[\"Cantidad descargas\"]]\n",
        "dataframe[\"Cantidad descargas\"] = dataframe[\"Cantidad descargas\"].astype(int)"
      ],
      "metadata": {
        "id": "s7wSUslQp9kz"
      },
      "execution_count": null,
      "outputs": []
    },
    {
      "cell_type": "markdown",
      "source": [
        "Con este tipo de limpieza, se elimina los caracteres que tiene la columna, dejando únicamente los números, y, además, se elimina el separador de miles de la columna \"Descargas\" y los cambios realizados se guardan en una nueva columna nombrada \"Cantidad descargas\" y, además, se cambia el formato de esta nueva columna de \"string\" a \"int\"."
      ],
      "metadata": {
        "id": "hrwQwcwigjiH"
      }
    },
    {
      "cell_type": "code",
      "source": [
        "def tipo_num(row) -> int:\n",
        "  if row[\"Tipo\"] in w:\n",
        "    return w.index(row[\"Tipo\"])\n",
        "\n",
        "w: list = list(dataframe[\"Tipo\"].unique())\n",
        "\n",
        "dataframe[\"Tipo (int)\"] = dataframe.apply(tipo_num, axis = 1)\n",
        "dataframe[\"Tipo (int)\"] = dataframe[\"Tipo (int)\"].astype(int)\n",
        "dataframe[\"Tipo\"]"
      ],
      "metadata": {
        "colab": {
          "base_uri": "https://localhost:8080/"
        },
        "id": "PYobj1TEpSSg",
        "outputId": "436b04a2-a0ae-4a13-9cb3-83cf2de9bdc7"
      },
      "execution_count": null,
      "outputs": [
        {
          "output_type": "execute_result",
          "data": {
            "text/plain": [
              "0       Gratis\n",
              "1       Gratis\n",
              "2       Gratis\n",
              "3       Gratis\n",
              "4       Gratis\n",
              "         ...  \n",
              "9136    Gratis\n",
              "9137    Gratis\n",
              "9138    Gratis\n",
              "9139    Gratis\n",
              "9140    Gratis\n",
              "Name: Tipo, Length: 9141, dtype: string"
            ]
          },
          "metadata": {},
          "execution_count": 34
        }
      ]
    },
    {
      "cell_type": "code",
      "source": [
        "dataframe[\"Precio (float type)\"] = [x.replace(\",\", \".\") for x in dataframe[\"Precio\"]]\n",
        "dataframe[\"Precio (float type)\"] = dataframe[\"Precio (float type)\"].astype(float)"
      ],
      "metadata": {
        "id": "3F1qJcz4trf7"
      },
      "execution_count": null,
      "outputs": []
    },
    {
      "cell_type": "markdown",
      "source": [
        "Con este tipo de limpieza, se reemplaza el separador de decimales (de una coma a un punto) de la columna \"Precio\" y los cambios realizados se guardan en una nueva columna nombrada \"Precio (float type)\" y, además, se cambia el formato de esta nueva columna de \"string\" a \"float\"."
      ],
      "metadata": {
        "id": "hoD0ulGvhllX"
      }
    },
    {
      "cell_type": "code",
      "source": [
        "def clasificacion_num(row) -> int:\n",
        "  if row[\"Clasificación\"] == str(\"Todo público\"):\n",
        "    return int(0)\n",
        "  elif row[\"Clasificación\"] == str(\"Adolescentes\"):\n",
        "    return int(12)\n",
        "  elif row[\"Clasificación\"] == str(\"Mayores de 17 años\"):\n",
        "    return int(17)\n",
        "  elif row[\"Clasificación\"] == str(\"Mayores de 10 años\"):\n",
        "    return int(10)\n",
        "  elif row[\"Clasificación\"] == str(\"Sólo adultos\"):\n",
        "    return int(18)\n",
        "  else:\n",
        "    return int(-1)\n",
        "\n",
        "dataframe[\"Clasificación edad\"] = dataframe.apply(clasificacion_num, axis = 1)\n",
        "dataframe[\"Clasificación edad\"] = dataframe[\"Clasificación edad\"].astype(int)"
      ],
      "metadata": {
        "id": "BZ3yaIipWPOH"
      },
      "execution_count": null,
      "outputs": []
    },
    {
      "cell_type": "markdown",
      "source": [
        "Se crea una nueva columna llamada \"Clasificación edad\" para guardar numéricamente los datos de la columna \"Clasificación\".\n",
        "\n",
        "1. Si la clasificación es \"Todo público\" se pone un 0 en \"Clasificación edad\".\n",
        "2. Si la clasificación es \"Adolescentes\" se pone un 12 en \"Clasificación edad\".\n",
        "3. Si la clasificación es \"Mayores de 17 años\" se pone un 17 en \"Clasificación edad\".\n",
        "4. Si la clasificación es \"Mayores de 10 años\" se pone un 10 en \"Clasificación edad\".\n",
        "5. Si la clasificación es \"Sólo adultos\" se pone un 18 en \"Clasificación edad\".\n",
        "6. En cualquier otro caso se pone un -1 en \"Clasificación edad\".\n",
        "\n",
        "En el caso de \"Adolescentes\" se consideró la información del Ministerio de Salud de Colombia (https://www.minsalud.gov.co/proteccionsocial/Paginas/cicloVida.aspx)"
      ],
      "metadata": {
        "id": "qK4eCLXOjpDJ"
      }
    },
    {
      "cell_type": "code",
      "source": [
        "dataframe.info()"
      ],
      "metadata": {
        "colab": {
          "base_uri": "https://localhost:8080/"
        },
        "id": "QL7jdagSaxxY",
        "outputId": "0abd355d-457c-41ec-b14c-e72ee33a1174"
      },
      "execution_count": null,
      "outputs": [
        {
          "output_type": "stream",
          "name": "stdout",
          "text": [
            "<class 'pandas.core.frame.DataFrame'>\n",
            "RangeIndex: 9141 entries, 0 to 9140\n",
            "Data columns (total 17 columns):\n",
            " #   Column                   Non-Null Count  Dtype  \n",
            "---  ------                   --------------  -----  \n",
            " 0   App                      9141 non-null   string \n",
            " 1   Categoría                9141 non-null   string \n",
            " 2   Valoración               7725 non-null   string \n",
            " 3   Comentarios              9141 non-null   int64  \n",
            " 4   Tamaño(M)                9141 non-null   string \n",
            " 5   Descargas                9141 non-null   string \n",
            " 6   Tipo                     9141 non-null   string \n",
            " 7   Precio                   9141 non-null   string \n",
            " 8   Clasificación            9141 non-null   string \n",
            " 9   Categoría (int)          9141 non-null   int64  \n",
            " 10  Valoración (float type)  9141 non-null   float64\n",
            " 11  Tamaño(M) (float type)   9141 non-null   float64\n",
            " 12  Tamaño(M) (int type)     9141 non-null   int64  \n",
            " 13  Cantidad descargas       9141 non-null   int64  \n",
            " 14  Tipo (int)               9141 non-null   int64  \n",
            " 15  Precio (float type)      9141 non-null   float64\n",
            " 16  Clasificación edad       9141 non-null   int64  \n",
            "dtypes: float64(3), int64(6), string(8)\n",
            "memory usage: 1.2 MB\n"
          ]
        }
      ]
    },
    {
      "cell_type": "markdown",
      "source": [
        "## Correlaciones"
      ],
      "metadata": {
        "id": "ZrPfq7I7BQJ_"
      }
    },
    {
      "cell_type": "code",
      "source": [
        "# Correlación de los datos\n",
        "data = dataframe.corr()\n",
        "\n",
        "sns.heatmap(data = data,\n",
        "            annot = bool(True),\n",
        "            cmap = str(\"RdYlGn\"),\n",
        "            square = bool(True),\n",
        "            linewidths = float(0.5))\n",
        "\n",
        "plt.gcf().set_size_inches(int(15), int(10))"
      ],
      "metadata": {
        "colab": {
          "base_uri": "https://localhost:8080/",
          "height": 699
        },
        "id": "CwccggPqZZWy",
        "outputId": "36b8a37b-9a59-4195-d2fb-4bcc764f5a51"
      },
      "execution_count": null,
      "outputs": [
        {
          "output_type": "display_data",
          "data": {
            "text/plain": [
              "<Figure size 1080x720 with 2 Axes>"
            ],
            "image/png": "[encoded data removed]"
          },
          "metadata": {
            "needs_background": "light"
          }
        }
      ]
    },
    {
      "cell_type": "code",
      "source": [
        "dataframe.info()"
      ],
      "metadata": {
        "colab": {
          "base_uri": "https://localhost:8080/"
        },
        "id": "NKgiTwbkBkXw",
        "outputId": "9a0629dc-b73d-4fec-e1d0-fcad616912e4"
      },
      "execution_count": null,
      "outputs": [
        {
          "output_type": "stream",
          "name": "stdout",
          "text": [
            "<class 'pandas.core.frame.DataFrame'>\n",
            "RangeIndex: 9141 entries, 0 to 9140\n",
            "Data columns (total 17 columns):\n",
            " #   Column                   Non-Null Count  Dtype  \n",
            "---  ------                   --------------  -----  \n",
            " 0   App                      9141 non-null   string \n",
            " 1   Categoría                9141 non-null   string \n",
            " 2   Valoración               7725 non-null   string \n",
            " 3   Comentarios              9141 non-null   int64  \n",
            " 4   Tamaño(M)                9141 non-null   string \n",
            " 5   Descargas                9141 non-null   string \n",
            " 6   Tipo                     9141 non-null   string \n",
            " 7   Precio                   9141 non-null   string \n",
            " 8   Clasificación            9141 non-null   string \n",
            " 9   Categoría (int)          9141 non-null   int64  \n",
            " 10  Valoración (float type)  9141 non-null   float64\n",
            " 11  Tamaño(M) (float type)   9141 non-null   float64\n",
            " 12  Tamaño(M) (int type)     9141 non-null   int64  \n",
            " 13  Cantidad descargas       9141 non-null   int64  \n",
            " 14  Tipo (int)               9141 non-null   int64  \n",
            " 15  Precio (float type)      9141 non-null   float64\n",
            " 16  Clasificación edad       9141 non-null   int64  \n",
            "dtypes: float64(3), int64(6), string(8)\n",
            "memory usage: 1.2 MB\n"
          ]
        }
      ]
    },
    {
      "cell_type": "code",
      "source": [
        "# Variables\n",
        "x: pd.DataFrame = dataframe[\"Clasificación\"]\n",
        "data: pd.DataFrame = dataframe.groupby(by = \"Cantidad descargas\").count()\n",
        "hue: str = dataframe[\"Tipo\"]\n",
        "\n",
        "\n",
        "\n",
        "ax = sns.countplot(x = x,\n",
        "                   data = data,\n",
        "                   hue = hue)\n",
        "\n",
        "plt.gcf().set_size_inches(15, 10)"
      ],
      "metadata": {
        "colab": {
          "base_uri": "https://localhost:8080/",
          "height": 606
        },
        "id": "iufWMOzuBUmJ",
        "outputId": "0d7ec8cf-c00c-453c-88a6-0cfd5cf984d6"
      },
      "execution_count": null,
      "outputs": [
        {
          "output_type": "display_data",
          "data": {
            "text/plain": [
              "<Figure size 1080x720 with 1 Axes>"
            ],
            "image/png": "[encoded data removed]"
          },
          "metadata": {
            "needs_background": "light"
          }
        }
      ]
    },
    {
      "cell_type": "code",
      "source": [
        "# Variables\n",
        "x: pd.DataFrame = dataframe[\"Categoría\"]\n",
        "data: pd.DataFrame = dataframe.groupby(by = \"Cantidad descargas\").count()\n",
        "hue: str = dataframe[\"Tipo\"]\n",
        "\n",
        "\n",
        "\n",
        "ax = sns.countplot(x = x,\n",
        "                   data = data,\n",
        "                   hue = hue)\n",
        "\n",
        "plt.gcf().set_size_inches(70, 40)"
      ],
      "metadata": {
        "colab": {
          "base_uri": "https://localhost:8080/",
          "height": 743
        },
        "id": "ANCFve6XJQkJ",
        "outputId": "c4e6be53-c7b1-44f6-91bd-dc7d10839b69"
      },
      "execution_count": null,
      "outputs": [
        {
          "output_type": "display_data",
          "data": {
            "text/plain": [
              "<Figure size 5040x2880 with 1 Axes>"
            ],
            "image/png": "[encoded data removed]"
          },
          "metadata": {
            "needs_background": "light"
          }
        }
      ]
    },
    {
      "cell_type": "markdown",
      "metadata": {
        "id": "qLqx2TAo5PDe"
      },
      "source": [
        "## Escribir una pequeña reseña de los resultados analizados y las correlaciones que  usaría para implementar un modelo de Machine Learning."
      ]
    },
    {
      "cell_type": "markdown",
      "source": [
        "Se observa que las aplicaciones para \"Todo público\" y que son \"gratis\" son los más instalados, por otro lado, las aplicaciones para \"Sólo adultos\" y \"Sin clasificación\" son los menos instalados.\n",
        "\n",
        "En la parte de categoría, las aplicaciones \"Familia\" y que son \"gratis\" son los más instalados."
      ],
      "metadata": {
        "id": "W6hLpuuYJt22"
      }
    },
    {
      "cell_type": "markdown",
      "source": [
        "# Modelo 1"
      ],
      "metadata": {
        "id": "fTr-Dim1dZvT"
      }
    },
    {
      "cell_type": "markdown",
      "source": [
        "## Implemente sus modelos desde aquí"
      ],
      "metadata": {
        "id": "TwsfSaqWyW-H"
      }
    },
    {
      "cell_type": "code",
      "source": [
        "dataframe.info()"
      ],
      "metadata": {
        "id": "jn-rkVkgng5k",
        "colab": {
          "base_uri": "https://localhost:8080/"
        },
        "outputId": "fcab8142-5ad8-4f04-ece0-5a4794676e90"
      },
      "execution_count": null,
      "outputs": [
        {
          "output_type": "stream",
          "name": "stdout",
          "text": [
            "<class 'pandas.core.frame.DataFrame'>\n",
            "RangeIndex: 9141 entries, 0 to 9140\n",
            "Data columns (total 17 columns):\n",
            " #   Column                   Non-Null Count  Dtype  \n",
            "---  ------                   --------------  -----  \n",
            " 0   App                      9141 non-null   string \n",
            " 1   Categoría                9141 non-null   string \n",
            " 2   Valoración               7725 non-null   string \n",
            " 3   Comentarios              9141 non-null   int64  \n",
            " 4   Tamaño(M)                9141 non-null   string \n",
            " 5   Descargas                9141 non-null   string \n",
            " 6   Tipo                     9141 non-null   string \n",
            " 7   Precio                   9141 non-null   string \n",
            " 8   Clasificación            9141 non-null   string \n",
            " 9   Categoría (int)          9141 non-null   int64  \n",
            " 10  Valoración (float type)  9141 non-null   float64\n",
            " 11  Tamaño(M) (float type)   9141 non-null   float64\n",
            " 12  Tamaño(M) (int type)     9141 non-null   int64  \n",
            " 13  Cantidad descargas       9141 non-null   int64  \n",
            " 14  Tipo (int)               9141 non-null   int64  \n",
            " 15  Precio (float type)      9141 non-null   float64\n",
            " 16  Clasificación edad       9141 non-null   int64  \n",
            "dtypes: float64(3), int64(6), string(8)\n",
            "memory usage: 1.2 MB\n"
          ]
        }
      ]
    },
    {
      "cell_type": "code",
      "source": [
        "caracteristicas: list = [\n",
        "    \"Cantidad descargas\"\n",
        "]\n",
        "\n",
        "data = dataframe[caracteristicas][1:] # X\n",
        "clase = dataframe[\"Clasificación edad\"][1:] # Y\n",
        "\n",
        "print(data, clase)"
      ],
      "metadata": {
        "colab": {
          "base_uri": "https://localhost:8080/"
        },
        "id": "6lvYhZCWpYTN",
        "outputId": "db81df19-e31e-4745-98f4-5bc1ceb67191"
      },
      "execution_count": null,
      "outputs": [
        {
          "output_type": "stream",
          "name": "stdout",
          "text": [
            "      Cantidad descargas\n",
            "1                  10000\n",
            "2                1000000\n",
            "3                5000000\n",
            "4                1000000\n",
            "5                  50000\n",
            "...                  ...\n",
            "9136               10000\n",
            "9137                1000\n",
            "9138            10000000\n",
            "9139             5000000\n",
            "9140            10000000\n",
            "\n",
            "[9140 rows x 1 columns] 1       12\n",
            "2        0\n",
            "3        0\n",
            "4        0\n",
            "5        0\n",
            "        ..\n",
            "9136     0\n",
            "9137     0\n",
            "9138     0\n",
            "9139     0\n",
            "9140     0\n",
            "Name: Clasificación edad, Length: 9140, dtype: int64\n"
          ]
        }
      ]
    },
    {
      "cell_type": "code",
      "source": [
        "rKFold = RepeatedKFold(\n",
        "    n_splits = int(75),\n",
        "    n_repeats = int(15),\n",
        "    random_state = int(7) # Asegura que se obtenga las mismas muestras cada vez que se genera el conjunto de datos\n",
        ")\n",
        "n_iteraciones: int = int(0)\n",
        "\n",
        "for p_entrenamiento, p_prueba in rKFold.split(data,clase):\n",
        "  datos_entrenamiento, datos_prueba = data.iloc[p_entrenamiento], data.iloc[p_prueba]\n",
        "  clasi_entrenamiento, clasi_prueba = clase.iloc[p_entrenamiento], clase.iloc[p_prueba]\n",
        "  n_iteraciones += int(1)\n",
        "\n",
        "print(\"El uso de datos para entrenamiento es {}, : {}\".format(\n",
        "    datos_entrenamiento.shape,\n",
        "    clasi_entrenamiento.shape\n",
        "))\n",
        "print(\"El uso de datos para prueba es {}, : {}\".format(\n",
        "    datos_prueba.shape,\n",
        "    clasi_prueba.shape\n",
        "))\n",
        "print(\"# iteraciones:\", n_iteraciones)"
      ],
      "metadata": {
        "colab": {
          "base_uri": "https://localhost:8080/"
        },
        "id": "Io_8uZtIqQRj",
        "outputId": "f2dfd5b4-bf05-4de1-ccc5-647d20d6b995"
      },
      "execution_count": null,
      "outputs": [
        {
          "output_type": "stream",
          "name": "stdout",
          "text": [
            "El uso de datos para entrenamiento es (9019, 1), : (9019,)\n",
            "El uso de datos para prueba es (121, 1), : (121,)\n",
            "# iteraciones: 1125\n"
          ]
        }
      ]
    },
    {
      "cell_type": "code",
      "source": [
        "# Modelos de ML\n",
        "# KNeighborsClassifier\n",
        "# LogisticRegression\n",
        "# SVC\n",
        "# GaussianNB\n",
        "# LinearDiscriminantAnalysis\n",
        "# DecisionTreeClassifier\n",
        "modelos: list = []\n",
        "modelos.append((\"KNC\",  KNeighborsClassifier()))\n",
        "modelos.append((\"LR\",   LogisticRegression()))\n",
        "modelos.append((\"SVC\",  SVC(gamma = \"auto\")))\n",
        "modelos.append((\"GNV\",  GaussianNB()))\n",
        "modelos.append((\"LDA\",  LinearDiscriminantAnalysis()))\n",
        "modelos.append((\"DTC\",  DecisionTreeClassifier()))\n",
        "\n",
        "for nombre, modelo in modelos:\n",
        "  modelo.fit(datos_entrenamiento, clasi_entrenamiento)\n",
        "  resultado: float = modelo.score(datos_prueba, clasi_prueba)\n",
        "  print(\"El modelo {modelo}, tiene una presición de {presi:.3f}%\".format(\n",
        "      modelo = str(nombre),\n",
        "      presi = float(resultado * 100)\n",
        "  ))"
      ],
      "metadata": {
        "colab": {
          "base_uri": "https://localhost:8080/"
        },
        "id": "qV4OvVVvqVr8",
        "outputId": "f6c98da2-6df9-4154-c882-b08e28e04ea2"
      },
      "execution_count": null,
      "outputs": [
        {
          "output_type": "stream",
          "name": "stdout",
          "text": [
            "El modelo KNC, tiene una presición de 85.950%\n",
            "El modelo LR, tiene una presición de 86.777%\n",
            "El modelo SVC, tiene una presición de 86.777%\n",
            "El modelo GNV, tiene una presición de 85.950%\n",
            "El modelo LDA, tiene una presición de 86.777%\n",
            "El modelo DTC, tiene una presición de 86.777%\n"
          ]
        }
      ]
    },
    {
      "cell_type": "code",
      "source": [
        "modelos"
      ],
      "metadata": {
        "colab": {
          "base_uri": "https://localhost:8080/"
        },
        "id": "xfj9CuMpBEVM",
        "outputId": "4d4659d6-eb1d-4938-8210-2858604f5926"
      },
      "execution_count": null,
      "outputs": [
        {
          "output_type": "execute_result",
          "data": {
            "text/plain": [
              "[('KNC', KNeighborsClassifier()),\n",
              " ('LR', LogisticRegression()),\n",
              " ('SVC', SVC(gamma='auto')),\n",
              " ('GNV', GaussianNB()),\n",
              " ('LDA', LinearDiscriminantAnalysis()),\n",
              " ('DTC', DecisionTreeClassifier())]"
            ]
          },
          "metadata": {},
          "execution_count": 46
        }
      ]
    },
    {
      "cell_type": "code",
      "source": [
        "modelo_final: list = modelos[1][1] # Obtener el modelo de la posición 1 y su modelo como tal\n",
        "predict = modelo_final.predict(datos_prueba)\n",
        "print(predict, \"\\n\", clasi_prueba)"
      ],
      "metadata": {
        "colab": {
          "base_uri": "https://localhost:8080/"
        },
        "id": "MSCGiIOSBHYY",
        "outputId": "fba0e10b-01b1-43a8-9ac4-d34818d53881"
      },
      "execution_count": null,
      "outputs": [
        {
          "output_type": "stream",
          "name": "stdout",
          "text": [
            "[0 0 0 0 0 0 0 0 0 0 0 0 0 0 0 0 0 0 0 0 0 0 0 0 0 0 0 0 0 0 0 0 0 0 0 0 0\n",
            " 0 0 0 0 0 0 0 0 0 0 0 0 0 0 0 0 0 0 0 0 0 0 0 0 0 0 0 0 0 0 0 0 0 0 0 0 0\n",
            " 0 0 0 0 0 0 0 0 0 0 0 0 0 0 0 0 0 0 0 0 0 0 0 0 0 0 0 0 0 0 0 0 0 0 0 0 0\n",
            " 0 0 0 0 0 0 0 0 0 0] \n",
            " 139      0\n",
            "176      0\n",
            "183      0\n",
            "322      0\n",
            "328     12\n",
            "        ..\n",
            "8617     0\n",
            "8632     0\n",
            "8909     0\n",
            "8918     0\n",
            "9061     0\n",
            "Name: Clasificación edad, Length: 121, dtype: int64\n"
          ]
        }
      ]
    },
    {
      "cell_type": "code",
      "source": [
        "modelo_final.feature_names_in_"
      ],
      "metadata": {
        "colab": {
          "base_uri": "https://localhost:8080/"
        },
        "id": "X4M45h6eBRA6",
        "outputId": "c96b0792-fe1b-409a-d515-f16e446ac433"
      },
      "execution_count": null,
      "outputs": [
        {
          "output_type": "execute_result",
          "data": {
            "text/plain": [
              "array(['Cantidad descargas'], dtype=object)"
            ]
          },
          "metadata": {},
          "execution_count": 48
        }
      ]
    },
    {
      "cell_type": "code",
      "source": [
        "modelo_final"
      ],
      "metadata": {
        "colab": {
          "base_uri": "https://localhost:8080/"
        },
        "id": "KD0gcYPyBUG_",
        "outputId": "81da2d5f-e8e2-497d-b85e-1e1ad2e44850"
      },
      "execution_count": null,
      "outputs": [
        {
          "output_type": "execute_result",
          "data": {
            "text/plain": [
              "LogisticRegression()"
            ]
          },
          "metadata": {},
          "execution_count": 49
        }
      ]
    },
    {
      "cell_type": "markdown",
      "source": [
        "## Evalúe sus modelos"
      ],
      "metadata": {
        "id": "ttXq0Y58yvtQ"
      }
    },
    {
      "cell_type": "code",
      "source": [
        "cantidad_descargas: list = [\n",
        "    int(100000000),\n",
        "    int(10000000),\n",
        "    int(1000000),\n",
        "    int(100000),\n",
        "    int(10000),\n",
        "    int(1000),\n",
        "    int(100),\n",
        "    int(10),\n",
        "    int(1)\n",
        "]\n",
        "iterador: int = int(0)\n",
        "\n",
        "for i in cantidad_descargas:\n",
        "  data_p: pd.DataFrame = pd.DataFrame(np.array([\n",
        "      i\n",
        "      ]).reshape(1, -1),\n",
        "      columns = caracteristicas)\n",
        "  \n",
        "  print(\n",
        "      \"{i}° predicción: {modelo}\".format(\n",
        "          i = int(iterador + 1),\n",
        "          modelo = modelo_final.predict(data_p)\n",
        "      )\n",
        "    )\n",
        "  \n",
        "  print(\"\")\n",
        "\n",
        "  iterador += int(1)"
      ],
      "metadata": {
        "colab": {
          "base_uri": "https://localhost:8080/"
        },
        "id": "oHmR6pgrDfU9",
        "outputId": "09d22341-f710-4d8f-8dc4-fad7994f2f30"
      },
      "execution_count": null,
      "outputs": [
        {
          "output_type": "stream",
          "name": "stdout",
          "text": [
            "1° predicción: [0]\n",
            "\n",
            "2° predicción: [0]\n",
            "\n",
            "3° predicción: [0]\n",
            "\n",
            "4° predicción: [0]\n",
            "\n",
            "5° predicción: [0]\n",
            "\n",
            "6° predicción: [0]\n",
            "\n",
            "7° predicción: [0]\n",
            "\n",
            "8° predicción: [0]\n",
            "\n",
            "9° predicción: [0]\n",
            "\n"
          ]
        }
      ]
    },
    {
      "cell_type": "markdown",
      "source": [
        "## Accuracy"
      ],
      "metadata": {
        "id": "aMHLDduM173l"
      }
    },
    {
      "cell_type": "code",
      "source": [
        "caracteristicas = dataframe[caracteristicas].astype(np.float64)\n",
        "label = dataframe['Clasificación edad']\n",
        "print(caracteristicas)\n",
        "print(label)"
      ],
      "metadata": {
        "colab": {
          "base_uri": "https://localhost:8080/"
        },
        "id": "4nfE6Oxg1-Zb",
        "outputId": "7c79aa43-6ef6-401c-87d4-197a1daf72b3"
      },
      "execution_count": null,
      "outputs": [
        {
          "output_type": "stream",
          "name": "stdout",
          "text": [
            "      Cantidad descargas\n",
            "0                 5000.0\n",
            "1                10000.0\n",
            "2              1000000.0\n",
            "3              5000000.0\n",
            "4              1000000.0\n",
            "...                  ...\n",
            "9136             10000.0\n",
            "9137              1000.0\n",
            "9138          10000000.0\n",
            "9139           5000000.0\n",
            "9140          10000000.0\n",
            "\n",
            "[9141 rows x 1 columns]\n",
            "0        0\n",
            "1       12\n",
            "2        0\n",
            "3        0\n",
            "4        0\n",
            "        ..\n",
            "9136     0\n",
            "9137     0\n",
            "9138     0\n",
            "9139     0\n",
            "9140     0\n",
            "Name: Clasificación edad, Length: 9141, dtype: int64\n"
          ]
        }
      ]
    },
    {
      "cell_type": "code",
      "source": [
        "datos_entre, datos_prueba, eti_entre, eti_prueba = train_test_split(\n",
        "    caracteristicas,\n",
        "    label,\n",
        "    test_size = 0.25,\n",
        "    random_state = 2\n",
        ")\n",
        "print('Los datos para entrenamiento son:',datos_entre.shape)\n",
        "print('Los datos para prueba son:',datos_prueba.shape)\n",
        "print('Los eti para entrenamiento son:',eti_entre.shape)\n",
        "print('Los eti para prueba son:',eti_prueba.shape)"
      ],
      "metadata": {
        "colab": {
          "base_uri": "https://localhost:8080/"
        },
        "id": "r2QrSrq52BKM",
        "outputId": "281125ab-7bde-41fb-8204-f56c98238784"
      },
      "execution_count": null,
      "outputs": [
        {
          "output_type": "stream",
          "name": "stdout",
          "text": [
            "Los datos para entrenamiento son: (6855, 1)\n",
            "Los datos para prueba son: (2286, 1)\n",
            "Los eti para entrenamiento son: (6855,)\n",
            "Los eti para prueba son: (2286,)\n"
          ]
        }
      ]
    },
    {
      "cell_type": "code",
      "source": [
        "print(datos_entre)\n",
        "print(eti_entre)\n",
        "datos_entre.join(eti_entre)"
      ],
      "metadata": {
        "colab": {
          "base_uri": "https://localhost:8080/",
          "height": 884
        },
        "id": "KulWPF1B2Ftg",
        "outputId": "5ff8c6ef-ce57-4183-d3eb-05e998518227"
      },
      "execution_count": null,
      "outputs": [
        {
          "output_type": "stream",
          "name": "stdout",
          "text": [
            "      Cantidad descargas\n",
            "5546            100000.0\n",
            "6288              1000.0\n",
            "191            5000000.0\n",
            "8751            100000.0\n",
            "8391          10000000.0\n",
            "...                  ...\n",
            "1099            500000.0\n",
            "2514           1000000.0\n",
            "6637              1000.0\n",
            "2575              1000.0\n",
            "7336           5000000.0\n",
            "\n",
            "[6855 rows x 1 columns]\n",
            "5546    10\n",
            "6288     0\n",
            "191      0\n",
            "8751     0\n",
            "8391     0\n",
            "        ..\n",
            "1099     0\n",
            "2514    12\n",
            "6637     0\n",
            "2575     0\n",
            "7336     0\n",
            "Name: Clasificación edad, Length: 6855, dtype: int64\n"
          ]
        },
        {
          "output_type": "execute_result",
          "data": {
            "text/plain": [
              "      Cantidad descargas  Clasificación edad\n",
              "5546            100000.0                  10\n",
              "6288              1000.0                   0\n",
              "191            5000000.0                   0\n",
              "8751            100000.0                   0\n",
              "8391          10000000.0                   0\n",
              "...                  ...                 ...\n",
              "1099            500000.0                   0\n",
              "2514           1000000.0                  12\n",
              "6637              1000.0                   0\n",
              "2575              1000.0                   0\n",
              "7336           5000000.0                   0\n",
              "\n",
              "[6855 rows x 2 columns]"
            ],
            "text/html": [
              "\n",
              "  <div id=\"df-d78f8a25-2e80-4f62-b7fa-3f2eaf33a142\">\n",
              "    <div class=\"colab-df-container\">\n",
              "      <div>\n",
              "<style scoped>\n",
              "    .dataframe tbody tr th:only-of-type {\n",
              "        vertical-align: middle;\n",
              "    }\n",
              "\n",
              "    .dataframe tbody tr th {\n",
              "        vertical-align: top;\n",
              "    }\n",
              "\n",
              "    .dataframe thead th {\n",
              "        text-align: right;\n",
              "    }\n",
              "</style>\n",
              "<table border=\"1\" class=\"dataframe\">\n",
              "  <thead>\n",
              "    <tr style=\"text-align: right;\">\n",
              "      <th></th>\n",
              "      <th>Cantidad descargas</th>\n",
              "      <th>Clasificación edad</th>\n",
              "    </tr>\n",
              "  </thead>\n",
              "  <tbody>\n",
              "    <tr>\n",
              "      <th>5546</th>\n",
              "      <td>100000.0</td>\n",
              "      <td>10</td>\n",
              "    </tr>\n",
              "    <tr>\n",
              "      <th>6288</th>\n",
              "      <td>1000.0</td>\n",
              "      <td>0</td>\n",
              "    </tr>\n",
              "    <tr>\n",
              "      <th>191</th>\n",
              "      <td>5000000.0</td>\n",
              "      <td>0</td>\n",
              "    </tr>\n",
              "    <tr>\n",
              "      <th>8751</th>\n",
              "      <td>100000.0</td>\n",
              "      <td>0</td>\n",
              "    </tr>\n",
              "    <tr>\n",
              "      <th>8391</th>\n",
              "      <td>10000000.0</td>\n",
              "      <td>0</td>\n",
              "    </tr>\n",
              "    <tr>\n",
              "      <th>...</th>\n",
              "      <td>...</td>\n",
              "      <td>...</td>\n",
              "    </tr>\n",
              "    <tr>\n",
              "      <th>1099</th>\n",
              "      <td>500000.0</td>\n",
              "      <td>0</td>\n",
              "    </tr>\n",
              "    <tr>\n",
              "      <th>2514</th>\n",
              "      <td>1000000.0</td>\n",
              "      <td>12</td>\n",
              "    </tr>\n",
              "    <tr>\n",
              "      <th>6637</th>\n",
              "      <td>1000.0</td>\n",
              "      <td>0</td>\n",
              "    </tr>\n",
              "    <tr>\n",
              "      <th>2575</th>\n",
              "      <td>1000.0</td>\n",
              "      <td>0</td>\n",
              "    </tr>\n",
              "    <tr>\n",
              "      <th>7336</th>\n",
              "      <td>5000000.0</td>\n",
              "      <td>0</td>\n",
              "    </tr>\n",
              "  </tbody>\n",
              "</table>\n",
              "<p>6855 rows × 2 columns</p>\n",
              "</div>\n",
              "      <button class=\"colab-df-convert\" onclick=\"convertToInteractive('df-d78f8a25-2e80-4f62-b7fa-3f2eaf33a142')\"\n",
              "              title=\"Convert this dataframe to an interactive table.\"\n",
              "              style=\"display:none;\">\n",
              "        \n",
              "  <svg xmlns=\"http://www.w3.org/2000/svg\" height=\"24px\"viewBox=\"0 0 24 24\"\n",
              "       width=\"24px\">\n",
              "    <path d=\"M0 0h24v24H0V0z\" fill=\"none\"/>\n",
              "    <path d=\"M18.56 5.44l.94 2.06.94-2.06 2.06-.94-2.06-.94-.94-2.06-.94 2.06-2.06.94zm-11 1L8.5 8.5l.94-2.06 2.06-.94-2.06-.94L8.5 2.5l-.94 2.06-2.06.94zm10 10l.94 2.06.94-2.06 2.06-.94-2.06-.94-.94-2.06-.94 2.06-2.06.94z\"/><path d=\"M17.41 7.96l-1.37-1.37c-.4-.4-.92-.59-1.43-.59-.52 0-1.04.2-1.43.59L10.3 9.45l-7.72 7.72c-.78.78-.78 2.05 0 2.83L4 21.41c.39.39.9.59 1.41.59.51 0 1.02-.2 1.41-.59l7.78-7.78 2.81-2.81c.8-.78.8-2.07 0-2.86zM5.41 20L4 18.59l7.72-7.72 1.47 1.35L5.41 20z\"/>\n",
              "  </svg>\n",
              "      </button>\n",
              "      \n",
              "  <style>\n",
              "    .colab-df-container {\n",
              "      display:flex;\n",
              "      flex-wrap:wrap;\n",
              "      gap: 12px;\n",
              "    }\n",
              "\n",
              "    .colab-df-convert {\n",
              "      background-color: #E8F0FE;\n",
              "      border: none;\n",
              "      border-radius: 50%;\n",
              "      cursor: pointer;\n",
              "      display: none;\n",
              "      fill: #1967D2;\n",
              "      height: 32px;\n",
              "      padding: 0 0 0 0;\n",
              "      width: 32px;\n",
              "    }\n",
              "\n",
              "    .colab-df-convert:hover {\n",
              "      background-color: #E2EBFA;\n",
              "      box-shadow: 0px 1px 2px rgba(60, 64, 67, 0.3), 0px 1px 3px 1px rgba(60, 64, 67, 0.15);\n",
              "      fill: #174EA6;\n",
              "    }\n",
              "\n",
              "    [theme=dark] .colab-df-convert {\n",
              "      background-color: #3B4455;\n",
              "      fill: #D2E3FC;\n",
              "    }\n",
              "\n",
              "    [theme=dark] .colab-df-convert:hover {\n",
              "      background-color: #434B5C;\n",
              "      box-shadow: 0px 1px 3px 1px rgba(0, 0, 0, 0.15);\n",
              "      filter: drop-shadow(0px 1px 2px rgba(0, 0, 0, 0.3));\n",
              "      fill: #FFFFFF;\n",
              "    }\n",
              "  </style>\n",
              "\n",
              "      <script>\n",
              "        const buttonEl =\n",
              "          document.querySelector('#df-d78f8a25-2e80-4f62-b7fa-3f2eaf33a142 button.colab-df-convert');\n",
              "        buttonEl.style.display =\n",
              "          google.colab.kernel.accessAllowed ? 'block' : 'none';\n",
              "\n",
              "        async function convertToInteractive(key) {\n",
              "          const element = document.querySelector('#df-d78f8a25-2e80-4f62-b7fa-3f2eaf33a142');\n",
              "          const dataTable =\n",
              "            await google.colab.kernel.invokeFunction('convertToInteractive',\n",
              "                                                     [key], {});\n",
              "          if (!dataTable) return;\n",
              "\n",
              "          const docLinkHtml = 'Like what you see? Visit the ' +\n",
              "            '<a target=\"_blank\" href=https://colab.research.google.com/notebooks/data_table.ipynb>data table notebook</a>'\n",
              "            + ' to learn more about interactive tables.';\n",
              "          element.innerHTML = '';\n",
              "          dataTable['output_type'] = 'display_data';\n",
              "          await google.colab.output.renderOutput(dataTable, element);\n",
              "          const docLink = document.createElement('div');\n",
              "          docLink.innerHTML = docLinkHtml;\n",
              "          element.appendChild(docLink);\n",
              "        }\n",
              "      </script>\n",
              "    </div>\n",
              "  </div>\n",
              "  "
            ]
          },
          "metadata": {},
          "execution_count": 53
        }
      ]
    },
    {
      "cell_type": "code",
      "source": [
        "# DecisionTreeClassifier\n",
        "# KNeighborsClassifier\n",
        "modelos = []\n",
        "modelos.append(('DecisionTreeClassifier', DecisionTreeClassifier()))\n",
        "modelos.append(('KNeighborsClassifier', KNeighborsClassifier()))\n",
        "resultados = []\n",
        "\n",
        "for nombre,modelo in modelos:\n",
        "  modelo.fit(datos_entre,eti_entre)\n",
        "  resultado = modelo.score(datos_prueba, eti_prueba)\n",
        "  resultados.append(float(resultado * 100))\n",
        "  print('El modelo {} tiene como resultado {:.2f}%'.format(\n",
        "      nombre,\n",
        "      float(resultado * 100)\n",
        "  ))"
      ],
      "metadata": {
        "colab": {
          "base_uri": "https://localhost:8080/"
        },
        "id": "jlqdwvQ22IpP",
        "outputId": "c2e39e42-aaba-43a9-89a9-75ac2daa661e"
      },
      "execution_count": null,
      "outputs": [
        {
          "output_type": "stream",
          "name": "stdout",
          "text": [
            "El modelo DecisionTreeClassifier tiene como resultado 81.15%\n",
            "El modelo KNeighborsClassifier tiene como resultado 81.10%\n"
          ]
        }
      ]
    },
    {
      "cell_type": "code",
      "source": [
        "print(eti_entre.value_counts())\n",
        "print(pd.Series(modelos[1][1].predict(datos_entre)).value_counts())"
      ],
      "metadata": {
        "colab": {
          "base_uri": "https://localhost:8080/"
        },
        "id": "O7dDSzj52NDP",
        "outputId": "6b9dff76-e187-4f3a-c8c5-c6fcedfd2070"
      },
      "execution_count": null,
      "outputs": [
        {
          "output_type": "stream",
          "name": "stdout",
          "text": [
            " 0     5561\n",
            " 12     752\n",
            " 17     298\n",
            " 10     240\n",
            "-1        2\n",
            " 18       2\n",
            "Name: Clasificación edad, dtype: int64\n",
            "0     6846\n",
            "12       9\n",
            "dtype: int64\n"
          ]
        }
      ]
    },
    {
      "cell_type": "code",
      "source": [
        "\"\"\"\n",
        "datos_predict = modelos[0][1].predict(datos_entre)\n",
        "confusion = confusion_matrix(eti_entre, datos_predict)\n",
        "print(confusion)\n",
        "# orden de retorno:\n",
        "# verdaderos negativo\n",
        "# falsos positivos\n",
        "# falsos negativos\n",
        "# verdaderos positivos\n",
        "# v1,v2,v3,v4=[1,2,3,4]\n",
        "vn, fp, fn, vp = confusion.ravel()\n",
        "matriz = np.array([[vp, fn], [fp, vn]])\n",
        "print(matriz)\n",
        "plt.figure(\n",
        "    figsize = (12,10)\n",
        ")\n",
        "grafico = plt.subplot()\n",
        "\n",
        "sns.heatmap(matriz, annot = True,\n",
        "            ax = grafico,\n",
        "            fmt = 'g')\n",
        "\n",
        "grafico.xaxis.set_ticklabels(['Positivo',\n",
        "                              'Negativo'])\n",
        "grafico.yaxis.set_ticklabels(['Verdaderos',\n",
        "                              'Falsos'])\n",
        "\n",
        "grafico.set_xlabel('Predicción')\n",
        "grafico.set_ylabel('Actual')\n",
        "\"\"\""
      ],
      "metadata": {
        "colab": {
          "base_uri": "https://localhost:8080/",
          "height": 106
        },
        "id": "5Uud_G6r2Sdb",
        "outputId": "49da863e-b840-46f5-8203-1aadbb96caa6"
      },
      "execution_count": null,
      "outputs": [
        {
          "output_type": "execute_result",
          "data": {
            "text/plain": [
              "\"\\ndatos_predict = modelos[0][1].predict(datos_entre)\\nconfusion = confusion_matrix(eti_entre, datos_predict)\\nprint(confusion)\\n# orden de retorno:\\n# verdaderos negativo\\n# falsos positivos\\n# falsos negativos\\n# verdaderos positivos\\n# v1,v2,v3,v4=[1,2,3,4]\\nvn, fp, fn, vp = confusion.ravel()\\nmatriz = np.array([[vp, fn], [fp, vn]])\\nprint(matriz)\\nplt.figure(\\n    figsize = (12,10)\\n)\\ngrafico = plt.subplot()\\n\\nsns.heatmap(matriz, annot = True,\\n            ax = grafico,\\n            fmt = 'g')\\n\\ngrafico.xaxis.set_ticklabels(['Positivo',\\n                              'Negativo'])\\ngrafico.yaxis.set_ticklabels(['Verdaderos',\\n                              'Falsos'])\\n\\ngrafico.set_xlabel('Predicción')\\ngrafico.set_ylabel('Actual')\\n\""
            ],
            "application/vnd.google.colaboratory.intrinsic+json": {
              "type": "string"
            }
          },
          "metadata": {},
          "execution_count": 56
        }
      ]
    },
    {
      "cell_type": "markdown",
      "source": [
        "# Modelo 2"
      ],
      "metadata": {
        "id": "DMaTWYVJ9KFf"
      }
    },
    {
      "cell_type": "markdown",
      "source": [
        "## Implemente sus modelos desde aquí"
      ],
      "metadata": {
        "id": "n_1b00QcycTY"
      }
    },
    {
      "cell_type": "code",
      "source": [
        "dataframe.info()"
      ],
      "metadata": {
        "colab": {
          "base_uri": "https://localhost:8080/"
        },
        "id": "JknME3yBmXBE",
        "outputId": "ac04d2db-90ad-4af9-d8cd-9c0516924db8"
      },
      "execution_count": null,
      "outputs": [
        {
          "output_type": "stream",
          "name": "stdout",
          "text": [
            "<class 'pandas.core.frame.DataFrame'>\n",
            "RangeIndex: 9141 entries, 0 to 9140\n",
            "Data columns (total 17 columns):\n",
            " #   Column                   Non-Null Count  Dtype  \n",
            "---  ------                   --------------  -----  \n",
            " 0   App                      9141 non-null   string \n",
            " 1   Categoría                9141 non-null   string \n",
            " 2   Valoración               7725 non-null   string \n",
            " 3   Comentarios              9141 non-null   int64  \n",
            " 4   Tamaño(M)                9141 non-null   string \n",
            " 5   Descargas                9141 non-null   string \n",
            " 6   Tipo                     9141 non-null   string \n",
            " 7   Precio                   9141 non-null   string \n",
            " 8   Clasificación            9141 non-null   string \n",
            " 9   Categoría (int)          9141 non-null   int64  \n",
            " 10  Valoración (float type)  9141 non-null   float64\n",
            " 11  Tamaño(M) (float type)   9141 non-null   float64\n",
            " 12  Tamaño(M) (int type)     9141 non-null   int64  \n",
            " 13  Cantidad descargas       9141 non-null   int64  \n",
            " 14  Tipo (int)               9141 non-null   int64  \n",
            " 15  Precio (float type)      9141 non-null   float64\n",
            " 16  Clasificación edad       9141 non-null   int64  \n",
            "dtypes: float64(3), int64(6), string(8)\n",
            "memory usage: 1.2 MB\n"
          ]
        }
      ]
    },
    {
      "cell_type": "code",
      "source": [
        "caracteristicas: list = [\n",
        "    \"Cantidad descargas\"\n",
        "]\n",
        "\n",
        "data = dataframe[caracteristicas][1:] # X\n",
        "clase = dataframe[\"Tipo (int)\"][1:] # Y\n",
        "\n",
        "print(data, clase)"
      ],
      "metadata": {
        "colab": {
          "base_uri": "https://localhost:8080/"
        },
        "id": "2iLGJf-cozqX",
        "outputId": "d420e802-ab26-43b7-bc71-491326d1f969"
      },
      "execution_count": null,
      "outputs": [
        {
          "output_type": "stream",
          "name": "stdout",
          "text": [
            "      Cantidad descargas\n",
            "1                  10000\n",
            "2                1000000\n",
            "3                5000000\n",
            "4                1000000\n",
            "5                  50000\n",
            "...                  ...\n",
            "9136               10000\n",
            "9137                1000\n",
            "9138            10000000\n",
            "9139             5000000\n",
            "9140            10000000\n",
            "\n",
            "[9140 rows x 1 columns] 1       0\n",
            "2       0\n",
            "3       0\n",
            "4       0\n",
            "5       0\n",
            "       ..\n",
            "9136    0\n",
            "9137    0\n",
            "9138    0\n",
            "9139    0\n",
            "9140    0\n",
            "Name: Tipo (int), Length: 9140, dtype: int64\n"
          ]
        }
      ]
    },
    {
      "cell_type": "code",
      "source": [
        "rKFold = RepeatedKFold(\n",
        "    n_splits = int(75),\n",
        "    n_repeats = int(15),\n",
        "    random_state = int(7) # Asegura que se obtenga las mismas muestras cada vez que se genera el conjunto de datos\n",
        ")\n",
        "n_iteraciones: int = int(0)\n",
        "\n",
        "for p_entrenamiento, p_prueba in rKFold.split(data,clase):\n",
        "  datos_entrenamiento, datos_prueba = data.iloc[p_entrenamiento], data.iloc[p_prueba]\n",
        "  clasi_entrenamiento, clasi_prueba = clase.iloc[p_entrenamiento], clase.iloc[p_prueba]\n",
        "  n_iteraciones += int(1)\n",
        "\n",
        "print(\"El uso de datos para entrenamiento es {}, : {}\".format(\n",
        "    datos_entrenamiento.shape,\n",
        "    clasi_entrenamiento.shape\n",
        "))\n",
        "print(\"El uso de datos para prueba es {}, : {}\".format(\n",
        "    datos_prueba.shape,\n",
        "    clasi_prueba.shape\n",
        "))\n",
        "print(\"# iteraciones:\", n_iteraciones)"
      ],
      "metadata": {
        "colab": {
          "base_uri": "https://localhost:8080/"
        },
        "id": "7K6JfWc9p43V",
        "outputId": "af026d8a-cf63-46bc-b100-4da148be4183"
      },
      "execution_count": null,
      "outputs": [
        {
          "output_type": "stream",
          "name": "stdout",
          "text": [
            "El uso de datos para entrenamiento es (9019, 1), : (9019,)\n",
            "El uso de datos para prueba es (121, 1), : (121,)\n",
            "# iteraciones: 1125\n"
          ]
        }
      ]
    },
    {
      "cell_type": "code",
      "source": [
        "# Modelos de ML\n",
        "# KNeighborsClassifier\n",
        "# LogisticRegression\n",
        "# SVC\n",
        "# GaussianNB\n",
        "# LinearDiscriminantAnalysis\n",
        "# DecisionTreeClassifier\n",
        "modelos: list = []\n",
        "modelos.append((\"KNC\",  KNeighborsClassifier()))\n",
        "modelos.append((\"LR\",   LogisticRegression()))\n",
        "modelos.append((\"SVC\",  SVC(gamma = \"auto\")))\n",
        "modelos.append((\"GNV\",  GaussianNB()))\n",
        "modelos.append((\"LDA\",  LinearDiscriminantAnalysis()))\n",
        "modelos.append((\"DTC\",  DecisionTreeClassifier()))\n",
        "\n",
        "for nombre, modelo in modelos:\n",
        "  modelo.fit(datos_entrenamiento, clasi_entrenamiento)\n",
        "  resultado: float = modelo.score(datos_prueba, clasi_prueba)\n",
        "  print(\"El modelo {modelo}, tiene una presición de {presi:.3f}%\".format(\n",
        "      modelo = str(nombre),\n",
        "      presi = float(resultado * 100)\n",
        "  ))"
      ],
      "metadata": {
        "colab": {
          "base_uri": "https://localhost:8080/"
        },
        "id": "VLcC6Clxp_Te",
        "outputId": "b15dd9b2-f7b4-4f93-ed55-5c317def8758"
      },
      "execution_count": null,
      "outputs": [
        {
          "output_type": "stream",
          "name": "stdout",
          "text": [
            "El modelo KNC, tiene una presición de 94.215%\n",
            "El modelo LR, tiene una presición de 94.215%\n",
            "El modelo SVC, tiene una presición de 94.215%\n",
            "El modelo GNV, tiene una presición de 41.322%\n",
            "El modelo LDA, tiene una presición de 94.215%\n",
            "El modelo DTC, tiene una presición de 94.215%\n"
          ]
        }
      ]
    },
    {
      "cell_type": "code",
      "source": [
        "modelos"
      ],
      "metadata": {
        "colab": {
          "base_uri": "https://localhost:8080/"
        },
        "id": "8tX4gMcvqF_8",
        "outputId": "5d1a5fbe-9383-489d-ca40-9d64f437c7b9"
      },
      "execution_count": null,
      "outputs": [
        {
          "output_type": "execute_result",
          "data": {
            "text/plain": [
              "[('KNC', KNeighborsClassifier()),\n",
              " ('LR', LogisticRegression()),\n",
              " ('SVC', SVC(gamma='auto')),\n",
              " ('GNV', GaussianNB()),\n",
              " ('LDA', LinearDiscriminantAnalysis()),\n",
              " ('DTC', DecisionTreeClassifier())]"
            ]
          },
          "metadata": {},
          "execution_count": 61
        }
      ]
    },
    {
      "cell_type": "code",
      "source": [
        "modelo_final: list = modelos[1][1] # Obtener el modelo de la posición 1 y su modelo como tal\n",
        "predict = modelo_final.predict(datos_prueba)\n",
        "print(predict, \"\\n\", clasi_prueba)"
      ],
      "metadata": {
        "colab": {
          "base_uri": "https://localhost:8080/"
        },
        "id": "psEw0LMTqPa_",
        "outputId": "f1f9b99f-2613-4cb2-dc4d-617b5621302b"
      },
      "execution_count": null,
      "outputs": [
        {
          "output_type": "stream",
          "name": "stdout",
          "text": [
            "[0 0 0 0 0 0 0 0 0 0 0 0 0 0 0 0 0 0 0 0 0 0 0 0 0 0 0 0 0 0 0 0 0 0 0 0 0\n",
            " 0 0 0 0 0 0 0 0 0 0 0 0 0 0 0 0 0 0 0 0 0 0 0 0 0 0 0 0 0 0 0 0 0 0 0 0 0\n",
            " 0 0 0 0 0 0 0 0 0 0 0 0 0 0 0 0 0 0 0 0 0 0 0 0 0 0 0 0 0 0 0 0 0 0 0 0 0\n",
            " 0 0 0 0 0 0 0 0 0 0] \n",
            " 139     0\n",
            "176     0\n",
            "183     0\n",
            "322     0\n",
            "328     0\n",
            "       ..\n",
            "8617    0\n",
            "8632    0\n",
            "8909    0\n",
            "8918    0\n",
            "9061    0\n",
            "Name: Tipo (int), Length: 121, dtype: int64\n"
          ]
        }
      ]
    },
    {
      "cell_type": "code",
      "source": [
        "modelo_final.feature_names_in_"
      ],
      "metadata": {
        "colab": {
          "base_uri": "https://localhost:8080/"
        },
        "id": "5nvu1T_LqTL_",
        "outputId": "cb86dce7-9f3b-49d7-909e-f6d7ec2905a5"
      },
      "execution_count": null,
      "outputs": [
        {
          "output_type": "execute_result",
          "data": {
            "text/plain": [
              "array(['Cantidad descargas'], dtype=object)"
            ]
          },
          "metadata": {},
          "execution_count": 63
        }
      ]
    },
    {
      "cell_type": "code",
      "source": [
        "modelo_final"
      ],
      "metadata": {
        "colab": {
          "base_uri": "https://localhost:8080/"
        },
        "id": "p96py_ChqbcX",
        "outputId": "4a28dc49-bcba-4298-f49f-9d57e3900e13"
      },
      "execution_count": null,
      "outputs": [
        {
          "output_type": "execute_result",
          "data": {
            "text/plain": [
              "LogisticRegression()"
            ]
          },
          "metadata": {},
          "execution_count": 64
        }
      ]
    },
    {
      "cell_type": "markdown",
      "source": [
        "## Evalúe sus modelos"
      ],
      "metadata": {
        "id": "3RrUKG-v9dG2"
      }
    },
    {
      "cell_type": "code",
      "source": [
        "# Pregunta:\n",
        "# ¿Una aplicación gratuita tendrá más descargas que una aplicación de pago?\n",
        "\n",
        "print(\"Categorías: {}\".format(\n",
        "    caracteristicas\n",
        "))\n",
        "\n",
        "print(\"\")\n",
        "\n",
        "print(\"Info tipo:\")\n",
        "dataframe[[\"Tipo\", \"Tipo (int)\"]].value_counts()"
      ],
      "metadata": {
        "colab": {
          "base_uri": "https://localhost:8080/"
        },
        "id": "NzTa0riXstyI",
        "outputId": "4415a579-c953-45e0-ed25-7bc83f67c434"
      },
      "execution_count": null,
      "outputs": [
        {
          "output_type": "stream",
          "name": "stdout",
          "text": [
            "Categorías: ['Cantidad descargas']\n",
            "\n",
            "Info tipo:\n"
          ]
        },
        {
          "output_type": "execute_result",
          "data": {
            "text/plain": [
              "Tipo    Tipo (int)\n",
              "Gratis  0             8417\n",
              "Pago    1              724\n",
              "dtype: int64"
            ]
          },
          "metadata": {},
          "execution_count": 65
        }
      ]
    },
    {
      "cell_type": "code",
      "source": [
        "array: list = []\n",
        "array.append(10000)\n",
        "array.append(9000)\n",
        "array.append(8000)\n",
        "array.append(7000)\n",
        "array.append(6000)\n",
        "array.append(5000)\n",
        "array.append(4000)\n",
        "array.append(3000)\n",
        "array.append(2000)\n",
        "array.append(1000)\n",
        "\n",
        "iteracion: int = int(0)\n",
        "\n",
        "for i in array:\n",
        "  # Para quitar el warning anterior\n",
        "  data_p = pd.DataFrame(np.array([\n",
        "      i\n",
        "      ]).reshape(1, -1),\n",
        "      columns = caracteristicas)\n",
        "\n",
        "  print(\"{i}° valor ({valor}) de la predicción: {modelo}\".format(\n",
        "      i = int(iteracion + 1),\n",
        "      valor = int(i),\n",
        "      modelo = modelo_final.predict(data_p)\n",
        "  ))\n",
        "\n",
        "  iteracion += int(1)"
      ],
      "metadata": {
        "colab": {
          "base_uri": "https://localhost:8080/"
        },
        "id": "bYXxQT2hsI_e",
        "outputId": "464a9374-1b2e-4096-abc8-d542e56660c2"
      },
      "execution_count": null,
      "outputs": [
        {
          "output_type": "stream",
          "name": "stdout",
          "text": [
            "1° valor (10000) de la predicción: [0]\n",
            "2° valor (9000) de la predicción: [0]\n",
            "3° valor (8000) de la predicción: [0]\n",
            "4° valor (7000) de la predicción: [0]\n",
            "5° valor (6000) de la predicción: [0]\n",
            "6° valor (5000) de la predicción: [0]\n",
            "7° valor (4000) de la predicción: [0]\n",
            "8° valor (3000) de la predicción: [0]\n",
            "9° valor (2000) de la predicción: [0]\n",
            "10° valor (1000) de la predicción: [0]\n"
          ]
        }
      ]
    },
    {
      "cell_type": "markdown",
      "source": [
        "## Accuracy"
      ],
      "metadata": {
        "id": "RDLQ158m5moz"
      }
    },
    {
      "cell_type": "code",
      "source": [
        "caracteristicas = dataframe[caracteristicas].astype(np.float64)\n",
        "label = dataframe['Clasificación edad']\n",
        "print(caracteristicas)\n",
        "print(label)"
      ],
      "metadata": {
        "colab": {
          "base_uri": "https://localhost:8080/"
        },
        "id": "i4Ceuo5y5wvw",
        "outputId": "e1b2d775-d1f3-446d-e601-7a59166e943d"
      },
      "execution_count": null,
      "outputs": [
        {
          "output_type": "stream",
          "name": "stdout",
          "text": [
            "      Cantidad descargas\n",
            "0                 5000.0\n",
            "1                10000.0\n",
            "2              1000000.0\n",
            "3              5000000.0\n",
            "4              1000000.0\n",
            "...                  ...\n",
            "9136             10000.0\n",
            "9137              1000.0\n",
            "9138          10000000.0\n",
            "9139           5000000.0\n",
            "9140          10000000.0\n",
            "\n",
            "[9141 rows x 1 columns]\n",
            "0        0\n",
            "1       12\n",
            "2        0\n",
            "3        0\n",
            "4        0\n",
            "        ..\n",
            "9136     0\n",
            "9137     0\n",
            "9138     0\n",
            "9139     0\n",
            "9140     0\n",
            "Name: Clasificación edad, Length: 9141, dtype: int64\n"
          ]
        }
      ]
    },
    {
      "cell_type": "code",
      "source": [
        "datos_entre, datos_prueba, eti_entre, eti_prueba = train_test_split(\n",
        "    caracteristicas,\n",
        "    label,\n",
        "    test_size = 0.25,\n",
        "    random_state = 2\n",
        ")\n",
        "print('Los datos para entrenamiento son:',datos_entre.shape)\n",
        "print('Los datos para prueba son:',datos_prueba.shape)\n",
        "print('Los eti para entrenamiento son:',eti_entre.shape)\n",
        "print('Los eti para prueba son:',eti_prueba.shape)"
      ],
      "metadata": {
        "colab": {
          "base_uri": "https://localhost:8080/"
        },
        "id": "U9XDqb_r50Z-",
        "outputId": "034ed5d7-f0d3-40a6-8d31-fcb5a2b2c42a"
      },
      "execution_count": null,
      "outputs": [
        {
          "output_type": "stream",
          "name": "stdout",
          "text": [
            "Los datos para entrenamiento son: (6855, 1)\n",
            "Los datos para prueba son: (2286, 1)\n",
            "Los eti para entrenamiento son: (6855,)\n",
            "Los eti para prueba son: (2286,)\n"
          ]
        }
      ]
    },
    {
      "cell_type": "code",
      "source": [
        "print(datos_entre)\n",
        "print(eti_entre)\n",
        "datos_entre.join(eti_entre)"
      ],
      "metadata": {
        "colab": {
          "base_uri": "https://localhost:8080/",
          "height": 884
        },
        "id": "jm_8_o0R6X83",
        "outputId": "f75b1bd1-c682-45ae-f9fa-87347fb260fb"
      },
      "execution_count": null,
      "outputs": [
        {
          "output_type": "stream",
          "name": "stdout",
          "text": [
            "      Cantidad descargas\n",
            "5546            100000.0\n",
            "6288              1000.0\n",
            "191            5000000.0\n",
            "8751            100000.0\n",
            "8391          10000000.0\n",
            "...                  ...\n",
            "1099            500000.0\n",
            "2514           1000000.0\n",
            "6637              1000.0\n",
            "2575              1000.0\n",
            "7336           5000000.0\n",
            "\n",
            "[6855 rows x 1 columns]\n",
            "5546    10\n",
            "6288     0\n",
            "191      0\n",
            "8751     0\n",
            "8391     0\n",
            "        ..\n",
            "1099     0\n",
            "2514    12\n",
            "6637     0\n",
            "2575     0\n",
            "7336     0\n",
            "Name: Clasificación edad, Length: 6855, dtype: int64\n"
          ]
        },
        {
          "output_type": "execute_result",
          "data": {
            "text/plain": [
              "      Cantidad descargas  Clasificación edad\n",
              "5546            100000.0                  10\n",
              "6288              1000.0                   0\n",
              "191            5000000.0                   0\n",
              "8751            100000.0                   0\n",
              "8391          10000000.0                   0\n",
              "...                  ...                 ...\n",
              "1099            500000.0                   0\n",
              "2514           1000000.0                  12\n",
              "6637              1000.0                   0\n",
              "2575              1000.0                   0\n",
              "7336           5000000.0                   0\n",
              "\n",
              "[6855 rows x 2 columns]"
            ],
            "text/html": [
              "\n",
              "  <div id=\"df-4d1b64c0-a31f-4960-a9b3-fd963ce23851\">\n",
              "    <div class=\"colab-df-container\">\n",
              "      <div>\n",
              "<style scoped>\n",
              "    .dataframe tbody tr th:only-of-type {\n",
              "        vertical-align: middle;\n",
              "    }\n",
              "\n",
              "    .dataframe tbody tr th {\n",
              "        vertical-align: top;\n",
              "    }\n",
              "\n",
              "    .dataframe thead th {\n",
              "        text-align: right;\n",
              "    }\n",
              "</style>\n",
              "<table border=\"1\" class=\"dataframe\">\n",
              "  <thead>\n",
              "    <tr style=\"text-align: right;\">\n",
              "      <th></th>\n",
              "      <th>Cantidad descargas</th>\n",
              "      <th>Clasificación edad</th>\n",
              "    </tr>\n",
              "  </thead>\n",
              "  <tbody>\n",
              "    <tr>\n",
              "      <th>5546</th>\n",
              "      <td>100000.0</td>\n",
              "      <td>10</td>\n",
              "    </tr>\n",
              "    <tr>\n",
              "      <th>6288</th>\n",
              "      <td>1000.0</td>\n",
              "      <td>0</td>\n",
              "    </tr>\n",
              "    <tr>\n",
              "      <th>191</th>\n",
              "      <td>5000000.0</td>\n",
              "      <td>0</td>\n",
              "    </tr>\n",
              "    <tr>\n",
              "      <th>8751</th>\n",
              "      <td>100000.0</td>\n",
              "      <td>0</td>\n",
              "    </tr>\n",
              "    <tr>\n",
              "      <th>8391</th>\n",
              "      <td>10000000.0</td>\n",
              "      <td>0</td>\n",
              "    </tr>\n",
              "    <tr>\n",
              "      <th>...</th>\n",
              "      <td>...</td>\n",
              "      <td>...</td>\n",
              "    </tr>\n",
              "    <tr>\n",
              "      <th>1099</th>\n",
              "      <td>500000.0</td>\n",
              "      <td>0</td>\n",
              "    </tr>\n",
              "    <tr>\n",
              "      <th>2514</th>\n",
              "      <td>1000000.0</td>\n",
              "      <td>12</td>\n",
              "    </tr>\n",
              "    <tr>\n",
              "      <th>6637</th>\n",
              "      <td>1000.0</td>\n",
              "      <td>0</td>\n",
              "    </tr>\n",
              "    <tr>\n",
              "      <th>2575</th>\n",
              "      <td>1000.0</td>\n",
              "      <td>0</td>\n",
              "    </tr>\n",
              "    <tr>\n",
              "      <th>7336</th>\n",
              "      <td>5000000.0</td>\n",
              "      <td>0</td>\n",
              "    </tr>\n",
              "  </tbody>\n",
              "</table>\n",
              "<p>6855 rows × 2 columns</p>\n",
              "</div>\n",
              "      <button class=\"colab-df-convert\" onclick=\"convertToInteractive('df-4d1b64c0-a31f-4960-a9b3-fd963ce23851')\"\n",
              "              title=\"Convert this dataframe to an interactive table.\"\n",
              "              style=\"display:none;\">\n",
              "        \n",
              "  <svg xmlns=\"http://www.w3.org/2000/svg\" height=\"24px\"viewBox=\"0 0 24 24\"\n",
              "       width=\"24px\">\n",
              "    <path d=\"M0 0h24v24H0V0z\" fill=\"none\"/>\n",
              "    <path d=\"M18.56 5.44l.94 2.06.94-2.06 2.06-.94-2.06-.94-.94-2.06-.94 2.06-2.06.94zm-11 1L8.5 8.5l.94-2.06 2.06-.94-2.06-.94L8.5 2.5l-.94 2.06-2.06.94zm10 10l.94 2.06.94-2.06 2.06-.94-2.06-.94-.94-2.06-.94 2.06-2.06.94z\"/><path d=\"M17.41 7.96l-1.37-1.37c-.4-.4-.92-.59-1.43-.59-.52 0-1.04.2-1.43.59L10.3 9.45l-7.72 7.72c-.78.78-.78 2.05 0 2.83L4 21.41c.39.39.9.59 1.41.59.51 0 1.02-.2 1.41-.59l7.78-7.78 2.81-2.81c.8-.78.8-2.07 0-2.86zM5.41 20L4 18.59l7.72-7.72 1.47 1.35L5.41 20z\"/>\n",
              "  </svg>\n",
              "      </button>\n",
              "      \n",
              "  <style>\n",
              "    .colab-df-container {\n",
              "      display:flex;\n",
              "      flex-wrap:wrap;\n",
              "      gap: 12px;\n",
              "    }\n",
              "\n",
              "    .colab-df-convert {\n",
              "      background-color: #E8F0FE;\n",
              "      border: none;\n",
              "      border-radius: 50%;\n",
              "      cursor: pointer;\n",
              "      display: none;\n",
              "      fill: #1967D2;\n",
              "      height: 32px;\n",
              "      padding: 0 0 0 0;\n",
              "      width: 32px;\n",
              "    }\n",
              "\n",
              "    .colab-df-convert:hover {\n",
              "      background-color: #E2EBFA;\n",
              "      box-shadow: 0px 1px 2px rgba(60, 64, 67, 0.3), 0px 1px 3px 1px rgba(60, 64, 67, 0.15);\n",
              "      fill: #174EA6;\n",
              "    }\n",
              "\n",
              "    [theme=dark] .colab-df-convert {\n",
              "      background-color: #3B4455;\n",
              "      fill: #D2E3FC;\n",
              "    }\n",
              "\n",
              "    [theme=dark] .colab-df-convert:hover {\n",
              "      background-color: #434B5C;\n",
              "      box-shadow: 0px 1px 3px 1px rgba(0, 0, 0, 0.15);\n",
              "      filter: drop-shadow(0px 1px 2px rgba(0, 0, 0, 0.3));\n",
              "      fill: #FFFFFF;\n",
              "    }\n",
              "  </style>\n",
              "\n",
              "      <script>\n",
              "        const buttonEl =\n",
              "          document.querySelector('#df-4d1b64c0-a31f-4960-a9b3-fd963ce23851 button.colab-df-convert');\n",
              "        buttonEl.style.display =\n",
              "          google.colab.kernel.accessAllowed ? 'block' : 'none';\n",
              "\n",
              "        async function convertToInteractive(key) {\n",
              "          const element = document.querySelector('#df-4d1b64c0-a31f-4960-a9b3-fd963ce23851');\n",
              "          const dataTable =\n",
              "            await google.colab.kernel.invokeFunction('convertToInteractive',\n",
              "                                                     [key], {});\n",
              "          if (!dataTable) return;\n",
              "\n",
              "          const docLinkHtml = 'Like what you see? Visit the ' +\n",
              "            '<a target=\"_blank\" href=https://colab.research.google.com/notebooks/data_table.ipynb>data table notebook</a>'\n",
              "            + ' to learn more about interactive tables.';\n",
              "          element.innerHTML = '';\n",
              "          dataTable['output_type'] = 'display_data';\n",
              "          await google.colab.output.renderOutput(dataTable, element);\n",
              "          const docLink = document.createElement('div');\n",
              "          docLink.innerHTML = docLinkHtml;\n",
              "          element.appendChild(docLink);\n",
              "        }\n",
              "      </script>\n",
              "    </div>\n",
              "  </div>\n",
              "  "
            ]
          },
          "metadata": {},
          "execution_count": 69
        }
      ]
    },
    {
      "cell_type": "code",
      "source": [
        "# DecisionTreeClassifier\n",
        "# KNeighborsClassifier\n",
        "modelos = []\n",
        "modelos.append(('DecisionTreeClassifier', DecisionTreeClassifier()))\n",
        "modelos.append(('KNeighborsClassifier', KNeighborsClassifier()))\n",
        "resultados = []\n",
        "\n",
        "for nombre,modelo in modelos:\n",
        "  modelo.fit(datos_entre,eti_entre)\n",
        "  resultado = modelo.score(datos_prueba, eti_prueba)\n",
        "  resultados.append(float(resultado * 100))\n",
        "  print('El modelo {} tiene como resultado {:.2f}%'.format(\n",
        "      nombre,\n",
        "      float(resultado * 100)\n",
        "  ))"
      ],
      "metadata": {
        "colab": {
          "base_uri": "https://localhost:8080/"
        },
        "id": "GolknGS36b30",
        "outputId": "22a88c74-dab3-484f-d121-ac1221ca4cb6"
      },
      "execution_count": null,
      "outputs": [
        {
          "output_type": "stream",
          "name": "stdout",
          "text": [
            "El modelo DecisionTreeClassifier tiene como resultado 81.15%\n",
            "El modelo KNeighborsClassifier tiene como resultado 81.10%\n"
          ]
        }
      ]
    },
    {
      "cell_type": "code",
      "source": [
        "print(eti_entre.value_counts())\n",
        "print(pd.Series(modelos[1][1].predict(datos_entre)).value_counts())"
      ],
      "metadata": {
        "colab": {
          "base_uri": "https://localhost:8080/"
        },
        "id": "D2rntbH56gKr",
        "outputId": "e2e65cb6-750c-47ef-8ccf-0adc07483a2c"
      },
      "execution_count": null,
      "outputs": [
        {
          "output_type": "stream",
          "name": "stdout",
          "text": [
            " 0     5561\n",
            " 12     752\n",
            " 17     298\n",
            " 10     240\n",
            "-1        2\n",
            " 18       2\n",
            "Name: Clasificación edad, dtype: int64\n",
            "0     6846\n",
            "12       9\n",
            "dtype: int64\n"
          ]
        }
      ]
    },
    {
      "cell_type": "code",
      "source": [
        "\"\"\"\n",
        "datos_predict = modelos[0][1].predict(datos_entre)\n",
        "confusion = confusion_matrix(eti_entre, datos_predict)\n",
        "print(confusion)\n",
        "# orden de retorno:\n",
        "# verdaderos negativo\n",
        "# falsos positivos\n",
        "# falsos negativos\n",
        "# verdaderos positivos\n",
        "# v1,v2,v3,v4=[1,2,3,4]\n",
        "vn, fp, fn, vp = confusion.ravel()\n",
        "matriz = np.array([[vp, fn], [fp, vn]])\n",
        "print(matriz)\n",
        "plt.figure(\n",
        "    figsize = (12,10)\n",
        ")\n",
        "grafico = plt.subplot()\n",
        "\n",
        "sns.heatmap(matriz, annot = True,\n",
        "            ax = grafico,\n",
        "            fmt = 'g')\n",
        "\n",
        "grafico.xaxis.set_ticklabels(['Positivo',\n",
        "                              'Negativo'])\n",
        "grafico.yaxis.set_ticklabels(['Verdaderos',\n",
        "                              'Falsos'])\n",
        "\n",
        "grafico.set_xlabel('Predicción')\n",
        "grafico.set_ylabel('Actual')\n",
        "\"\"\""
      ],
      "metadata": {
        "colab": {
          "base_uri": "https://localhost:8080/",
          "height": 106
        },
        "id": "HKKSQAC26jHf",
        "outputId": "42cc21d7-0ac3-4e17-e76d-b2411b3ef2b5"
      },
      "execution_count": null,
      "outputs": [
        {
          "output_type": "execute_result",
          "data": {
            "text/plain": [
              "\"\\ndatos_predict = modelos[0][1].predict(datos_entre)\\nconfusion = confusion_matrix(eti_entre, datos_predict)\\nprint(confusion)\\n# orden de retorno:\\n# verdaderos negativo\\n# falsos positivos\\n# falsos negativos\\n# verdaderos positivos\\n# v1,v2,v3,v4=[1,2,3,4]\\nvn, fp, fn, vp = confusion.ravel()\\nmatriz = np.array([[vp, fn], [fp, vn]])\\nprint(matriz)\\nplt.figure(\\n    figsize = (12,10)\\n)\\ngrafico = plt.subplot()\\n\\nsns.heatmap(matriz, annot = True,\\n            ax = grafico,\\n            fmt = 'g')\\n\\ngrafico.xaxis.set_ticklabels(['Positivo',\\n                              'Negativo'])\\ngrafico.yaxis.set_ticklabels(['Verdaderos',\\n                              'Falsos'])\\n\\ngrafico.set_xlabel('Predicción')\\ngrafico.set_ylabel('Actual')\\n\""
            ],
            "application/vnd.google.colaboratory.intrinsic+json": {
              "type": "string"
            }
          },
          "metadata": {},
          "execution_count": 72
        }
      ]
    },
    {
      "cell_type": "markdown",
      "source": [
        "# Modelo 3"
      ],
      "metadata": {
        "id": "_nVHj2s89jNt"
      }
    },
    {
      "cell_type": "markdown",
      "source": [
        "## Implemente sus modelos desde aquí"
      ],
      "metadata": {
        "id": "4wBUEQrY9qGv"
      }
    },
    {
      "cell_type": "code",
      "source": [
        "dataframe.info()"
      ],
      "metadata": {
        "colab": {
          "base_uri": "https://localhost:8080/"
        },
        "id": "SA13qiT9CE0N",
        "outputId": "23325732-ceff-4a0c-94c0-55b48ce43756"
      },
      "execution_count": null,
      "outputs": [
        {
          "output_type": "stream",
          "name": "stdout",
          "text": [
            "<class 'pandas.core.frame.DataFrame'>\n",
            "RangeIndex: 9141 entries, 0 to 9140\n",
            "Data columns (total 17 columns):\n",
            " #   Column                   Non-Null Count  Dtype  \n",
            "---  ------                   --------------  -----  \n",
            " 0   App                      9141 non-null   string \n",
            " 1   Categoría                9141 non-null   string \n",
            " 2   Valoración               7725 non-null   string \n",
            " 3   Comentarios              9141 non-null   int64  \n",
            " 4   Tamaño(M)                9141 non-null   string \n",
            " 5   Descargas                9141 non-null   string \n",
            " 6   Tipo                     9141 non-null   string \n",
            " 7   Precio                   9141 non-null   string \n",
            " 8   Clasificación            9141 non-null   string \n",
            " 9   Categoría (int)          9141 non-null   int64  \n",
            " 10  Valoración (float type)  9141 non-null   float64\n",
            " 11  Tamaño(M) (float type)   9141 non-null   float64\n",
            " 12  Tamaño(M) (int type)     9141 non-null   int64  \n",
            " 13  Cantidad descargas       9141 non-null   int64  \n",
            " 14  Tipo (int)               9141 non-null   int64  \n",
            " 15  Precio (float type)      9141 non-null   float64\n",
            " 16  Clasificación edad       9141 non-null   int64  \n",
            "dtypes: float64(3), int64(6), string(8)\n",
            "memory usage: 1.2 MB\n"
          ]
        }
      ]
    },
    {
      "cell_type": "code",
      "source": [
        "caracteristicas: list = [\n",
        "    \"Comentarios\",\n",
        "    \"Valoración (float type)\",\n",
        "    \"Tipo (int)\",\n",
        "    \"Clasificación edad\"\n",
        "]\n",
        "\n",
        "data = dataframe[caracteristicas][1:] # X\n",
        "clase = dataframe[\"Cantidad descargas\"][1:] # Y\n",
        "\n",
        "print(data, clase)"
      ],
      "metadata": {
        "colab": {
          "base_uri": "https://localhost:8080/"
        },
        "id": "kKkP1UebCi_q",
        "outputId": "5efcb7db-5833-469a-f2c2-d07a47393d8f"
      },
      "execution_count": null,
      "outputs": [
        {
          "output_type": "stream",
          "name": "stdout",
          "text": [
            "      Comentarios  Valoración (float type)  Tipo (int)  Clasificación edad\n",
            "1             353                      4.7           0                  12\n",
            "2           36815                      4.1           0                   0\n",
            "3          194216                      4.3           0                   0\n",
            "4           13880                      4.4           0                   0\n",
            "5             118                      4.7           0                   0\n",
            "...           ...                      ...         ...                 ...\n",
            "9136           69                      3.0           0                   0\n",
            "9137           34                      4.3           0                   0\n",
            "9138       165299                      4.3           0                   0\n",
            "9139        35560                      4.2           0                   0\n",
            "9140       136626                      4.1           0                   0\n",
            "\n",
            "[9140 rows x 4 columns] 1          10000\n",
            "2        1000000\n",
            "3        5000000\n",
            "4        1000000\n",
            "5          50000\n",
            "          ...   \n",
            "9136       10000\n",
            "9137        1000\n",
            "9138    10000000\n",
            "9139     5000000\n",
            "9140    10000000\n",
            "Name: Cantidad descargas, Length: 9140, dtype: int64\n"
          ]
        }
      ]
    },
    {
      "cell_type": "code",
      "source": [
        "rKFold = RepeatedKFold(\n",
        "    n_splits = int(75),\n",
        "    n_repeats = int(15),\n",
        "    random_state = int(7) # Asegura que se obtenga las mismas muestras cada vez que se genera el conjunto de datos\n",
        ")\n",
        "n_iteraciones: int = int(0)\n",
        "\n",
        "for p_entrenamiento, p_prueba in rKFold.split(data,clase):\n",
        "  datos_entrenamiento, datos_prueba = data.iloc[p_entrenamiento], data.iloc[p_prueba]\n",
        "  clasi_entrenamiento, clasi_prueba = clase.iloc[p_entrenamiento], clase.iloc[p_prueba]\n",
        "  n_iteraciones += int(1)\n",
        "\n",
        "print(\"El uso de datos para entrenamiento es {}, : {}\".format(\n",
        "    datos_entrenamiento.shape,\n",
        "    clasi_entrenamiento.shape\n",
        "))\n",
        "print(\"El uso de datos para prueba es {}, : {}\".format(\n",
        "    datos_prueba.shape,\n",
        "    clasi_prueba.shape\n",
        "))\n",
        "print(\"# iteraciones:\", n_iteraciones)"
      ],
      "metadata": {
        "colab": {
          "base_uri": "https://localhost:8080/"
        },
        "id": "8csXcZeVCuk2",
        "outputId": "62078004-801b-47b0-d87c-eaa1e40b2daf"
      },
      "execution_count": null,
      "outputs": [
        {
          "output_type": "stream",
          "name": "stdout",
          "text": [
            "El uso de datos para entrenamiento es (9019, 4), : (9019,)\n",
            "El uso de datos para prueba es (121, 4), : (121,)\n",
            "# iteraciones: 1125\n"
          ]
        }
      ]
    },
    {
      "cell_type": "code",
      "source": [
        "# Modelos de ML\n",
        "# KNeighborsClassifier\n",
        "# LogisticRegression\n",
        "# SVC\n",
        "# GaussianNB\n",
        "# LinearDiscriminantAnalysis\n",
        "# DecisionTreeClassifier\n",
        "modelos: list = []\n",
        "modelos.append((\"KNC\",  KNeighborsClassifier()))\n",
        "modelos.append((\"LR\",   LogisticRegression()))\n",
        "modelos.append((\"SVC\",  SVC(gamma = \"auto\")))\n",
        "modelos.append((\"GNV\",  GaussianNB()))\n",
        "modelos.append((\"LDA\",  LinearDiscriminantAnalysis()))\n",
        "modelos.append((\"DTC\",  DecisionTreeClassifier()))\n",
        "\n",
        "for nombre, modelo in modelos:\n",
        "  modelo.fit(datos_entrenamiento, clasi_entrenamiento)\n",
        "  resultado: float = modelo.score(datos_prueba, clasi_prueba)\n",
        "  print(\"El modelo {modelo}, tiene una presición de {presi:.3f}%\".format(\n",
        "      modelo = str(nombre),\n",
        "      presi = float(resultado * 100)\n",
        "  ))"
      ],
      "metadata": {
        "colab": {
          "base_uri": "https://localhost:8080/"
        },
        "id": "DBg-IhPBEZXp",
        "outputId": "7d268216-cf6a-474e-da62-fa6c4be4d220"
      },
      "execution_count": null,
      "outputs": [
        {
          "output_type": "stream",
          "name": "stdout",
          "text": [
            "El modelo KNC, tiene una presición de 47.107%\n"
          ]
        },
        {
          "output_type": "stream",
          "name": "stderr",
          "text": [
            "/usr/local/lib/python3.7/dist-packages/sklearn/linear_model/_logistic.py:818: ConvergenceWarning: lbfgs failed to converge (status=1):\n",
            "STOP: TOTAL NO. of ITERATIONS REACHED LIMIT.\n",
            "\n",
            "Increase the number of iterations (max_iter) or scale the data as shown in:\n",
            "    https://scikit-learn.org/stable/modules/preprocessing.html\n",
            "Please also refer to the documentation for alternative solver options:\n",
            "    https://scikit-learn.org/stable/modules/linear_model.html#logistic-regression\n",
            "  extra_warning_msg=_LOGISTIC_SOLVER_CONVERGENCE_MSG,\n"
          ]
        },
        {
          "output_type": "stream",
          "name": "stdout",
          "text": [
            "El modelo LR, tiene una presición de 0.826%\n",
            "El modelo SVC, tiene una presición de 38.843%\n",
            "El modelo GNV, tiene una presición de 28.926%\n",
            "El modelo LDA, tiene una presición de 15.702%\n",
            "El modelo DTC, tiene una presición de 52.066%\n"
          ]
        }
      ]
    },
    {
      "cell_type": "code",
      "source": [
        "modelos"
      ],
      "metadata": {
        "colab": {
          "base_uri": "https://localhost:8080/"
        },
        "id": "lp70e-n0J8jp",
        "outputId": "0b352718-9ab3-48a5-eda7-5e259ec87aa6"
      },
      "execution_count": null,
      "outputs": [
        {
          "output_type": "execute_result",
          "data": {
            "text/plain": [
              "[('KNC', KNeighborsClassifier()),\n",
              " ('LR', LogisticRegression()),\n",
              " ('SVC', SVC(gamma='auto')),\n",
              " ('GNV', GaussianNB()),\n",
              " ('LDA', LinearDiscriminantAnalysis()),\n",
              " ('DTC', DecisionTreeClassifier())]"
            ]
          },
          "metadata": {},
          "execution_count": 77
        }
      ]
    },
    {
      "cell_type": "code",
      "source": [
        "modelo_final: list = modelos[5][1] # Obtener el modelo de la posición 1 y su modelo como tal\n",
        "predict = modelo_final.predict(datos_prueba)\n",
        "print(predict, \"\\n\", clasi_prueba)"
      ],
      "metadata": {
        "colab": {
          "base_uri": "https://localhost:8080/"
        },
        "id": "daZbY2WEKATA",
        "outputId": "0d850fab-9b76-4b69-8f97-1d91efa6a245"
      },
      "execution_count": null,
      "outputs": [
        {
          "output_type": "stream",
          "name": "stdout",
          "text": [
            "[      100      1000    100000   1000000      1000       500   1000000\n",
            "   1000000   1000000    100000  10000000    100000  50000000       100\n",
            "      5000       100  10000000        10   1000000    500000       100\n",
            "     10000   1000000       100      1000     10000       100   1000000\n",
            "   1000000      1000   1000000      1000   1000000    100000      5000\n",
            "   1000000   1000000  10000000  10000000    500000     50000       100\n",
            "  10000000        10      1000      1000      5000   1000000    100000\n",
            "   1000000   1000000   5000000      1000    100000    100000        10\n",
            "   1000000       100  10000000     10000     10000       500       500\n",
            "    100000    100000    100000        10    100000   5000000   1000000\n",
            "    100000    100000  10000000  50000000 100000000   5000000   5000000\n",
            "   1000000      1000   1000000   1000000     10000    100000       100\n",
            "     50000      1000       100       100       100        10    100000\n",
            "      1000         5      1000   5000000    100000   1000000   1000000\n",
            "   1000000    100000       500       500      1000     10000       100\n",
            "   1000000    100000  10000000     10000   1000000    100000     10000\n",
            "      5000       100      1000      1000    100000  10000000    100000\n",
            "   5000000     50000] \n",
            " 139           10\n",
            "176        50000\n",
            "183       100000\n",
            "322      1000000\n",
            "328          500\n",
            "          ...   \n",
            "8617      100000\n",
            "8632    10000000\n",
            "8909      100000\n",
            "8918    10000000\n",
            "9061       10000\n",
            "Name: Cantidad descargas, Length: 121, dtype: int64\n"
          ]
        }
      ]
    },
    {
      "cell_type": "code",
      "source": [
        "modelo_final.feature_names_in_"
      ],
      "metadata": {
        "colab": {
          "base_uri": "https://localhost:8080/"
        },
        "id": "B_3c4GWPKDBp",
        "outputId": "322ca30b-4c21-4eb5-bcbd-4abbb2017d0f"
      },
      "execution_count": null,
      "outputs": [
        {
          "output_type": "execute_result",
          "data": {
            "text/plain": [
              "array(['Comentarios', 'Valoración (float type)', 'Tipo (int)',\n",
              "       'Clasificación edad'], dtype=object)"
            ]
          },
          "metadata": {},
          "execution_count": 79
        }
      ]
    },
    {
      "cell_type": "code",
      "source": [
        "modelo_final"
      ],
      "metadata": {
        "colab": {
          "base_uri": "https://localhost:8080/"
        },
        "id": "4q_lUkVDKKDk",
        "outputId": "a7e5ba7d-f766-47a5-e6dd-b008f6aabe40"
      },
      "execution_count": null,
      "outputs": [
        {
          "output_type": "execute_result",
          "data": {
            "text/plain": [
              "DecisionTreeClassifier()"
            ]
          },
          "metadata": {},
          "execution_count": 80
        }
      ]
    },
    {
      "cell_type": "markdown",
      "source": [
        "## Evalúe sus modelos"
      ],
      "metadata": {
        "id": "usbgRXsL9uXX"
      }
    },
    {
      "cell_type": "code",
      "source": [
        "print(\"Categorías: {}\".format(\n",
        "    caracteristicas\n",
        "))\n",
        "\n",
        "print(\"\")\n",
        "\n",
        "print(dataframe[[\"Tipo\", \"Tipo (int)\"]].value_counts())\n",
        "\n",
        "print(\"\")\n",
        "\n",
        "print(dataframe[[\"Clasificación\", \"Clasificación edad\"]].value_counts())"
      ],
      "metadata": {
        "colab": {
          "base_uri": "https://localhost:8080/"
        },
        "id": "U6KfehJhKOaC",
        "outputId": "0810afb6-1470-4838-cd97-0d42a6a9cf72"
      },
      "execution_count": null,
      "outputs": [
        {
          "output_type": "stream",
          "name": "stdout",
          "text": [
            "Categorías: ['Comentarios', 'Valoración (float type)', 'Tipo (int)', 'Clasificación edad']\n",
            "\n",
            "Tipo    Tipo (int)\n",
            "Gratis  0             8417\n",
            "Pago    1              724\n",
            "dtype: int64\n",
            "\n",
            "Clasificación       Clasificación edad\n",
            "Todo público         0                    7415\n",
            "Adolescentes         12                    986\n",
            "Mayores de 17 años   17                    405\n",
            "Mayores de 10 años   10                    331\n",
            "Sin clasificación   -1                       2\n",
            "Sólo adultos         18                      2\n",
            "dtype: int64\n"
          ]
        }
      ]
    },
    {
      "cell_type": "code",
      "source": [
        "mean_valoracion: float = dataframe[\"Valoración (float type)\"].mean().astype(float)\n",
        "\n",
        "array: list = []\n",
        "array.append(1000000)\n",
        "array.append(100000)\n",
        "array.append(10000)\n",
        "array.append(1000)\n",
        "array.append(100)\n",
        "array.append(10)\n",
        "array.append(1)\n",
        "\n",
        "i: int = int(0)\n",
        "\n",
        "for value in array:\n",
        "  data_p = pd.DataFrame(np.array([\n",
        "      value,\n",
        "      mean_valoracion,\n",
        "      0,\n",
        "      0\n",
        "      ]).reshape(1, -1),\n",
        "      columns = caracteristicas)\n",
        "\n",
        "  print(\"\")\n",
        "\n",
        "  print(\"{i}° predicción con {comentarios} comentarios.\".format(\n",
        "      i = int(i + 1),\n",
        "      comentarios = modelo_final.predict(data_p)\n",
        "  ))\n",
        "\n",
        "  i += int(1)"
      ],
      "metadata": {
        "colab": {
          "base_uri": "https://localhost:8080/"
        },
        "id": "e1_YEnwbKUpL",
        "outputId": "3d0a7c4b-1d4b-4915-c6bc-15a005ace4a8"
      },
      "execution_count": null,
      "outputs": [
        {
          "output_type": "stream",
          "name": "stdout",
          "text": [
            "\n",
            "1° predicción con [100000000] comentarios.\n",
            "\n",
            "2° predicción con [10000000] comentarios.\n",
            "\n",
            "3° predicción con [1000000] comentarios.\n",
            "\n",
            "4° predicción con [10000] comentarios.\n",
            "\n",
            "5° predicción con [10000] comentarios.\n",
            "\n",
            "6° predicción con [1000] comentarios.\n",
            "\n",
            "7° predicción con [50] comentarios.\n"
          ]
        }
      ]
    },
    {
      "cell_type": "markdown",
      "source": [
        "## Accuracy"
      ],
      "metadata": {
        "id": "UbNwQ1Oj-AmW"
      }
    },
    {
      "cell_type": "code",
      "source": [
        "caracteristicas = dataframe[caracteristicas].astype(np.float64)\n",
        "label = dataframe['Cantidad descargas']\n",
        "print(caracteristicas)\n",
        "print(label)"
      ],
      "metadata": {
        "colab": {
          "base_uri": "https://localhost:8080/"
        },
        "id": "LX3NgjXW-EV0",
        "outputId": "29351af2-59a9-4afa-88d4-4df99452cbd2"
      },
      "execution_count": null,
      "outputs": [
        {
          "output_type": "stream",
          "name": "stdout",
          "text": [
            "      Comentarios  Valoración (float type)  Tipo (int)  Clasificación edad\n",
            "0            48.0                      4.8         0.0                 0.0\n",
            "1           353.0                      4.7         0.0                12.0\n",
            "2         36815.0                      4.1         0.0                 0.0\n",
            "3        194216.0                      4.3         0.0                 0.0\n",
            "4         13880.0                      4.4         0.0                 0.0\n",
            "...           ...                      ...         ...                 ...\n",
            "9136         69.0                      3.0         0.0                 0.0\n",
            "9137         34.0                      4.3         0.0                 0.0\n",
            "9138     165299.0                      4.3         0.0                 0.0\n",
            "9139      35560.0                      4.2         0.0                 0.0\n",
            "9140     136626.0                      4.1         0.0                 0.0\n",
            "\n",
            "[9141 rows x 4 columns]\n",
            "0           5000\n",
            "1          10000\n",
            "2        1000000\n",
            "3        5000000\n",
            "4        1000000\n",
            "          ...   \n",
            "9136       10000\n",
            "9137        1000\n",
            "9138    10000000\n",
            "9139     5000000\n",
            "9140    10000000\n",
            "Name: Cantidad descargas, Length: 9141, dtype: int64\n"
          ]
        }
      ]
    },
    {
      "cell_type": "code",
      "source": [
        "datos_entre, datos_prueba, eti_entre, eti_prueba = train_test_split(\n",
        "    caracteristicas,\n",
        "    label,\n",
        "    test_size = 0.25,\n",
        "    random_state = 2\n",
        ")\n",
        "print('Los datos para entrenamiento son:',datos_entre.shape)\n",
        "print('Los datos para prueba son:',datos_prueba.shape)\n",
        "print('Los eti para entrenamiento son:',eti_entre.shape)\n",
        "print('Los eti para prueba son:',eti_prueba.shape)"
      ],
      "metadata": {
        "colab": {
          "base_uri": "https://localhost:8080/"
        },
        "id": "7lzKGMMN-Jo3",
        "outputId": "91a89118-f063-4d2e-fa50-9e4633e1e5e0"
      },
      "execution_count": null,
      "outputs": [
        {
          "output_type": "stream",
          "name": "stdout",
          "text": [
            "Los datos para entrenamiento son: (6855, 4)\n",
            "Los datos para prueba son: (2286, 4)\n",
            "Los eti para entrenamiento son: (6855,)\n",
            "Los eti para prueba son: (2286,)\n"
          ]
        }
      ]
    },
    {
      "cell_type": "code",
      "source": [
        "print(datos_entre)\n",
        "print(eti_entre)\n",
        "datos_entre.join(eti_entre)"
      ],
      "metadata": {
        "colab": {
          "base_uri": "https://localhost:8080/",
          "height": 884
        },
        "id": "G7Gq1iYJ-NuP",
        "outputId": "5baa76bf-e828-49f1-dba3-cb7bbaa862d5"
      },
      "execution_count": null,
      "outputs": [
        {
          "output_type": "stream",
          "name": "stdout",
          "text": [
            "      Comentarios  Valoración (float type)  Tipo (int)  Clasificación edad\n",
            "5546      19922.0                 4.600000         1.0                10.0\n",
            "6288          6.0                 4.320139         0.0                 0.0\n",
            "191       54090.0                 4.500000         0.0                 0.0\n",
            "8751       1403.0                 4.300000         0.0                 0.0\n",
            "8391     259605.0                 4.400000         0.0                 0.0\n",
            "...           ...                      ...         ...                 ...\n",
            "1099       7543.0                 4.300000         0.0                 0.0\n",
            "2514      22667.0                 4.300000         0.0                12.0\n",
            "6637          6.0                 4.179630         0.0                 0.0\n",
            "2575         11.0                 4.182841         0.0                 0.0\n",
            "7336      20973.0                 3.100000         0.0                 0.0\n",
            "\n",
            "[6855 rows x 4 columns]\n",
            "5546      100000\n",
            "6288        1000\n",
            "191      5000000\n",
            "8751      100000\n",
            "8391    10000000\n",
            "          ...   \n",
            "1099      500000\n",
            "2514     1000000\n",
            "6637        1000\n",
            "2575        1000\n",
            "7336     5000000\n",
            "Name: Cantidad descargas, Length: 6855, dtype: int64\n"
          ]
        },
        {
          "output_type": "execute_result",
          "data": {
            "text/plain": [
              "      Comentarios  Valoración (float type)  Tipo (int)  Clasificación edad  \\\n",
              "5546      19922.0                 4.600000         1.0                10.0   \n",
              "6288          6.0                 4.320139         0.0                 0.0   \n",
              "191       54090.0                 4.500000         0.0                 0.0   \n",
              "8751       1403.0                 4.300000         0.0                 0.0   \n",
              "8391     259605.0                 4.400000         0.0                 0.0   \n",
              "...           ...                      ...         ...                 ...   \n",
              "1099       7543.0                 4.300000         0.0                 0.0   \n",
              "2514      22667.0                 4.300000         0.0                12.0   \n",
              "6637          6.0                 4.179630         0.0                 0.0   \n",
              "2575         11.0                 4.182841         0.0                 0.0   \n",
              "7336      20973.0                 3.100000         0.0                 0.0   \n",
              "\n",
              "      Cantidad descargas  \n",
              "5546              100000  \n",
              "6288                1000  \n",
              "191              5000000  \n",
              "8751              100000  \n",
              "8391            10000000  \n",
              "...                  ...  \n",
              "1099              500000  \n",
              "2514             1000000  \n",
              "6637                1000  \n",
              "2575                1000  \n",
              "7336             5000000  \n",
              "\n",
              "[6855 rows x 5 columns]"
            ],
            "text/html": [
              "\n",
              "  <div id=\"df-0a84ea38-60c0-4237-801f-ae4d0dc19cfc\">\n",
              "    <div class=\"colab-df-container\">\n",
              "      <div>\n",
              "<style scoped>\n",
              "    .dataframe tbody tr th:only-of-type {\n",
              "        vertical-align: middle;\n",
              "    }\n",
              "\n",
              "    .dataframe tbody tr th {\n",
              "        vertical-align: top;\n",
              "    }\n",
              "\n",
              "    .dataframe thead th {\n",
              "        text-align: right;\n",
              "    }\n",
              "</style>\n",
              "<table border=\"1\" class=\"dataframe\">\n",
              "  <thead>\n",
              "    <tr style=\"text-align: right;\">\n",
              "      <th></th>\n",
              "      <th>Comentarios</th>\n",
              "      <th>Valoración (float type)</th>\n",
              "      <th>Tipo (int)</th>\n",
              "      <th>Clasificación edad</th>\n",
              "      <th>Cantidad descargas</th>\n",
              "    </tr>\n",
              "  </thead>\n",
              "  <tbody>\n",
              "    <tr>\n",
              "      <th>5546</th>\n",
              "      <td>19922.0</td>\n",
              "      <td>4.600000</td>\n",
              "      <td>1.0</td>\n",
              "      <td>10.0</td>\n",
              "      <td>100000</td>\n",
              "    </tr>\n",
              "    <tr>\n",
              "      <th>6288</th>\n",
              "      <td>6.0</td>\n",
              "      <td>4.320139</td>\n",
              "      <td>0.0</td>\n",
              "      <td>0.0</td>\n",
              "      <td>1000</td>\n",
              "    </tr>\n",
              "    <tr>\n",
              "      <th>191</th>\n",
              "      <td>54090.0</td>\n",
              "      <td>4.500000</td>\n",
              "      <td>0.0</td>\n",
              "      <td>0.0</td>\n",
              "      <td>5000000</td>\n",
              "    </tr>\n",
              "    <tr>\n",
              "      <th>8751</th>\n",
              "      <td>1403.0</td>\n",
              "      <td>4.300000</td>\n",
              "      <td>0.0</td>\n",
              "      <td>0.0</td>\n",
              "      <td>100000</td>\n",
              "    </tr>\n",
              "    <tr>\n",
              "      <th>8391</th>\n",
              "      <td>259605.0</td>\n",
              "      <td>4.400000</td>\n",
              "      <td>0.0</td>\n",
              "      <td>0.0</td>\n",
              "      <td>10000000</td>\n",
              "    </tr>\n",
              "    <tr>\n",
              "      <th>...</th>\n",
              "      <td>...</td>\n",
              "      <td>...</td>\n",
              "      <td>...</td>\n",
              "      <td>...</td>\n",
              "      <td>...</td>\n",
              "    </tr>\n",
              "    <tr>\n",
              "      <th>1099</th>\n",
              "      <td>7543.0</td>\n",
              "      <td>4.300000</td>\n",
              "      <td>0.0</td>\n",
              "      <td>0.0</td>\n",
              "      <td>500000</td>\n",
              "    </tr>\n",
              "    <tr>\n",
              "      <th>2514</th>\n",
              "      <td>22667.0</td>\n",
              "      <td>4.300000</td>\n",
              "      <td>0.0</td>\n",
              "      <td>12.0</td>\n",
              "      <td>1000000</td>\n",
              "    </tr>\n",
              "    <tr>\n",
              "      <th>6637</th>\n",
              "      <td>6.0</td>\n",
              "      <td>4.179630</td>\n",
              "      <td>0.0</td>\n",
              "      <td>0.0</td>\n",
              "      <td>1000</td>\n",
              "    </tr>\n",
              "    <tr>\n",
              "      <th>2575</th>\n",
              "      <td>11.0</td>\n",
              "      <td>4.182841</td>\n",
              "      <td>0.0</td>\n",
              "      <td>0.0</td>\n",
              "      <td>1000</td>\n",
              "    </tr>\n",
              "    <tr>\n",
              "      <th>7336</th>\n",
              "      <td>20973.0</td>\n",
              "      <td>3.100000</td>\n",
              "      <td>0.0</td>\n",
              "      <td>0.0</td>\n",
              "      <td>5000000</td>\n",
              "    </tr>\n",
              "  </tbody>\n",
              "</table>\n",
              "<p>6855 rows × 5 columns</p>\n",
              "</div>\n",
              "      <button class=\"colab-df-convert\" onclick=\"convertToInteractive('df-0a84ea38-60c0-4237-801f-ae4d0dc19cfc')\"\n",
              "              title=\"Convert this dataframe to an interactive table.\"\n",
              "              style=\"display:none;\">\n",
              "        \n",
              "  <svg xmlns=\"http://www.w3.org/2000/svg\" height=\"24px\"viewBox=\"0 0 24 24\"\n",
              "       width=\"24px\">\n",
              "    <path d=\"M0 0h24v24H0V0z\" fill=\"none\"/>\n",
              "    <path d=\"M18.56 5.44l.94 2.06.94-2.06 2.06-.94-2.06-.94-.94-2.06-.94 2.06-2.06.94zm-11 1L8.5 8.5l.94-2.06 2.06-.94-2.06-.94L8.5 2.5l-.94 2.06-2.06.94zm10 10l.94 2.06.94-2.06 2.06-.94-2.06-.94-.94-2.06-.94 2.06-2.06.94z\"/><path d=\"M17.41 7.96l-1.37-1.37c-.4-.4-.92-.59-1.43-.59-.52 0-1.04.2-1.43.59L10.3 9.45l-7.72 7.72c-.78.78-.78 2.05 0 2.83L4 21.41c.39.39.9.59 1.41.59.51 0 1.02-.2 1.41-.59l7.78-7.78 2.81-2.81c.8-.78.8-2.07 0-2.86zM5.41 20L4 18.59l7.72-7.72 1.47 1.35L5.41 20z\"/>\n",
              "  </svg>\n",
              "      </button>\n",
              "      \n",
              "  <style>\n",
              "    .colab-df-container {\n",
              "      display:flex;\n",
              "      flex-wrap:wrap;\n",
              "      gap: 12px;\n",
              "    }\n",
              "\n",
              "    .colab-df-convert {\n",
              "      background-color: #E8F0FE;\n",
              "      border: none;\n",
              "      border-radius: 50%;\n",
              "      cursor: pointer;\n",
              "      display: none;\n",
              "      fill: #1967D2;\n",
              "      height: 32px;\n",
              "      padding: 0 0 0 0;\n",
              "      width: 32px;\n",
              "    }\n",
              "\n",
              "    .colab-df-convert:hover {\n",
              "      background-color: #E2EBFA;\n",
              "      box-shadow: 0px 1px 2px rgba(60, 64, 67, 0.3), 0px 1px 3px 1px rgba(60, 64, 67, 0.15);\n",
              "      fill: #174EA6;\n",
              "    }\n",
              "\n",
              "    [theme=dark] .colab-df-convert {\n",
              "      background-color: #3B4455;\n",
              "      fill: #D2E3FC;\n",
              "    }\n",
              "\n",
              "    [theme=dark] .colab-df-convert:hover {\n",
              "      background-color: #434B5C;\n",
              "      box-shadow: 0px 1px 3px 1px rgba(0, 0, 0, 0.15);\n",
              "      filter: drop-shadow(0px 1px 2px rgba(0, 0, 0, 0.3));\n",
              "      fill: #FFFFFF;\n",
              "    }\n",
              "  </style>\n",
              "\n",
              "      <script>\n",
              "        const buttonEl =\n",
              "          document.querySelector('#df-0a84ea38-60c0-4237-801f-ae4d0dc19cfc button.colab-df-convert');\n",
              "        buttonEl.style.display =\n",
              "          google.colab.kernel.accessAllowed ? 'block' : 'none';\n",
              "\n",
              "        async function convertToInteractive(key) {\n",
              "          const element = document.querySelector('#df-0a84ea38-60c0-4237-801f-ae4d0dc19cfc');\n",
              "          const dataTable =\n",
              "            await google.colab.kernel.invokeFunction('convertToInteractive',\n",
              "                                                     [key], {});\n",
              "          if (!dataTable) return;\n",
              "\n",
              "          const docLinkHtml = 'Like what you see? Visit the ' +\n",
              "            '<a target=\"_blank\" href=https://colab.research.google.com/notebooks/data_table.ipynb>data table notebook</a>'\n",
              "            + ' to learn more about interactive tables.';\n",
              "          element.innerHTML = '';\n",
              "          dataTable['output_type'] = 'display_data';\n",
              "          await google.colab.output.renderOutput(dataTable, element);\n",
              "          const docLink = document.createElement('div');\n",
              "          docLink.innerHTML = docLinkHtml;\n",
              "          element.appendChild(docLink);\n",
              "        }\n",
              "      </script>\n",
              "    </div>\n",
              "  </div>\n",
              "  "
            ]
          },
          "metadata": {},
          "execution_count": 85
        }
      ]
    },
    {
      "cell_type": "code",
      "source": [
        "# DecisionTreeClassifier\n",
        "# KNeighborsClassifier\n",
        "modelos = []\n",
        "modelos.append(('DecisionTreeClassifier', DecisionTreeClassifier()))\n",
        "modelos.append(('KNeighborsClassifier', KNeighborsClassifier()))\n",
        "resultados = []\n",
        "\n",
        "for nombre,modelo in modelos:\n",
        "  modelo.fit(datos_entre,eti_entre)\n",
        "  resultado = modelo.score(datos_prueba, eti_prueba)\n",
        "  resultados.append(float(resultado * 100))\n",
        "  print('El modelo {} tiene como resultado {:.2f}%'.format(\n",
        "      nombre,\n",
        "      float(resultado * 100)\n",
        "  ))"
      ],
      "metadata": {
        "colab": {
          "base_uri": "https://localhost:8080/"
        },
        "id": "PXyDY2fv-QhN",
        "outputId": "6f38b029-851f-4a26-fc5c-807973bd0ac3"
      },
      "execution_count": null,
      "outputs": [
        {
          "output_type": "stream",
          "name": "stdout",
          "text": [
            "El modelo DecisionTreeClassifier tiene como resultado 48.16%\n",
            "El modelo KNeighborsClassifier tiene como resultado 45.36%\n"
          ]
        }
      ]
    },
    {
      "cell_type": "code",
      "source": [
        "print(eti_entre.value_counts())\n",
        "print(pd.Series(modelos[1][1].predict(datos_entre)).value_counts())"
      ],
      "metadata": {
        "colab": {
          "base_uri": "https://localhost:8080/"
        },
        "id": "Rm3v9u1z-UM_",
        "outputId": "ed56bf03-044b-4f7a-8dd9-9642d548b538"
      },
      "execution_count": null,
      "outputs": [
        {
          "output_type": "stream",
          "name": "stdout",
          "text": [
            "1000000       1003\n",
            "100000         787\n",
            "10000          744\n",
            "1000           660\n",
            "10000000       622\n",
            "100            533\n",
            "5000000        391\n",
            "500000         379\n",
            "5000           336\n",
            "50000          329\n",
            "10             262\n",
            "500            237\n",
            "50             149\n",
            "100000000      148\n",
            "50000000       118\n",
            "5               60\n",
            "1               51\n",
            "500000000       26\n",
            "0               11\n",
            "1000000000       9\n",
            "Name: Cantidad descargas, dtype: int64\n",
            "1000000       1120\n",
            "100000         916\n",
            "10000          879\n",
            "1000           675\n",
            "100            642\n",
            "10000000       606\n",
            "10             331\n",
            "5000000        316\n",
            "500000         266\n",
            "5000           246\n",
            "50000          237\n",
            "500            152\n",
            "100000000      136\n",
            "50             123\n",
            "50000000        96\n",
            "5               38\n",
            "1               31\n",
            "500000000       27\n",
            "1000000000      12\n",
            "0                6\n",
            "dtype: int64\n"
          ]
        }
      ]
    },
    {
      "cell_type": "code",
      "source": [
        "\"\"\"\n",
        "datos_predict = modelos[0][1].predict(datos_entre)\n",
        "confusion = confusion_matrix(eti_entre, datos_predict)\n",
        "print(confusion)\n",
        "# orden de retorno:\n",
        "# verdaderos negativo\n",
        "# falsos positivos\n",
        "# falsos negativos\n",
        "# verdaderos positivos\n",
        "# v1,v2,v3,v4=[1,2,3,4]\n",
        "vn, fp, fn, vp = confusion.ravel()\n",
        "matriz = np.array([[vp, fn], [fp, vn]])\n",
        "print(matriz)\n",
        "plt.figure(\n",
        "    figsize = (12,10)\n",
        ")\n",
        "grafico = plt.subplot()\n",
        "\n",
        "sns.heatmap(matriz, annot = True,\n",
        "            ax = grafico,\n",
        "            fmt = 'g')\n",
        "\n",
        "grafico.xaxis.set_ticklabels(['Positivo',\n",
        "                              'Negativo'])\n",
        "grafico.yaxis.set_ticklabels(['Verdaderos',\n",
        "                              'Falsos'])\n",
        "\n",
        "grafico.set_xlabel('Predicción')\n",
        "grafico.set_ylabel('Actual')\n",
        "\"\"\""
      ],
      "metadata": {
        "colab": {
          "base_uri": "https://localhost:8080/",
          "height": 106
        },
        "id": "qg0QRRuq-e78",
        "outputId": "d9fa8372-4e61-48b5-e82e-016be1288258"
      },
      "execution_count": null,
      "outputs": [
        {
          "output_type": "execute_result",
          "data": {
            "text/plain": [
              "\"\\ndatos_predict = modelos[0][1].predict(datos_entre)\\nconfusion = confusion_matrix(eti_entre, datos_predict)\\nprint(confusion)\\n# orden de retorno:\\n# verdaderos negativo\\n# falsos positivos\\n# falsos negativos\\n# verdaderos positivos\\n# v1,v2,v3,v4=[1,2,3,4]\\nvn, fp, fn, vp = confusion.ravel()\\nmatriz = np.array([[vp, fn], [fp, vn]])\\nprint(matriz)\\nplt.figure(\\n    figsize = (12,10)\\n)\\ngrafico = plt.subplot()\\n\\nsns.heatmap(matriz, annot = True,\\n            ax = grafico,\\n            fmt = 'g')\\n\\ngrafico.xaxis.set_ticklabels(['Positivo',\\n                              'Negativo'])\\ngrafico.yaxis.set_ticklabels(['Verdaderos',\\n                              'Falsos'])\\n\\ngrafico.set_xlabel('Predicción')\\ngrafico.set_ylabel('Actual')\\n\""
            ],
            "application/vnd.google.colaboratory.intrinsic+json": {
              "type": "string"
            }
          },
          "metadata": {},
          "execution_count": 88
        }
      ]
    },
    {
      "cell_type": "markdown",
      "source": [
        "# Modelo 4"
      ],
      "metadata": {
        "id": "JfCGCmjJVAi6"
      }
    },
    {
      "cell_type": "markdown",
      "source": [
        "## Implemente sus modelos desde aquí"
      ],
      "metadata": {
        "id": "NUDtKd40yjfZ"
      }
    },
    {
      "cell_type": "code",
      "source": [
        "dataframe.info()"
      ],
      "metadata": {
        "colab": {
          "base_uri": "https://localhost:8080/"
        },
        "id": "JpiI13sUVCeQ",
        "outputId": "461b62d0-860c-44f5-eb11-3c237077ca30"
      },
      "execution_count": null,
      "outputs": [
        {
          "output_type": "stream",
          "name": "stdout",
          "text": [
            "<class 'pandas.core.frame.DataFrame'>\n",
            "RangeIndex: 9141 entries, 0 to 9140\n",
            "Data columns (total 17 columns):\n",
            " #   Column                   Non-Null Count  Dtype  \n",
            "---  ------                   --------------  -----  \n",
            " 0   App                      9141 non-null   string \n",
            " 1   Categoría                9141 non-null   string \n",
            " 2   Valoración               7725 non-null   string \n",
            " 3   Comentarios              9141 non-null   int64  \n",
            " 4   Tamaño(M)                9141 non-null   string \n",
            " 5   Descargas                9141 non-null   string \n",
            " 6   Tipo                     9141 non-null   string \n",
            " 7   Precio                   9141 non-null   string \n",
            " 8   Clasificación            9141 non-null   string \n",
            " 9   Categoría (int)          9141 non-null   int64  \n",
            " 10  Valoración (float type)  9141 non-null   float64\n",
            " 11  Tamaño(M) (float type)   9141 non-null   float64\n",
            " 12  Tamaño(M) (int type)     9141 non-null   int64  \n",
            " 13  Cantidad descargas       9141 non-null   int64  \n",
            " 14  Tipo (int)               9141 non-null   int64  \n",
            " 15  Precio (float type)      9141 non-null   float64\n",
            " 16  Clasificación edad       9141 non-null   int64  \n",
            "dtypes: float64(3), int64(6), string(8)\n",
            "memory usage: 1.2 MB\n"
          ]
        }
      ]
    },
    {
      "cell_type": "code",
      "source": [
        "caracteristicas: list = [\n",
        "    \"Cantidad descargas\",\n",
        "    \"Valoración (float type)\",\n",
        "    \"Tipo (int)\",\n",
        "    \"Clasificación edad\"\n",
        "]\n",
        "\n",
        "data = dataframe[caracteristicas][1:] # X\n",
        "clase = dataframe[\"Categoría (int)\"][1:] # Y\n",
        "\n",
        "print(data, clase)"
      ],
      "metadata": {
        "colab": {
          "base_uri": "https://localhost:8080/"
        },
        "id": "EAF_n0ukVLJf",
        "outputId": "d272ac2c-622a-471d-b6fd-a42ba435aac9"
      },
      "execution_count": null,
      "outputs": [
        {
          "output_type": "stream",
          "name": "stdout",
          "text": [
            "      Cantidad descargas  Valoración (float type)  Tipo (int)  \\\n",
            "1                  10000                      4.7           0   \n",
            "2                1000000                      4.1           0   \n",
            "3                5000000                      4.3           0   \n",
            "4                1000000                      4.4           0   \n",
            "5                  50000                      4.7           0   \n",
            "...                  ...                      ...         ...   \n",
            "9136               10000                      3.0           0   \n",
            "9137                1000                      4.3           0   \n",
            "9138            10000000                      4.3           0   \n",
            "9139             5000000                      4.2           0   \n",
            "9140            10000000                      4.1           0   \n",
            "\n",
            "      Clasificación edad  \n",
            "1                     12  \n",
            "2                      0  \n",
            "3                      0  \n",
            "4                      0  \n",
            "5                      0  \n",
            "...                  ...  \n",
            "9136                   0  \n",
            "9137                   0  \n",
            "9138                   0  \n",
            "9139                   0  \n",
            "9140                   0  \n",
            "\n",
            "[9140 rows x 4 columns] 1        1\n",
            "2        1\n",
            "3        1\n",
            "4        1\n",
            "5        1\n",
            "        ..\n",
            "9136    33\n",
            "9137    33\n",
            "9138    33\n",
            "9139    33\n",
            "9140    33\n",
            "Name: Categoría (int), Length: 9140, dtype: int64\n"
          ]
        }
      ]
    },
    {
      "cell_type": "code",
      "source": [
        "rKFold = RepeatedKFold(\n",
        "    n_splits = int(75),\n",
        "    n_repeats = int(15),\n",
        "    random_state = int(7) # Asegura que se obtenga las mismas muestras cada vez que se genera el conjunto de datos\n",
        ")\n",
        "n_iteraciones: int = int(0)\n",
        "\n",
        "for p_entrenamiento, p_prueba in rKFold.split(data,clase):\n",
        "  datos_entrenamiento, datos_prueba = data.iloc[p_entrenamiento], data.iloc[p_prueba]\n",
        "  clasi_entrenamiento, clasi_prueba = clase.iloc[p_entrenamiento], clase.iloc[p_prueba]\n",
        "  n_iteraciones += int(1)\n",
        "\n",
        "print(\"El uso de datos para entrenamiento es {}, : {}\".format(\n",
        "    datos_entrenamiento.shape,\n",
        "    clasi_entrenamiento.shape\n",
        "))\n",
        "print(\"El uso de datos para prueba es {}, : {}\".format(\n",
        "    datos_prueba.shape,\n",
        "    clasi_prueba.shape\n",
        "))\n",
        "print(\"# iteraciones:\", n_iteraciones)"
      ],
      "metadata": {
        "colab": {
          "base_uri": "https://localhost:8080/"
        },
        "id": "U7ZHQdkWVezn",
        "outputId": "34475e48-6244-43ec-fd6a-f580e633ffe2"
      },
      "execution_count": null,
      "outputs": [
        {
          "output_type": "stream",
          "name": "stdout",
          "text": [
            "El uso de datos para entrenamiento es (9019, 4), : (9019,)\n",
            "El uso de datos para prueba es (121, 4), : (121,)\n",
            "# iteraciones: 1125\n"
          ]
        }
      ]
    },
    {
      "cell_type": "code",
      "source": [
        "# Modelos de ML\n",
        "# KNeighborsClassifier\n",
        "# LogisticRegression\n",
        "# SVC\n",
        "# GaussianNB\n",
        "# LinearDiscriminantAnalysis\n",
        "# DecisionTreeClassifier\n",
        "modelos: list = []\n",
        "modelos.append((\"KNC\",  KNeighborsClassifier()))\n",
        "modelos.append((\"LR\",   LogisticRegression()))\n",
        "modelos.append((\"SVC\",  SVC(gamma = \"auto\")))\n",
        "modelos.append((\"GNV\",  GaussianNB()))\n",
        "modelos.append((\"LDA\",  LinearDiscriminantAnalysis()))\n",
        "modelos.append((\"DTC\",  DecisionTreeClassifier()))\n",
        "\n",
        "for nombre, modelo in modelos:\n",
        "  modelo.fit(datos_entrenamiento, clasi_entrenamiento)\n",
        "  resultado: float = modelo.score(datos_prueba, clasi_prueba)\n",
        "  print(\"El modelo {modelo}, tiene una presición de {presi:.3f}%\".format(\n",
        "      modelo = str(nombre),\n",
        "      presi = float(resultado * 100)\n",
        "  ))"
      ],
      "metadata": {
        "colab": {
          "base_uri": "https://localhost:8080/"
        },
        "id": "1MHfEm_yVjl_",
        "outputId": "a9889cbc-5748-4377-9d40-45c93b728390"
      },
      "execution_count": null,
      "outputs": [
        {
          "output_type": "stream",
          "name": "stdout",
          "text": [
            "El modelo KNC, tiene una presición de 21.488%\n"
          ]
        },
        {
          "output_type": "stream",
          "name": "stderr",
          "text": [
            "/usr/local/lib/python3.7/dist-packages/sklearn/linear_model/_logistic.py:818: ConvergenceWarning: lbfgs failed to converge (status=1):\n",
            "STOP: TOTAL NO. of ITERATIONS REACHED LIMIT.\n",
            "\n",
            "Increase the number of iterations (max_iter) or scale the data as shown in:\n",
            "    https://scikit-learn.org/stable/modules/preprocessing.html\n",
            "Please also refer to the documentation for alternative solver options:\n",
            "    https://scikit-learn.org/stable/modules/linear_model.html#logistic-regression\n",
            "  extra_warning_msg=_LOGISTIC_SOLVER_CONVERGENCE_MSG,\n"
          ]
        },
        {
          "output_type": "stream",
          "name": "stdout",
          "text": [
            "El modelo LR, tiene una presición de 11.570%\n",
            "El modelo SVC, tiene una presición de 22.314%\n",
            "El modelo GNV, tiene una presición de 14.876%\n",
            "El modelo LDA, tiene una presición de 19.835%\n",
            "El modelo DTC, tiene una presición de 32.231%\n"
          ]
        }
      ]
    },
    {
      "cell_type": "code",
      "source": [
        "modelos"
      ],
      "metadata": {
        "colab": {
          "base_uri": "https://localhost:8080/"
        },
        "id": "wq3W8EhXlPWW",
        "outputId": "9f8667cf-6995-45b7-8155-d895c8361fe5"
      },
      "execution_count": null,
      "outputs": [
        {
          "output_type": "execute_result",
          "data": {
            "text/plain": [
              "[('KNC', KNeighborsClassifier()),\n",
              " ('LR', LogisticRegression()),\n",
              " ('SVC', SVC(gamma='auto')),\n",
              " ('GNV', GaussianNB()),\n",
              " ('LDA', LinearDiscriminantAnalysis()),\n",
              " ('DTC', DecisionTreeClassifier())]"
            ]
          },
          "metadata": {},
          "execution_count": 93
        }
      ]
    },
    {
      "cell_type": "code",
      "source": [
        "modelo_final: list = modelos[5][1] # Obtener el modelo de la posición 1 y su modelo como tal\n",
        "predict = modelo_final.predict(datos_prueba)\n",
        "print(predict, \"\\n\", clasi_prueba)"
      ],
      "metadata": {
        "colab": {
          "base_uri": "https://localhost:8080/"
        },
        "id": "sGdsYKSZlYgS",
        "outputId": "3c182ace-4e4b-43ae-d6af-df14981d74ba"
      },
      "execution_count": null,
      "outputs": [
        {
          "output_type": "stream",
          "name": "stdout",
          "text": [
            "[ 3 14 14 14 12  2 14 16 19 14 19 14 12  7 14  8  9  9 14 14 12  7 14 23\n",
            " 30 14 14 14 14 14 14 28 14 14 14 14 14 16 16 14 14 14 14 28 14 14 14 14\n",
            " 14 14 14 19 15  3 14 17 17 17 19 14  7 14 17 15 24 14 19 14 14 14 14 14\n",
            " 19 14 19 19 14 14 24 14 14 17 14 23 23 14 23 14 23 24 14 14 25 14 19 14\n",
            " 14 14 14 26 19  7 27 14 14 14 14 14 17 14  3 14 14 30 30 17 14 19 14 14\n",
            " 17] \n",
            " 139      3\n",
            "176      3\n",
            "183      4\n",
            "322      5\n",
            "328      5\n",
            "        ..\n",
            "8617    30\n",
            "8632    30\n",
            "8909    32\n",
            "8918    32\n",
            "9061    33\n",
            "Name: Categoría (int), Length: 121, dtype: int64\n"
          ]
        }
      ]
    },
    {
      "cell_type": "code",
      "source": [
        "modelo_final.feature_names_in_"
      ],
      "metadata": {
        "colab": {
          "base_uri": "https://localhost:8080/"
        },
        "id": "h4PirX0flaRp",
        "outputId": "8d29d841-ee11-4271-a3e6-d16448ca1364"
      },
      "execution_count": null,
      "outputs": [
        {
          "output_type": "execute_result",
          "data": {
            "text/plain": [
              "array(['Cantidad descargas', 'Valoración (float type)', 'Tipo (int)',\n",
              "       'Clasificación edad'], dtype=object)"
            ]
          },
          "metadata": {},
          "execution_count": 95
        }
      ]
    },
    {
      "cell_type": "code",
      "source": [
        "modelo_final"
      ],
      "metadata": {
        "colab": {
          "base_uri": "https://localhost:8080/"
        },
        "id": "pgWdXYg4leXz",
        "outputId": "557bc9c8-ab61-4568-d64a-ec43603a7f41"
      },
      "execution_count": null,
      "outputs": [
        {
          "output_type": "execute_result",
          "data": {
            "text/plain": [
              "DecisionTreeClassifier()"
            ]
          },
          "metadata": {},
          "execution_count": 96
        }
      ]
    },
    {
      "cell_type": "markdown",
      "source": [
        "## Evalúe sus modelos"
      ],
      "metadata": {
        "id": "kYuvc5nGy5f_"
      }
    },
    {
      "cell_type": "code",
      "source": [
        "print(\"Categorías: {}\".format(\n",
        "    caracteristicas\n",
        "))\n",
        "\n",
        "print(\"\")\n",
        "\n",
        "print(dataframe[[\"Tipo\", \"Tipo (int)\"]].value_counts())\n",
        "\n",
        "print(\"\")\n",
        "\n",
        "print(dataframe[[\"Clasificación\", \"Clasificación edad\"]].value_counts())"
      ],
      "metadata": {
        "colab": {
          "base_uri": "https://localhost:8080/"
        },
        "id": "WAS1GeLwllOA",
        "outputId": "4612046f-e5d7-4a34-9fbf-db4fbbb73454"
      },
      "execution_count": null,
      "outputs": [
        {
          "output_type": "stream",
          "name": "stdout",
          "text": [
            "Categorías: ['Cantidad descargas', 'Valoración (float type)', 'Tipo (int)', 'Clasificación edad']\n",
            "\n",
            "Tipo    Tipo (int)\n",
            "Gratis  0             8417\n",
            "Pago    1              724\n",
            "dtype: int64\n",
            "\n",
            "Clasificación       Clasificación edad\n",
            "Todo público         0                    7415\n",
            "Adolescentes         12                    986\n",
            "Mayores de 17 años   17                    405\n",
            "Mayores de 10 años   10                    331\n",
            "Sin clasificación   -1                       2\n",
            "Sólo adultos         18                      2\n",
            "dtype: int64\n"
          ]
        }
      ]
    },
    {
      "cell_type": "code",
      "source": [
        "mean_comentarios: int = dataframe[\"Comentarios\"].mean().round().astype(int)\n",
        "mean_valoracion: float = dataframe[\"Valoración (float type)\"].mean().astype(float)\n",
        "\n",
        "catnum = list(dataframe[\"Categoría (int)\"].unique())\n",
        "cat = list(dataframe[\"Categoría\"].unique())\n",
        "index = str(\"\")\n",
        "\n",
        "array: list = []\n",
        "array.append(0)\n",
        "array.append(10)\n",
        "array.append(12)\n",
        "array.append(17)\n",
        "array.append(18)\n",
        "array.append(-1)\n",
        "\n",
        "i: int = int(0)\n",
        "\n",
        "for value in array:\n",
        "  data_p = pd.DataFrame(np.array([\n",
        "        mean_comentarios, # Colentarios - \n",
        "        mean_valoracion,  # Valoración\n",
        "        0,    # Tipo\n",
        "        value    # Calificación\n",
        "        ]).reshape(1, -1),\n",
        "        columns = caracteristicas)\n",
        "\n",
        "  prediction = modelo_final.predict(data_p)\n",
        "\n",
        "  if prediction in catnum:\n",
        "    index = catnum.index(prediction)\n",
        "    index = cat[index]\n",
        "\n",
        "  print(\"{i}° predicción de la categoría con tipo 'pago' y clasificación {clasificacion}: {modelo} (número {modeloNum}) \\n\".format(\n",
        "      i = int(i + 1),\n",
        "      clasificacion = str(value),\n",
        "      modelo = index.lower(),\n",
        "      modeloNum = prediction\n",
        "  ))\n",
        "\n",
        "  i += int(1)"
      ],
      "metadata": {
        "colab": {
          "base_uri": "https://localhost:8080/"
        },
        "id": "5Q7Y5Q4cmNkj",
        "outputId": "17bbfeaa-b6c1-4b8d-dbed-58bd090ece7a"
      },
      "execution_count": null,
      "outputs": [
        {
          "output_type": "stream",
          "name": "stdout",
          "text": [
            "1° predicción de la categoría con tipo 'pago' y clasificación 0: médico (número [23]) \n",
            "\n",
            "2° predicción de la categoría con tipo 'pago' y clasificación 10: juego (número [19]) \n",
            "\n",
            "3° predicción de la categoría con tipo 'pago' y clasificación 12: juego (número [19]) \n",
            "\n",
            "4° predicción de la categoría con tipo 'pago' y clasificación 17: médico (número [23]) \n",
            "\n",
            "5° predicción de la categoría con tipo 'pago' y clasificación 18: médico (número [23]) \n",
            "\n",
            "6° predicción de la categoría con tipo 'pago' y clasificación -1: médico (número [23]) \n",
            "\n"
          ]
        }
      ]
    },
    {
      "cell_type": "code",
      "source": [
        "i: int = int(0)\n",
        "\n",
        "catnum = list(dataframe[\"Categoría (int)\"].unique())\n",
        "cat = list(dataframe[\"Categoría\"].unique())\n",
        "index = str(\"\")\n",
        "\n",
        "for value in array:\n",
        "  data_p = pd.DataFrame(np.array([\n",
        "        mean_comentarios, # Colentarios - \n",
        "        mean_valoracion,  # Valoración\n",
        "        1,    # Tipo\n",
        "        value    # Calificación\n",
        "        ]).reshape(1, -1),\n",
        "        columns = caracteristicas)\n",
        "\n",
        "  prediction = modelo_final.predict(data_p)\n",
        "\n",
        "  if prediction in catnum:\n",
        "    index = catnum.index(prediction)\n",
        "    index = cat[index]\n",
        "\n",
        "  print(\"{i}° predicción de la categoría con tipo 'pago' y clasificación {clasificacion}: {modelo} (número de la clasificación {modeloNum}) \\n\".format(\n",
        "      i = int(i + 1),\n",
        "      clasificacion = str(value),\n",
        "      modelo = index.lower(),\n",
        "      modeloNum = prediction\n",
        "  ))\n",
        "\n",
        "  i += int(1)"
      ],
      "metadata": {
        "colab": {
          "base_uri": "https://localhost:8080/"
        },
        "id": "5yuce8uqpywu",
        "outputId": "6b3c3ff4-f25d-4899-e9ad-549d46592fb9"
      },
      "execution_count": null,
      "outputs": [
        {
          "output_type": "stream",
          "name": "stdout",
          "text": [
            "1° predicción de la categoría con tipo 'pago' y clasificación 0: médico (número de la clasificación [23]) \n",
            "\n",
            "2° predicción de la categoría con tipo 'pago' y clasificación 10: familia (número de la clasificación [14]) \n",
            "\n",
            "3° predicción de la categoría con tipo 'pago' y clasificación 12: juego (número de la clasificación [19]) \n",
            "\n",
            "4° predicción de la categoría con tipo 'pago' y clasificación 17: médico (número de la clasificación [23]) \n",
            "\n",
            "5° predicción de la categoría con tipo 'pago' y clasificación 18: médico (número de la clasificación [23]) \n",
            "\n",
            "6° predicción de la categoría con tipo 'pago' y clasificación -1: médico (número de la clasificación [23]) \n",
            "\n"
          ]
        }
      ]
    },
    {
      "cell_type": "markdown",
      "source": [
        "## Accuracy"
      ],
      "metadata": {
        "id": "8ckGfEF8Abtm"
      }
    },
    {
      "cell_type": "code",
      "source": [
        "caracteristicas = dataframe[caracteristicas].astype(np.float64)\n",
        "label = dataframe['Categoría (int)']\n",
        "print(caracteristicas)\n",
        "print(label)"
      ],
      "metadata": {
        "colab": {
          "base_uri": "https://localhost:8080/"
        },
        "id": "rrV3MTmzAe4E",
        "outputId": "f495b262-281b-4e02-9dd0-dcf0c586f882"
      },
      "execution_count": null,
      "outputs": [
        {
          "output_type": "stream",
          "name": "stdout",
          "text": [
            "      Cantidad descargas  Valoración (float type)  Tipo (int)  \\\n",
            "0                 5000.0                      4.8         0.0   \n",
            "1                10000.0                      4.7         0.0   \n",
            "2              1000000.0                      4.1         0.0   \n",
            "3              5000000.0                      4.3         0.0   \n",
            "4              1000000.0                      4.4         0.0   \n",
            "...                  ...                      ...         ...   \n",
            "9136             10000.0                      3.0         0.0   \n",
            "9137              1000.0                      4.3         0.0   \n",
            "9138          10000000.0                      4.3         0.0   \n",
            "9139           5000000.0                      4.2         0.0   \n",
            "9140          10000000.0                      4.1         0.0   \n",
            "\n",
            "      Clasificación edad  \n",
            "0                    0.0  \n",
            "1                   12.0  \n",
            "2                    0.0  \n",
            "3                    0.0  \n",
            "4                    0.0  \n",
            "...                  ...  \n",
            "9136                 0.0  \n",
            "9137                 0.0  \n",
            "9138                 0.0  \n",
            "9139                 0.0  \n",
            "9140                 0.0  \n",
            "\n",
            "[9141 rows x 4 columns]\n",
            "0        1\n",
            "1        1\n",
            "2        1\n",
            "3        1\n",
            "4        1\n",
            "        ..\n",
            "9136    33\n",
            "9137    33\n",
            "9138    33\n",
            "9139    33\n",
            "9140    33\n",
            "Name: Categoría (int), Length: 9141, dtype: int64\n"
          ]
        }
      ]
    },
    {
      "cell_type": "code",
      "source": [
        "datos_entre, datos_prueba, eti_entre, eti_prueba = train_test_split(\n",
        "    caracteristicas,\n",
        "    label,\n",
        "    test_size = 0.25,\n",
        "    random_state = 2\n",
        ")\n",
        "print('Los datos para entrenamiento son:',datos_entre.shape)\n",
        "print('Los datos para prueba son:',datos_prueba.shape)\n",
        "print('Los eti para entrenamiento son:',eti_entre.shape)\n",
        "print('Los eti para prueba son:',eti_prueba.shape)"
      ],
      "metadata": {
        "colab": {
          "base_uri": "https://localhost:8080/"
        },
        "id": "cY0CIIszAiqf",
        "outputId": "1d059488-bae1-4688-a9a2-9e94903f6b3b"
      },
      "execution_count": null,
      "outputs": [
        {
          "output_type": "stream",
          "name": "stdout",
          "text": [
            "Los datos para entrenamiento son: (6855, 4)\n",
            "Los datos para prueba son: (2286, 4)\n",
            "Los eti para entrenamiento son: (6855,)\n",
            "Los eti para prueba son: (2286,)\n"
          ]
        }
      ]
    },
    {
      "cell_type": "code",
      "source": [
        "print(datos_entre)\n",
        "print(eti_entre)\n",
        "datos_entre.join(eti_entre)"
      ],
      "metadata": {
        "colab": {
          "base_uri": "https://localhost:8080/",
          "height": 1000
        },
        "id": "pkhMTNtzEJG-",
        "outputId": "a3560589-0615-47be-eace-fb8eb7081e4c"
      },
      "execution_count": null,
      "outputs": [
        {
          "output_type": "stream",
          "name": "stdout",
          "text": [
            "      Cantidad descargas  Valoración (float type)  Tipo (int)  \\\n",
            "5546            100000.0                 4.600000         1.0   \n",
            "6288              1000.0                 4.320139         0.0   \n",
            "191            5000000.0                 4.500000         0.0   \n",
            "8751            100000.0                 4.300000         0.0   \n",
            "8391          10000000.0                 4.400000         0.0   \n",
            "...                  ...                      ...         ...   \n",
            "1099            500000.0                 4.300000         0.0   \n",
            "2514           1000000.0                 4.300000         0.0   \n",
            "6637              1000.0                 4.179630         0.0   \n",
            "2575              1000.0                 4.182841         0.0   \n",
            "7336           5000000.0                 3.100000         0.0   \n",
            "\n",
            "      Clasificación edad  \n",
            "5546                10.0  \n",
            "6288                 0.0  \n",
            "191                  0.0  \n",
            "8751                 0.0  \n",
            "8391                 0.0  \n",
            "...                  ...  \n",
            "1099                 0.0  \n",
            "2514                12.0  \n",
            "6637                 0.0  \n",
            "2575                 0.0  \n",
            "7336                 0.0  \n",
            "\n",
            "[6855 rows x 4 columns]\n",
            "5546    19\n",
            "6288    21\n",
            "191      4\n",
            "8751    31\n",
            "8391    29\n",
            "        ..\n",
            "1099     9\n",
            "2514    14\n",
            "6637    23\n",
            "2575    14\n",
            "7336    24\n",
            "Name: Categoría (int), Length: 6855, dtype: int64\n"
          ]
        },
        {
          "output_type": "execute_result",
          "data": {
            "text/plain": [
              "      Cantidad descargas  Valoración (float type)  Tipo (int)  \\\n",
              "5546            100000.0                 4.600000         1.0   \n",
              "6288              1000.0                 4.320139         0.0   \n",
              "191            5000000.0                 4.500000         0.0   \n",
              "8751            100000.0                 4.300000         0.0   \n",
              "8391          10000000.0                 4.400000         0.0   \n",
              "...                  ...                      ...         ...   \n",
              "1099            500000.0                 4.300000         0.0   \n",
              "2514           1000000.0                 4.300000         0.0   \n",
              "6637              1000.0                 4.179630         0.0   \n",
              "2575              1000.0                 4.182841         0.0   \n",
              "7336           5000000.0                 3.100000         0.0   \n",
              "\n",
              "      Clasificación edad  Categoría (int)  \n",
              "5546                10.0               19  \n",
              "6288                 0.0               21  \n",
              "191                  0.0                4  \n",
              "8751                 0.0               31  \n",
              "8391                 0.0               29  \n",
              "...                  ...              ...  \n",
              "1099                 0.0                9  \n",
              "2514                12.0               14  \n",
              "6637                 0.0               23  \n",
              "2575                 0.0               14  \n",
              "7336                 0.0               24  \n",
              "\n",
              "[6855 rows x 5 columns]"
            ],
            "text/html": [
              "\n",
              "  <div id=\"df-925d637d-6269-4bca-ae71-191df0cb3ec8\">\n",
              "    <div class=\"colab-df-container\">\n",
              "      <div>\n",
              "<style scoped>\n",
              "    .dataframe tbody tr th:only-of-type {\n",
              "        vertical-align: middle;\n",
              "    }\n",
              "\n",
              "    .dataframe tbody tr th {\n",
              "        vertical-align: top;\n",
              "    }\n",
              "\n",
              "    .dataframe thead th {\n",
              "        text-align: right;\n",
              "    }\n",
              "</style>\n",
              "<table border=\"1\" class=\"dataframe\">\n",
              "  <thead>\n",
              "    <tr style=\"text-align: right;\">\n",
              "      <th></th>\n",
              "      <th>Cantidad descargas</th>\n",
              "      <th>Valoración (float type)</th>\n",
              "      <th>Tipo (int)</th>\n",
              "      <th>Clasificación edad</th>\n",
              "      <th>Categoría (int)</th>\n",
              "    </tr>\n",
              "  </thead>\n",
              "  <tbody>\n",
              "    <tr>\n",
              "      <th>5546</th>\n",
              "      <td>100000.0</td>\n",
              "      <td>4.600000</td>\n",
              "      <td>1.0</td>\n",
              "      <td>10.0</td>\n",
              "      <td>19</td>\n",
              "    </tr>\n",
              "    <tr>\n",
              "      <th>6288</th>\n",
              "      <td>1000.0</td>\n",
              "      <td>4.320139</td>\n",
              "      <td>0.0</td>\n",
              "      <td>0.0</td>\n",
              "      <td>21</td>\n",
              "    </tr>\n",
              "    <tr>\n",
              "      <th>191</th>\n",
              "      <td>5000000.0</td>\n",
              "      <td>4.500000</td>\n",
              "      <td>0.0</td>\n",
              "      <td>0.0</td>\n",
              "      <td>4</td>\n",
              "    </tr>\n",
              "    <tr>\n",
              "      <th>8751</th>\n",
              "      <td>100000.0</td>\n",
              "      <td>4.300000</td>\n",
              "      <td>0.0</td>\n",
              "      <td>0.0</td>\n",
              "      <td>31</td>\n",
              "    </tr>\n",
              "    <tr>\n",
              "      <th>8391</th>\n",
              "      <td>10000000.0</td>\n",
              "      <td>4.400000</td>\n",
              "      <td>0.0</td>\n",
              "      <td>0.0</td>\n",
              "      <td>29</td>\n",
              "    </tr>\n",
              "    <tr>\n",
              "      <th>...</th>\n",
              "      <td>...</td>\n",
              "      <td>...</td>\n",
              "      <td>...</td>\n",
              "      <td>...</td>\n",
              "      <td>...</td>\n",
              "    </tr>\n",
              "    <tr>\n",
              "      <th>1099</th>\n",
              "      <td>500000.0</td>\n",
              "      <td>4.300000</td>\n",
              "      <td>0.0</td>\n",
              "      <td>0.0</td>\n",
              "      <td>9</td>\n",
              "    </tr>\n",
              "    <tr>\n",
              "      <th>2514</th>\n",
              "      <td>1000000.0</td>\n",
              "      <td>4.300000</td>\n",
              "      <td>0.0</td>\n",
              "      <td>12.0</td>\n",
              "      <td>14</td>\n",
              "    </tr>\n",
              "    <tr>\n",
              "      <th>6637</th>\n",
              "      <td>1000.0</td>\n",
              "      <td>4.179630</td>\n",
              "      <td>0.0</td>\n",
              "      <td>0.0</td>\n",
              "      <td>23</td>\n",
              "    </tr>\n",
              "    <tr>\n",
              "      <th>2575</th>\n",
              "      <td>1000.0</td>\n",
              "      <td>4.182841</td>\n",
              "      <td>0.0</td>\n",
              "      <td>0.0</td>\n",
              "      <td>14</td>\n",
              "    </tr>\n",
              "    <tr>\n",
              "      <th>7336</th>\n",
              "      <td>5000000.0</td>\n",
              "      <td>3.100000</td>\n",
              "      <td>0.0</td>\n",
              "      <td>0.0</td>\n",
              "      <td>24</td>\n",
              "    </tr>\n",
              "  </tbody>\n",
              "</table>\n",
              "<p>6855 rows × 5 columns</p>\n",
              "</div>\n",
              "      <button class=\"colab-df-convert\" onclick=\"convertToInteractive('df-925d637d-6269-4bca-ae71-191df0cb3ec8')\"\n",
              "              title=\"Convert this dataframe to an interactive table.\"\n",
              "              style=\"display:none;\">\n",
              "        \n",
              "  <svg xmlns=\"http://www.w3.org/2000/svg\" height=\"24px\"viewBox=\"0 0 24 24\"\n",
              "       width=\"24px\">\n",
              "    <path d=\"M0 0h24v24H0V0z\" fill=\"none\"/>\n",
              "    <path d=\"M18.56 5.44l.94 2.06.94-2.06 2.06-.94-2.06-.94-.94-2.06-.94 2.06-2.06.94zm-11 1L8.5 8.5l.94-2.06 2.06-.94-2.06-.94L8.5 2.5l-.94 2.06-2.06.94zm10 10l.94 2.06.94-2.06 2.06-.94-2.06-.94-.94-2.06-.94 2.06-2.06.94z\"/><path d=\"M17.41 7.96l-1.37-1.37c-.4-.4-.92-.59-1.43-.59-.52 0-1.04.2-1.43.59L10.3 9.45l-7.72 7.72c-.78.78-.78 2.05 0 2.83L4 21.41c.39.39.9.59 1.41.59.51 0 1.02-.2 1.41-.59l7.78-7.78 2.81-2.81c.8-.78.8-2.07 0-2.86zM5.41 20L4 18.59l7.72-7.72 1.47 1.35L5.41 20z\"/>\n",
              "  </svg>\n",
              "      </button>\n",
              "      \n",
              "  <style>\n",
              "    .colab-df-container {\n",
              "      display:flex;\n",
              "      flex-wrap:wrap;\n",
              "      gap: 12px;\n",
              "    }\n",
              "\n",
              "    .colab-df-convert {\n",
              "      background-color: #E8F0FE;\n",
              "      border: none;\n",
              "      border-radius: 50%;\n",
              "      cursor: pointer;\n",
              "      display: none;\n",
              "      fill: #1967D2;\n",
              "      height: 32px;\n",
              "      padding: 0 0 0 0;\n",
              "      width: 32px;\n",
              "    }\n",
              "\n",
              "    .colab-df-convert:hover {\n",
              "      background-color: #E2EBFA;\n",
              "      box-shadow: 0px 1px 2px rgba(60, 64, 67, 0.3), 0px 1px 3px 1px rgba(60, 64, 67, 0.15);\n",
              "      fill: #174EA6;\n",
              "    }\n",
              "\n",
              "    [theme=dark] .colab-df-convert {\n",
              "      background-color: #3B4455;\n",
              "      fill: #D2E3FC;\n",
              "    }\n",
              "\n",
              "    [theme=dark] .colab-df-convert:hover {\n",
              "      background-color: #434B5C;\n",
              "      box-shadow: 0px 1px 3px 1px rgba(0, 0, 0, 0.15);\n",
              "      filter: drop-shadow(0px 1px 2px rgba(0, 0, 0, 0.3));\n",
              "      fill: #FFFFFF;\n",
              "    }\n",
              "  </style>\n",
              "\n",
              "      <script>\n",
              "        const buttonEl =\n",
              "          document.querySelector('#df-925d637d-6269-4bca-ae71-191df0cb3ec8 button.colab-df-convert');\n",
              "        buttonEl.style.display =\n",
              "          google.colab.kernel.accessAllowed ? 'block' : 'none';\n",
              "\n",
              "        async function convertToInteractive(key) {\n",
              "          const element = document.querySelector('#df-925d637d-6269-4bca-ae71-191df0cb3ec8');\n",
              "          const dataTable =\n",
              "            await google.colab.kernel.invokeFunction('convertToInteractive',\n",
              "                                                     [key], {});\n",
              "          if (!dataTable) return;\n",
              "\n",
              "          const docLinkHtml = 'Like what you see? Visit the ' +\n",
              "            '<a target=\"_blank\" href=https://colab.research.google.com/notebooks/data_table.ipynb>data table notebook</a>'\n",
              "            + ' to learn more about interactive tables.';\n",
              "          element.innerHTML = '';\n",
              "          dataTable['output_type'] = 'display_data';\n",
              "          await google.colab.output.renderOutput(dataTable, element);\n",
              "          const docLink = document.createElement('div');\n",
              "          docLink.innerHTML = docLinkHtml;\n",
              "          element.appendChild(docLink);\n",
              "        }\n",
              "      </script>\n",
              "    </div>\n",
              "  </div>\n",
              "  "
            ]
          },
          "metadata": {},
          "execution_count": 102
        }
      ]
    },
    {
      "cell_type": "code",
      "source": [
        "# DecisionTreeClassifier\n",
        "# KNeighborsClassifier\n",
        "modelos = []\n",
        "modelos.append(('DecisionTreeClassifier', DecisionTreeClassifier()))\n",
        "modelos.append(('KNeighborsClassifier', KNeighborsClassifier()))\n",
        "resultados = []\n",
        "\n",
        "for nombre,modelo in modelos:\n",
        "  modelo.fit(datos_entre,eti_entre)\n",
        "  resultado = modelo.score(datos_prueba, eti_prueba)\n",
        "  resultados.append(float(resultado * 100))\n",
        "  print('El modelo {} tiene como resultado {:.2f}%'.format(\n",
        "      nombre,\n",
        "      float(resultado * 100)\n",
        "  ))"
      ],
      "metadata": {
        "colab": {
          "base_uri": "https://localhost:8080/"
        },
        "id": "2gGTCJSQENWs",
        "outputId": "dc7f4935-1290-42c4-a487-c98b55df473c"
      },
      "execution_count": null,
      "outputs": [
        {
          "output_type": "stream",
          "name": "stdout",
          "text": [
            "El modelo DecisionTreeClassifier tiene como resultado 34.30%\n",
            "El modelo KNeighborsClassifier tiene como resultado 26.95%\n"
          ]
        }
      ]
    },
    {
      "cell_type": "code",
      "source": [
        "print(eti_entre.value_counts())\n",
        "print(pd.Series(modelos[1][1].predict(datos_entre)).value_counts())"
      ],
      "metadata": {
        "colab": {
          "base_uri": "https://localhost:8080/"
        },
        "id": "mwjTHuvGFLQI",
        "outputId": "b1d92056-4bb8-43de-bec9-0b0a10ed1254"
      },
      "execution_count": null,
      "outputs": [
        {
          "output_type": "stream",
          "name": "stdout",
          "text": [
            "14    1310\n",
            "19     808\n",
            "17     561\n",
            "23     336\n",
            "24     300\n",
            "12     257\n",
            "27     248\n",
            "28     239\n",
            "15     237\n",
            "9      230\n",
            "30     192\n",
            "7      187\n",
            "16     183\n",
            "25     171\n",
            "8      161\n",
            "6      157\n",
            "31     155\n",
            "33     141\n",
            "21     140\n",
            "10      98\n",
            "29      96\n",
            "22      82\n",
            "11      77\n",
            "5       74\n",
            "20      64\n",
            "32      60\n",
            "3       50\n",
            "1       44\n",
            "26      43\n",
            "13      41\n",
            "2       40\n",
            "4       40\n",
            "18      33\n",
            "Name: Categoría (int), dtype: int64\n",
            "14    2199\n",
            "19     684\n",
            "17     418\n",
            "9      401\n",
            "12     299\n",
            "23     272\n",
            "8      269\n",
            "15     222\n",
            "7      220\n",
            "6      219\n",
            "10     165\n",
            "24     150\n",
            "5      147\n",
            "27     133\n",
            "16     119\n",
            "2      116\n",
            "3      109\n",
            "1      105\n",
            "30     101\n",
            "25      97\n",
            "28      86\n",
            "11      65\n",
            "4       61\n",
            "31      47\n",
            "21      46\n",
            "13      41\n",
            "33      19\n",
            "29      10\n",
            "22       9\n",
            "20       9\n",
            "26       9\n",
            "32       8\n",
            "dtype: int64\n"
          ]
        }
      ]
    },
    {
      "cell_type": "code",
      "source": [
        "\"\"\"\n",
        "datos_predict = modelos[0][1].predict(datos_entre)\n",
        "confusion = confusion_matrix(eti_entre, datos_predict)\n",
        "print(confusion)\n",
        "# orden de retorno:\n",
        "# verdaderos negativo\n",
        "# falsos positivos\n",
        "# falsos negativos\n",
        "# verdaderos positivos\n",
        "# v1,v2,v3,v4=[1,2,3,4]\n",
        "vn, fp, fn, vp = confusion.ravel()\n",
        "matriz = np.array([[vp, fn], [fp, vn]])\n",
        "print(matriz)\n",
        "plt.figure(\n",
        "    figsize = (12,10)\n",
        ")\n",
        "grafico = plt.subplot()\n",
        "\n",
        "sns.heatmap(matriz, annot = True,\n",
        "            ax = grafico,\n",
        "            fmt = 'g')\n",
        "\n",
        "grafico.xaxis.set_ticklabels(['Positivo',\n",
        "                              'Negativo'])\n",
        "grafico.yaxis.set_ticklabels(['Verdaderos',\n",
        "                              'Falsos'])\n",
        "\n",
        "grafico.set_xlabel('Predicción')\n",
        "grafico.set_ylabel('Actual')\n",
        "\"\"\""
      ],
      "metadata": {
        "colab": {
          "base_uri": "https://localhost:8080/",
          "height": 106
        },
        "id": "Eq7oaoNUFR4K",
        "outputId": "adb3df71-455d-4bf5-aa51-9eb2c8523f04"
      },
      "execution_count": null,
      "outputs": [
        {
          "output_type": "execute_result",
          "data": {
            "text/plain": [
              "\"\\ndatos_predict = modelos[0][1].predict(datos_entre)\\nconfusion = confusion_matrix(eti_entre, datos_predict)\\nprint(confusion)\\n# orden de retorno:\\n# verdaderos negativo\\n# falsos positivos\\n# falsos negativos\\n# verdaderos positivos\\n# v1,v2,v3,v4=[1,2,3,4]\\nvn, fp, fn, vp = confusion.ravel()\\nmatriz = np.array([[vp, fn], [fp, vn]])\\nprint(matriz)\\nplt.figure(\\n    figsize = (12,10)\\n)\\ngrafico = plt.subplot()\\n\\nsns.heatmap(matriz, annot = True,\\n            ax = grafico,\\n            fmt = 'g')\\n\\ngrafico.xaxis.set_ticklabels(['Positivo',\\n                              'Negativo'])\\ngrafico.yaxis.set_ticklabels(['Verdaderos',\\n                              'Falsos'])\\n\\ngrafico.set_xlabel('Predicción')\\ngrafico.set_ylabel('Actual')\\n\""
            ],
            "application/vnd.google.colaboratory.intrinsic+json": {
              "type": "string"
            }
          },
          "metadata": {},
          "execution_count": 105
        }
      ]
    },
    {
      "cell_type": "markdown",
      "source": [
        "# Modelo 5"
      ],
      "metadata": {
        "id": "Iy8uY80JXAE_"
      }
    },
    {
      "cell_type": "markdown",
      "source": [
        "## Implemente sus modelos desde aquí"
      ],
      "metadata": {
        "id": "rbOaXYvzynWg"
      }
    },
    {
      "cell_type": "code",
      "source": [
        "dataframe.info()"
      ],
      "metadata": {
        "colab": {
          "base_uri": "https://localhost:8080/"
        },
        "id": "mha2OzjsXQQf",
        "outputId": "54104693-7bea-47e0-c0ee-5fe7b2a0c9b1"
      },
      "execution_count": null,
      "outputs": [
        {
          "output_type": "stream",
          "name": "stdout",
          "text": [
            "<class 'pandas.core.frame.DataFrame'>\n",
            "RangeIndex: 9141 entries, 0 to 9140\n",
            "Data columns (total 17 columns):\n",
            " #   Column                   Non-Null Count  Dtype  \n",
            "---  ------                   --------------  -----  \n",
            " 0   App                      9141 non-null   string \n",
            " 1   Categoría                9141 non-null   string \n",
            " 2   Valoración               7725 non-null   string \n",
            " 3   Comentarios              9141 non-null   int64  \n",
            " 4   Tamaño(M)                9141 non-null   string \n",
            " 5   Descargas                9141 non-null   string \n",
            " 6   Tipo                     9141 non-null   string \n",
            " 7   Precio                   9141 non-null   string \n",
            " 8   Clasificación            9141 non-null   string \n",
            " 9   Categoría (int)          9141 non-null   int64  \n",
            " 10  Valoración (float type)  9141 non-null   float64\n",
            " 11  Tamaño(M) (float type)   9141 non-null   float64\n",
            " 12  Tamaño(M) (int type)     9141 non-null   int64  \n",
            " 13  Cantidad descargas       9141 non-null   int64  \n",
            " 14  Tipo (int)               9141 non-null   int64  \n",
            " 15  Precio (float type)      9141 non-null   float64\n",
            " 16  Clasificación edad       9141 non-null   int64  \n",
            "dtypes: float64(3), int64(6), string(8)\n",
            "memory usage: 1.2 MB\n"
          ]
        }
      ]
    },
    {
      "cell_type": "code",
      "source": [
        "caracteristicas: list = [\n",
        "    \"Categoría (int)\",\n",
        "    \"Cantidad descargas\",\n",
        "\n",
        "    \"Comentarios\",\n",
        "    \"Valoración (float type)\",\n",
        "    \"Tamaño(M) (int type)\",\n",
        "    \"Tipo (int)\",\n",
        "    \"Clasificación edad\"\n",
        "]\n",
        "\n",
        "data = dataframe[caracteristicas][1:] # X\n",
        "clase = dataframe[\"Tamaño(M)\"][1:] # Y\n",
        "\n",
        "print(data, clase)"
      ],
      "metadata": {
        "colab": {
          "base_uri": "https://localhost:8080/"
        },
        "id": "Bt9NcD0FXi5I",
        "outputId": "7590e629-73c0-4982-f660-391588b0c18a"
      },
      "execution_count": null,
      "outputs": [
        {
          "output_type": "stream",
          "name": "stdout",
          "text": [
            "      Categoría (int)  Cantidad descargas  Comentarios  \\\n",
            "1                   1               10000          353   \n",
            "2                   1             1000000        36815   \n",
            "3                   1             5000000       194216   \n",
            "4                   1             1000000        13880   \n",
            "5                   1               50000          118   \n",
            "...               ...                 ...          ...   \n",
            "9136               33               10000           69   \n",
            "9137               33                1000           34   \n",
            "9138               33            10000000       165299   \n",
            "9139               33             5000000        35560   \n",
            "9140               33            10000000       136626   \n",
            "\n",
            "      Valoración (float type)  Tamaño(M) (int type)  Tipo (int)  \\\n",
            "1                         4.7                     4           0   \n",
            "2                         4.1                    29           0   \n",
            "3                         4.3                    39           0   \n",
            "4                         4.4                    28           0   \n",
            "5                         4.7                    23           0   \n",
            "...                       ...                   ...         ...   \n",
            "9136                      3.0                    31           0   \n",
            "9137                      4.3                     8           0   \n",
            "9138                      4.3                     5           0   \n",
            "9139                      4.2                    13           0   \n",
            "9140                      4.1                    14           0   \n",
            "\n",
            "      Clasificación edad  \n",
            "1                     12  \n",
            "2                      0  \n",
            "3                      0  \n",
            "4                      0  \n",
            "5                      0  \n",
            "...                  ...  \n",
            "9136                   0  \n",
            "9137                   0  \n",
            "9138                   0  \n",
            "9139                   0  \n",
            "9140                   0  \n",
            "\n",
            "[9140 rows x 7 columns] 1       4,2\n",
            "2        29\n",
            "3        39\n",
            "4        28\n",
            "5        23\n",
            "       ... \n",
            "9136     31\n",
            "9137    7,6\n",
            "9138    5,4\n",
            "9139     13\n",
            "9140     14\n",
            "Name: Tamaño(M), Length: 9140, dtype: string\n"
          ]
        }
      ]
    },
    {
      "cell_type": "code",
      "source": [
        "rKFold = RepeatedKFold(\n",
        "    n_splits = int(75),\n",
        "    n_repeats = int(15),\n",
        "    random_state = int(7) # Asegura que se obtenga las mismas muestras cada vez que se genera el conjunto de datos\n",
        ")\n",
        "n_iteraciones: int = int(0)\n",
        "\n",
        "for p_entrenamiento, p_prueba in rKFold.split(data,clase):\n",
        "  datos_entrenamiento, datos_prueba = data.iloc[p_entrenamiento], data.iloc[p_prueba]\n",
        "  clasi_entrenamiento, clasi_prueba = clase.iloc[p_entrenamiento], clase.iloc[p_prueba]\n",
        "  n_iteraciones += int(1)\n",
        "\n",
        "print(\"El uso de datos para entrenamiento es {}, : {}\".format(\n",
        "    datos_entrenamiento.shape,\n",
        "    clasi_entrenamiento.shape\n",
        "))\n",
        "print(\"El uso de datos para prueba es {}, : {}\".format(\n",
        "    datos_prueba.shape,\n",
        "    clasi_prueba.shape\n",
        "))\n",
        "print(\"# iteraciones:\", n_iteraciones)"
      ],
      "metadata": {
        "colab": {
          "base_uri": "https://localhost:8080/"
        },
        "id": "4WHW7Ju5X0-X",
        "outputId": "b5f171f3-a45e-4e5f-bcf2-28c210d02453"
      },
      "execution_count": null,
      "outputs": [
        {
          "output_type": "stream",
          "name": "stdout",
          "text": [
            "El uso de datos para entrenamiento es (9019, 7), : (9019,)\n",
            "El uso de datos para prueba es (121, 7), : (121,)\n",
            "# iteraciones: 1125\n"
          ]
        }
      ]
    },
    {
      "cell_type": "code",
      "source": [
        "# Modelos de ML\n",
        "# KNeighborsClassifier\n",
        "# LogisticRegression\n",
        "# SVC\n",
        "# GaussianNB\n",
        "# LinearDiscriminantAnalysis\n",
        "# DecisionTreeClassifier\n",
        "modelos: list = []\n",
        "modelos.append((\"KNC\",  KNeighborsClassifier()))\n",
        "modelos.append((\"LR\",   LogisticRegression()))\n",
        "modelos.append((\"SVC\",  SVC(gamma = \"auto\")))\n",
        "modelos.append((\"GNV\",  GaussianNB()))\n",
        "modelos.append((\"LDA\",  LinearDiscriminantAnalysis()))\n",
        "modelos.append((\"DTC\",  DecisionTreeClassifier()))\n",
        "\n",
        "for nombre, modelo in modelos:\n",
        "  modelo.fit(datos_entrenamiento, clasi_entrenamiento)\n",
        "  resultado: float = modelo.score(datos_prueba, clasi_prueba)\n",
        "  print(\"El modelo {modelo}, tiene una presición de {presi:.3f}%\".format(\n",
        "      modelo = str(nombre),\n",
        "      presi = float(resultado * 100)\n",
        "  ))"
      ],
      "metadata": {
        "colab": {
          "base_uri": "https://localhost:8080/"
        },
        "id": "Gto03_4cX52z",
        "outputId": "a34ac605-aac1-4628-ffa7-b7b3f5a5ad51"
      },
      "execution_count": null,
      "outputs": [
        {
          "output_type": "stream",
          "name": "stdout",
          "text": [
            "El modelo KNC, tiene una presición de 7.438%\n"
          ]
        },
        {
          "output_type": "stream",
          "name": "stderr",
          "text": [
            "/usr/local/lib/python3.7/dist-packages/sklearn/linear_model/_logistic.py:818: ConvergenceWarning: lbfgs failed to converge (status=1):\n",
            "STOP: TOTAL NO. of ITERATIONS REACHED LIMIT.\n",
            "\n",
            "Increase the number of iterations (max_iter) or scale the data as shown in:\n",
            "    https://scikit-learn.org/stable/modules/preprocessing.html\n",
            "Please also refer to the documentation for alternative solver options:\n",
            "    https://scikit-learn.org/stable/modules/linear_model.html#logistic-regression\n",
            "  extra_warning_msg=_LOGISTIC_SOLVER_CONVERGENCE_MSG,\n"
          ]
        },
        {
          "output_type": "stream",
          "name": "stdout",
          "text": [
            "El modelo LR, tiene una presición de 0.000%\n",
            "El modelo SVC, tiene una presición de 12.397%\n",
            "El modelo GNV, tiene una presición de 0.000%\n",
            "El modelo LDA, tiene una presición de 0.000%\n",
            "El modelo DTC, tiene una presición de 65.289%\n"
          ]
        }
      ]
    },
    {
      "cell_type": "code",
      "source": [
        "modelos"
      ],
      "metadata": {
        "colab": {
          "base_uri": "https://localhost:8080/"
        },
        "id": "BSKjXEAKapZK",
        "outputId": "c22ac235-3687-4a67-a86f-311499c555c9"
      },
      "execution_count": null,
      "outputs": [
        {
          "output_type": "execute_result",
          "data": {
            "text/plain": [
              "[('KNC', KNeighborsClassifier()),\n",
              " ('LR', LogisticRegression()),\n",
              " ('SVC', SVC(gamma='auto')),\n",
              " ('GNV', GaussianNB()),\n",
              " ('LDA', LinearDiscriminantAnalysis()),\n",
              " ('DTC', DecisionTreeClassifier())]"
            ]
          },
          "metadata": {},
          "execution_count": 110
        }
      ]
    },
    {
      "cell_type": "code",
      "source": [
        "modelo_final: list = modelos[5][1] # Obtener el modelo de la posición 1 y su modelo como tal\n",
        "predict = modelo_final.predict(datos_prueba)\n",
        "print(predict, \"\\n\", clasi_prueba)"
      ],
      "metadata": {
        "colab": {
          "base_uri": "https://localhost:8080/"
        },
        "id": "lu20m52gaqqP",
        "outputId": "b7f0fcd1-aaa6-47ba-96e9-1bac87975f22"
      },
      "execution_count": null,
      "outputs": [
        {
          "output_type": "stream",
          "name": "stdout",
          "text": [
            "['17' '16' '5,4' '41' '3,9' '20' '98' '10' '47' '7,3' '12' '15' '16' '16'\n",
            " '38' '25' '48' '26' '10' '84' '8,9' '6,2' '318' '15' '1,5' '8,9' '2,4'\n",
            " '72' '44' '23' '19' '5,2' '33' '78' '39' '91' '35' '9,2' '25' '67' '7,6'\n",
            " '19' '32' '29' '51' '3' '4,5' '23' '24' '50' '8,5' '59' '143' '8' '15'\n",
            " '20' '5' '17' '5,3' '7,3' '4,1' '4,1' '6,2' '26' '48' '47' '41' '11' '56'\n",
            " '25' '56' '34' '82' '57' '96' '66' '71' '853' '3' '60' '8,4' '18' '8,2'\n",
            " '6,6' '42' '13' '29' '24' '29' '21' '6,3' '55' '1,3' '2,7' '13' '46'\n",
            " '2,2' '12' '6,7' '3,8' '953' '16' '18' '6,4' '5,9' '5,4' '3,7' '60' '2,8'\n",
            " '8,4' '46' '44' '1,8' '21' '1,2' '9,6' '7,1' '39' '35' '42' '22'] \n",
            " 139      17\n",
            "176      16\n",
            "183     4,7\n",
            "322      41\n",
            "328       4\n",
            "       ... \n",
            "8617    6,9\n",
            "8632     39\n",
            "8909     35\n",
            "8918     42\n",
            "9061     22\n",
            "Name: Tamaño(M), Length: 121, dtype: string\n"
          ]
        }
      ]
    },
    {
      "cell_type": "code",
      "source": [
        "modelo_final.feature_names_in_"
      ],
      "metadata": {
        "colab": {
          "base_uri": "https://localhost:8080/"
        },
        "id": "BfvKKfosax7r",
        "outputId": "5ea7bc25-7647-446d-cb6d-25249d8a60e6"
      },
      "execution_count": null,
      "outputs": [
        {
          "output_type": "execute_result",
          "data": {
            "text/plain": [
              "array(['Categoría (int)', 'Cantidad descargas', 'Comentarios',\n",
              "       'Valoración (float type)', 'Tamaño(M) (int type)', 'Tipo (int)',\n",
              "       'Clasificación edad'], dtype=object)"
            ]
          },
          "metadata": {},
          "execution_count": 112
        }
      ]
    },
    {
      "cell_type": "code",
      "source": [
        "modelo_final"
      ],
      "metadata": {
        "colab": {
          "base_uri": "https://localhost:8080/"
        },
        "id": "xc63R0McbbjT",
        "outputId": "84afe89c-8e00-4570-bf61-5af81723b51e"
      },
      "execution_count": null,
      "outputs": [
        {
          "output_type": "execute_result",
          "data": {
            "text/plain": [
              "DecisionTreeClassifier()"
            ]
          },
          "metadata": {},
          "execution_count": 113
        }
      ]
    },
    {
      "cell_type": "markdown",
      "source": [
        "## Evalúe sus modelos"
      ],
      "metadata": {
        "id": "6-mUqS_8y8KI"
      }
    },
    {
      "cell_type": "code",
      "source": [
        "print(\"Categorías: {}\".format(\n",
        "    caracteristicas\n",
        "))"
      ],
      "metadata": {
        "colab": {
          "base_uri": "https://localhost:8080/"
        },
        "id": "S_yC6EIJbgjm",
        "outputId": "619c185f-63da-4e7e-d0a4-063aab77dd57"
      },
      "execution_count": null,
      "outputs": [
        {
          "output_type": "stream",
          "name": "stdout",
          "text": [
            "Categorías: ['Categoría (int)', 'Cantidad descargas', 'Comentarios', 'Valoración (float type)', 'Tamaño(M) (int type)', 'Tipo (int)', 'Clasificación edad']\n"
          ]
        }
      ]
    },
    {
      "cell_type": "code",
      "source": [
        "mean_descargas: int =dataframe[\"Cantidad descargas\"].mean().round().astype(int)\n",
        "mean_comentarios: int = dataframe[\"Comentarios\"].mean().round().astype(int)\n",
        "mean_valoracion: float = dataframe[\"Valoración (float type)\"].mean().astype(float)\n",
        "mean_tamanno: int = dataframe[\"Tamaño(M) (int type)\"].mean().round().astype(int)\n",
        "\n",
        "data_p = pd.DataFrame(np.array([\n",
        "    0, # Categorías\n",
        "    mean_descargas,\n",
        "    mean_comentarios,\n",
        "    mean_valoracion,\n",
        "    mean_tamanno,\n",
        "    0,\n",
        "    0\n",
        "      ]).reshape(1, -1),\n",
        "      columns = caracteristicas)\n",
        "\n",
        "prediction = modelo_final.predict(data_p)\n",
        "\n",
        "print(\"Valor tamaño:\", prediction)"
      ],
      "metadata": {
        "colab": {
          "base_uri": "https://localhost:8080/"
        },
        "id": "BaGy1LmWbuVu",
        "outputId": "f2c24a57-d98f-42d5-96da-b71196e847d0"
      },
      "execution_count": null,
      "outputs": [
        {
          "output_type": "stream",
          "name": "stdout",
          "text": [
            "Valor tamaño: ['37']\n"
          ]
        }
      ]
    },
    {
      "cell_type": "markdown",
      "source": [
        "## Accuracy"
      ],
      "metadata": {
        "id": "xz_M4BHUCF62"
      }
    },
    {
      "cell_type": "code",
      "source": [
        "caracteristicas = dataframe[caracteristicas].astype(np.float64)\n",
        "label = dataframe['Tamaño(M)']\n",
        "print(caracteristicas)\n",
        "print(label)"
      ],
      "metadata": {
        "colab": {
          "base_uri": "https://localhost:8080/"
        },
        "id": "geV7Nv7_CIa8",
        "outputId": "3adab0c2-5528-4910-ffa3-f1a2e22c5de1"
      },
      "execution_count": null,
      "outputs": [
        {
          "output_type": "stream",
          "name": "stdout",
          "text": [
            "      Categoría (int)  Cantidad descargas  Comentarios  \\\n",
            "0                 1.0              5000.0         48.0   \n",
            "1                 1.0             10000.0        353.0   \n",
            "2                 1.0           1000000.0      36815.0   \n",
            "3                 1.0           5000000.0     194216.0   \n",
            "4                 1.0           1000000.0      13880.0   \n",
            "...               ...                 ...          ...   \n",
            "9136             33.0             10000.0         69.0   \n",
            "9137             33.0              1000.0         34.0   \n",
            "9138             33.0          10000000.0     165299.0   \n",
            "9139             33.0           5000000.0      35560.0   \n",
            "9140             33.0          10000000.0     136626.0   \n",
            "\n",
            "      Valoración (float type)  Tamaño(M) (int type)  Tipo (int)  \\\n",
            "0                         4.8                  25.0         0.0   \n",
            "1                         4.7                   4.0         0.0   \n",
            "2                         4.1                  29.0         0.0   \n",
            "3                         4.3                  39.0         0.0   \n",
            "4                         4.4                  28.0         0.0   \n",
            "...                       ...                   ...         ...   \n",
            "9136                      3.0                  31.0         0.0   \n",
            "9137                      4.3                   8.0         0.0   \n",
            "9138                      4.3                   5.0         0.0   \n",
            "9139                      4.2                  13.0         0.0   \n",
            "9140                      4.1                  14.0         0.0   \n",
            "\n",
            "      Clasificación edad  \n",
            "0                    0.0  \n",
            "1                   12.0  \n",
            "2                    0.0  \n",
            "3                    0.0  \n",
            "4                    0.0  \n",
            "...                  ...  \n",
            "9136                 0.0  \n",
            "9137                 0.0  \n",
            "9138                 0.0  \n",
            "9139                 0.0  \n",
            "9140                 0.0  \n",
            "\n",
            "[9141 rows x 7 columns]\n",
            "0        25\n",
            "1       4,2\n",
            "2        29\n",
            "3        39\n",
            "4        28\n",
            "       ... \n",
            "9136     31\n",
            "9137    7,6\n",
            "9138    5,4\n",
            "9139     13\n",
            "9140     14\n",
            "Name: Tamaño(M), Length: 9141, dtype: string\n"
          ]
        }
      ]
    },
    {
      "cell_type": "code",
      "source": [
        "datos_entre, datos_prueba, eti_entre, eti_prueba = train_test_split(\n",
        "    caracteristicas,\n",
        "    label,\n",
        "    test_size = 0.25,\n",
        "    random_state = 2\n",
        ")\n",
        "print('Los datos para entrenamiento son:',datos_entre.shape)\n",
        "print('Los datos para prueba son:',datos_prueba.shape)\n",
        "print('Los eti para entrenamiento son:',eti_entre.shape)\n",
        "print('Los eti para prueba son:',eti_prueba.shape)"
      ],
      "metadata": {
        "colab": {
          "base_uri": "https://localhost:8080/"
        },
        "id": "PCBoGuLhCfpf",
        "outputId": "f7a98192-dcff-4e29-d33e-aeb401f2ba20"
      },
      "execution_count": null,
      "outputs": [
        {
          "output_type": "stream",
          "name": "stdout",
          "text": [
            "Los datos para entrenamiento son: (6855, 7)\n",
            "Los datos para prueba son: (2286, 7)\n",
            "Los eti para entrenamiento son: (6855,)\n",
            "Los eti para prueba son: (2286,)\n"
          ]
        }
      ]
    },
    {
      "cell_type": "code",
      "source": [
        "print(datos_entre)\n",
        "print(eti_entre)\n",
        "datos_entre.join(eti_entre)"
      ],
      "metadata": {
        "colab": {
          "base_uri": "https://localhost:8080/",
          "height": 1000
        },
        "id": "_DPfSBw4Ciem",
        "outputId": "c126363f-a0d8-4697-c686-ca24b7aa034f"
      },
      "execution_count": null,
      "outputs": [
        {
          "output_type": "stream",
          "name": "stdout",
          "text": [
            "      Categoría (int)  Cantidad descargas  Comentarios  \\\n",
            "5546             19.0            100000.0      19922.0   \n",
            "6288             21.0              1000.0          6.0   \n",
            "191               4.0           5000000.0      54090.0   \n",
            "8751             31.0            100000.0       1403.0   \n",
            "8391             29.0          10000000.0     259605.0   \n",
            "...               ...                 ...          ...   \n",
            "1099              9.0            500000.0       7543.0   \n",
            "2514             14.0           1000000.0      22667.0   \n",
            "6637             23.0              1000.0          6.0   \n",
            "2575             14.0              1000.0         11.0   \n",
            "7336             24.0           5000000.0      20973.0   \n",
            "\n",
            "      Valoración (float type)  Tamaño(M) (int type)  Tipo (int)  \\\n",
            "5546                 4.600000                  35.0         1.0   \n",
            "6288                 4.320139                   4.0         0.0   \n",
            "191                  4.500000                   4.0         0.0   \n",
            "8751                 4.300000                   4.0         0.0   \n",
            "8391                 4.400000                   3.0         0.0   \n",
            "...                       ...                   ...         ...   \n",
            "1099                 4.300000                  25.0         0.0   \n",
            "2514                 4.300000                  35.0         0.0   \n",
            "6637                 4.179630                   7.0         0.0   \n",
            "2575                 4.182841                   7.0         0.0   \n",
            "7336                 3.100000                  31.0         0.0   \n",
            "\n",
            "      Clasificación edad  \n",
            "5546                10.0  \n",
            "6288                 0.0  \n",
            "191                  0.0  \n",
            "8751                 0.0  \n",
            "8391                 0.0  \n",
            "...                  ...  \n",
            "1099                 0.0  \n",
            "2514                12.0  \n",
            "6637                 0.0  \n",
            "2575                 0.0  \n",
            "7336                 0.0  \n",
            "\n",
            "[6855 rows x 7 columns]\n",
            "5546     35\n",
            "6288    3,6\n",
            "191       4\n",
            "8751    3,7\n",
            "8391    3,1\n",
            "       ... \n",
            "1099     25\n",
            "2514     35\n",
            "6637      7\n",
            "2575    6,6\n",
            "7336     31\n",
            "Name: Tamaño(M), Length: 6855, dtype: string\n"
          ]
        },
        {
          "output_type": "execute_result",
          "data": {
            "text/plain": [
              "      Categoría (int)  Cantidad descargas  Comentarios  \\\n",
              "5546             19.0            100000.0      19922.0   \n",
              "6288             21.0              1000.0          6.0   \n",
              "191               4.0           5000000.0      54090.0   \n",
              "8751             31.0            100000.0       1403.0   \n",
              "8391             29.0          10000000.0     259605.0   \n",
              "...               ...                 ...          ...   \n",
              "1099              9.0            500000.0       7543.0   \n",
              "2514             14.0           1000000.0      22667.0   \n",
              "6637             23.0              1000.0          6.0   \n",
              "2575             14.0              1000.0         11.0   \n",
              "7336             24.0           5000000.0      20973.0   \n",
              "\n",
              "      Valoración (float type)  Tamaño(M) (int type)  Tipo (int)  \\\n",
              "5546                 4.600000                  35.0         1.0   \n",
              "6288                 4.320139                   4.0         0.0   \n",
              "191                  4.500000                   4.0         0.0   \n",
              "8751                 4.300000                   4.0         0.0   \n",
              "8391                 4.400000                   3.0         0.0   \n",
              "...                       ...                   ...         ...   \n",
              "1099                 4.300000                  25.0         0.0   \n",
              "2514                 4.300000                  35.0         0.0   \n",
              "6637                 4.179630                   7.0         0.0   \n",
              "2575                 4.182841                   7.0         0.0   \n",
              "7336                 3.100000                  31.0         0.0   \n",
              "\n",
              "      Clasificación edad Tamaño(M)  \n",
              "5546                10.0        35  \n",
              "6288                 0.0       3,6  \n",
              "191                  0.0         4  \n",
              "8751                 0.0       3,7  \n",
              "8391                 0.0       3,1  \n",
              "...                  ...       ...  \n",
              "1099                 0.0        25  \n",
              "2514                12.0        35  \n",
              "6637                 0.0         7  \n",
              "2575                 0.0       6,6  \n",
              "7336                 0.0        31  \n",
              "\n",
              "[6855 rows x 8 columns]"
            ],
            "text/html": [
              "\n",
              "  <div id=\"df-27a60738-8fab-47b5-adca-34536356812c\">\n",
              "    <div class=\"colab-df-container\">\n",
              "      <div>\n",
              "<style scoped>\n",
              "    .dataframe tbody tr th:only-of-type {\n",
              "        vertical-align: middle;\n",
              "    }\n",
              "\n",
              "    .dataframe tbody tr th {\n",
              "        vertical-align: top;\n",
              "    }\n",
              "\n",
              "    .dataframe thead th {\n",
              "        text-align: right;\n",
              "    }\n",
              "</style>\n",
              "<table border=\"1\" class=\"dataframe\">\n",
              "  <thead>\n",
              "    <tr style=\"text-align: right;\">\n",
              "      <th></th>\n",
              "      <th>Categoría (int)</th>\n",
              "      <th>Cantidad descargas</th>\n",
              "      <th>Comentarios</th>\n",
              "      <th>Valoración (float type)</th>\n",
              "      <th>Tamaño(M) (int type)</th>\n",
              "      <th>Tipo (int)</th>\n",
              "      <th>Clasificación edad</th>\n",
              "      <th>Tamaño(M)</th>\n",
              "    </tr>\n",
              "  </thead>\n",
              "  <tbody>\n",
              "    <tr>\n",
              "      <th>5546</th>\n",
              "      <td>19.0</td>\n",
              "      <td>100000.0</td>\n",
              "      <td>19922.0</td>\n",
              "      <td>4.600000</td>\n",
              "      <td>35.0</td>\n",
              "      <td>1.0</td>\n",
              "      <td>10.0</td>\n",
              "      <td>35</td>\n",
              "    </tr>\n",
              "    <tr>\n",
              "      <th>6288</th>\n",
              "      <td>21.0</td>\n",
              "      <td>1000.0</td>\n",
              "      <td>6.0</td>\n",
              "      <td>4.320139</td>\n",
              "      <td>4.0</td>\n",
              "      <td>0.0</td>\n",
              "      <td>0.0</td>\n",
              "      <td>3,6</td>\n",
              "    </tr>\n",
              "    <tr>\n",
              "      <th>191</th>\n",
              "      <td>4.0</td>\n",
              "      <td>5000000.0</td>\n",
              "      <td>54090.0</td>\n",
              "      <td>4.500000</td>\n",
              "      <td>4.0</td>\n",
              "      <td>0.0</td>\n",
              "      <td>0.0</td>\n",
              "      <td>4</td>\n",
              "    </tr>\n",
              "    <tr>\n",
              "      <th>8751</th>\n",
              "      <td>31.0</td>\n",
              "      <td>100000.0</td>\n",
              "      <td>1403.0</td>\n",
              "      <td>4.300000</td>\n",
              "      <td>4.0</td>\n",
              "      <td>0.0</td>\n",
              "      <td>0.0</td>\n",
              "      <td>3,7</td>\n",
              "    </tr>\n",
              "    <tr>\n",
              "      <th>8391</th>\n",
              "      <td>29.0</td>\n",
              "      <td>10000000.0</td>\n",
              "      <td>259605.0</td>\n",
              "      <td>4.400000</td>\n",
              "      <td>3.0</td>\n",
              "      <td>0.0</td>\n",
              "      <td>0.0</td>\n",
              "      <td>3,1</td>\n",
              "    </tr>\n",
              "    <tr>\n",
              "      <th>...</th>\n",
              "      <td>...</td>\n",
              "      <td>...</td>\n",
              "      <td>...</td>\n",
              "      <td>...</td>\n",
              "      <td>...</td>\n",
              "      <td>...</td>\n",
              "      <td>...</td>\n",
              "      <td>...</td>\n",
              "    </tr>\n",
              "    <tr>\n",
              "      <th>1099</th>\n",
              "      <td>9.0</td>\n",
              "      <td>500000.0</td>\n",
              "      <td>7543.0</td>\n",
              "      <td>4.300000</td>\n",
              "      <td>25.0</td>\n",
              "      <td>0.0</td>\n",
              "      <td>0.0</td>\n",
              "      <td>25</td>\n",
              "    </tr>\n",
              "    <tr>\n",
              "      <th>2514</th>\n",
              "      <td>14.0</td>\n",
              "      <td>1000000.0</td>\n",
              "      <td>22667.0</td>\n",
              "      <td>4.300000</td>\n",
              "      <td>35.0</td>\n",
              "      <td>0.0</td>\n",
              "      <td>12.0</td>\n",
              "      <td>35</td>\n",
              "    </tr>\n",
              "    <tr>\n",
              "      <th>6637</th>\n",
              "      <td>23.0</td>\n",
              "      <td>1000.0</td>\n",
              "      <td>6.0</td>\n",
              "      <td>4.179630</td>\n",
              "      <td>7.0</td>\n",
              "      <td>0.0</td>\n",
              "      <td>0.0</td>\n",
              "      <td>7</td>\n",
              "    </tr>\n",
              "    <tr>\n",
              "      <th>2575</th>\n",
              "      <td>14.0</td>\n",
              "      <td>1000.0</td>\n",
              "      <td>11.0</td>\n",
              "      <td>4.182841</td>\n",
              "      <td>7.0</td>\n",
              "      <td>0.0</td>\n",
              "      <td>0.0</td>\n",
              "      <td>6,6</td>\n",
              "    </tr>\n",
              "    <tr>\n",
              "      <th>7336</th>\n",
              "      <td>24.0</td>\n",
              "      <td>5000000.0</td>\n",
              "      <td>20973.0</td>\n",
              "      <td>3.100000</td>\n",
              "      <td>31.0</td>\n",
              "      <td>0.0</td>\n",
              "      <td>0.0</td>\n",
              "      <td>31</td>\n",
              "    </tr>\n",
              "  </tbody>\n",
              "</table>\n",
              "<p>6855 rows × 8 columns</p>\n",
              "</div>\n",
              "      <button class=\"colab-df-convert\" onclick=\"convertToInteractive('df-27a60738-8fab-47b5-adca-34536356812c')\"\n",
              "              title=\"Convert this dataframe to an interactive table.\"\n",
              "              style=\"display:none;\">\n",
              "        \n",
              "  <svg xmlns=\"http://www.w3.org/2000/svg\" height=\"24px\"viewBox=\"0 0 24 24\"\n",
              "       width=\"24px\">\n",
              "    <path d=\"M0 0h24v24H0V0z\" fill=\"none\"/>\n",
              "    <path d=\"M18.56 5.44l.94 2.06.94-2.06 2.06-.94-2.06-.94-.94-2.06-.94 2.06-2.06.94zm-11 1L8.5 8.5l.94-2.06 2.06-.94-2.06-.94L8.5 2.5l-.94 2.06-2.06.94zm10 10l.94 2.06.94-2.06 2.06-.94-2.06-.94-.94-2.06-.94 2.06-2.06.94z\"/><path d=\"M17.41 7.96l-1.37-1.37c-.4-.4-.92-.59-1.43-.59-.52 0-1.04.2-1.43.59L10.3 9.45l-7.72 7.72c-.78.78-.78 2.05 0 2.83L4 21.41c.39.39.9.59 1.41.59.51 0 1.02-.2 1.41-.59l7.78-7.78 2.81-2.81c.8-.78.8-2.07 0-2.86zM5.41 20L4 18.59l7.72-7.72 1.47 1.35L5.41 20z\"/>\n",
              "  </svg>\n",
              "      </button>\n",
              "      \n",
              "  <style>\n",
              "    .colab-df-container {\n",
              "      display:flex;\n",
              "      flex-wrap:wrap;\n",
              "      gap: 12px;\n",
              "    }\n",
              "\n",
              "    .colab-df-convert {\n",
              "      background-color: #E8F0FE;\n",
              "      border: none;\n",
              "      border-radius: 50%;\n",
              "      cursor: pointer;\n",
              "      display: none;\n",
              "      fill: #1967D2;\n",
              "      height: 32px;\n",
              "      padding: 0 0 0 0;\n",
              "      width: 32px;\n",
              "    }\n",
              "\n",
              "    .colab-df-convert:hover {\n",
              "      background-color: #E2EBFA;\n",
              "      box-shadow: 0px 1px 2px rgba(60, 64, 67, 0.3), 0px 1px 3px 1px rgba(60, 64, 67, 0.15);\n",
              "      fill: #174EA6;\n",
              "    }\n",
              "\n",
              "    [theme=dark] .colab-df-convert {\n",
              "      background-color: #3B4455;\n",
              "      fill: #D2E3FC;\n",
              "    }\n",
              "\n",
              "    [theme=dark] .colab-df-convert:hover {\n",
              "      background-color: #434B5C;\n",
              "      box-shadow: 0px 1px 3px 1px rgba(0, 0, 0, 0.15);\n",
              "      filter: drop-shadow(0px 1px 2px rgba(0, 0, 0, 0.3));\n",
              "      fill: #FFFFFF;\n",
              "    }\n",
              "  </style>\n",
              "\n",
              "      <script>\n",
              "        const buttonEl =\n",
              "          document.querySelector('#df-27a60738-8fab-47b5-adca-34536356812c button.colab-df-convert');\n",
              "        buttonEl.style.display =\n",
              "          google.colab.kernel.accessAllowed ? 'block' : 'none';\n",
              "\n",
              "        async function convertToInteractive(key) {\n",
              "          const element = document.querySelector('#df-27a60738-8fab-47b5-adca-34536356812c');\n",
              "          const dataTable =\n",
              "            await google.colab.kernel.invokeFunction('convertToInteractive',\n",
              "                                                     [key], {});\n",
              "          if (!dataTable) return;\n",
              "\n",
              "          const docLinkHtml = 'Like what you see? Visit the ' +\n",
              "            '<a target=\"_blank\" href=https://colab.research.google.com/notebooks/data_table.ipynb>data table notebook</a>'\n",
              "            + ' to learn more about interactive tables.';\n",
              "          element.innerHTML = '';\n",
              "          dataTable['output_type'] = 'display_data';\n",
              "          await google.colab.output.renderOutput(dataTable, element);\n",
              "          const docLink = document.createElement('div');\n",
              "          docLink.innerHTML = docLinkHtml;\n",
              "          element.appendChild(docLink);\n",
              "        }\n",
              "      </script>\n",
              "    </div>\n",
              "  </div>\n",
              "  "
            ]
          },
          "metadata": {},
          "execution_count": 118
        }
      ]
    },
    {
      "cell_type": "code",
      "source": [
        "# DecisionTreeClassifier\n",
        "# KNeighborsClassifier\n",
        "modelos = []\n",
        "modelos.append(('DecisionTreeClassifier', DecisionTreeClassifier()))\n",
        "modelos.append(('KNeighborsClassifier', KNeighborsClassifier()))\n",
        "resultados = []\n",
        "\n",
        "for nombre,modelo in modelos:\n",
        "  modelo.fit(datos_entre,eti_entre)\n",
        "  resultado = modelo.score(datos_prueba, eti_prueba)\n",
        "  resultados.append(float(resultado * 100))\n",
        "  print('El modelo {} tiene como resultado {:.2f}%'.format(\n",
        "      nombre,\n",
        "      float(resultado * 100)\n",
        "  ))"
      ],
      "metadata": {
        "colab": {
          "base_uri": "https://localhost:8080/"
        },
        "id": "EVj2sJoBClcK",
        "outputId": "548479de-77ef-429f-901b-9c87b3fe4e4f"
      },
      "execution_count": null,
      "outputs": [
        {
          "output_type": "stream",
          "name": "stdout",
          "text": [
            "El modelo DecisionTreeClassifier tiene como resultado 62.51%\n",
            "El modelo KNeighborsClassifier tiene como resultado 7.35%\n"
          ]
        }
      ]
    },
    {
      "cell_type": "code",
      "source": [
        "print(eti_entre.value_counts())\n",
        "print(pd.Series(modelos[1][1].predict(datos_entre)).value_counts())"
      ],
      "metadata": {
        "colab": {
          "base_uri": "https://localhost:8080/"
        },
        "id": "vSUF-__OCs5w",
        "outputId": "6d5c0af8-9cfe-4c85-8ba8-d833867efdcf"
      },
      "execution_count": null,
      "outputs": [
        {
          "output_type": "stream",
          "name": "stdout",
          "text": [
            "12     152\n",
            "11     151\n",
            "13     149\n",
            "14     144\n",
            "15     136\n",
            "      ... \n",
            "454      1\n",
            "475      1\n",
            "970      1\n",
            "460      1\n",
            "122      1\n",
            "Name: Tamaño(M), Length: 362, dtype: Int64\n",
            "11     386\n",
            "10     325\n",
            "12     323\n",
            "13     306\n",
            "14     246\n",
            "      ... \n",
            "7,4      1\n",
            "460      1\n",
            "364      1\n",
            "203      1\n",
            "241      1\n",
            "Length: 241, dtype: int64\n"
          ]
        }
      ]
    },
    {
      "cell_type": "code",
      "source": [
        "\"\"\"\n",
        "datos_predict = modelos[0][1].predict(datos_entre)\n",
        "confusion = confusion_matrix(eti_entre, datos_predict)\n",
        "print(confusion)\n",
        "# orden de retorno:\n",
        "# verdaderos negativo\n",
        "# falsos positivos\n",
        "# falsos negativos\n",
        "# verdaderos positivos\n",
        "# v1,v2,v3,v4=[1,2,3,4]\n",
        "vn, fp, fn, vp = confusion.ravel()\n",
        "matriz = np.array([[vp, fn], [fp, vn]])\n",
        "print(matriz)\n",
        "plt.figure(\n",
        "    figsize = (12,10)\n",
        ")\n",
        "grafico = plt.subplot()\n",
        "\n",
        "sns.heatmap(matriz, annot = True,\n",
        "            ax = grafico,\n",
        "            fmt = 'g')\n",
        "\n",
        "grafico.xaxis.set_ticklabels(['Positivo',\n",
        "                              'Negativo'])\n",
        "grafico.yaxis.set_ticklabels(['Verdaderos',\n",
        "                              'Falsos'])\n",
        "\n",
        "grafico.set_xlabel('Predicción')\n",
        "grafico.set_ylabel('Actual')\n",
        "\"\"\""
      ],
      "metadata": {
        "colab": {
          "base_uri": "https://localhost:8080/",
          "height": 106
        },
        "id": "UNnKVk9sCv3p",
        "outputId": "87266d3b-91bc-4b7d-c092-f0f18bcd2368"
      },
      "execution_count": null,
      "outputs": [
        {
          "output_type": "execute_result",
          "data": {
            "text/plain": [
              "\"\\ndatos_predict = modelos[0][1].predict(datos_entre)\\nconfusion = confusion_matrix(eti_entre, datos_predict)\\nprint(confusion)\\n# orden de retorno:\\n# verdaderos negativo\\n# falsos positivos\\n# falsos negativos\\n# verdaderos positivos\\n# v1,v2,v3,v4=[1,2,3,4]\\nvn, fp, fn, vp = confusion.ravel()\\nmatriz = np.array([[vp, fn], [fp, vn]])\\nprint(matriz)\\nplt.figure(\\n    figsize = (12,10)\\n)\\ngrafico = plt.subplot()\\n\\nsns.heatmap(matriz, annot = True,\\n            ax = grafico,\\n            fmt = 'g')\\n\\ngrafico.xaxis.set_ticklabels(['Positivo',\\n                              'Negativo'])\\ngrafico.yaxis.set_ticklabels(['Verdaderos',\\n                              'Falsos'])\\n\\ngrafico.set_xlabel('Predicción')\\ngrafico.set_ylabel('Actual')\\n\""
            ],
            "application/vnd.google.colaboratory.intrinsic+json": {
              "type": "string"
            }
          },
          "metadata": {},
          "execution_count": 121
        }
      ]
    },
    {
      "cell_type": "markdown",
      "metadata": {
        "id": "8HwtjkpqW4Is"
      },
      "source": [
        "# Responda las preguntas planteadas"
      ]
    },
    {
      "cell_type": "markdown",
      "source": [
        "## Modelo 1"
      ],
      "metadata": {
        "id": "jZs3s13UPBRH"
      }
    },
    {
      "cell_type": "markdown",
      "source": [
        "Pregunta: Si realizo una app con categoría \"Todo público\" ¿tendré mayor descarga que las demás clasificaciónes?"
      ],
      "metadata": {
        "id": "Wa9gmd5HLt1U"
      }
    },
    {
      "cell_type": "markdown",
      "source": [
        "La respuesta a la pregunta es sí, ya que viendo el conjunto de datos la mayoría de los datos son de categoría \"Todo público\", por lo que se puede suponer que a la gente tiene preferencia a instalar aplicaciones que son para todos."
      ],
      "metadata": {
        "id": "_wTKt5NoP2Jw"
      }
    },
    {
      "cell_type": "markdown",
      "source": [
        "## Modelo 2"
      ],
      "metadata": {
        "id": "fqDi6-Khws4q"
      }
    },
    {
      "cell_type": "markdown",
      "source": [
        "¿Una aplicación gratuita tendrá más descargas que una aplicación de pago?"
      ],
      "metadata": {
        "id": "HYgh-hS9ww8G"
      }
    },
    {
      "cell_type": "markdown",
      "source": [
        "La respuesta a la pregunta es sí, se realizó un algoritmo de Machine Learning, en el cuál se le pasan distintas cantidades de descargas y en todos los casos dió como resultado que la aplicación es gratuita."
      ],
      "metadata": {
        "id": "pThIw9Xvw84y"
      }
    },
    {
      "cell_type": "markdown",
      "source": [
        "## Modelo 3"
      ],
      "metadata": {
        "id": "5CRgPTzxzpdB"
      }
    },
    {
      "cell_type": "markdown",
      "source": [
        "¿La cantidad de comentarios es directamente proporcional a las descargas?"
      ],
      "metadata": {
        "id": "mB08Kof90MQG"
      }
    },
    {
      "cell_type": "markdown",
      "source": [
        "La respuesta es sí, mientras más comentarios tenga una aplicación, más descargas tiene."
      ],
      "metadata": {
        "id": "j-E6rJEM1vun"
      }
    },
    {
      "cell_type": "markdown",
      "source": [
        "## Modelo 4"
      ],
      "metadata": {
        "id": "yrLvC5cAzwdB"
      }
    },
    {
      "cell_type": "markdown",
      "source": [
        "¿La categoría es afectada por la Clasificación y al Tipo de la aplicación?"
      ],
      "metadata": {
        "id": "LHrfEVqd0RFJ"
      }
    },
    {
      "cell_type": "markdown",
      "source": [
        "La respuesta es sí, dependiendo de la Clasificación y del Tipo la Categoría da diferentes resultados, aunque en la mayoría de las predicciones la categoría fue \"Médico\" indistintamente si el \"Tipo\" es \"Gratis\" o \"Pago\"."
      ],
      "metadata": {
        "id": "_4o5ZeoLNynp"
      }
    },
    {
      "cell_type": "markdown",
      "source": [
        "## Modelo 5"
      ],
      "metadata": {
        "id": "gjrnkGlZz21P"
      }
    },
    {
      "cell_type": "markdown",
      "source": [
        "¿El Tamaño(M) de la aplicación tiene relación con la Categoría y la Cantidad de Descargas?"
      ],
      "metadata": {
        "id": "hylmFL3F0YEw"
      }
    },
    {
      "cell_type": "markdown",
      "source": [
        "No se puede determinar si la Categoría y la Cantidad de Descargas afectan al tamaño de la aplicación."
      ],
      "metadata": {
        "id": "U47gEhy2ac3Y"
      }
    }
  ]
}