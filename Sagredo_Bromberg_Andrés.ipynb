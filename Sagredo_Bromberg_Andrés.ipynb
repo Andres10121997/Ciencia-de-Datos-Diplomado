{
  "nbformat": 4,
  "nbformat_minor": 0,
  "metadata": {
    "colab": {
      "provenance": []
    },
    "kernelspec": {
      "name": "python3",
      "display_name": "Python 3"
    }
  },
  "cells": [
    {
      "cell_type": "markdown",
      "metadata": {
        "id": "tdaohCeoe1T_"
      },
      "source": [
        "#Evaluación 1 - Diplomado Data Science Duoc UC\n",
        "\n",
        "# Módulo: Machine Learning\n",
        "\n",
        "A continuación, aplicarás lo aprendido con el uso de las librerías de Python desde fuentes de datos proporcionadas por el relator.\n",
        "\n",
        "**Recuerda almacenar una copia de este Jupyter Notebook en tu Google Drive para poder ejecutar los bloques de código.**\n",
        "\n",
        "\n",
        "---\n",
        "* Ejecución técnica de un procedimiento de  Análisis Exploratorio de datos\n",
        "  * Deberá cargar los datos del CSV a pandas\n",
        "  * Deberá identificar las columnas relevantes y realizar la unión de los datos\n",
        "  * Deberá identificar las columnas más relevantes del negocio y proponer una rutina de limpieza\n",
        "  * Separar la información entre las columnas relevantes y ejecutar su rutina de limpieza\n",
        "  * Identificar la correlación de las columnas e identificar las más relevantes\n",
        "  * Proponga 5 gráficos que otorguen valor a los datos y describa el conocimiento que puede extraer de éstos\n",
        "---\n"
      ]
    },
    {
      "cell_type": "markdown",
      "metadata": {
        "id": "Vk3pLh0AK1er"
      },
      "source": [
        "# Contexto: \n",
        "\n",
        "Una empresa anónima, nos encargó la importante misión de predecir como serán sus próximas ventas basados en sus datos transaccionales. Para falicitar el proyecto de Análisis de Datos, nos proporcionó 3 datasets que necesitaremos relacionar para poder responder a la demanda de nuestro cliente. \n",
        "La primera fase de nuestro proyecto consistirá en un análisis exploratorio que nos permitirá conocer del negocio, saber qué venden, cuantos clientes manejan en sus sistemas, entre otras preguntas relevantes que nos permitirán plantear diversas hipótesis respecto de los datos. \n",
        "\n",
        "**Recuerda hacer uso de todo lo aprendido! mientras más cosas descubras de los datos, más robusto será tu análisis.** "
      ]
    },
    {
      "cell_type": "markdown",
      "metadata": {
        "id": "reGN707Ty1C7"
      },
      "source": [
        "# Análisis Exploratorio de Datos"
      ]
    },
    {
      "cell_type": "markdown",
      "metadata": {
        "id": "BHagMOOiy59Z"
      },
      "source": [
        "## Importar las librerias necesarias"
      ]
    },
    {
      "cell_type": "code",
      "metadata": {
        "id": "hd_4P10tzM-k"
      },
      "source": [
        "# Importe las librerias necesarias para trabajar aquí\n",
        "from matplotlib import pyplot as plt\n",
        "import numpy as np\n",
        "import pandas as pd\n",
        "import seaborn as sns\n",
        "\n",
        "from datetime import datetime"
      ],
      "execution_count": null,
      "outputs": []
    },
    {
      "cell_type": "markdown",
      "metadata": {
        "id": "8nmwmQkQzYoR"
      },
      "source": [
        "## Cargar fuentes de datos"
      ]
    },
    {
      "cell_type": "code",
      "metadata": {
        "id": "cKqEjGgOzWTv",
        "colab": {
          "base_uri": "https://localhost:8080/"
        },
        "outputId": "d017f921-f189-4e8f-9a81-3d17940a50d3"
      },
      "source": [
        "# Cargue los archivos CSV necesarios aquí\n",
        "!wget https://www.dropbox.com/s/i9edv1p4ufk6apl/datos_ventas.csv\n",
        "!wget https://www.dropbox.com/s/f2774ywx6a0vhwn/datos_clientes.csv\n",
        "!wget https://www.dropbox.com/s/bk66vergl5vuofj/datos_trabajador.csv"
      ],
      "execution_count": null,
      "outputs": [
        {
          "output_type": "stream",
          "name": "stdout",
          "text": [
            "--2022-08-09 15:44:48--  https://www.dropbox.com/s/i9edv1p4ufk6apl/datos_ventas.csv\n",
            "Resolving www.dropbox.com (www.dropbox.com)... 162.125.2.18, 2620:100:6023:18::a27d:4312\n",
            "Connecting to www.dropbox.com (www.dropbox.com)|162.125.2.18|:443... connected.\n",
            "HTTP request sent, awaiting response... 301 Moved Permanently\n",
            "Location: /s/raw/i9edv1p4ufk6apl/datos_ventas.csv [following]\n",
            "--2022-08-09 15:44:49--  https://www.dropbox.com/s/raw/i9edv1p4ufk6apl/datos_ventas.csv\n",
            "Reusing existing connection to www.dropbox.com:443.\n",
            "HTTP request sent, awaiting response... 302 Found\n",
            "Location: https://uc6948d6ffd34e14a2b94ba2c69e.dl.dropboxusercontent.com/cd/0/inline/BqsOp1u7MgFHQqKbn6Qj6EmfmrNSyKTrYFVwWwF9cKKt5Ke1T-2vNETaV2278abcDZPcnLs40eNhrHgh9OKklqHbb17N5oRlsrOTXWBi2E_UpJpxPrtQDwMA1ULhZo8QQvrM_T7jcPxNqrDlz5j_StIj1A8hxJ0YebrsUEBTR53C8w/file# [following]\n",
            "--2022-08-09 15:44:49--  https://uc6948d6ffd34e14a2b94ba2c69e.dl.dropboxusercontent.com/cd/0/inline/BqsOp1u7MgFHQqKbn6Qj6EmfmrNSyKTrYFVwWwF9cKKt5Ke1T-2vNETaV2278abcDZPcnLs40eNhrHgh9OKklqHbb17N5oRlsrOTXWBi2E_UpJpxPrtQDwMA1ULhZo8QQvrM_T7jcPxNqrDlz5j_StIj1A8hxJ0YebrsUEBTR53C8w/file\n",
            "Resolving uc6948d6ffd34e14a2b94ba2c69e.dl.dropboxusercontent.com (uc6948d6ffd34e14a2b94ba2c69e.dl.dropboxusercontent.com)... 162.125.6.15, 2620:100:601d:15::a27d:50f\n",
            "Connecting to uc6948d6ffd34e14a2b94ba2c69e.dl.dropboxusercontent.com (uc6948d6ffd34e14a2b94ba2c69e.dl.dropboxusercontent.com)|162.125.6.15|:443... connected.\n",
            "HTTP request sent, awaiting response... 200 OK\n",
            "Length: 194171 (190K) [text/plain]\n",
            "Saving to: ‘datos_ventas.csv’\n",
            "\n",
            "datos_ventas.csv    100%[===================>] 189.62K  --.-KB/s    in 0.05s   \n",
            "\n",
            "2022-08-09 15:44:49 (3.38 MB/s) - ‘datos_ventas.csv’ saved [194171/194171]\n",
            "\n",
            "--2022-08-09 15:44:49--  https://www.dropbox.com/s/f2774ywx6a0vhwn/datos_clientes.csv\n",
            "Resolving www.dropbox.com (www.dropbox.com)... 162.125.2.18, 2620:100:6023:18::a27d:4312\n",
            "Connecting to www.dropbox.com (www.dropbox.com)|162.125.2.18|:443... connected.\n",
            "HTTP request sent, awaiting response... 301 Moved Permanently\n",
            "Location: /s/raw/f2774ywx6a0vhwn/datos_clientes.csv [following]\n",
            "--2022-08-09 15:44:50--  https://www.dropbox.com/s/raw/f2774ywx6a0vhwn/datos_clientes.csv\n",
            "Reusing existing connection to www.dropbox.com:443.\n",
            "HTTP request sent, awaiting response... 302 Found\n",
            "Location: https://uc32397f79180bfb209414d19319.dl.dropboxusercontent.com/cd/0/inline/BqtecM5-5AEHjL5qz4QIGcMRgxj4LaL35K3Q5TpAUFX19-7zijd_-HmKp5GYV4lpkuy0VssOVwDIxIJkaEX27m7dpyusuageuof06dxe8FmGD1ZVP_22gVyxiSwchQG45eILzj9SKbCYVcnXTAaECIFBFrpyHQkdIufqPXymCZPpUA/file# [following]\n",
            "--2022-08-09 15:44:50--  https://uc32397f79180bfb209414d19319.dl.dropboxusercontent.com/cd/0/inline/BqtecM5-5AEHjL5qz4QIGcMRgxj4LaL35K3Q5TpAUFX19-7zijd_-HmKp5GYV4lpkuy0VssOVwDIxIJkaEX27m7dpyusuageuof06dxe8FmGD1ZVP_22gVyxiSwchQG45eILzj9SKbCYVcnXTAaECIFBFrpyHQkdIufqPXymCZPpUA/file\n",
            "Resolving uc32397f79180bfb209414d19319.dl.dropboxusercontent.com (uc32397f79180bfb209414d19319.dl.dropboxusercontent.com)... 162.125.6.15, 2620:100:601d:15::a27d:50f\n",
            "Connecting to uc32397f79180bfb209414d19319.dl.dropboxusercontent.com (uc32397f79180bfb209414d19319.dl.dropboxusercontent.com)|162.125.6.15|:443... connected.\n",
            "HTTP request sent, awaiting response... 200 OK\n",
            "Length: 45876 (45K) [text/plain]\n",
            "Saving to: ‘datos_clientes.csv’\n",
            "\n",
            "datos_clientes.csv  100%[===================>]  44.80K  --.-KB/s    in 0.02s   \n",
            "\n",
            "2022-08-09 15:44:51 (1.97 MB/s) - ‘datos_clientes.csv’ saved [45876/45876]\n",
            "\n",
            "--2022-08-09 15:44:51--  https://www.dropbox.com/s/bk66vergl5vuofj/datos_trabajador.csv\n",
            "Resolving www.dropbox.com (www.dropbox.com)... 162.125.2.18, 2620:100:6023:18::a27d:4312\n",
            "Connecting to www.dropbox.com (www.dropbox.com)|162.125.2.18|:443... connected.\n",
            "HTTP request sent, awaiting response... 301 Moved Permanently\n",
            "Location: /s/raw/bk66vergl5vuofj/datos_trabajador.csv [following]\n",
            "--2022-08-09 15:44:51--  https://www.dropbox.com/s/raw/bk66vergl5vuofj/datos_trabajador.csv\n",
            "Reusing existing connection to www.dropbox.com:443.\n",
            "HTTP request sent, awaiting response... 302 Found\n",
            "Location: https://uc862a070e4f629bc84d02912741.dl.dropboxusercontent.com/cd/0/inline/BqtkfF9c416-3dVQJUzy3jtci-TzBY5bQsVy6a6VYkQuDvIFyXqG1Veu3hIppWF02Li4lCytc6tw6vBqoByGQyyhKFoEXkgfIxpTLV_2jO4PV8iMzqamYJEpI8IzOfSZMk_Xi_hk_dnpEjnUaBaARMtXFD9xRMT4WECI1cdV13oW0w/file# [following]\n",
            "--2022-08-09 15:44:51--  https://uc862a070e4f629bc84d02912741.dl.dropboxusercontent.com/cd/0/inline/BqtkfF9c416-3dVQJUzy3jtci-TzBY5bQsVy6a6VYkQuDvIFyXqG1Veu3hIppWF02Li4lCytc6tw6vBqoByGQyyhKFoEXkgfIxpTLV_2jO4PV8iMzqamYJEpI8IzOfSZMk_Xi_hk_dnpEjnUaBaARMtXFD9xRMT4WECI1cdV13oW0w/file\n",
            "Resolving uc862a070e4f629bc84d02912741.dl.dropboxusercontent.com (uc862a070e4f629bc84d02912741.dl.dropboxusercontent.com)... 162.125.4.15, 2620:100:601d:15::a27d:50f\n",
            "Connecting to uc862a070e4f629bc84d02912741.dl.dropboxusercontent.com (uc862a070e4f629bc84d02912741.dl.dropboxusercontent.com)|162.125.4.15|:443... connected.\n",
            "HTTP request sent, awaiting response... 200 OK\n",
            "Length: 176 [text/plain]\n",
            "Saving to: ‘datos_trabajador.csv’\n",
            "\n",
            "datos_trabajador.cs 100%[===================>]     176  --.-KB/s    in 0s      \n",
            "\n",
            "2022-08-09 15:44:52 (47.7 MB/s) - ‘datos_trabajador.csv’ saved [176/176]\n",
            "\n"
          ]
        }
      ]
    },
    {
      "cell_type": "markdown",
      "source": [
        "### Ventas"
      ],
      "metadata": {
        "id": "XVW2WJ4ILlir"
      }
    },
    {
      "cell_type": "code",
      "metadata": {
        "id": "ITRE7Jn_zjZY"
      },
      "source": [
        "# Realice análisis de los datos del CSV 1\n",
        "df_ventas = pd.read_csv(\"datos_ventas.csv\", sep = \"|\")"
      ],
      "execution_count": null,
      "outputs": []
    },
    {
      "cell_type": "code",
      "source": [
        "df_ventas.dtypes"
      ],
      "metadata": {
        "colab": {
          "base_uri": "https://localhost:8080/"
        },
        "id": "F9TtYJ76SG7C",
        "outputId": "8774124f-6da8-4cce-8bfd-cd9cc911bc57"
      },
      "execution_count": null,
      "outputs": [
        {
          "output_type": "execute_result",
          "data": {
            "text/plain": [
              "VENTA_ID            int64\n",
              "CAJERO_ID           int64\n",
              "COMPRADOR_ID        int64\n",
              "FECHA_VENTA        object\n",
              "MONTO_TOTAL        object\n",
              "CODIGO_PRODUCTO    object\n",
              "NOMBRE_PRODUCTO    object\n",
              "CODIGO_FAMILIA      int64\n",
              "NOMBRE_FAMILIA     object\n",
              "CANTIDAD           object\n",
              "dtype: object"
            ]
          },
          "metadata": {},
          "execution_count": 4
        }
      ]
    },
    {
      "cell_type": "code",
      "source": [
        "df_ventas"
      ],
      "metadata": {
        "colab": {
          "base_uri": "https://localhost:8080/",
          "height": 423
        },
        "id": "E-8NiPCBPxkT",
        "outputId": "fc695cf4-ce66-4881-b395-a4ba2c041b6a"
      },
      "execution_count": null,
      "outputs": [
        {
          "output_type": "execute_result",
          "data": {
            "text/plain": [
              "      VENTA_ID  CAJERO_ID  COMPRADOR_ID                  FECHA_VENTA  \\\n",
              "0           26          7            32  22/08/19 19:43:18,000000000   \n",
              "1           49          7            91  23/08/19 14:08:25,000000000   \n",
              "2           49          7           399  23/08/19 14:08:25,000000000   \n",
              "3           49          7            92  23/08/19 14:08:25,000000000   \n",
              "4           49          7           177  23/08/19 14:08:25,000000000   \n",
              "...        ...        ...           ...                          ...   \n",
              "1748     49987          5            20  28/11/19 15:47:25,000000000   \n",
              "1749     52296          4            62  02/12/19 13:13:30,000000000   \n",
              "1750     52831          4           487  03/12/19 12:22:43,000000000   \n",
              "1751     61835          5           111  19/12/19 16:48:53,000000000   \n",
              "1752     62325          5            54  20/12/19 16:24:44,000000000   \n",
              "\n",
              "     MONTO_TOTAL CODIGO_PRODUCTO                    NOMBRE_PRODUCTO  \\\n",
              "0       Q.-1500.   7802215104855                         Costa Rama   \n",
              "1       Q.4050-.   7801810712663           LIPTON YELLOW 40g. 20UN.   \n",
              "2       Q.4050-.   7802575006035                CORBATAS CARO.400g.   \n",
              "3       Q.4050-.   7801875032010              TÉ SUPREMO 40g. 20UN.   \n",
              "4       Q.4050-.   7808743601934               ACEITE MERKAT 900ml.   \n",
              "...          ...             ...                                ...   \n",
              "1748     Q.-300.   7802575222954       JUGO SPRIM FRUTILLA 1L. 35g.   \n",
              "1749    Q.-1750.   7801610001295  COCACOLA ORIGINAL RETORNABLE 2.0L   \n",
              "1750    Q.-1150.          ENVASE                      ENVASE BEBIDA   \n",
              "1751    Q.-1900.          ENVASE                      * TRIAL * TRI   \n",
              "1752    Q.-1750.          ENVASE                      ENVASE BEBIDA   \n",
              "\n",
              "      CODIGO_FAMILIA      NOMBRE_FAMILIA CANTIDAD  \n",
              "0                  4   CONFITES-GALLETAS      1,0  \n",
              "1                  1  OFERTAS ESPECIALES      1,0  \n",
              "2                  1  OFERTAS ESPECIALES      1,0  \n",
              "3                  1  OFERTAS ESPECIALES      1,0  \n",
              "4                  1  OFERTAS ESPECIALES      1,0  \n",
              "...              ...                 ...      ...  \n",
              "1748               8        JUGOS-NECTAR      2,0  \n",
              "1749              11   BEBIDAS COCA COLA      1,0  \n",
              "1750               1  OFERTAS ESPECIALES      1,0  \n",
              "1751               1  OFERTAS ESPECIALES      1,0  \n",
              "1752               1  OFERTAS ESPECIALES      1,0  \n",
              "\n",
              "[1753 rows x 10 columns]"
            ],
            "text/html": [
              "\n",
              "  <div id=\"df-5e3e33bd-7cfd-4202-9cca-61e67715beda\">\n",
              "    <div class=\"colab-df-container\">\n",
              "      <div>\n",
              "<style scoped>\n",
              "    .dataframe tbody tr th:only-of-type {\n",
              "        vertical-align: middle;\n",
              "    }\n",
              "\n",
              "    .dataframe tbody tr th {\n",
              "        vertical-align: top;\n",
              "    }\n",
              "\n",
              "    .dataframe thead th {\n",
              "        text-align: right;\n",
              "    }\n",
              "</style>\n",
              "<table border=\"1\" class=\"dataframe\">\n",
              "  <thead>\n",
              "    <tr style=\"text-align: right;\">\n",
              "      <th></th>\n",
              "      <th>VENTA_ID</th>\n",
              "      <th>CAJERO_ID</th>\n",
              "      <th>COMPRADOR_ID</th>\n",
              "      <th>FECHA_VENTA</th>\n",
              "      <th>MONTO_TOTAL</th>\n",
              "      <th>CODIGO_PRODUCTO</th>\n",
              "      <th>NOMBRE_PRODUCTO</th>\n",
              "      <th>CODIGO_FAMILIA</th>\n",
              "      <th>NOMBRE_FAMILIA</th>\n",
              "      <th>CANTIDAD</th>\n",
              "    </tr>\n",
              "  </thead>\n",
              "  <tbody>\n",
              "    <tr>\n",
              "      <th>0</th>\n",
              "      <td>26</td>\n",
              "      <td>7</td>\n",
              "      <td>32</td>\n",
              "      <td>22/08/19 19:43:18,000000000</td>\n",
              "      <td>Q.-1500.</td>\n",
              "      <td>7802215104855</td>\n",
              "      <td>Costa Rama</td>\n",
              "      <td>4</td>\n",
              "      <td>CONFITES-GALLETAS</td>\n",
              "      <td>1,0</td>\n",
              "    </tr>\n",
              "    <tr>\n",
              "      <th>1</th>\n",
              "      <td>49</td>\n",
              "      <td>7</td>\n",
              "      <td>91</td>\n",
              "      <td>23/08/19 14:08:25,000000000</td>\n",
              "      <td>Q.4050-.</td>\n",
              "      <td>7801810712663</td>\n",
              "      <td>LIPTON YELLOW 40g. 20UN.</td>\n",
              "      <td>1</td>\n",
              "      <td>OFERTAS ESPECIALES</td>\n",
              "      <td>1,0</td>\n",
              "    </tr>\n",
              "    <tr>\n",
              "      <th>2</th>\n",
              "      <td>49</td>\n",
              "      <td>7</td>\n",
              "      <td>399</td>\n",
              "      <td>23/08/19 14:08:25,000000000</td>\n",
              "      <td>Q.4050-.</td>\n",
              "      <td>7802575006035</td>\n",
              "      <td>CORBATAS CARO.400g.</td>\n",
              "      <td>1</td>\n",
              "      <td>OFERTAS ESPECIALES</td>\n",
              "      <td>1,0</td>\n",
              "    </tr>\n",
              "    <tr>\n",
              "      <th>3</th>\n",
              "      <td>49</td>\n",
              "      <td>7</td>\n",
              "      <td>92</td>\n",
              "      <td>23/08/19 14:08:25,000000000</td>\n",
              "      <td>Q.4050-.</td>\n",
              "      <td>7801875032010</td>\n",
              "      <td>TÉ SUPREMO 40g. 20UN.</td>\n",
              "      <td>1</td>\n",
              "      <td>OFERTAS ESPECIALES</td>\n",
              "      <td>1,0</td>\n",
              "    </tr>\n",
              "    <tr>\n",
              "      <th>4</th>\n",
              "      <td>49</td>\n",
              "      <td>7</td>\n",
              "      <td>177</td>\n",
              "      <td>23/08/19 14:08:25,000000000</td>\n",
              "      <td>Q.4050-.</td>\n",
              "      <td>7808743601934</td>\n",
              "      <td>ACEITE MERKAT 900ml.</td>\n",
              "      <td>1</td>\n",
              "      <td>OFERTAS ESPECIALES</td>\n",
              "      <td>1,0</td>\n",
              "    </tr>\n",
              "    <tr>\n",
              "      <th>...</th>\n",
              "      <td>...</td>\n",
              "      <td>...</td>\n",
              "      <td>...</td>\n",
              "      <td>...</td>\n",
              "      <td>...</td>\n",
              "      <td>...</td>\n",
              "      <td>...</td>\n",
              "      <td>...</td>\n",
              "      <td>...</td>\n",
              "      <td>...</td>\n",
              "    </tr>\n",
              "    <tr>\n",
              "      <th>1748</th>\n",
              "      <td>49987</td>\n",
              "      <td>5</td>\n",
              "      <td>20</td>\n",
              "      <td>28/11/19 15:47:25,000000000</td>\n",
              "      <td>Q.-300.</td>\n",
              "      <td>7802575222954</td>\n",
              "      <td>JUGO SPRIM FRUTILLA 1L. 35g.</td>\n",
              "      <td>8</td>\n",
              "      <td>JUGOS-NECTAR</td>\n",
              "      <td>2,0</td>\n",
              "    </tr>\n",
              "    <tr>\n",
              "      <th>1749</th>\n",
              "      <td>52296</td>\n",
              "      <td>4</td>\n",
              "      <td>62</td>\n",
              "      <td>02/12/19 13:13:30,000000000</td>\n",
              "      <td>Q.-1750.</td>\n",
              "      <td>7801610001295</td>\n",
              "      <td>COCACOLA ORIGINAL RETORNABLE 2.0L</td>\n",
              "      <td>11</td>\n",
              "      <td>BEBIDAS COCA COLA</td>\n",
              "      <td>1,0</td>\n",
              "    </tr>\n",
              "    <tr>\n",
              "      <th>1750</th>\n",
              "      <td>52831</td>\n",
              "      <td>4</td>\n",
              "      <td>487</td>\n",
              "      <td>03/12/19 12:22:43,000000000</td>\n",
              "      <td>Q.-1150.</td>\n",
              "      <td>ENVASE</td>\n",
              "      <td>ENVASE BEBIDA</td>\n",
              "      <td>1</td>\n",
              "      <td>OFERTAS ESPECIALES</td>\n",
              "      <td>1,0</td>\n",
              "    </tr>\n",
              "    <tr>\n",
              "      <th>1751</th>\n",
              "      <td>61835</td>\n",
              "      <td>5</td>\n",
              "      <td>111</td>\n",
              "      <td>19/12/19 16:48:53,000000000</td>\n",
              "      <td>Q.-1900.</td>\n",
              "      <td>ENVASE</td>\n",
              "      <td>* TRIAL * TRI</td>\n",
              "      <td>1</td>\n",
              "      <td>OFERTAS ESPECIALES</td>\n",
              "      <td>1,0</td>\n",
              "    </tr>\n",
              "    <tr>\n",
              "      <th>1752</th>\n",
              "      <td>62325</td>\n",
              "      <td>5</td>\n",
              "      <td>54</td>\n",
              "      <td>20/12/19 16:24:44,000000000</td>\n",
              "      <td>Q.-1750.</td>\n",
              "      <td>ENVASE</td>\n",
              "      <td>ENVASE BEBIDA</td>\n",
              "      <td>1</td>\n",
              "      <td>OFERTAS ESPECIALES</td>\n",
              "      <td>1,0</td>\n",
              "    </tr>\n",
              "  </tbody>\n",
              "</table>\n",
              "<p>1753 rows × 10 columns</p>\n",
              "</div>\n",
              "      <button class=\"colab-df-convert\" onclick=\"convertToInteractive('df-5e3e33bd-7cfd-4202-9cca-61e67715beda')\"\n",
              "              title=\"Convert this dataframe to an interactive table.\"\n",
              "              style=\"display:none;\">\n",
              "        \n",
              "  <svg xmlns=\"http://www.w3.org/2000/svg\" height=\"24px\"viewBox=\"0 0 24 24\"\n",
              "       width=\"24px\">\n",
              "    <path d=\"M0 0h24v24H0V0z\" fill=\"none\"/>\n",
              "    <path d=\"M18.56 5.44l.94 2.06.94-2.06 2.06-.94-2.06-.94-.94-2.06-.94 2.06-2.06.94zm-11 1L8.5 8.5l.94-2.06 2.06-.94-2.06-.94L8.5 2.5l-.94 2.06-2.06.94zm10 10l.94 2.06.94-2.06 2.06-.94-2.06-.94-.94-2.06-.94 2.06-2.06.94z\"/><path d=\"M17.41 7.96l-1.37-1.37c-.4-.4-.92-.59-1.43-.59-.52 0-1.04.2-1.43.59L10.3 9.45l-7.72 7.72c-.78.78-.78 2.05 0 2.83L4 21.41c.39.39.9.59 1.41.59.51 0 1.02-.2 1.41-.59l7.78-7.78 2.81-2.81c.8-.78.8-2.07 0-2.86zM5.41 20L4 18.59l7.72-7.72 1.47 1.35L5.41 20z\"/>\n",
              "  </svg>\n",
              "      </button>\n",
              "      \n",
              "  <style>\n",
              "    .colab-df-container {\n",
              "      display:flex;\n",
              "      flex-wrap:wrap;\n",
              "      gap: 12px;\n",
              "    }\n",
              "\n",
              "    .colab-df-convert {\n",
              "      background-color: #E8F0FE;\n",
              "      border: none;\n",
              "      border-radius: 50%;\n",
              "      cursor: pointer;\n",
              "      display: none;\n",
              "      fill: #1967D2;\n",
              "      height: 32px;\n",
              "      padding: 0 0 0 0;\n",
              "      width: 32px;\n",
              "    }\n",
              "\n",
              "    .colab-df-convert:hover {\n",
              "      background-color: #E2EBFA;\n",
              "      box-shadow: 0px 1px 2px rgba(60, 64, 67, 0.3), 0px 1px 3px 1px rgba(60, 64, 67, 0.15);\n",
              "      fill: #174EA6;\n",
              "    }\n",
              "\n",
              "    [theme=dark] .colab-df-convert {\n",
              "      background-color: #3B4455;\n",
              "      fill: #D2E3FC;\n",
              "    }\n",
              "\n",
              "    [theme=dark] .colab-df-convert:hover {\n",
              "      background-color: #434B5C;\n",
              "      box-shadow: 0px 1px 3px 1px rgba(0, 0, 0, 0.15);\n",
              "      filter: drop-shadow(0px 1px 2px rgba(0, 0, 0, 0.3));\n",
              "      fill: #FFFFFF;\n",
              "    }\n",
              "  </style>\n",
              "\n",
              "      <script>\n",
              "        const buttonEl =\n",
              "          document.querySelector('#df-5e3e33bd-7cfd-4202-9cca-61e67715beda button.colab-df-convert');\n",
              "        buttonEl.style.display =\n",
              "          google.colab.kernel.accessAllowed ? 'block' : 'none';\n",
              "\n",
              "        async function convertToInteractive(key) {\n",
              "          const element = document.querySelector('#df-5e3e33bd-7cfd-4202-9cca-61e67715beda');\n",
              "          const dataTable =\n",
              "            await google.colab.kernel.invokeFunction('convertToInteractive',\n",
              "                                                     [key], {});\n",
              "          if (!dataTable) return;\n",
              "\n",
              "          const docLinkHtml = 'Like what you see? Visit the ' +\n",
              "            '<a target=\"_blank\" href=https://colab.research.google.com/notebooks/data_table.ipynb>data table notebook</a>'\n",
              "            + ' to learn more about interactive tables.';\n",
              "          element.innerHTML = '';\n",
              "          dataTable['output_type'] = 'display_data';\n",
              "          await google.colab.output.renderOutput(dataTable, element);\n",
              "          const docLink = document.createElement('div');\n",
              "          docLink.innerHTML = docLinkHtml;\n",
              "          element.appendChild(docLink);\n",
              "        }\n",
              "      </script>\n",
              "    </div>\n",
              "  </div>\n",
              "  "
            ]
          },
          "metadata": {},
          "execution_count": 5
        }
      ]
    },
    {
      "cell_type": "code",
      "source": [
        "df_ventas.dtypes"
      ],
      "metadata": {
        "colab": {
          "base_uri": "https://localhost:8080/"
        },
        "id": "NkuAzH8SP7sD",
        "outputId": "02e89d89-e51b-4431-a941-0aa494427595"
      },
      "execution_count": null,
      "outputs": [
        {
          "output_type": "execute_result",
          "data": {
            "text/plain": [
              "VENTA_ID            int64\n",
              "CAJERO_ID           int64\n",
              "COMPRADOR_ID        int64\n",
              "FECHA_VENTA        object\n",
              "MONTO_TOTAL        object\n",
              "CODIGO_PRODUCTO    object\n",
              "NOMBRE_PRODUCTO    object\n",
              "CODIGO_FAMILIA      int64\n",
              "NOMBRE_FAMILIA     object\n",
              "CANTIDAD           object\n",
              "dtype: object"
            ]
          },
          "metadata": {},
          "execution_count": 6
        }
      ]
    },
    {
      "cell_type": "code",
      "source": [
        "df_ventas.describe()"
      ],
      "metadata": {
        "colab": {
          "base_uri": "https://localhost:8080/",
          "height": 300
        },
        "id": "sJXiPTL6LAe2",
        "outputId": "44eeb8d0-9730-436e-bdb4-4ac907e25e01"
      },
      "execution_count": null,
      "outputs": [
        {
          "output_type": "execute_result",
          "data": {
            "text/plain": [
              "           VENTA_ID    CAJERO_ID  COMPRADOR_ID  CODIGO_FAMILIA\n",
              "count   1753.000000  1753.000000   1753.000000     1753.000000\n",
              "mean    4988.726184     3.828865    249.451797        4.426127\n",
              "std     6754.533366     2.322299    145.613872        4.225431\n",
              "min       26.000000     2.000000      1.000000        1.000000\n",
              "25%     1311.000000     2.000000    123.000000        1.000000\n",
              "50%     2817.000000     2.000000    246.000000        1.000000\n",
              "75%     6065.000000     7.000000    378.000000        7.000000\n",
              "max    62325.000000     7.000000    500.000000       13.000000"
            ],
            "text/html": [
              "\n",
              "  <div id=\"df-bfb63b4c-c3ef-4c4b-a320-c546f886ffbb\">\n",
              "    <div class=\"colab-df-container\">\n",
              "      <div>\n",
              "<style scoped>\n",
              "    .dataframe tbody tr th:only-of-type {\n",
              "        vertical-align: middle;\n",
              "    }\n",
              "\n",
              "    .dataframe tbody tr th {\n",
              "        vertical-align: top;\n",
              "    }\n",
              "\n",
              "    .dataframe thead th {\n",
              "        text-align: right;\n",
              "    }\n",
              "</style>\n",
              "<table border=\"1\" class=\"dataframe\">\n",
              "  <thead>\n",
              "    <tr style=\"text-align: right;\">\n",
              "      <th></th>\n",
              "      <th>VENTA_ID</th>\n",
              "      <th>CAJERO_ID</th>\n",
              "      <th>COMPRADOR_ID</th>\n",
              "      <th>CODIGO_FAMILIA</th>\n",
              "    </tr>\n",
              "  </thead>\n",
              "  <tbody>\n",
              "    <tr>\n",
              "      <th>count</th>\n",
              "      <td>1753.000000</td>\n",
              "      <td>1753.000000</td>\n",
              "      <td>1753.000000</td>\n",
              "      <td>1753.000000</td>\n",
              "    </tr>\n",
              "    <tr>\n",
              "      <th>mean</th>\n",
              "      <td>4988.726184</td>\n",
              "      <td>3.828865</td>\n",
              "      <td>249.451797</td>\n",
              "      <td>4.426127</td>\n",
              "    </tr>\n",
              "    <tr>\n",
              "      <th>std</th>\n",
              "      <td>6754.533366</td>\n",
              "      <td>2.322299</td>\n",
              "      <td>145.613872</td>\n",
              "      <td>4.225431</td>\n",
              "    </tr>\n",
              "    <tr>\n",
              "      <th>min</th>\n",
              "      <td>26.000000</td>\n",
              "      <td>2.000000</td>\n",
              "      <td>1.000000</td>\n",
              "      <td>1.000000</td>\n",
              "    </tr>\n",
              "    <tr>\n",
              "      <th>25%</th>\n",
              "      <td>1311.000000</td>\n",
              "      <td>2.000000</td>\n",
              "      <td>123.000000</td>\n",
              "      <td>1.000000</td>\n",
              "    </tr>\n",
              "    <tr>\n",
              "      <th>50%</th>\n",
              "      <td>2817.000000</td>\n",
              "      <td>2.000000</td>\n",
              "      <td>246.000000</td>\n",
              "      <td>1.000000</td>\n",
              "    </tr>\n",
              "    <tr>\n",
              "      <th>75%</th>\n",
              "      <td>6065.000000</td>\n",
              "      <td>7.000000</td>\n",
              "      <td>378.000000</td>\n",
              "      <td>7.000000</td>\n",
              "    </tr>\n",
              "    <tr>\n",
              "      <th>max</th>\n",
              "      <td>62325.000000</td>\n",
              "      <td>7.000000</td>\n",
              "      <td>500.000000</td>\n",
              "      <td>13.000000</td>\n",
              "    </tr>\n",
              "  </tbody>\n",
              "</table>\n",
              "</div>\n",
              "      <button class=\"colab-df-convert\" onclick=\"convertToInteractive('df-bfb63b4c-c3ef-4c4b-a320-c546f886ffbb')\"\n",
              "              title=\"Convert this dataframe to an interactive table.\"\n",
              "              style=\"display:none;\">\n",
              "        \n",
              "  <svg xmlns=\"http://www.w3.org/2000/svg\" height=\"24px\"viewBox=\"0 0 24 24\"\n",
              "       width=\"24px\">\n",
              "    <path d=\"M0 0h24v24H0V0z\" fill=\"none\"/>\n",
              "    <path d=\"M18.56 5.44l.94 2.06.94-2.06 2.06-.94-2.06-.94-.94-2.06-.94 2.06-2.06.94zm-11 1L8.5 8.5l.94-2.06 2.06-.94-2.06-.94L8.5 2.5l-.94 2.06-2.06.94zm10 10l.94 2.06.94-2.06 2.06-.94-2.06-.94-.94-2.06-.94 2.06-2.06.94z\"/><path d=\"M17.41 7.96l-1.37-1.37c-.4-.4-.92-.59-1.43-.59-.52 0-1.04.2-1.43.59L10.3 9.45l-7.72 7.72c-.78.78-.78 2.05 0 2.83L4 21.41c.39.39.9.59 1.41.59.51 0 1.02-.2 1.41-.59l7.78-7.78 2.81-2.81c.8-.78.8-2.07 0-2.86zM5.41 20L4 18.59l7.72-7.72 1.47 1.35L5.41 20z\"/>\n",
              "  </svg>\n",
              "      </button>\n",
              "      \n",
              "  <style>\n",
              "    .colab-df-container {\n",
              "      display:flex;\n",
              "      flex-wrap:wrap;\n",
              "      gap: 12px;\n",
              "    }\n",
              "\n",
              "    .colab-df-convert {\n",
              "      background-color: #E8F0FE;\n",
              "      border: none;\n",
              "      border-radius: 50%;\n",
              "      cursor: pointer;\n",
              "      display: none;\n",
              "      fill: #1967D2;\n",
              "      height: 32px;\n",
              "      padding: 0 0 0 0;\n",
              "      width: 32px;\n",
              "    }\n",
              "\n",
              "    .colab-df-convert:hover {\n",
              "      background-color: #E2EBFA;\n",
              "      box-shadow: 0px 1px 2px rgba(60, 64, 67, 0.3), 0px 1px 3px 1px rgba(60, 64, 67, 0.15);\n",
              "      fill: #174EA6;\n",
              "    }\n",
              "\n",
              "    [theme=dark] .colab-df-convert {\n",
              "      background-color: #3B4455;\n",
              "      fill: #D2E3FC;\n",
              "    }\n",
              "\n",
              "    [theme=dark] .colab-df-convert:hover {\n",
              "      background-color: #434B5C;\n",
              "      box-shadow: 0px 1px 3px 1px rgba(0, 0, 0, 0.15);\n",
              "      filter: drop-shadow(0px 1px 2px rgba(0, 0, 0, 0.3));\n",
              "      fill: #FFFFFF;\n",
              "    }\n",
              "  </style>\n",
              "\n",
              "      <script>\n",
              "        const buttonEl =\n",
              "          document.querySelector('#df-bfb63b4c-c3ef-4c4b-a320-c546f886ffbb button.colab-df-convert');\n",
              "        buttonEl.style.display =\n",
              "          google.colab.kernel.accessAllowed ? 'block' : 'none';\n",
              "\n",
              "        async function convertToInteractive(key) {\n",
              "          const element = document.querySelector('#df-bfb63b4c-c3ef-4c4b-a320-c546f886ffbb');\n",
              "          const dataTable =\n",
              "            await google.colab.kernel.invokeFunction('convertToInteractive',\n",
              "                                                     [key], {});\n",
              "          if (!dataTable) return;\n",
              "\n",
              "          const docLinkHtml = 'Like what you see? Visit the ' +\n",
              "            '<a target=\"_blank\" href=https://colab.research.google.com/notebooks/data_table.ipynb>data table notebook</a>'\n",
              "            + ' to learn more about interactive tables.';\n",
              "          element.innerHTML = '';\n",
              "          dataTable['output_type'] = 'display_data';\n",
              "          await google.colab.output.renderOutput(dataTable, element);\n",
              "          const docLink = document.createElement('div');\n",
              "          docLink.innerHTML = docLinkHtml;\n",
              "          element.appendChild(docLink);\n",
              "        }\n",
              "      </script>\n",
              "    </div>\n",
              "  </div>\n",
              "  "
            ]
          },
          "metadata": {},
          "execution_count": 7
        }
      ]
    },
    {
      "cell_type": "markdown",
      "source": [
        "### Clientes"
      ],
      "metadata": {
        "id": "pBbaRa6BLqT-"
      }
    },
    {
      "cell_type": "code",
      "metadata": {
        "id": "eNpOOs8Zzjpv"
      },
      "source": [
        "# Realice análisis de los datos del CSV 2\n",
        "df_clientes = pd.read_csv(\"datos_clientes.csv\", sep = \",\")"
      ],
      "execution_count": null,
      "outputs": []
    },
    {
      "cell_type": "code",
      "source": [
        "df_clientes"
      ],
      "metadata": {
        "colab": {
          "base_uri": "https://localhost:8080/",
          "height": 423
        },
        "id": "cbCV6bDaMABY",
        "outputId": "d0aedee2-7e61-4e6e-92f7-6f499b6671cd"
      },
      "execution_count": null,
      "outputs": [
        {
          "output_type": "execute_result",
          "data": {
            "text/plain": [
              "     id_cliente primer_nombre apellido_paterno apellido_materno  \\\n",
              "0             1          Ibby           Plewes             Izac   \n",
              "1             2       Doralia            Ewell         Townsend   \n",
              "2             3       Lynette         Merrydew       Feaveryear   \n",
              "3             4        Janaye         Jeffryes           Anglim   \n",
              "4             5        Travus            Divis       Minchindon   \n",
              "..          ...           ...              ...              ...   \n",
              "495         496        Skyler       Carmichael          Warlock   \n",
              "496         497         Kelly          Mincini          Flanner   \n",
              "497         498       Curtice        Gillivrie             Hoys   \n",
              "498         499       Kristal          Barniss             Maso   \n",
              "499         500       Whitney           Fewkes            Bolte   \n",
              "\n",
              "                           correo  genero          idioma estado_civil  \\\n",
              "0                 iizac0@cnbc.com  Female      Lithuanian         Otro   \n",
              "1                dtownsend1@ow.ly  Female        Armenian        Viudo   \n",
              "2            lfeaveryear2@aol.com  Female      Papiamento      Soltero   \n",
              "3              janglim3@ameblo.jp  Female        Georgian       Casado   \n",
              "4    tminchindon4@sourceforge.net    Male  Northern Sotho       Casado   \n",
              "..                            ...     ...             ...          ...   \n",
              "495       swarlockdr@hubpages.com    Male        Estonian         Otro   \n",
              "496           kflannerds@xrea.com  Female        Assamese      Soltero   \n",
              "497             choysdt@google.it    Male          Aymara         Otro   \n",
              "498             kmasodu@zdnet.com  Female         Kannada        Viudo   \n",
              "499              wboltedv@hud.gov    Male         Guaraní       Casado   \n",
              "\n",
              "     cant_hijos  edad         estudios    Color_F  \n",
              "0             1     1              RMA    Celeste  \n",
              "1             2     2   IEX Total View       Azul  \n",
              "2             3     3              RMI    Celeste  \n",
              "3             4     4             MTP3       Azul  \n",
              "4             1     5              RMI  Amarrillo  \n",
              "..          ...   ...              ...        ...  \n",
              "495           4    41     Unit Testing     Morado  \n",
              "496           1    42     Unit Testing       Azul  \n",
              "497           2    43           Xpress       Otro  \n",
              "498           3    44             SDTM      Verde  \n",
              "499           4    45  Online Gambling     Morado  \n",
              "\n",
              "[500 rows x 12 columns]"
            ],
            "text/html": [
              "\n",
              "  <div id=\"df-de185cf1-d0d3-4153-b201-792f60b93281\">\n",
              "    <div class=\"colab-df-container\">\n",
              "      <div>\n",
              "<style scoped>\n",
              "    .dataframe tbody tr th:only-of-type {\n",
              "        vertical-align: middle;\n",
              "    }\n",
              "\n",
              "    .dataframe tbody tr th {\n",
              "        vertical-align: top;\n",
              "    }\n",
              "\n",
              "    .dataframe thead th {\n",
              "        text-align: right;\n",
              "    }\n",
              "</style>\n",
              "<table border=\"1\" class=\"dataframe\">\n",
              "  <thead>\n",
              "    <tr style=\"text-align: right;\">\n",
              "      <th></th>\n",
              "      <th>id_cliente</th>\n",
              "      <th>primer_nombre</th>\n",
              "      <th>apellido_paterno</th>\n",
              "      <th>apellido_materno</th>\n",
              "      <th>correo</th>\n",
              "      <th>genero</th>\n",
              "      <th>idioma</th>\n",
              "      <th>estado_civil</th>\n",
              "      <th>cant_hijos</th>\n",
              "      <th>edad</th>\n",
              "      <th>estudios</th>\n",
              "      <th>Color_F</th>\n",
              "    </tr>\n",
              "  </thead>\n",
              "  <tbody>\n",
              "    <tr>\n",
              "      <th>0</th>\n",
              "      <td>1</td>\n",
              "      <td>Ibby</td>\n",
              "      <td>Plewes</td>\n",
              "      <td>Izac</td>\n",
              "      <td>iizac0@cnbc.com</td>\n",
              "      <td>Female</td>\n",
              "      <td>Lithuanian</td>\n",
              "      <td>Otro</td>\n",
              "      <td>1</td>\n",
              "      <td>1</td>\n",
              "      <td>RMA</td>\n",
              "      <td>Celeste</td>\n",
              "    </tr>\n",
              "    <tr>\n",
              "      <th>1</th>\n",
              "      <td>2</td>\n",
              "      <td>Doralia</td>\n",
              "      <td>Ewell</td>\n",
              "      <td>Townsend</td>\n",
              "      <td>dtownsend1@ow.ly</td>\n",
              "      <td>Female</td>\n",
              "      <td>Armenian</td>\n",
              "      <td>Viudo</td>\n",
              "      <td>2</td>\n",
              "      <td>2</td>\n",
              "      <td>IEX Total View</td>\n",
              "      <td>Azul</td>\n",
              "    </tr>\n",
              "    <tr>\n",
              "      <th>2</th>\n",
              "      <td>3</td>\n",
              "      <td>Lynette</td>\n",
              "      <td>Merrydew</td>\n",
              "      <td>Feaveryear</td>\n",
              "      <td>lfeaveryear2@aol.com</td>\n",
              "      <td>Female</td>\n",
              "      <td>Papiamento</td>\n",
              "      <td>Soltero</td>\n",
              "      <td>3</td>\n",
              "      <td>3</td>\n",
              "      <td>RMI</td>\n",
              "      <td>Celeste</td>\n",
              "    </tr>\n",
              "    <tr>\n",
              "      <th>3</th>\n",
              "      <td>4</td>\n",
              "      <td>Janaye</td>\n",
              "      <td>Jeffryes</td>\n",
              "      <td>Anglim</td>\n",
              "      <td>janglim3@ameblo.jp</td>\n",
              "      <td>Female</td>\n",
              "      <td>Georgian</td>\n",
              "      <td>Casado</td>\n",
              "      <td>4</td>\n",
              "      <td>4</td>\n",
              "      <td>MTP3</td>\n",
              "      <td>Azul</td>\n",
              "    </tr>\n",
              "    <tr>\n",
              "      <th>4</th>\n",
              "      <td>5</td>\n",
              "      <td>Travus</td>\n",
              "      <td>Divis</td>\n",
              "      <td>Minchindon</td>\n",
              "      <td>tminchindon4@sourceforge.net</td>\n",
              "      <td>Male</td>\n",
              "      <td>Northern Sotho</td>\n",
              "      <td>Casado</td>\n",
              "      <td>1</td>\n",
              "      <td>5</td>\n",
              "      <td>RMI</td>\n",
              "      <td>Amarrillo</td>\n",
              "    </tr>\n",
              "    <tr>\n",
              "      <th>...</th>\n",
              "      <td>...</td>\n",
              "      <td>...</td>\n",
              "      <td>...</td>\n",
              "      <td>...</td>\n",
              "      <td>...</td>\n",
              "      <td>...</td>\n",
              "      <td>...</td>\n",
              "      <td>...</td>\n",
              "      <td>...</td>\n",
              "      <td>...</td>\n",
              "      <td>...</td>\n",
              "      <td>...</td>\n",
              "    </tr>\n",
              "    <tr>\n",
              "      <th>495</th>\n",
              "      <td>496</td>\n",
              "      <td>Skyler</td>\n",
              "      <td>Carmichael</td>\n",
              "      <td>Warlock</td>\n",
              "      <td>swarlockdr@hubpages.com</td>\n",
              "      <td>Male</td>\n",
              "      <td>Estonian</td>\n",
              "      <td>Otro</td>\n",
              "      <td>4</td>\n",
              "      <td>41</td>\n",
              "      <td>Unit Testing</td>\n",
              "      <td>Morado</td>\n",
              "    </tr>\n",
              "    <tr>\n",
              "      <th>496</th>\n",
              "      <td>497</td>\n",
              "      <td>Kelly</td>\n",
              "      <td>Mincini</td>\n",
              "      <td>Flanner</td>\n",
              "      <td>kflannerds@xrea.com</td>\n",
              "      <td>Female</td>\n",
              "      <td>Assamese</td>\n",
              "      <td>Soltero</td>\n",
              "      <td>1</td>\n",
              "      <td>42</td>\n",
              "      <td>Unit Testing</td>\n",
              "      <td>Azul</td>\n",
              "    </tr>\n",
              "    <tr>\n",
              "      <th>497</th>\n",
              "      <td>498</td>\n",
              "      <td>Curtice</td>\n",
              "      <td>Gillivrie</td>\n",
              "      <td>Hoys</td>\n",
              "      <td>choysdt@google.it</td>\n",
              "      <td>Male</td>\n",
              "      <td>Aymara</td>\n",
              "      <td>Otro</td>\n",
              "      <td>2</td>\n",
              "      <td>43</td>\n",
              "      <td>Xpress</td>\n",
              "      <td>Otro</td>\n",
              "    </tr>\n",
              "    <tr>\n",
              "      <th>498</th>\n",
              "      <td>499</td>\n",
              "      <td>Kristal</td>\n",
              "      <td>Barniss</td>\n",
              "      <td>Maso</td>\n",
              "      <td>kmasodu@zdnet.com</td>\n",
              "      <td>Female</td>\n",
              "      <td>Kannada</td>\n",
              "      <td>Viudo</td>\n",
              "      <td>3</td>\n",
              "      <td>44</td>\n",
              "      <td>SDTM</td>\n",
              "      <td>Verde</td>\n",
              "    </tr>\n",
              "    <tr>\n",
              "      <th>499</th>\n",
              "      <td>500</td>\n",
              "      <td>Whitney</td>\n",
              "      <td>Fewkes</td>\n",
              "      <td>Bolte</td>\n",
              "      <td>wboltedv@hud.gov</td>\n",
              "      <td>Male</td>\n",
              "      <td>Guaraní</td>\n",
              "      <td>Casado</td>\n",
              "      <td>4</td>\n",
              "      <td>45</td>\n",
              "      <td>Online Gambling</td>\n",
              "      <td>Morado</td>\n",
              "    </tr>\n",
              "  </tbody>\n",
              "</table>\n",
              "<p>500 rows × 12 columns</p>\n",
              "</div>\n",
              "      <button class=\"colab-df-convert\" onclick=\"convertToInteractive('df-de185cf1-d0d3-4153-b201-792f60b93281')\"\n",
              "              title=\"Convert this dataframe to an interactive table.\"\n",
              "              style=\"display:none;\">\n",
              "        \n",
              "  <svg xmlns=\"http://www.w3.org/2000/svg\" height=\"24px\"viewBox=\"0 0 24 24\"\n",
              "       width=\"24px\">\n",
              "    <path d=\"M0 0h24v24H0V0z\" fill=\"none\"/>\n",
              "    <path d=\"M18.56 5.44l.94 2.06.94-2.06 2.06-.94-2.06-.94-.94-2.06-.94 2.06-2.06.94zm-11 1L8.5 8.5l.94-2.06 2.06-.94-2.06-.94L8.5 2.5l-.94 2.06-2.06.94zm10 10l.94 2.06.94-2.06 2.06-.94-2.06-.94-.94-2.06-.94 2.06-2.06.94z\"/><path d=\"M17.41 7.96l-1.37-1.37c-.4-.4-.92-.59-1.43-.59-.52 0-1.04.2-1.43.59L10.3 9.45l-7.72 7.72c-.78.78-.78 2.05 0 2.83L4 21.41c.39.39.9.59 1.41.59.51 0 1.02-.2 1.41-.59l7.78-7.78 2.81-2.81c.8-.78.8-2.07 0-2.86zM5.41 20L4 18.59l7.72-7.72 1.47 1.35L5.41 20z\"/>\n",
              "  </svg>\n",
              "      </button>\n",
              "      \n",
              "  <style>\n",
              "    .colab-df-container {\n",
              "      display:flex;\n",
              "      flex-wrap:wrap;\n",
              "      gap: 12px;\n",
              "    }\n",
              "\n",
              "    .colab-df-convert {\n",
              "      background-color: #E8F0FE;\n",
              "      border: none;\n",
              "      border-radius: 50%;\n",
              "      cursor: pointer;\n",
              "      display: none;\n",
              "      fill: #1967D2;\n",
              "      height: 32px;\n",
              "      padding: 0 0 0 0;\n",
              "      width: 32px;\n",
              "    }\n",
              "\n",
              "    .colab-df-convert:hover {\n",
              "      background-color: #E2EBFA;\n",
              "      box-shadow: 0px 1px 2px rgba(60, 64, 67, 0.3), 0px 1px 3px 1px rgba(60, 64, 67, 0.15);\n",
              "      fill: #174EA6;\n",
              "    }\n",
              "\n",
              "    [theme=dark] .colab-df-convert {\n",
              "      background-color: #3B4455;\n",
              "      fill: #D2E3FC;\n",
              "    }\n",
              "\n",
              "    [theme=dark] .colab-df-convert:hover {\n",
              "      background-color: #434B5C;\n",
              "      box-shadow: 0px 1px 3px 1px rgba(0, 0, 0, 0.15);\n",
              "      filter: drop-shadow(0px 1px 2px rgba(0, 0, 0, 0.3));\n",
              "      fill: #FFFFFF;\n",
              "    }\n",
              "  </style>\n",
              "\n",
              "      <script>\n",
              "        const buttonEl =\n",
              "          document.querySelector('#df-de185cf1-d0d3-4153-b201-792f60b93281 button.colab-df-convert');\n",
              "        buttonEl.style.display =\n",
              "          google.colab.kernel.accessAllowed ? 'block' : 'none';\n",
              "\n",
              "        async function convertToInteractive(key) {\n",
              "          const element = document.querySelector('#df-de185cf1-d0d3-4153-b201-792f60b93281');\n",
              "          const dataTable =\n",
              "            await google.colab.kernel.invokeFunction('convertToInteractive',\n",
              "                                                     [key], {});\n",
              "          if (!dataTable) return;\n",
              "\n",
              "          const docLinkHtml = 'Like what you see? Visit the ' +\n",
              "            '<a target=\"_blank\" href=https://colab.research.google.com/notebooks/data_table.ipynb>data table notebook</a>'\n",
              "            + ' to learn more about interactive tables.';\n",
              "          element.innerHTML = '';\n",
              "          dataTable['output_type'] = 'display_data';\n",
              "          await google.colab.output.renderOutput(dataTable, element);\n",
              "          const docLink = document.createElement('div');\n",
              "          docLink.innerHTML = docLinkHtml;\n",
              "          element.appendChild(docLink);\n",
              "        }\n",
              "      </script>\n",
              "    </div>\n",
              "  </div>\n",
              "  "
            ]
          },
          "metadata": {},
          "execution_count": 9
        }
      ]
    },
    {
      "cell_type": "code",
      "source": [
        "df_clientes.describe()"
      ],
      "metadata": {
        "colab": {
          "base_uri": "https://localhost:8080/",
          "height": 300
        },
        "id": "Cu3nLo5jLC61",
        "outputId": "f3cd3e42-d988-4bf8-ae96-b84211faa244"
      },
      "execution_count": null,
      "outputs": [
        {
          "output_type": "execute_result",
          "data": {
            "text/plain": [
              "       id_cliente  cant_hijos        edad\n",
              "count  500.000000  500.000000  500.000000\n",
              "mean   250.500000    2.500000   32.100000\n",
              "std    144.481833    1.119154   18.557445\n",
              "min      1.000000    1.000000    1.000000\n",
              "25%    125.750000    1.750000   16.000000\n",
              "50%    250.500000    2.500000   32.000000\n",
              "75%    375.250000    3.250000   48.000000\n",
              "max    500.000000    4.000000   65.000000"
            ],
            "text/html": [
              "\n",
              "  <div id=\"df-2f7d4d0b-cd3d-4190-b4a4-2260f7f00997\">\n",
              "    <div class=\"colab-df-container\">\n",
              "      <div>\n",
              "<style scoped>\n",
              "    .dataframe tbody tr th:only-of-type {\n",
              "        vertical-align: middle;\n",
              "    }\n",
              "\n",
              "    .dataframe tbody tr th {\n",
              "        vertical-align: top;\n",
              "    }\n",
              "\n",
              "    .dataframe thead th {\n",
              "        text-align: right;\n",
              "    }\n",
              "</style>\n",
              "<table border=\"1\" class=\"dataframe\">\n",
              "  <thead>\n",
              "    <tr style=\"text-align: right;\">\n",
              "      <th></th>\n",
              "      <th>id_cliente</th>\n",
              "      <th>cant_hijos</th>\n",
              "      <th>edad</th>\n",
              "    </tr>\n",
              "  </thead>\n",
              "  <tbody>\n",
              "    <tr>\n",
              "      <th>count</th>\n",
              "      <td>500.000000</td>\n",
              "      <td>500.000000</td>\n",
              "      <td>500.000000</td>\n",
              "    </tr>\n",
              "    <tr>\n",
              "      <th>mean</th>\n",
              "      <td>250.500000</td>\n",
              "      <td>2.500000</td>\n",
              "      <td>32.100000</td>\n",
              "    </tr>\n",
              "    <tr>\n",
              "      <th>std</th>\n",
              "      <td>144.481833</td>\n",
              "      <td>1.119154</td>\n",
              "      <td>18.557445</td>\n",
              "    </tr>\n",
              "    <tr>\n",
              "      <th>min</th>\n",
              "      <td>1.000000</td>\n",
              "      <td>1.000000</td>\n",
              "      <td>1.000000</td>\n",
              "    </tr>\n",
              "    <tr>\n",
              "      <th>25%</th>\n",
              "      <td>125.750000</td>\n",
              "      <td>1.750000</td>\n",
              "      <td>16.000000</td>\n",
              "    </tr>\n",
              "    <tr>\n",
              "      <th>50%</th>\n",
              "      <td>250.500000</td>\n",
              "      <td>2.500000</td>\n",
              "      <td>32.000000</td>\n",
              "    </tr>\n",
              "    <tr>\n",
              "      <th>75%</th>\n",
              "      <td>375.250000</td>\n",
              "      <td>3.250000</td>\n",
              "      <td>48.000000</td>\n",
              "    </tr>\n",
              "    <tr>\n",
              "      <th>max</th>\n",
              "      <td>500.000000</td>\n",
              "      <td>4.000000</td>\n",
              "      <td>65.000000</td>\n",
              "    </tr>\n",
              "  </tbody>\n",
              "</table>\n",
              "</div>\n",
              "      <button class=\"colab-df-convert\" onclick=\"convertToInteractive('df-2f7d4d0b-cd3d-4190-b4a4-2260f7f00997')\"\n",
              "              title=\"Convert this dataframe to an interactive table.\"\n",
              "              style=\"display:none;\">\n",
              "        \n",
              "  <svg xmlns=\"http://www.w3.org/2000/svg\" height=\"24px\"viewBox=\"0 0 24 24\"\n",
              "       width=\"24px\">\n",
              "    <path d=\"M0 0h24v24H0V0z\" fill=\"none\"/>\n",
              "    <path d=\"M18.56 5.44l.94 2.06.94-2.06 2.06-.94-2.06-.94-.94-2.06-.94 2.06-2.06.94zm-11 1L8.5 8.5l.94-2.06 2.06-.94-2.06-.94L8.5 2.5l-.94 2.06-2.06.94zm10 10l.94 2.06.94-2.06 2.06-.94-2.06-.94-.94-2.06-.94 2.06-2.06.94z\"/><path d=\"M17.41 7.96l-1.37-1.37c-.4-.4-.92-.59-1.43-.59-.52 0-1.04.2-1.43.59L10.3 9.45l-7.72 7.72c-.78.78-.78 2.05 0 2.83L4 21.41c.39.39.9.59 1.41.59.51 0 1.02-.2 1.41-.59l7.78-7.78 2.81-2.81c.8-.78.8-2.07 0-2.86zM5.41 20L4 18.59l7.72-7.72 1.47 1.35L5.41 20z\"/>\n",
              "  </svg>\n",
              "      </button>\n",
              "      \n",
              "  <style>\n",
              "    .colab-df-container {\n",
              "      display:flex;\n",
              "      flex-wrap:wrap;\n",
              "      gap: 12px;\n",
              "    }\n",
              "\n",
              "    .colab-df-convert {\n",
              "      background-color: #E8F0FE;\n",
              "      border: none;\n",
              "      border-radius: 50%;\n",
              "      cursor: pointer;\n",
              "      display: none;\n",
              "      fill: #1967D2;\n",
              "      height: 32px;\n",
              "      padding: 0 0 0 0;\n",
              "      width: 32px;\n",
              "    }\n",
              "\n",
              "    .colab-df-convert:hover {\n",
              "      background-color: #E2EBFA;\n",
              "      box-shadow: 0px 1px 2px rgba(60, 64, 67, 0.3), 0px 1px 3px 1px rgba(60, 64, 67, 0.15);\n",
              "      fill: #174EA6;\n",
              "    }\n",
              "\n",
              "    [theme=dark] .colab-df-convert {\n",
              "      background-color: #3B4455;\n",
              "      fill: #D2E3FC;\n",
              "    }\n",
              "\n",
              "    [theme=dark] .colab-df-convert:hover {\n",
              "      background-color: #434B5C;\n",
              "      box-shadow: 0px 1px 3px 1px rgba(0, 0, 0, 0.15);\n",
              "      filter: drop-shadow(0px 1px 2px rgba(0, 0, 0, 0.3));\n",
              "      fill: #FFFFFF;\n",
              "    }\n",
              "  </style>\n",
              "\n",
              "      <script>\n",
              "        const buttonEl =\n",
              "          document.querySelector('#df-2f7d4d0b-cd3d-4190-b4a4-2260f7f00997 button.colab-df-convert');\n",
              "        buttonEl.style.display =\n",
              "          google.colab.kernel.accessAllowed ? 'block' : 'none';\n",
              "\n",
              "        async function convertToInteractive(key) {\n",
              "          const element = document.querySelector('#df-2f7d4d0b-cd3d-4190-b4a4-2260f7f00997');\n",
              "          const dataTable =\n",
              "            await google.colab.kernel.invokeFunction('convertToInteractive',\n",
              "                                                     [key], {});\n",
              "          if (!dataTable) return;\n",
              "\n",
              "          const docLinkHtml = 'Like what you see? Visit the ' +\n",
              "            '<a target=\"_blank\" href=https://colab.research.google.com/notebooks/data_table.ipynb>data table notebook</a>'\n",
              "            + ' to learn more about interactive tables.';\n",
              "          element.innerHTML = '';\n",
              "          dataTable['output_type'] = 'display_data';\n",
              "          await google.colab.output.renderOutput(dataTable, element);\n",
              "          const docLink = document.createElement('div');\n",
              "          docLink.innerHTML = docLinkHtml;\n",
              "          element.appendChild(docLink);\n",
              "        }\n",
              "      </script>\n",
              "    </div>\n",
              "  </div>\n",
              "  "
            ]
          },
          "metadata": {},
          "execution_count": 10
        }
      ]
    },
    {
      "cell_type": "markdown",
      "source": [
        "### Trabajador"
      ],
      "metadata": {
        "id": "CDLPvUCQLtfz"
      }
    },
    {
      "cell_type": "code",
      "metadata": {
        "id": "WhnW2ThDzn6H"
      },
      "source": [
        "# Realice análisis de los datos del CSV 3\n",
        "df_trabajador = pd.read_csv(\"datos_trabajador.csv\", sep = \",\")"
      ],
      "execution_count": null,
      "outputs": []
    },
    {
      "cell_type": "code",
      "source": [
        "df_trabajador"
      ],
      "metadata": {
        "colab": {
          "base_uri": "https://localhost:8080/",
          "height": 206
        },
        "id": "K3vHi4kqMCXP",
        "outputId": "b2d0e54b-ddac-454c-ac89-19513619bd52"
      },
      "execution_count": null,
      "outputs": [
        {
          "output_type": "execute_result",
          "data": {
            "text/plain": [
              "   ID  CAJERO_ID  NOMBRE APELLIDO         RUT\n",
              "0   1          2   Zelda  Wiggins  23730488-8\n",
              "1   2          3    Kaye     Bird  18659842-3\n",
              "2   3          4    Sean   Tucker  12534101-2\n",
              "3   4          5   Ulric   Lester  14004608-6\n",
              "4   5          7  Hunter    Booth  13030165-7"
            ],
            "text/html": [
              "\n",
              "  <div id=\"df-32257c62-b2bb-4579-993a-aacc4b8391d8\">\n",
              "    <div class=\"colab-df-container\">\n",
              "      <div>\n",
              "<style scoped>\n",
              "    .dataframe tbody tr th:only-of-type {\n",
              "        vertical-align: middle;\n",
              "    }\n",
              "\n",
              "    .dataframe tbody tr th {\n",
              "        vertical-align: top;\n",
              "    }\n",
              "\n",
              "    .dataframe thead th {\n",
              "        text-align: right;\n",
              "    }\n",
              "</style>\n",
              "<table border=\"1\" class=\"dataframe\">\n",
              "  <thead>\n",
              "    <tr style=\"text-align: right;\">\n",
              "      <th></th>\n",
              "      <th>ID</th>\n",
              "      <th>CAJERO_ID</th>\n",
              "      <th>NOMBRE</th>\n",
              "      <th>APELLIDO</th>\n",
              "      <th>RUT</th>\n",
              "    </tr>\n",
              "  </thead>\n",
              "  <tbody>\n",
              "    <tr>\n",
              "      <th>0</th>\n",
              "      <td>1</td>\n",
              "      <td>2</td>\n",
              "      <td>Zelda</td>\n",
              "      <td>Wiggins</td>\n",
              "      <td>23730488-8</td>\n",
              "    </tr>\n",
              "    <tr>\n",
              "      <th>1</th>\n",
              "      <td>2</td>\n",
              "      <td>3</td>\n",
              "      <td>Kaye</td>\n",
              "      <td>Bird</td>\n",
              "      <td>18659842-3</td>\n",
              "    </tr>\n",
              "    <tr>\n",
              "      <th>2</th>\n",
              "      <td>3</td>\n",
              "      <td>4</td>\n",
              "      <td>Sean</td>\n",
              "      <td>Tucker</td>\n",
              "      <td>12534101-2</td>\n",
              "    </tr>\n",
              "    <tr>\n",
              "      <th>3</th>\n",
              "      <td>4</td>\n",
              "      <td>5</td>\n",
              "      <td>Ulric</td>\n",
              "      <td>Lester</td>\n",
              "      <td>14004608-6</td>\n",
              "    </tr>\n",
              "    <tr>\n",
              "      <th>4</th>\n",
              "      <td>5</td>\n",
              "      <td>7</td>\n",
              "      <td>Hunter</td>\n",
              "      <td>Booth</td>\n",
              "      <td>13030165-7</td>\n",
              "    </tr>\n",
              "  </tbody>\n",
              "</table>\n",
              "</div>\n",
              "      <button class=\"colab-df-convert\" onclick=\"convertToInteractive('df-32257c62-b2bb-4579-993a-aacc4b8391d8')\"\n",
              "              title=\"Convert this dataframe to an interactive table.\"\n",
              "              style=\"display:none;\">\n",
              "        \n",
              "  <svg xmlns=\"http://www.w3.org/2000/svg\" height=\"24px\"viewBox=\"0 0 24 24\"\n",
              "       width=\"24px\">\n",
              "    <path d=\"M0 0h24v24H0V0z\" fill=\"none\"/>\n",
              "    <path d=\"M18.56 5.44l.94 2.06.94-2.06 2.06-.94-2.06-.94-.94-2.06-.94 2.06-2.06.94zm-11 1L8.5 8.5l.94-2.06 2.06-.94-2.06-.94L8.5 2.5l-.94 2.06-2.06.94zm10 10l.94 2.06.94-2.06 2.06-.94-2.06-.94-.94-2.06-.94 2.06-2.06.94z\"/><path d=\"M17.41 7.96l-1.37-1.37c-.4-.4-.92-.59-1.43-.59-.52 0-1.04.2-1.43.59L10.3 9.45l-7.72 7.72c-.78.78-.78 2.05 0 2.83L4 21.41c.39.39.9.59 1.41.59.51 0 1.02-.2 1.41-.59l7.78-7.78 2.81-2.81c.8-.78.8-2.07 0-2.86zM5.41 20L4 18.59l7.72-7.72 1.47 1.35L5.41 20z\"/>\n",
              "  </svg>\n",
              "      </button>\n",
              "      \n",
              "  <style>\n",
              "    .colab-df-container {\n",
              "      display:flex;\n",
              "      flex-wrap:wrap;\n",
              "      gap: 12px;\n",
              "    }\n",
              "\n",
              "    .colab-df-convert {\n",
              "      background-color: #E8F0FE;\n",
              "      border: none;\n",
              "      border-radius: 50%;\n",
              "      cursor: pointer;\n",
              "      display: none;\n",
              "      fill: #1967D2;\n",
              "      height: 32px;\n",
              "      padding: 0 0 0 0;\n",
              "      width: 32px;\n",
              "    }\n",
              "\n",
              "    .colab-df-convert:hover {\n",
              "      background-color: #E2EBFA;\n",
              "      box-shadow: 0px 1px 2px rgba(60, 64, 67, 0.3), 0px 1px 3px 1px rgba(60, 64, 67, 0.15);\n",
              "      fill: #174EA6;\n",
              "    }\n",
              "\n",
              "    [theme=dark] .colab-df-convert {\n",
              "      background-color: #3B4455;\n",
              "      fill: #D2E3FC;\n",
              "    }\n",
              "\n",
              "    [theme=dark] .colab-df-convert:hover {\n",
              "      background-color: #434B5C;\n",
              "      box-shadow: 0px 1px 3px 1px rgba(0, 0, 0, 0.15);\n",
              "      filter: drop-shadow(0px 1px 2px rgba(0, 0, 0, 0.3));\n",
              "      fill: #FFFFFF;\n",
              "    }\n",
              "  </style>\n",
              "\n",
              "      <script>\n",
              "        const buttonEl =\n",
              "          document.querySelector('#df-32257c62-b2bb-4579-993a-aacc4b8391d8 button.colab-df-convert');\n",
              "        buttonEl.style.display =\n",
              "          google.colab.kernel.accessAllowed ? 'block' : 'none';\n",
              "\n",
              "        async function convertToInteractive(key) {\n",
              "          const element = document.querySelector('#df-32257c62-b2bb-4579-993a-aacc4b8391d8');\n",
              "          const dataTable =\n",
              "            await google.colab.kernel.invokeFunction('convertToInteractive',\n",
              "                                                     [key], {});\n",
              "          if (!dataTable) return;\n",
              "\n",
              "          const docLinkHtml = 'Like what you see? Visit the ' +\n",
              "            '<a target=\"_blank\" href=https://colab.research.google.com/notebooks/data_table.ipynb>data table notebook</a>'\n",
              "            + ' to learn more about interactive tables.';\n",
              "          element.innerHTML = '';\n",
              "          dataTable['output_type'] = 'display_data';\n",
              "          await google.colab.output.renderOutput(dataTable, element);\n",
              "          const docLink = document.createElement('div');\n",
              "          docLink.innerHTML = docLinkHtml;\n",
              "          element.appendChild(docLink);\n",
              "        }\n",
              "      </script>\n",
              "    </div>\n",
              "  </div>\n",
              "  "
            ]
          },
          "metadata": {},
          "execution_count": 12
        }
      ]
    },
    {
      "cell_type": "code",
      "source": [
        "df_trabajador.describe()"
      ],
      "metadata": {
        "colab": {
          "base_uri": "https://localhost:8080/",
          "height": 300
        },
        "id": "3XprkLtbLNob",
        "outputId": "7df25a45-a559-428c-fbb8-fd1f29dc7060"
      },
      "execution_count": null,
      "outputs": [
        {
          "output_type": "execute_result",
          "data": {
            "text/plain": [
              "             ID  CAJERO_ID\n",
              "count  5.000000   5.000000\n",
              "mean   3.000000   4.200000\n",
              "std    1.581139   1.923538\n",
              "min    1.000000   2.000000\n",
              "25%    2.000000   3.000000\n",
              "50%    3.000000   4.000000\n",
              "75%    4.000000   5.000000\n",
              "max    5.000000   7.000000"
            ],
            "text/html": [
              "\n",
              "  <div id=\"df-4c1620e3-2be9-4944-8379-f1cc9426d8ab\">\n",
              "    <div class=\"colab-df-container\">\n",
              "      <div>\n",
              "<style scoped>\n",
              "    .dataframe tbody tr th:only-of-type {\n",
              "        vertical-align: middle;\n",
              "    }\n",
              "\n",
              "    .dataframe tbody tr th {\n",
              "        vertical-align: top;\n",
              "    }\n",
              "\n",
              "    .dataframe thead th {\n",
              "        text-align: right;\n",
              "    }\n",
              "</style>\n",
              "<table border=\"1\" class=\"dataframe\">\n",
              "  <thead>\n",
              "    <tr style=\"text-align: right;\">\n",
              "      <th></th>\n",
              "      <th>ID</th>\n",
              "      <th>CAJERO_ID</th>\n",
              "    </tr>\n",
              "  </thead>\n",
              "  <tbody>\n",
              "    <tr>\n",
              "      <th>count</th>\n",
              "      <td>5.000000</td>\n",
              "      <td>5.000000</td>\n",
              "    </tr>\n",
              "    <tr>\n",
              "      <th>mean</th>\n",
              "      <td>3.000000</td>\n",
              "      <td>4.200000</td>\n",
              "    </tr>\n",
              "    <tr>\n",
              "      <th>std</th>\n",
              "      <td>1.581139</td>\n",
              "      <td>1.923538</td>\n",
              "    </tr>\n",
              "    <tr>\n",
              "      <th>min</th>\n",
              "      <td>1.000000</td>\n",
              "      <td>2.000000</td>\n",
              "    </tr>\n",
              "    <tr>\n",
              "      <th>25%</th>\n",
              "      <td>2.000000</td>\n",
              "      <td>3.000000</td>\n",
              "    </tr>\n",
              "    <tr>\n",
              "      <th>50%</th>\n",
              "      <td>3.000000</td>\n",
              "      <td>4.000000</td>\n",
              "    </tr>\n",
              "    <tr>\n",
              "      <th>75%</th>\n",
              "      <td>4.000000</td>\n",
              "      <td>5.000000</td>\n",
              "    </tr>\n",
              "    <tr>\n",
              "      <th>max</th>\n",
              "      <td>5.000000</td>\n",
              "      <td>7.000000</td>\n",
              "    </tr>\n",
              "  </tbody>\n",
              "</table>\n",
              "</div>\n",
              "      <button class=\"colab-df-convert\" onclick=\"convertToInteractive('df-4c1620e3-2be9-4944-8379-f1cc9426d8ab')\"\n",
              "              title=\"Convert this dataframe to an interactive table.\"\n",
              "              style=\"display:none;\">\n",
              "        \n",
              "  <svg xmlns=\"http://www.w3.org/2000/svg\" height=\"24px\"viewBox=\"0 0 24 24\"\n",
              "       width=\"24px\">\n",
              "    <path d=\"M0 0h24v24H0V0z\" fill=\"none\"/>\n",
              "    <path d=\"M18.56 5.44l.94 2.06.94-2.06 2.06-.94-2.06-.94-.94-2.06-.94 2.06-2.06.94zm-11 1L8.5 8.5l.94-2.06 2.06-.94-2.06-.94L8.5 2.5l-.94 2.06-2.06.94zm10 10l.94 2.06.94-2.06 2.06-.94-2.06-.94-.94-2.06-.94 2.06-2.06.94z\"/><path d=\"M17.41 7.96l-1.37-1.37c-.4-.4-.92-.59-1.43-.59-.52 0-1.04.2-1.43.59L10.3 9.45l-7.72 7.72c-.78.78-.78 2.05 0 2.83L4 21.41c.39.39.9.59 1.41.59.51 0 1.02-.2 1.41-.59l7.78-7.78 2.81-2.81c.8-.78.8-2.07 0-2.86zM5.41 20L4 18.59l7.72-7.72 1.47 1.35L5.41 20z\"/>\n",
              "  </svg>\n",
              "      </button>\n",
              "      \n",
              "  <style>\n",
              "    .colab-df-container {\n",
              "      display:flex;\n",
              "      flex-wrap:wrap;\n",
              "      gap: 12px;\n",
              "    }\n",
              "\n",
              "    .colab-df-convert {\n",
              "      background-color: #E8F0FE;\n",
              "      border: none;\n",
              "      border-radius: 50%;\n",
              "      cursor: pointer;\n",
              "      display: none;\n",
              "      fill: #1967D2;\n",
              "      height: 32px;\n",
              "      padding: 0 0 0 0;\n",
              "      width: 32px;\n",
              "    }\n",
              "\n",
              "    .colab-df-convert:hover {\n",
              "      background-color: #E2EBFA;\n",
              "      box-shadow: 0px 1px 2px rgba(60, 64, 67, 0.3), 0px 1px 3px 1px rgba(60, 64, 67, 0.15);\n",
              "      fill: #174EA6;\n",
              "    }\n",
              "\n",
              "    [theme=dark] .colab-df-convert {\n",
              "      background-color: #3B4455;\n",
              "      fill: #D2E3FC;\n",
              "    }\n",
              "\n",
              "    [theme=dark] .colab-df-convert:hover {\n",
              "      background-color: #434B5C;\n",
              "      box-shadow: 0px 1px 3px 1px rgba(0, 0, 0, 0.15);\n",
              "      filter: drop-shadow(0px 1px 2px rgba(0, 0, 0, 0.3));\n",
              "      fill: #FFFFFF;\n",
              "    }\n",
              "  </style>\n",
              "\n",
              "      <script>\n",
              "        const buttonEl =\n",
              "          document.querySelector('#df-4c1620e3-2be9-4944-8379-f1cc9426d8ab button.colab-df-convert');\n",
              "        buttonEl.style.display =\n",
              "          google.colab.kernel.accessAllowed ? 'block' : 'none';\n",
              "\n",
              "        async function convertToInteractive(key) {\n",
              "          const element = document.querySelector('#df-4c1620e3-2be9-4944-8379-f1cc9426d8ab');\n",
              "          const dataTable =\n",
              "            await google.colab.kernel.invokeFunction('convertToInteractive',\n",
              "                                                     [key], {});\n",
              "          if (!dataTable) return;\n",
              "\n",
              "          const docLinkHtml = 'Like what you see? Visit the ' +\n",
              "            '<a target=\"_blank\" href=https://colab.research.google.com/notebooks/data_table.ipynb>data table notebook</a>'\n",
              "            + ' to learn more about interactive tables.';\n",
              "          element.innerHTML = '';\n",
              "          dataTable['output_type'] = 'display_data';\n",
              "          await google.colab.output.renderOutput(dataTable, element);\n",
              "          const docLink = document.createElement('div');\n",
              "          docLink.innerHTML = docLinkHtml;\n",
              "          element.appendChild(docLink);\n",
              "        }\n",
              "      </script>\n",
              "    </div>\n",
              "  </div>\n",
              "  "
            ]
          },
          "metadata": {},
          "execution_count": 13
        }
      ]
    },
    {
      "cell_type": "markdown",
      "metadata": {
        "id": "Ezy94u2KzqCK"
      },
      "source": [
        "## Unir los CSV"
      ]
    },
    {
      "cell_type": "code",
      "metadata": {
        "id": "ORCLR8pfzteB",
        "colab": {
          "base_uri": "https://localhost:8080/",
          "height": 678
        },
        "outputId": "8e19c468-fc5e-4d9a-f20b-53cf764fbd4c"
      },
      "source": [
        "# Unir los CSV aquí\n",
        "dataframe = pd.merge(df_trabajador, df_ventas, on = \"CAJERO_ID\", how = \"inner\").merge(df_clientes, left_on = \"COMPRADOR_ID\", right_on = \"id_cliente\", how = \"inner\")\n",
        "\n",
        "dataframe"
      ],
      "execution_count": null,
      "outputs": [
        {
          "output_type": "execute_result",
          "data": {
            "text/plain": [
              "      ID  CAJERO_ID  NOMBRE APELLIDO         RUT  VENTA_ID  COMPRADOR_ID  \\\n",
              "0      1          2   Zelda  Wiggins  23730488-8        89            73   \n",
              "1      1          2   Zelda  Wiggins  23730488-8       337            73   \n",
              "2      1          2   Zelda  Wiggins  23730488-8       484            73   \n",
              "3      1          2   Zelda  Wiggins  23730488-8      4449            73   \n",
              "4      2          3    Kaye     Bird  18659842-3       607            73   \n",
              "...   ..        ...     ...      ...         ...       ...           ...   \n",
              "1748   5          7  Hunter    Booth  13030165-7      6065           131   \n",
              "1749   5          7  Hunter    Booth  13030165-7      7554           349   \n",
              "1750   5          7  Hunter    Booth  13030165-7     11096           335   \n",
              "1751   5          7  Hunter    Booth  13030165-7     11926           312   \n",
              "1752   5          7  Hunter    Booth  13030165-7     12941           410   \n",
              "\n",
              "                      FECHA_VENTA MONTO_TOTAL CODIGO_PRODUCTO  ...  \\\n",
              "0     24/08/19 16:38:51,000000000    Q.2700-.   7802575006035  ...   \n",
              "1     01/09/19 14:53:43,000000000    Q.3200-.        78019058  ...   \n",
              "2     01/09/19 18:20:06,000000000    Q.3550-.        78018884  ...   \n",
              "3     08/09/19 20:13:28,000000000    Q.-1600.   7809611709622  ...   \n",
              "4     01/09/19 20:08:53,000000000     Q.-650.   7802900001230  ...   \n",
              "...                           ...         ...             ...  ...   \n",
              "1748  12/09/19 13:24:27,000000000    Q.2700-.           HUEVO  ...   \n",
              "1749  15/09/19 11:44:41,000000000    Q.-1800.   7802810021120  ...   \n",
              "1750  21/09/19 14:44:20,000000000    Q.6200-.        78007673  ...   \n",
              "1751  23/09/19 14:07:12,000000000    Q.4400-.        78007673  ...   \n",
              "1752  25/09/19 12:26:42,000000000    Q.4180-.   7801620001643  ...   \n",
              "\n",
              "     apellido_paterno  apellido_materno                      correo  genero  \\\n",
              "0              Munnis        Rounsefull     trounsefull20@nymag.com    Male   \n",
              "1              Munnis        Rounsefull     trounsefull20@nymag.com    Male   \n",
              "2              Munnis        Rounsefull     trounsefull20@nymag.com    Male   \n",
              "3              Munnis        Rounsefull     trounsefull20@nymag.com    Male   \n",
              "4              Munnis        Rounsefull     trounsefull20@nymag.com    Male   \n",
              "...               ...               ...                         ...     ...   \n",
              "1748            Swire            Sproat     rsproat3m@homestead.com    Male   \n",
              "1749        Van Velde             Dowty        ldowty9o@shop-pro.jp    Male   \n",
              "1750          Mawford            Sirmon         rsirmon9a@goo.ne.jp    Male   \n",
              "1751     Blunderfield               Ead  oead8n@cargocollective.com  Female   \n",
              "1752        Crosskill              Doig      sdoigbd@cloudflare.com    Male   \n",
              "\n",
              "         idioma estado_civil cant_hijos edad              estudios    Color_F  \n",
              "0      Romanian         Otro          1    8                   RMI      Verde  \n",
              "1      Romanian         Otro          1    8                   RMI      Verde  \n",
              "2      Romanian         Otro          1    8                   RMI      Verde  \n",
              "3      Romanian         Otro          1    8                   RMI      Verde  \n",
              "4      Romanian         Otro          1    8                   RMI      Verde  \n",
              "...         ...          ...        ...  ...                   ...        ...  \n",
              "1748  Hungarian         Otro          3    1          Unit Testing  Amarrillo  \n",
              "1749    Ndebele        Viudo          1   24                   PPC       Rojo  \n",
              "1750   Assamese       Casado          3   10        IEX Total View      Verde  \n",
              "1751    Dhivehi         Otro          4   52                   JDK      Verde  \n",
              "1752      Tajik         Otro          2   20  Adobe Creative Suite       Azul  \n",
              "\n",
              "[1753 rows x 26 columns]"
            ],
            "text/html": [
              "\n",
              "  <div id=\"df-6948932b-a589-481b-8d0e-528c2fd82450\">\n",
              "    <div class=\"colab-df-container\">\n",
              "      <div>\n",
              "<style scoped>\n",
              "    .dataframe tbody tr th:only-of-type {\n",
              "        vertical-align: middle;\n",
              "    }\n",
              "\n",
              "    .dataframe tbody tr th {\n",
              "        vertical-align: top;\n",
              "    }\n",
              "\n",
              "    .dataframe thead th {\n",
              "        text-align: right;\n",
              "    }\n",
              "</style>\n",
              "<table border=\"1\" class=\"dataframe\">\n",
              "  <thead>\n",
              "    <tr style=\"text-align: right;\">\n",
              "      <th></th>\n",
              "      <th>ID</th>\n",
              "      <th>CAJERO_ID</th>\n",
              "      <th>NOMBRE</th>\n",
              "      <th>APELLIDO</th>\n",
              "      <th>RUT</th>\n",
              "      <th>VENTA_ID</th>\n",
              "      <th>COMPRADOR_ID</th>\n",
              "      <th>FECHA_VENTA</th>\n",
              "      <th>MONTO_TOTAL</th>\n",
              "      <th>CODIGO_PRODUCTO</th>\n",
              "      <th>...</th>\n",
              "      <th>apellido_paterno</th>\n",
              "      <th>apellido_materno</th>\n",
              "      <th>correo</th>\n",
              "      <th>genero</th>\n",
              "      <th>idioma</th>\n",
              "      <th>estado_civil</th>\n",
              "      <th>cant_hijos</th>\n",
              "      <th>edad</th>\n",
              "      <th>estudios</th>\n",
              "      <th>Color_F</th>\n",
              "    </tr>\n",
              "  </thead>\n",
              "  <tbody>\n",
              "    <tr>\n",
              "      <th>0</th>\n",
              "      <td>1</td>\n",
              "      <td>2</td>\n",
              "      <td>Zelda</td>\n",
              "      <td>Wiggins</td>\n",
              "      <td>23730488-8</td>\n",
              "      <td>89</td>\n",
              "      <td>73</td>\n",
              "      <td>24/08/19 16:38:51,000000000</td>\n",
              "      <td>Q.2700-.</td>\n",
              "      <td>7802575006035</td>\n",
              "      <td>...</td>\n",
              "      <td>Munnis</td>\n",
              "      <td>Rounsefull</td>\n",
              "      <td>trounsefull20@nymag.com</td>\n",
              "      <td>Male</td>\n",
              "      <td>Romanian</td>\n",
              "      <td>Otro</td>\n",
              "      <td>1</td>\n",
              "      <td>8</td>\n",
              "      <td>RMI</td>\n",
              "      <td>Verde</td>\n",
              "    </tr>\n",
              "    <tr>\n",
              "      <th>1</th>\n",
              "      <td>1</td>\n",
              "      <td>2</td>\n",
              "      <td>Zelda</td>\n",
              "      <td>Wiggins</td>\n",
              "      <td>23730488-8</td>\n",
              "      <td>337</td>\n",
              "      <td>73</td>\n",
              "      <td>01/09/19 14:53:43,000000000</td>\n",
              "      <td>Q.3200-.</td>\n",
              "      <td>78019058</td>\n",
              "      <td>...</td>\n",
              "      <td>Munnis</td>\n",
              "      <td>Rounsefull</td>\n",
              "      <td>trounsefull20@nymag.com</td>\n",
              "      <td>Male</td>\n",
              "      <td>Romanian</td>\n",
              "      <td>Otro</td>\n",
              "      <td>1</td>\n",
              "      <td>8</td>\n",
              "      <td>RMI</td>\n",
              "      <td>Verde</td>\n",
              "    </tr>\n",
              "    <tr>\n",
              "      <th>2</th>\n",
              "      <td>1</td>\n",
              "      <td>2</td>\n",
              "      <td>Zelda</td>\n",
              "      <td>Wiggins</td>\n",
              "      <td>23730488-8</td>\n",
              "      <td>484</td>\n",
              "      <td>73</td>\n",
              "      <td>01/09/19 18:20:06,000000000</td>\n",
              "      <td>Q.3550-.</td>\n",
              "      <td>78018884</td>\n",
              "      <td>...</td>\n",
              "      <td>Munnis</td>\n",
              "      <td>Rounsefull</td>\n",
              "      <td>trounsefull20@nymag.com</td>\n",
              "      <td>Male</td>\n",
              "      <td>Romanian</td>\n",
              "      <td>Otro</td>\n",
              "      <td>1</td>\n",
              "      <td>8</td>\n",
              "      <td>RMI</td>\n",
              "      <td>Verde</td>\n",
              "    </tr>\n",
              "    <tr>\n",
              "      <th>3</th>\n",
              "      <td>1</td>\n",
              "      <td>2</td>\n",
              "      <td>Zelda</td>\n",
              "      <td>Wiggins</td>\n",
              "      <td>23730488-8</td>\n",
              "      <td>4449</td>\n",
              "      <td>73</td>\n",
              "      <td>08/09/19 20:13:28,000000000</td>\n",
              "      <td>Q.-1600.</td>\n",
              "      <td>7809611709622</td>\n",
              "      <td>...</td>\n",
              "      <td>Munnis</td>\n",
              "      <td>Rounsefull</td>\n",
              "      <td>trounsefull20@nymag.com</td>\n",
              "      <td>Male</td>\n",
              "      <td>Romanian</td>\n",
              "      <td>Otro</td>\n",
              "      <td>1</td>\n",
              "      <td>8</td>\n",
              "      <td>RMI</td>\n",
              "      <td>Verde</td>\n",
              "    </tr>\n",
              "    <tr>\n",
              "      <th>4</th>\n",
              "      <td>2</td>\n",
              "      <td>3</td>\n",
              "      <td>Kaye</td>\n",
              "      <td>Bird</td>\n",
              "      <td>18659842-3</td>\n",
              "      <td>607</td>\n",
              "      <td>73</td>\n",
              "      <td>01/09/19 20:08:53,000000000</td>\n",
              "      <td>Q.-650.</td>\n",
              "      <td>7802900001230</td>\n",
              "      <td>...</td>\n",
              "      <td>Munnis</td>\n",
              "      <td>Rounsefull</td>\n",
              "      <td>trounsefull20@nymag.com</td>\n",
              "      <td>Male</td>\n",
              "      <td>Romanian</td>\n",
              "      <td>Otro</td>\n",
              "      <td>1</td>\n",
              "      <td>8</td>\n",
              "      <td>RMI</td>\n",
              "      <td>Verde</td>\n",
              "    </tr>\n",
              "    <tr>\n",
              "      <th>...</th>\n",
              "      <td>...</td>\n",
              "      <td>...</td>\n",
              "      <td>...</td>\n",
              "      <td>...</td>\n",
              "      <td>...</td>\n",
              "      <td>...</td>\n",
              "      <td>...</td>\n",
              "      <td>...</td>\n",
              "      <td>...</td>\n",
              "      <td>...</td>\n",
              "      <td>...</td>\n",
              "      <td>...</td>\n",
              "      <td>...</td>\n",
              "      <td>...</td>\n",
              "      <td>...</td>\n",
              "      <td>...</td>\n",
              "      <td>...</td>\n",
              "      <td>...</td>\n",
              "      <td>...</td>\n",
              "      <td>...</td>\n",
              "      <td>...</td>\n",
              "    </tr>\n",
              "    <tr>\n",
              "      <th>1748</th>\n",
              "      <td>5</td>\n",
              "      <td>7</td>\n",
              "      <td>Hunter</td>\n",
              "      <td>Booth</td>\n",
              "      <td>13030165-7</td>\n",
              "      <td>6065</td>\n",
              "      <td>131</td>\n",
              "      <td>12/09/19 13:24:27,000000000</td>\n",
              "      <td>Q.2700-.</td>\n",
              "      <td>HUEVO</td>\n",
              "      <td>...</td>\n",
              "      <td>Swire</td>\n",
              "      <td>Sproat</td>\n",
              "      <td>rsproat3m@homestead.com</td>\n",
              "      <td>Male</td>\n",
              "      <td>Hungarian</td>\n",
              "      <td>Otro</td>\n",
              "      <td>3</td>\n",
              "      <td>1</td>\n",
              "      <td>Unit Testing</td>\n",
              "      <td>Amarrillo</td>\n",
              "    </tr>\n",
              "    <tr>\n",
              "      <th>1749</th>\n",
              "      <td>5</td>\n",
              "      <td>7</td>\n",
              "      <td>Hunter</td>\n",
              "      <td>Booth</td>\n",
              "      <td>13030165-7</td>\n",
              "      <td>7554</td>\n",
              "      <td>349</td>\n",
              "      <td>15/09/19 11:44:41,000000000</td>\n",
              "      <td>Q.-1800.</td>\n",
              "      <td>7802810021120</td>\n",
              "      <td>...</td>\n",
              "      <td>Van Velde</td>\n",
              "      <td>Dowty</td>\n",
              "      <td>ldowty9o@shop-pro.jp</td>\n",
              "      <td>Male</td>\n",
              "      <td>Ndebele</td>\n",
              "      <td>Viudo</td>\n",
              "      <td>1</td>\n",
              "      <td>24</td>\n",
              "      <td>PPC</td>\n",
              "      <td>Rojo</td>\n",
              "    </tr>\n",
              "    <tr>\n",
              "      <th>1750</th>\n",
              "      <td>5</td>\n",
              "      <td>7</td>\n",
              "      <td>Hunter</td>\n",
              "      <td>Booth</td>\n",
              "      <td>13030165-7</td>\n",
              "      <td>11096</td>\n",
              "      <td>335</td>\n",
              "      <td>21/09/19 14:44:20,000000000</td>\n",
              "      <td>Q.6200-.</td>\n",
              "      <td>78007673</td>\n",
              "      <td>...</td>\n",
              "      <td>Mawford</td>\n",
              "      <td>Sirmon</td>\n",
              "      <td>rsirmon9a@goo.ne.jp</td>\n",
              "      <td>Male</td>\n",
              "      <td>Assamese</td>\n",
              "      <td>Casado</td>\n",
              "      <td>3</td>\n",
              "      <td>10</td>\n",
              "      <td>IEX Total View</td>\n",
              "      <td>Verde</td>\n",
              "    </tr>\n",
              "    <tr>\n",
              "      <th>1751</th>\n",
              "      <td>5</td>\n",
              "      <td>7</td>\n",
              "      <td>Hunter</td>\n",
              "      <td>Booth</td>\n",
              "      <td>13030165-7</td>\n",
              "      <td>11926</td>\n",
              "      <td>312</td>\n",
              "      <td>23/09/19 14:07:12,000000000</td>\n",
              "      <td>Q.4400-.</td>\n",
              "      <td>78007673</td>\n",
              "      <td>...</td>\n",
              "      <td>Blunderfield</td>\n",
              "      <td>Ead</td>\n",
              "      <td>oead8n@cargocollective.com</td>\n",
              "      <td>Female</td>\n",
              "      <td>Dhivehi</td>\n",
              "      <td>Otro</td>\n",
              "      <td>4</td>\n",
              "      <td>52</td>\n",
              "      <td>JDK</td>\n",
              "      <td>Verde</td>\n",
              "    </tr>\n",
              "    <tr>\n",
              "      <th>1752</th>\n",
              "      <td>5</td>\n",
              "      <td>7</td>\n",
              "      <td>Hunter</td>\n",
              "      <td>Booth</td>\n",
              "      <td>13030165-7</td>\n",
              "      <td>12941</td>\n",
              "      <td>410</td>\n",
              "      <td>25/09/19 12:26:42,000000000</td>\n",
              "      <td>Q.4180-.</td>\n",
              "      <td>7801620001643</td>\n",
              "      <td>...</td>\n",
              "      <td>Crosskill</td>\n",
              "      <td>Doig</td>\n",
              "      <td>sdoigbd@cloudflare.com</td>\n",
              "      <td>Male</td>\n",
              "      <td>Tajik</td>\n",
              "      <td>Otro</td>\n",
              "      <td>2</td>\n",
              "      <td>20</td>\n",
              "      <td>Adobe Creative Suite</td>\n",
              "      <td>Azul</td>\n",
              "    </tr>\n",
              "  </tbody>\n",
              "</table>\n",
              "<p>1753 rows × 26 columns</p>\n",
              "</div>\n",
              "      <button class=\"colab-df-convert\" onclick=\"convertToInteractive('df-6948932b-a589-481b-8d0e-528c2fd82450')\"\n",
              "              title=\"Convert this dataframe to an interactive table.\"\n",
              "              style=\"display:none;\">\n",
              "        \n",
              "  <svg xmlns=\"http://www.w3.org/2000/svg\" height=\"24px\"viewBox=\"0 0 24 24\"\n",
              "       width=\"24px\">\n",
              "    <path d=\"M0 0h24v24H0V0z\" fill=\"none\"/>\n",
              "    <path d=\"M18.56 5.44l.94 2.06.94-2.06 2.06-.94-2.06-.94-.94-2.06-.94 2.06-2.06.94zm-11 1L8.5 8.5l.94-2.06 2.06-.94-2.06-.94L8.5 2.5l-.94 2.06-2.06.94zm10 10l.94 2.06.94-2.06 2.06-.94-2.06-.94-.94-2.06-.94 2.06-2.06.94z\"/><path d=\"M17.41 7.96l-1.37-1.37c-.4-.4-.92-.59-1.43-.59-.52 0-1.04.2-1.43.59L10.3 9.45l-7.72 7.72c-.78.78-.78 2.05 0 2.83L4 21.41c.39.39.9.59 1.41.59.51 0 1.02-.2 1.41-.59l7.78-7.78 2.81-2.81c.8-.78.8-2.07 0-2.86zM5.41 20L4 18.59l7.72-7.72 1.47 1.35L5.41 20z\"/>\n",
              "  </svg>\n",
              "      </button>\n",
              "      \n",
              "  <style>\n",
              "    .colab-df-container {\n",
              "      display:flex;\n",
              "      flex-wrap:wrap;\n",
              "      gap: 12px;\n",
              "    }\n",
              "\n",
              "    .colab-df-convert {\n",
              "      background-color: #E8F0FE;\n",
              "      border: none;\n",
              "      border-radius: 50%;\n",
              "      cursor: pointer;\n",
              "      display: none;\n",
              "      fill: #1967D2;\n",
              "      height: 32px;\n",
              "      padding: 0 0 0 0;\n",
              "      width: 32px;\n",
              "    }\n",
              "\n",
              "    .colab-df-convert:hover {\n",
              "      background-color: #E2EBFA;\n",
              "      box-shadow: 0px 1px 2px rgba(60, 64, 67, 0.3), 0px 1px 3px 1px rgba(60, 64, 67, 0.15);\n",
              "      fill: #174EA6;\n",
              "    }\n",
              "\n",
              "    [theme=dark] .colab-df-convert {\n",
              "      background-color: #3B4455;\n",
              "      fill: #D2E3FC;\n",
              "    }\n",
              "\n",
              "    [theme=dark] .colab-df-convert:hover {\n",
              "      background-color: #434B5C;\n",
              "      box-shadow: 0px 1px 3px 1px rgba(0, 0, 0, 0.15);\n",
              "      filter: drop-shadow(0px 1px 2px rgba(0, 0, 0, 0.3));\n",
              "      fill: #FFFFFF;\n",
              "    }\n",
              "  </style>\n",
              "\n",
              "      <script>\n",
              "        const buttonEl =\n",
              "          document.querySelector('#df-6948932b-a589-481b-8d0e-528c2fd82450 button.colab-df-convert');\n",
              "        buttonEl.style.display =\n",
              "          google.colab.kernel.accessAllowed ? 'block' : 'none';\n",
              "\n",
              "        async function convertToInteractive(key) {\n",
              "          const element = document.querySelector('#df-6948932b-a589-481b-8d0e-528c2fd82450');\n",
              "          const dataTable =\n",
              "            await google.colab.kernel.invokeFunction('convertToInteractive',\n",
              "                                                     [key], {});\n",
              "          if (!dataTable) return;\n",
              "\n",
              "          const docLinkHtml = 'Like what you see? Visit the ' +\n",
              "            '<a target=\"_blank\" href=https://colab.research.google.com/notebooks/data_table.ipynb>data table notebook</a>'\n",
              "            + ' to learn more about interactive tables.';\n",
              "          element.innerHTML = '';\n",
              "          dataTable['output_type'] = 'display_data';\n",
              "          await google.colab.output.renderOutput(dataTable, element);\n",
              "          const docLink = document.createElement('div');\n",
              "          docLink.innerHTML = docLinkHtml;\n",
              "          element.appendChild(docLink);\n",
              "        }\n",
              "      </script>\n",
              "    </div>\n",
              "  </div>\n",
              "  "
            ]
          },
          "metadata": {},
          "execution_count": 14
        }
      ]
    },
    {
      "cell_type": "markdown",
      "metadata": {
        "id": "LZGHY6uGzwfO"
      },
      "source": [
        "## Analice los datos unidos, identifique columnas a limpiar y columnas a remover en caso de ser necesario. Justifique todas sus propuestas."
      ]
    },
    {
      "cell_type": "code",
      "metadata": {
        "id": "N1vbn-Jq0HCp",
        "colab": {
          "base_uri": "https://localhost:8080/"
        },
        "outputId": "e96ea198-b3fb-4443-a953-36ddad4c1dd2"
      },
      "source": [
        "# Análisis de los datos aquí\n",
        "dataframe.isnull().sum()"
      ],
      "execution_count": null,
      "outputs": [
        {
          "output_type": "execute_result",
          "data": {
            "text/plain": [
              "ID                  0\n",
              "CAJERO_ID           0\n",
              "NOMBRE              0\n",
              "APELLIDO            0\n",
              "RUT                 0\n",
              "VENTA_ID            0\n",
              "COMPRADOR_ID        0\n",
              "FECHA_VENTA         0\n",
              "MONTO_TOTAL         0\n",
              "CODIGO_PRODUCTO     0\n",
              "NOMBRE_PRODUCTO     0\n",
              "CODIGO_FAMILIA      0\n",
              "NOMBRE_FAMILIA      0\n",
              "CANTIDAD            0\n",
              "id_cliente          0\n",
              "primer_nombre       0\n",
              "apellido_paterno    0\n",
              "apellido_materno    0\n",
              "correo              0\n",
              "genero              0\n",
              "idioma              0\n",
              "estado_civil        0\n",
              "cant_hijos          0\n",
              "edad                0\n",
              "estudios            0\n",
              "Color_F             0\n",
              "dtype: int64"
            ]
          },
          "metadata": {},
          "execution_count": 15
        }
      ]
    },
    {
      "cell_type": "code",
      "source": [
        "dataframe.count()"
      ],
      "metadata": {
        "colab": {
          "base_uri": "https://localhost:8080/"
        },
        "id": "7Rpu-wvaZYqe",
        "outputId": "be44cfac-e0ed-433b-e40d-2318df40c3cf"
      },
      "execution_count": null,
      "outputs": [
        {
          "output_type": "execute_result",
          "data": {
            "text/plain": [
              "ID                  1753\n",
              "CAJERO_ID           1753\n",
              "NOMBRE              1753\n",
              "APELLIDO            1753\n",
              "RUT                 1753\n",
              "VENTA_ID            1753\n",
              "COMPRADOR_ID        1753\n",
              "FECHA_VENTA         1753\n",
              "MONTO_TOTAL         1753\n",
              "CODIGO_PRODUCTO     1753\n",
              "NOMBRE_PRODUCTO     1753\n",
              "CODIGO_FAMILIA      1753\n",
              "NOMBRE_FAMILIA      1753\n",
              "CANTIDAD            1753\n",
              "id_cliente          1753\n",
              "primer_nombre       1753\n",
              "apellido_paterno    1753\n",
              "apellido_materno    1753\n",
              "correo              1753\n",
              "genero              1753\n",
              "idioma              1753\n",
              "estado_civil        1753\n",
              "cant_hijos          1753\n",
              "edad                1753\n",
              "estudios            1753\n",
              "Color_F             1753\n",
              "dtype: int64"
            ]
          },
          "metadata": {},
          "execution_count": 16
        }
      ]
    },
    {
      "cell_type": "code",
      "source": [
        "dataframe.info()"
      ],
      "metadata": {
        "colab": {
          "base_uri": "https://localhost:8080/"
        },
        "id": "S16yFPmEcOGK",
        "outputId": "aadf912d-8966-4b2d-ad0b-667d43e807f3"
      },
      "execution_count": null,
      "outputs": [
        {
          "output_type": "stream",
          "name": "stdout",
          "text": [
            "<class 'pandas.core.frame.DataFrame'>\n",
            "Int64Index: 1753 entries, 0 to 1752\n",
            "Data columns (total 26 columns):\n",
            " #   Column            Non-Null Count  Dtype \n",
            "---  ------            --------------  ----- \n",
            " 0   ID                1753 non-null   int64 \n",
            " 1   CAJERO_ID         1753 non-null   int64 \n",
            " 2   NOMBRE            1753 non-null   object\n",
            " 3   APELLIDO          1753 non-null   object\n",
            " 4   RUT               1753 non-null   object\n",
            " 5   VENTA_ID          1753 non-null   int64 \n",
            " 6   COMPRADOR_ID      1753 non-null   int64 \n",
            " 7   FECHA_VENTA       1753 non-null   object\n",
            " 8   MONTO_TOTAL       1753 non-null   object\n",
            " 9   CODIGO_PRODUCTO   1753 non-null   object\n",
            " 10  NOMBRE_PRODUCTO   1753 non-null   object\n",
            " 11  CODIGO_FAMILIA    1753 non-null   int64 \n",
            " 12  NOMBRE_FAMILIA    1753 non-null   object\n",
            " 13  CANTIDAD          1753 non-null   object\n",
            " 14  id_cliente        1753 non-null   int64 \n",
            " 15  primer_nombre     1753 non-null   object\n",
            " 16  apellido_paterno  1753 non-null   object\n",
            " 17  apellido_materno  1753 non-null   object\n",
            " 18  correo            1753 non-null   object\n",
            " 19  genero            1753 non-null   object\n",
            " 20  idioma            1753 non-null   object\n",
            " 21  estado_civil      1753 non-null   object\n",
            " 22  cant_hijos        1753 non-null   int64 \n",
            " 23  edad              1753 non-null   int64 \n",
            " 24  estudios          1753 non-null   object\n",
            " 25  Color_F           1753 non-null   object\n",
            "dtypes: int64(8), object(18)\n",
            "memory usage: 369.8+ KB\n"
          ]
        }
      ]
    },
    {
      "cell_type": "markdown",
      "source": [
        "Es necesario hacer una limpieza en las columnas \"CANTIDAD\" \"MONTO_TOTAL\" y \"FECHA_VENTA\" ya que con los tipos de datos que tienen no se puede realizar un análisis, ya que, en los 2 primeros como son \"object\" no se puede realizar un estudio matemático, mientras que en el tercero no se podrá filtrar por fecha, ya que también es de tipo \"object\"."
      ],
      "metadata": {
        "id": "ke6EFMsxfJ-K"
      }
    },
    {
      "cell_type": "markdown",
      "metadata": {
        "id": "zhQTxlFZ0MLT"
      },
      "source": [
        "# Propuesta de limpieza\n"
      ]
    },
    {
      "cell_type": "markdown",
      "metadata": {
        "id": "RY8iiOki522N"
      },
      "source": [
        "## Proponga al menos 3 tareas de limpieza\n",
        "\n",
        "Escríbalas acá justificando el por qué se debe realizar cada limpieza. \n",
        "En los bloques posteriores, ejecute las rutinas propuestas."
      ]
    },
    {
      "cell_type": "markdown",
      "source": [
        "### Ventas"
      ],
      "metadata": {
        "id": "-Nve6DhxZQzQ"
      }
    },
    {
      "cell_type": "code",
      "source": [
        "# Ejecución de limpieza 1\n",
        "\n",
        "dataframe[\"FECHA_VENTA\"] = [x.replace(\",\", \".\") for x in dataframe[\"FECHA_VENTA\"]]\n",
        "dataframe[\"FECHA_VENTA\"] = dataframe[\"FECHA_VENTA\"].astype(\"datetime64\")"
      ],
      "metadata": {
        "id": "mZ2zb1AGPBaB"
      },
      "execution_count": null,
      "outputs": []
    },
    {
      "cell_type": "markdown",
      "source": [
        "Agregué este método de limpieza para la columa \"FECHA_VENTA\" para transformar el tipo de dato \"object\" a \"datetime64\".\n",
        "\n",
        "Ya que de esta forma podré utilizar los datos de esta columna como fecha y no como \"object\"."
      ],
      "metadata": {
        "id": "HgAnKAxKQbYY"
      }
    },
    {
      "cell_type": "code",
      "source": [
        "dataframe[\"MES\"] = dataframe[\"FECHA_VENTA\"].dt.month.astype(int)"
      ],
      "metadata": {
        "id": "Lx9S3qULCtLG"
      },
      "execution_count": null,
      "outputs": []
    },
    {
      "cell_type": "code",
      "source": [
        "dataframe[\"SEMANA\"] = dataframe[\"FECHA_VENTA\"].dt.week.astype(int)"
      ],
      "metadata": {
        "colab": {
          "base_uri": "https://localhost:8080/"
        },
        "id": "-18EkrIaCv_4",
        "outputId": "8f7766be-6a54-4aa6-d6c8-98c9a4268b6d"
      },
      "execution_count": null,
      "outputs": [
        {
          "output_type": "stream",
          "name": "stderr",
          "text": [
            "/usr/local/lib/python3.7/dist-packages/ipykernel_launcher.py:1: FutureWarning: Series.dt.weekofyear and Series.dt.week have been deprecated.  Please use Series.dt.isocalendar().week instead.\n",
            "  \"\"\"Entry point for launching an IPython kernel.\n"
          ]
        }
      ]
    },
    {
      "cell_type": "code",
      "source": [
        "# Ejecución de limpieza 2\n",
        "\n",
        "# Información: https://es.stackoverflow.com/questions/218637/quitar-caracteres-y-letras-en-pandas\n",
        "def dejar_solo_cifras(txt) -> int:\n",
        "  return \"\".join(c for c in txt if c.isdigit())\n",
        "\n",
        "dataframe[\"MONTO_TOTAL\"] = dataframe[\"MONTO_TOTAL\"].map(dejar_solo_cifras)\n",
        "dataframe[\"MONTO_TOTAL\"] = dataframe[\"MONTO_TOTAL\"].astype(int)"
      ],
      "metadata": {
        "id": "Ha_UuBOFq_te"
      },
      "execution_count": null,
      "outputs": []
    },
    {
      "cell_type": "markdown",
      "source": [
        "Agregué este método de limpieza para la columa \"MONTO_TOTAL\" para transformar el tipo de dato \"object\" a \"int64\".\n",
        "\n",
        "Ya que de esta forma podré utilizar esta columna matemáticamente y no como \"object\"."
      ],
      "metadata": {
        "id": "wyNtzDReJZII"
      }
    },
    {
      "cell_type": "code",
      "metadata": {
        "id": "6HyPw6F30l4Q"
      },
      "source": [
        "# Ejecución de limpieza 3\n",
        "def remove_null_monto_total(row) -> int:\n",
        "    '''\n",
        "    function to check if the \"monto_total\" is null and replace wth the mean from \n",
        "    the mean \"monto_total\" dataframe\n",
        "    '''\n",
        "    if pd.isnull(row['MONTO_TOTAL']):\n",
        "        return mean_monto_total[row['genero'], row['estado_civil']]\n",
        "    else:\n",
        "        return row['MONTO_TOTAL']\n",
        "\n",
        "mean_monto_total: int = dataframe.groupby(['genero', 'estado_civil'])['MONTO_TOTAL'].mean().round().astype(int)\n",
        "\n",
        "dataframe['MONTO_TOTAL'] = dataframe.apply(remove_null_monto_total, axis = 1)"
      ],
      "execution_count": null,
      "outputs": []
    },
    {
      "cell_type": "markdown",
      "source": [
        "Este método de limpieza borra todos los valores nulos de la columna \"MONTO_TOTAL\" reemplazandolos por el promedio, el promedio fue calculado considerando el genero y el estado civil de la persona."
      ],
      "metadata": {
        "id": "kBBwprYUaoQj"
      }
    },
    {
      "cell_type": "code",
      "source": [
        "# Ejecución de limpieza 4\n",
        "\n",
        "dataframe[\"NOMBRE_PRODUCTO\"] = dataframe[\"NOMBRE_PRODUCTO\"].astype(\"string\")"
      ],
      "metadata": {
        "id": "SMG7W1wlE3iy"
      },
      "execution_count": null,
      "outputs": []
    },
    {
      "cell_type": "code",
      "source": [
        "# Ejecución de limpieza 5\n",
        "\n",
        "dataframe[\"NOMBRE_FAMILIA\"] = dataframe[\"NOMBRE_FAMILIA\"].astype(\"string\")"
      ],
      "metadata": {
        "id": "gen1kyfGX2fv"
      },
      "execution_count": null,
      "outputs": []
    },
    {
      "cell_type": "code",
      "source": [
        "# Ejecución de limpieza 6\n",
        "\n",
        "# Información: https://stackoverflow.com/questions/31700691/convert-commas-decimal-separators-to-dots-within-a-dataframe\n",
        "dataframe[\"CANTIDAD\"] = [x.replace(\",\", \".\") for x in dataframe[\"CANTIDAD\"]]\n",
        "dataframe[\"CANTIDAD\"] = dataframe[\"CANTIDAD\"].astype(float)\n",
        "dataframe[\"CANTIDAD\"] = dataframe[\"CANTIDAD\"].round().astype(int)"
      ],
      "metadata": {
        "id": "xsVmQqerq5gx"
      },
      "execution_count": null,
      "outputs": []
    },
    {
      "cell_type": "markdown",
      "source": [
        "Agregué este método de limpieza para la columa \"CANTIDAD\" para transformar el tipo de dato \"object\" a \"int\".\n",
        "\n",
        "Ya que de esta forma podré utilizar esta columna matemáticamente y no como \"object\"."
      ],
      "metadata": {
        "id": "Ld7J_tS1kFNT"
      }
    },
    {
      "cell_type": "code",
      "metadata": {
        "id": "M3dvDJwe0vpO"
      },
      "source": [
        "# Ejecución de limpieza 7\n",
        "def remove_null_cantidad(row) -> int:\n",
        "    '''\n",
        "    function to check if the \"cantidad\" is null and replace wth the mean from \n",
        "    the mean \"cantidad\" dataframe\n",
        "    '''\n",
        "    if pd.isnull(row['CANTIDAD']):\n",
        "        return mean_monto_total[row['genero'], row['estado_civil']]\n",
        "    else:\n",
        "        return row['CANTIDAD']\n",
        "\n",
        "mean_cantidad: int = dataframe.groupby(['genero', 'estado_civil'])['CANTIDAD'].mean().round().astype(int)\n",
        "\n",
        "dataframe['CANTIDAD'] = dataframe.apply(remove_null_cantidad, axis = 1)"
      ],
      "execution_count": null,
      "outputs": []
    },
    {
      "cell_type": "markdown",
      "source": [
        "Este método de limpieza borra todos los valores nulos de la columna \"CANTIDAD\"."
      ],
      "metadata": {
        "id": "Ma5CtE8Vbg-U"
      }
    },
    {
      "cell_type": "code",
      "source": [
        "# Ejecución de limpieza 8\n",
        "\n",
        "dataframe[\"nombre_producto_simplificado\"] = dataframe.loc[dataframe.NOMBRE_PRODUCTO.str.contains(\"TRIAL\"), \"NOMBRE_PRODUCTO\"] = str(\"Trial\")\n",
        "dataframe[\"nombre_producto_simplificado\"] = dataframe[\"nombre_producto_simplificado\"].astype(\"string\")"
      ],
      "metadata": {
        "id": "ppHqkvFsJkBH"
      },
      "execution_count": null,
      "outputs": []
    },
    {
      "cell_type": "code",
      "source": [
        "# Ejecución de limpieza 9\n",
        "venta: str = str(\"VENTA\")\n",
        "\n",
        "dataframe = dataframe.rename(columns = {\n",
        "    \"FECHA_VENTA\": f\"{venta}_fecha_venta\",\n",
        "    \"MONTO_TOTAL\": f\"{venta}_monto_total\",\n",
        "    \"CODIGO_PRODUCTO\": f\"{venta}_codigo_producto\",\n",
        "    \"NOMBRE_PRODUCTO\": f\"{venta}_nombre_producto\",\n",
        "    \"CODIGO_FAMILIA\": f\"{venta}_codigo_familia\",\n",
        "    \"NOMBRE_FAMILIA\": f\"{venta}_nombre_familia\",\n",
        "    \"CANTIDAD\": f\"{venta}_cantidad\",\n",
        "    \"MES\": f\"{venta}_mes\",\n",
        "    \"SEMANA\": f\"{venta}_semana\",\n",
        "    \"nombre_producto_simplificado\": f\"{venta}_nombre_producto_simplificado\"\n",
        "})"
      ],
      "metadata": {
        "id": "663S3nhChaNV"
      },
      "execution_count": null,
      "outputs": []
    },
    {
      "cell_type": "markdown",
      "source": [
        "### Trabajador"
      ],
      "metadata": {
        "id": "3wTNLzkIcMu7"
      }
    },
    {
      "cell_type": "code",
      "source": [
        "# Ejecución de limpieza 10\n",
        "\n",
        "dataframe[\"NOMBRE\"] = dataframe[\"NOMBRE\"].astype(\"string\")"
      ],
      "metadata": {
        "id": "_trczIASBbVB"
      },
      "execution_count": null,
      "outputs": []
    },
    {
      "cell_type": "code",
      "source": [
        "# Ejecución de limpieza 11\n",
        "\n",
        "dataframe[\"APELLIDO\"] = dataframe[\"APELLIDO\"].astype(\"string\")"
      ],
      "metadata": {
        "id": "0GiEXZ1ECAbf"
      },
      "execution_count": null,
      "outputs": []
    },
    {
      "cell_type": "code",
      "source": [
        "# Ejecución de limpieza 12\n",
        "\n",
        "dataframe[\"RUT\"] = dataframe[\"RUT\"].astype(\"string\")"
      ],
      "metadata": {
        "id": "A3GfEo_jB70K"
      },
      "execution_count": null,
      "outputs": []
    },
    {
      "cell_type": "code",
      "source": [
        "# Ejecución de limpieza 13\n",
        "trabajador: str = str(\"TRABAJADOR\")\n",
        "\n",
        "dataframe = dataframe.rename(columns = {\n",
        "    \"ID\": f\"{trabajador}_ID\",\n",
        "    \"CAJERO_ID\": f\"{trabajador}_cajero_ID\",\n",
        "    \"NOMBRE\": f\"{trabajador}_nombre\",\n",
        "    \"APELLIDO\": f\"{trabajador}_apellido\",\n",
        "    \"RUT\": f\"{trabajador}_rut\"\n",
        "})"
      ],
      "metadata": {
        "id": "VN6nNE3th4EY"
      },
      "execution_count": null,
      "outputs": []
    },
    {
      "cell_type": "markdown",
      "source": [
        "### Cliente"
      ],
      "metadata": {
        "id": "-jZHECXQcg_d"
      }
    },
    {
      "cell_type": "code",
      "source": [
        "# Ejecución de limpieza 14\n",
        "\n",
        "dataframe[\"primer_nombre\"] = dataframe[\"primer_nombre\"].astype(\"string\")"
      ],
      "metadata": {
        "id": "F1XnnaVfCpDX"
      },
      "execution_count": null,
      "outputs": []
    },
    {
      "cell_type": "code",
      "source": [
        "# Ejecución de limpieza 15\n",
        "\n",
        "dataframe[\"apellido_paterno\"] = dataframe[\"apellido_paterno\"].astype(\"string\")"
      ],
      "metadata": {
        "id": "k-kldiEdCzWz"
      },
      "execution_count": null,
      "outputs": []
    },
    {
      "cell_type": "code",
      "source": [
        "# Ejecución de limpieza 16\n",
        "\n",
        "dataframe[\"apellido_materno\"] = dataframe[\"apellido_materno\"].astype(\"string\")"
      ],
      "metadata": {
        "id": "jSNAr3MaC8TU"
      },
      "execution_count": null,
      "outputs": []
    },
    {
      "cell_type": "code",
      "source": [
        "# Ejecución de limpieza 17\n",
        "\n",
        "dataframe[\"correo\"] = dataframe[\"correo\"].astype(\"string\")"
      ],
      "metadata": {
        "id": "hY_hj5r2DHlR"
      },
      "execution_count": null,
      "outputs": []
    },
    {
      "cell_type": "code",
      "source": [
        "# Ejecución de limpieza 18\n",
        "\n",
        "dataframe[\"genero\"] = dataframe[\"genero\"].astype(\"string\")"
      ],
      "metadata": {
        "id": "Ab-U8CGJDSPa"
      },
      "execution_count": null,
      "outputs": []
    },
    {
      "cell_type": "code",
      "source": [
        "# Ejecución de limpieza 19\n",
        "\n",
        "dataframe[\"idioma\"] = dataframe[\"idioma\"].astype(\"string\")"
      ],
      "metadata": {
        "id": "6py-k5b-DdWt"
      },
      "execution_count": null,
      "outputs": []
    },
    {
      "cell_type": "code",
      "source": [
        "# Ejecución de limpieza 20\n",
        "\n",
        "dataframe[\"estado_civil\"] = dataframe[\"estado_civil\"].astype(\"string\")"
      ],
      "metadata": {
        "id": "kt8mnUN9DoEd"
      },
      "execution_count": null,
      "outputs": []
    },
    {
      "cell_type": "code",
      "source": [
        "# Ejecución de limpieza 21\n",
        "\n",
        "dataframe[\"estudios\"] = dataframe[\"estudios\"].astype(\"string\")"
      ],
      "metadata": {
        "id": "JEKoQWgSDx6I"
      },
      "execution_count": null,
      "outputs": []
    },
    {
      "cell_type": "code",
      "source": [
        "# Ejecución de limpieza 22\n",
        "\n",
        "dataframe[\"Color_F\"] = dataframe[\"Color_F\"].astype(\"string\")"
      ],
      "metadata": {
        "id": "jry7c_BmD5vB"
      },
      "execution_count": null,
      "outputs": []
    },
    {
      "cell_type": "code",
      "source": [
        "# Ejecución de limpieza 23\n",
        "\n",
        "def remove_child(row):\n",
        "  if row['edad'] < 16:\n",
        "    return mean_customer_age[row['genero'], row['estado_civil'], row['cant_hijos']]\n",
        "  else:\n",
        "    return row['edad']\n",
        "\n",
        "mean_customer_age: int = dataframe.groupby(['genero', 'estado_civil', 'cant_hijos'])['edad'].mean().round().astype(int)\n",
        "\n",
        "dataframe['edad'] = dataframe.apply(remove_child, axis = 1)"
      ],
      "metadata": {
        "id": "pN_4-VZdhW4e"
      },
      "execution_count": null,
      "outputs": []
    },
    {
      "cell_type": "markdown",
      "source": [
        "Este método de limpieza reemplaza la edad de las personas menores de 16 años con la edad promedio, ya que es dificil que una persona de entre 0 a 15 años tenga un hijo."
      ],
      "metadata": {
        "id": "z3HjKo1BiqIH"
      }
    },
    {
      "cell_type": "code",
      "source": [
        "# Ejecución de limpieza 24\n",
        "cliente: str = str(\"CLIENTE\")\n",
        "\n",
        "dataframe = dataframe.rename(columns = {\n",
        "    \"id_cliente\": f\"{cliente}_ID\",\n",
        "    \"primer_nombre\": f\"{cliente}_primer_nombre\",\n",
        "    \"apellido_paterno\": f\"{cliente}_apellido_paterno\",\n",
        "    \"apellido_materno\": f\"{cliente}_apellido_materno\",\n",
        "    \"correo\": f\"{cliente}_correo_electrónico\",\n",
        "    \"genero\": f\"{cliente}_genero\",\n",
        "    \"idioma\": f\"{cliente}_idioma\",\n",
        "    \"estado_civil\": f\"{cliente}_estado_civil\",\n",
        "    \"cant_hijos\": f\"{cliente}_cantidad_hijos\",\n",
        "    \"edad\": f\"{cliente}_edad\",\n",
        "    \"estudios\": f\"{cliente}_estudio\",\n",
        "    \"Color_F\": f\"{cliente}_color_favorito\"\n",
        "})"
      ],
      "metadata": {
        "id": "uoXOSxewLP5n"
      },
      "execution_count": null,
      "outputs": []
    },
    {
      "cell_type": "code",
      "source": [
        "dataframe.info()"
      ],
      "metadata": {
        "colab": {
          "base_uri": "https://localhost:8080/"
        },
        "id": "UYbFGpPcEhkj",
        "outputId": "f21febb5-0c32-4d89-8b5b-123680c3cef5"
      },
      "execution_count": null,
      "outputs": [
        {
          "output_type": "stream",
          "name": "stdout",
          "text": [
            "<class 'pandas.core.frame.DataFrame'>\n",
            "Int64Index: 1753 entries, 0 to 1752\n",
            "Data columns (total 29 columns):\n",
            " #   Column                              Non-Null Count  Dtype         \n",
            "---  ------                              --------------  -----         \n",
            " 0   TRABAJADOR_ID                       1753 non-null   int64         \n",
            " 1   TRABAJADOR_cajero_ID                1753 non-null   int64         \n",
            " 2   TRABAJADOR_nombre                   1753 non-null   string        \n",
            " 3   TRABAJADOR_apellido                 1753 non-null   string        \n",
            " 4   TRABAJADOR_rut                      1753 non-null   string        \n",
            " 5   VENTA_ID                            1753 non-null   int64         \n",
            " 6   COMPRADOR_ID                        1753 non-null   int64         \n",
            " 7   VENTA_fecha_venta                   1753 non-null   datetime64[ns]\n",
            " 8   VENTA_monto_total                   1753 non-null   int64         \n",
            " 9   VENTA_codigo_producto               1753 non-null   object        \n",
            " 10  VENTA_nombre_producto               1753 non-null   string        \n",
            " 11  VENTA_codigo_familia                1753 non-null   int64         \n",
            " 12  VENTA_nombre_familia                1753 non-null   string        \n",
            " 13  VENTA_cantidad                      1753 non-null   int64         \n",
            " 14  CLIENTE_ID                          1753 non-null   int64         \n",
            " 15  CLIENTE_primer_nombre               1753 non-null   string        \n",
            " 16  CLIENTE_apellido_paterno            1753 non-null   string        \n",
            " 17  CLIENTE_apellido_materno            1753 non-null   string        \n",
            " 18  CLIENTE_correo_electrónico          1753 non-null   string        \n",
            " 19  CLIENTE_genero                      1753 non-null   string        \n",
            " 20  CLIENTE_idioma                      1753 non-null   string        \n",
            " 21  CLIENTE_estado_civil                1753 non-null   string        \n",
            " 22  CLIENTE_cantidad_hijos              1753 non-null   int64         \n",
            " 23  CLIENTE_edad                        1753 non-null   int64         \n",
            " 24  CLIENTE_estudio                     1753 non-null   string        \n",
            " 25  CLIENTE_color_favorito              1753 non-null   string        \n",
            " 26  VENTA_mes                           1753 non-null   int64         \n",
            " 27  VENTA_semana                        1753 non-null   int64         \n",
            " 28  VENTA_nombre_producto_simplificado  1753 non-null   string        \n",
            "dtypes: datetime64[ns](1), int64(12), object(1), string(15)\n",
            "memory usage: 410.9+ KB\n"
          ]
        }
      ]
    },
    {
      "cell_type": "markdown",
      "metadata": {
        "id": "1Al0G-Yt0x_V"
      },
      "source": [
        "## Identificación de correlación en las columnas"
      ]
    },
    {
      "cell_type": "code",
      "metadata": {
        "id": "PuJCD0XA0742",
        "colab": {
          "base_uri": "https://localhost:8080/",
          "height": 396
        },
        "outputId": "7937489e-338f-421d-e913-628c1c78b310"
      },
      "source": [
        "# Identifique las correlación aquí\n",
        "data = dataframe.corr()\n",
        "annot: bool = bool(True)\n",
        "cmap: str = str(\"RdYlGn\")\n",
        "square: bool = bool(True)\n",
        "line_widths: float = float(0.5)\n",
        "\n",
        "sns.heatmap(data = data,\n",
        "            annot = annot,\n",
        "            cmap = cmap,\n",
        "            square = square,\n",
        "            linewidths = line_widths)"
      ],
      "execution_count": null,
      "outputs": [
        {
          "output_type": "execute_result",
          "data": {
            "text/plain": [
              "<matplotlib.axes._subplots.AxesSubplot at 0x7f4789eaa110>"
            ]
          },
          "metadata": {},
          "execution_count": 45
        },
        {
          "output_type": "display_data",
          "data": {
            "text/plain": [
              "<Figure size 432x288 with 2 Axes>"
            ],
            "image/png": "[encoded data removed]"
          },
          "metadata": {
            "needs_background": "light"
          }
        }
      ]
    },
    {
      "cell_type": "markdown",
      "source": [
        "Viendo este mapa de calor, nos dice que no se puede realizar una correlación como tal, aunque utilizando ciertos mecanismos se podrá encontrar alguna correlación."
      ],
      "metadata": {
        "id": "NUM9OT3Cc_QQ"
      }
    },
    {
      "cell_type": "code",
      "source": [
        "def GraficoCorrelacion(x,\n",
        "                       y,\n",
        "                       title: str,\n",
        "                       xlabel: str,\n",
        "                       ylabel: str) -> None:\n",
        "  N: int = int(21)\n",
        "\n",
        "  # fit a linear curve an estimate its y-values and their error.\n",
        "  a, b = np.polyfit(x, y, deg = 1)\n",
        "  y_est: int = a * x + b\n",
        "  y_err: int = x.std() * np.sqrt(1/len(x) +\n",
        "                                 (x - x.mean())**2 / np.sum((x - x.mean())**2))\n",
        "\n",
        "  fig, ax = plt.subplots()\n",
        "  ax.plot(x,\n",
        "          y_est,\n",
        "          '-')\n",
        "  ax.fill_between(x,\n",
        "                  y_est - y_err,\n",
        "                  y_est + y_err,\n",
        "                  alpha = 0.2)\n",
        "  ax.plot(x,\n",
        "          y,\n",
        "          'o',\n",
        "          color = 'tab:brown')\n",
        "\n",
        "  ax.set_title(title)\n",
        "  ax.set_xlabel(xlabel)\n",
        "  ax.set_ylabel(ylabel)\n",
        "\n",
        "  plt.show()"
      ],
      "metadata": {
        "id": "NtBzBTnMRMto"
      },
      "execution_count": null,
      "outputs": []
    },
    {
      "cell_type": "code",
      "source": [
        "# Agrupaciones por mes\n",
        "df_mes = dataframe.groupby(\"VENTA_mes\").sum()\n",
        "\n",
        "# Resetear el indice\n",
        "df_mes = df_mes.reset_index()\n",
        "\n",
        "\n",
        "\n",
        "GraficoCorrelacion(x = df_mes[\"VENTA_mes\"],\n",
        "                   y = df_mes[\"VENTA_monto_total\"],\n",
        "                   title = \"Mes - Monto total\",\n",
        "                   xlabel = \"Mes\",\n",
        "                   ylabel = \"Monto total\")"
      ],
      "metadata": {
        "colab": {
          "base_uri": "https://localhost:8080/",
          "height": 295
        },
        "id": "SCTcpJlkRoHq",
        "outputId": "c2ca109e-32db-41d9-f421-4675486b7907"
      },
      "execution_count": null,
      "outputs": [
        {
          "output_type": "display_data",
          "data": {
            "text/plain": [
              "<Figure size 432x288 with 1 Axes>"
            ],
            "image/png": "[encoded data removed]"
          },
          "metadata": {
            "needs_background": "light"
          }
        }
      ]
    },
    {
      "cell_type": "markdown",
      "source": [
        "Este gráfico hace compara el mes del año (eje x) con el monto total (eje y).\n",
        "\n",
        "Como se puede observar en el gráfico, las ventas disminuyen a medida que pasa el año, a excepción de los meses de Septiembre u Agosto y, sin considerar estos 2 meses, se observa que hay una pequeña subida en las ventas.\n",
        "\n",
        "Referente a los meses de Septiembre y Agosto, puedo suponer que las ventas subieron por algún festivo como las fiestas patrias."
      ],
      "metadata": {
        "id": "bOUY30B5MfKj"
      }
    },
    {
      "cell_type": "code",
      "source": [
        "# Agrupaciones por semana.\n",
        "df_semana = dataframe.groupby(\"VENTA_semana\").sum()\n",
        "\n",
        "# Resetear el indice.\n",
        "df_semana = df_semana.reset_index()\n",
        "\n",
        "\n",
        "\n",
        "GraficoCorrelacion(x = df_semana[\"VENTA_semana\"],\n",
        "                   y = df_semana[\"VENTA_monto_total\"],\n",
        "                   title = \"Semana - Monto total\",\n",
        "                   xlabel = \"Semana\",\n",
        "                   ylabel = \"Monto total\")"
      ],
      "metadata": {
        "colab": {
          "base_uri": "https://localhost:8080/",
          "height": 295
        },
        "id": "9nsnopXqSRn7",
        "outputId": "93a58dea-c84d-42f6-8a03-97f9d94b2aa1"
      },
      "execution_count": null,
      "outputs": [
        {
          "output_type": "display_data",
          "data": {
            "text/plain": [
              "<Figure size 432x288 with 1 Axes>"
            ],
            "image/png": "[encoded data removed]"
          },
          "metadata": {
            "needs_background": "light"
          }
        }
      ]
    },
    {
      "cell_type": "markdown",
      "source": [
        "El gráfico hace compara la semana del año (eje x) con el monto total (eje y).\n",
        "\n",
        "Como se observa en el gráfico, hay una baja en las ventas durante el año, también se puede decir que a finales de año hay más ventas."
      ],
      "metadata": {
        "id": "pivZ77DiNctS"
      }
    },
    {
      "cell_type": "markdown",
      "metadata": {
        "id": "qLqx2TAo5PDe"
      },
      "source": [
        "## Escribir una pequeña reseña de los resultados analizados y las correlaciones que  usaría para implementar un modelo de Machine Learning."
      ]
    },
    {
      "cell_type": "markdown",
      "source": [
        "En ambos gráficos, el primero hace referencia al monto total por mes y el segundo hace referencia al monto total por semana, hay una disminución del monto total durante el año, aunque en el segundo gráfico se muestra que a finales del año hay más ventas."
      ],
      "metadata": {
        "id": "rg-PXWGpV0og"
      }
    },
    {
      "cell_type": "markdown",
      "metadata": {
        "id": "vUTi4_fmkOFv"
      },
      "source": [
        "## Proponga y describa al menos 5 gráficos que entregan valor al negocio y a la interpretación de los datos"
      ]
    },
    {
      "cell_type": "code",
      "source": [
        "def GraficoTorta(data,\n",
        "                 labels,\n",
        "                 title: str) -> None:\n",
        "  fig, ax = plt.subplots()\n",
        "\n",
        "  ax.pie(x = np.array(data).ravel(),\n",
        "         labels = labels,\n",
        "         colors = sns.color_palette(\"bright\"),\n",
        "         autopct = str(\"%1.1f%%\"),\n",
        "         pctdistance = float(0.6),\n",
        "         shadow = bool(False),\n",
        "         startangle = int(90))\n",
        "  \n",
        "  # Titles\n",
        "  ax.set_title(str(title))\n",
        "\n",
        "  plt.show()"
      ],
      "metadata": {
        "id": "cu4KzXIN5_bY"
      },
      "execution_count": null,
      "outputs": []
    },
    {
      "cell_type": "code",
      "source": [
        "def GraficoBarra(x,\n",
        "                 y,\n",
        "                 title: str,\n",
        "                 xlabel: str,\n",
        "                 ylabel: str) -> None:\n",
        "  fig, ax = plt.subplots()\n",
        "  ax.bar(x, y)\n",
        "\n",
        "  # Titles\n",
        "  ax.set_title(str(title))\n",
        "  ax.set_xlabel(str(xlabel))\n",
        "  ax.set_ylabel(str(ylabel))\n",
        "\n",
        "  ax.legend()\n",
        "\n",
        "  plt.show()"
      ],
      "metadata": {
        "id": "Mu7lY_xi4AUb"
      },
      "execution_count": null,
      "outputs": []
    },
    {
      "cell_type": "markdown",
      "metadata": {
        "id": "JDD1AK3q0_ED"
      },
      "source": [
        "# Gráfico 1"
      ]
    },
    {
      "cell_type": "code",
      "metadata": {
        "id": "IFqeGniC0-dw",
        "colab": {
          "base_uri": "https://localhost:8080/",
          "height": 298
        },
        "outputId": "37c827c1-0a7b-4990-d1dd-5ef01b88ad8c"
      },
      "source": [
        "# Programe el gráfico 1\n",
        "sns.kdeplot(dataframe.CLIENTE_edad)"
      ],
      "execution_count": null,
      "outputs": [
        {
          "output_type": "execute_result",
          "data": {
            "text/plain": [
              "<matplotlib.axes._subplots.AxesSubplot at 0x7f4785698f50>"
            ]
          },
          "metadata": {},
          "execution_count": 51
        },
        {
          "output_type": "display_data",
          "data": {
            "text/plain": [
              "<Figure size 432x288 with 1 Axes>"
            ],
            "image/png": "[encoded data removed]"
          },
          "metadata": {
            "needs_background": "light"
          }
        }
      ]
    },
    {
      "cell_type": "markdown",
      "metadata": {
        "id": "J2bX1Y97k0Y3"
      },
      "source": [
        "En el gráfico muestra la frecuencia de la edad de los clientes.\n",
        "\n",
        "Se puede concluir que la mayoría de los clientes tienen alrededor de los 30 años."
      ]
    },
    {
      "cell_type": "markdown",
      "metadata": {
        "id": "BKZ0u1QG1HwF"
      },
      "source": [
        "# Gráfico 2"
      ]
    },
    {
      "cell_type": "code",
      "source": [
        "# Programe el gráfico 2\n",
        "\n",
        "GraficoBarra(x = dataframe[\"CLIENTE_estado_civil\"],\n",
        "             y = dataframe[\"VENTA_monto_total\"],\n",
        "             title = \"Estado civil / Monto total\",\n",
        "             xlabel = \"Estado civil\",\n",
        "             ylabel = \"Monto total\")"
      ],
      "metadata": {
        "colab": {
          "base_uri": "https://localhost:8080/",
          "height": 313
        },
        "id": "upRdoQLP4nCL",
        "outputId": "b722d259-6206-4038-e4de-3ec76b7f0ea4"
      },
      "execution_count": null,
      "outputs": [
        {
          "output_type": "stream",
          "name": "stderr",
          "text": [
            "No handles with labels found to put in legend.\n"
          ]
        },
        {
          "output_type": "display_data",
          "data": {
            "text/plain": [
              "<Figure size 432x288 with 1 Axes>"
            ],
            "image/png": "[encoded data removed]"
          },
          "metadata": {
            "needs_background": "light"
          }
        }
      ]
    },
    {
      "cell_type": "code",
      "source": [
        "# Programe el gráfico 2\n",
        "\n",
        "sns.countplot(x = dataframe[\"CLIENTE_estado_civil\"],\n",
        "              data = dataframe.groupby(by = \"VENTA_monto_total\").count());"
      ],
      "metadata": {
        "colab": {
          "base_uri": "https://localhost:8080/",
          "height": 280
        },
        "id": "2AYGELe-pw-4",
        "outputId": "79a50fca-c6d6-4ed6-fd98-fc1f55aebbcc"
      },
      "execution_count": null,
      "outputs": [
        {
          "output_type": "display_data",
          "data": {
            "text/plain": [
              "<Figure size 432x288 with 1 Axes>"
            ],
            "image/png": "[encoded data removed]"
          },
          "metadata": {
            "needs_background": "light"
          }
        }
      ]
    },
    {
      "cell_type": "markdown",
      "metadata": {
        "id": "T8PXT1zmn9q9"
      },
      "source": [
        "Se puede observar en el gráfico que las personas viudas son las que más compras, mientras que las personas en la categoría \"otro\" son los que menos compran.\n",
        "\n",
        "Se puede concluir que las personas que están solas (viudo y soltero) son las que más compran, mientras que si tienen alguna relación, compran menos."
      ]
    },
    {
      "cell_type": "markdown",
      "metadata": {
        "id": "wyRjpfeg1LLz"
      },
      "source": [
        "# Gráfico 3"
      ]
    },
    {
      "cell_type": "code",
      "source": [
        "# Programe el gráfico 3\n",
        "\n",
        "GraficoBarra(x = dataframe[\"CLIENTE_cantidad_hijos\"],\n",
        "             y = dataframe[\"VENTA_monto_total\"],\n",
        "             title = \"Cantidad hijos / Monto total\",\n",
        "             xlabel = \"Cantidad hijos\",\n",
        "             ylabel = \"Monto total\")"
      ],
      "metadata": {
        "colab": {
          "base_uri": "https://localhost:8080/",
          "height": 313
        },
        "id": "69SVcXTJ9dcS",
        "outputId": "40b0d9bd-a40d-4f0f-f10a-b164c99f3791"
      },
      "execution_count": null,
      "outputs": [
        {
          "output_type": "stream",
          "name": "stderr",
          "text": [
            "No handles with labels found to put in legend.\n"
          ]
        },
        {
          "output_type": "display_data",
          "data": {
            "text/plain": [
              "<Figure size 432x288 with 1 Axes>"
            ],
            "image/png": "[encoded data removed]"
          },
          "metadata": {
            "needs_background": "light"
          }
        }
      ]
    },
    {
      "cell_type": "code",
      "metadata": {
        "id": "c9KupfXg1MdI",
        "colab": {
          "base_uri": "https://localhost:8080/",
          "height": 280
        },
        "outputId": "dd139464-08d2-4646-c6c3-ffea8738981a"
      },
      "source": [
        "# Programe el gráfico 3\n",
        "sns.countplot(x = dataframe[\"CLIENTE_cantidad_hijos\"],\n",
        "              data = dataframe.groupby(by = \"VENTA_monto_total\").count())\n",
        "plt.show()"
      ],
      "execution_count": null,
      "outputs": [
        {
          "output_type": "display_data",
          "data": {
            "text/plain": [
              "<Figure size 432x288 with 1 Axes>"
            ],
            "image/png": "[encoded data removed]"
          },
          "metadata": {
            "needs_background": "light"
          }
        }
      ]
    },
    {
      "cell_type": "markdown",
      "metadata": {
        "id": "2IkzNvVen-TS"
      },
      "source": [
        "Se puede observar en el gráfico que la mayoría de las personas tienen 1 hijo, mientras que la minoría de las personas tienen entre 3 o 4 hijos.\n",
        "\n",
        "Se podría decir que mientras menos hijos tienes, más compras y viceversa (mientras más hijos tienes, menos compras)."
      ]
    },
    {
      "cell_type": "markdown",
      "metadata": {
        "id": "0eSLbqzW1OyJ"
      },
      "source": [
        "# Gráfico 4"
      ]
    },
    {
      "cell_type": "code",
      "source": [
        "# Programe el gráfico 4\n",
        "GraficoTorta(\n",
        "    data = dataframe[\"CLIENTE_genero\"].value_counts().tolist(),\n",
        "    labels = dataframe[\"CLIENTE_genero\"].unique(),\n",
        "    title = \"Genero\"\n",
        ")"
      ],
      "metadata": {
        "colab": {
          "base_uri": "https://localhost:8080/",
          "height": 264
        },
        "id": "rxk65JK5bkBO",
        "outputId": "ad48bd5a-a3de-41da-f6db-63db37a0fb28"
      },
      "execution_count": null,
      "outputs": [
        {
          "output_type": "display_data",
          "data": {
            "text/plain": [
              "<Figure size 432x288 with 1 Axes>"
            ],
            "image/png": "[encoded data removed]"
          },
          "metadata": {}
        }
      ]
    },
    {
      "cell_type": "markdown",
      "source": [
        "En este gráfico muetra la proporción de compra de los productos entre los hombres y las mujeres.\n",
        "\n",
        "Se podría decir (en este contexto) ligeramente los hombres compran más que las mujeres."
      ],
      "metadata": {
        "id": "Ex5REpPyefib"
      }
    },
    {
      "cell_type": "markdown",
      "source": [
        "# Gráfico 5"
      ],
      "metadata": {
        "id": "dQubAuNccH4-"
      }
    },
    {
      "cell_type": "code",
      "source": [
        "# Programe el gráfico 5\n",
        "data = pd.DataFrame(dataframe[dataframe.CLIENTE_estado_civil == \"Soltero\"].groupby(by = ['CLIENTE_genero', 'CLIENTE_cantidad_hijos'])['CLIENTE_estado_civil'].count())\n",
        "labels = data.index\n",
        "\n",
        "GraficoTorta(\n",
        "    data = data,\n",
        "    labels = labels,\n",
        "    title = \"Soltero | genero - cantidad de hijos\"\n",
        ")"
      ],
      "metadata": {
        "colab": {
          "base_uri": "https://localhost:8080/",
          "height": 264
        },
        "id": "A7XoDOoaqyOa",
        "outputId": "3c74e770-77eb-4c1c-a58f-c0e11c7575ca"
      },
      "execution_count": null,
      "outputs": [
        {
          "output_type": "display_data",
          "data": {
            "text/plain": [
              "<Figure size 432x288 with 1 Axes>"
            ],
            "image/png": "[encoded data removed]"
          },
          "metadata": {}
        }
      ]
    },
    {
      "cell_type": "markdown",
      "metadata": {
        "id": "UREmi1gKn_Rm"
      },
      "source": [
        "Describa el valor que entrega este gráfico y como se podría complementar a la explicación del comportamiento de los datos.\n",
        "\n",
        "\n",
        "\n",
        "En este gráfico muetra los compradores solteros separados en subgrupos, los cuales son:\n",
        "1. Género.\n",
        "2. Cantidad de hijos.\n",
        "\n",
        "Se podría decir (en este contexto) que hay una tendencia a que los hombres compran más que las mujeres y que mientras más hijos tiene el hombre tiende a comprar más. En el caso de las mujeres, mientras más hijos tienen, menos compran."
      ]
    },
    {
      "cell_type": "markdown",
      "metadata": {
        "id": "l5Bd5dh91Rfk"
      },
      "source": [
        "# Gráfico 6"
      ]
    },
    {
      "cell_type": "code",
      "metadata": {
        "id": "4cZfWOUR1Thv",
        "colab": {
          "base_uri": "https://localhost:8080/",
          "height": 264
        },
        "outputId": "744a2662-821b-4994-edb9-bec94ff677e8"
      },
      "source": [
        "# Programe el gráfico 6\n",
        "data = pd.DataFrame(dataframe[dataframe.CLIENTE_estado_civil == \"Viudo\"].groupby(by = ['CLIENTE_genero', 'CLIENTE_cantidad_hijos'])['CLIENTE_estado_civil'].count())\n",
        "labels = data.index\n",
        "\n",
        "GraficoTorta(\n",
        "    data = data,\n",
        "    labels = labels,\n",
        "    title = \"Viudo | genero - cantidad de hijos\"\n",
        ")"
      ],
      "execution_count": null,
      "outputs": [
        {
          "output_type": "display_data",
          "data": {
            "text/plain": [
              "<Figure size 432x288 with 1 Axes>"
            ],
            "image/png": "[encoded data removed]"
          },
          "metadata": {}
        }
      ]
    },
    {
      "cell_type": "markdown",
      "metadata": {
        "id": "jlaMmaw-n__0"
      },
      "source": [
        ":Describa el valor que entrega este gráfico y como se podría complementar a la explicación del comportamiento de los datos.\n",
        "\n",
        "En este gráfico muestra la proporción de compra de las personas viudas separándolas en 2 grupos:\n",
        "1. Género.\n",
        "2. Cantidad de hijos.\n",
        "\n",
        "Se podría decir (en este contexto) que casi el 50% de las personas viudas que compran son hombres y la otra mitad son mujeres. Referente a la cantidad de hijos, se ve que en el caso de los hombres es casi todo parejo, o sea, que si eres hombre viudo indistintamente de la cantidad de hijos existe casi la misma probabilidad de que compres algo, mientras que si eres mujer viuda hay es inversamente proporcional la compra con la cantidad de hijos."
      ]
    },
    {
      "cell_type": "markdown",
      "source": [
        "# Gráfico 7"
      ],
      "metadata": {
        "id": "JGefc0lgVw8y"
      }
    },
    {
      "cell_type": "code",
      "source": [
        "# Programe el gráfico 7\n",
        "data = pd.DataFrame(dataframe[dataframe.CLIENTE_estado_civil == \"Casado\"].groupby(by = ['CLIENTE_genero', 'CLIENTE_cantidad_hijos'])['CLIENTE_estado_civil'].count())\n",
        "labels = data.index\n",
        "\n",
        "GraficoTorta(\n",
        "    data = data,\n",
        "    labels = labels,\n",
        "    title = \"Casado | genero - cantidad de hijos\"\n",
        ")"
      ],
      "metadata": {
        "colab": {
          "base_uri": "https://localhost:8080/",
          "height": 264
        },
        "id": "OSxjEPZbVpwx",
        "outputId": "599b4b52-ad5b-4ed9-e098-4c61f7ba889f"
      },
      "execution_count": null,
      "outputs": [
        {
          "output_type": "display_data",
          "data": {
            "text/plain": [
              "<Figure size 432x288 with 1 Axes>"
            ],
            "image/png": "[encoded data removed]"
          },
          "metadata": {}
        }
      ]
    },
    {
      "cell_type": "markdown",
      "source": [
        "En este gráfico muestra la proporción de compra de las personas casadas separándolas en 2 grupos:\n",
        "1. Género.\n",
        "2. Cantidad de hijos.\n",
        "\n",
        "Se podría decir (en este contexto) que casi el 50% de las personas casadas que compran son hombres y la otra mitad son mujeres.\n",
        "\n",
        "Referente a la cantidad de hijos, se ve que en el caso de los hombres es casi todo homogeneo, aunque con una ligera tendencia a que mientras más hijos tiene menos compra, mientras que en el caso de las mujeres igualmente es casi todo homogeneo, aunque compra más si tiene entre 2 a 3 hijos."
      ],
      "metadata": {
        "id": "jWKxgAGFV2fv"
      }
    },
    {
      "cell_type": "markdown",
      "metadata": {
        "id": "sfPGtctp6hxq"
      },
      "source": [
        "# Detalle aquí las conclusiones obtenidas respecto al dataset. Explique y complemente el análisis recalcando la importancia de la exploración de datos antes de comenzar a realizar modelos de Machine Learning."
      ]
    },
    {
      "cell_type": "markdown",
      "source": [
        "En conclusión, con los datos obtenidos se podrá predecir las compras de las personas dependiendo de su genero, estado civil y candidad de hijos."
      ],
      "metadata": {
        "id": "1gDdIqXKSrsz"
      }
    }
  ]
}